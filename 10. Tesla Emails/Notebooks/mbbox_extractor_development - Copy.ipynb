{
 "cells": [
  {
   "cell_type": "code",
   "execution_count": 1,
   "id": "ffa1bef6",
   "metadata": {},
   "outputs": [],
   "source": [
    "import mailbox\n",
    "import bs4\n",
    "import email\n",
    "from email import message\n",
    "import quopri,base64\n",
    "import pandas as pd\n",
    "import sys\n",
    "sys.path.append('..')"
   ]
  },
  {
   "cell_type": "code",
   "execution_count": 2,
   "id": "985b95df",
   "metadata": {},
   "outputs": [
    {
     "name": "stdout",
     "output_type": "stream",
     "text": [
      "Parsing email 0 of 4\n",
      "Parsing email 1 of 4\n",
      "Parsing email 2 of 4\n",
      "Parsing email 3 of 4\n"
     ]
    }
   ],
   "source": [
    "mbox_data = mailbox.mbox('../Data/Destacados.mbox')\n",
    "num_emails = len(mbox_data)\n",
    "\n",
    "for idx, email_data in enumerate(mbox_data):\n",
    "    print('Parsing email {0} of {1}'.format(idx, num_emails))"
   ]
  },
  {
   "cell_type": "code",
   "execution_count": 3,
   "id": "0d631fa8",
   "metadata": {},
   "outputs": [
    {
     "name": "stdout",
     "output_type": "stream",
     "text": [
      "alessiobunsetti@gmail.com\n",
      "alessiobunsetti@gmail.com\n",
      "alessiobunsetti@gmail.com\n",
      "alessiobunsetti@gmail.com\n",
      "Fwd: 105\n",
      "Fwd: 105\n",
      "Fwd: 105\n",
      "Fwd: 105\n",
      "Javier Chamorro <javier.chamorro.w@gmail.com>\n",
      "Javier Chamorro <javier.chamorro.w@gmail.com>\n",
      "Javier Chamorro <javier.chamorro.w@gmail.com>\n",
      "Javier Chamorro <javier.chamorro.w@gmail.com>\n",
      "Fri, 5 Nov 2021 16:08:16 +0100\n",
      "Fri, 5 Nov 2021 16:08:35 +0100\n",
      "Fri, 5 Nov 2021 16:08:26 +0100\n",
      "Fri, 5 Nov 2021 12:45:34 +0100\n"
     ]
    }
   ],
   "source": [
    "for i in list(range(len(mbox_data))):\n",
    "    print(mbox_data[i][\"To\"])\n",
    "    \n",
    "for i in list(range(len(mbox_data))):\n",
    "    print(mbox_data[i][\"Subject\"])\n",
    "    \n",
    "for i in list(range(len(mbox_data))):\n",
    "    print(mbox_data[i][\"From\"])\n",
    "    \n",
    "for i in list(range(len(mbox_data))):\n",
    "    print(mbox_data[i][\"Date\"])"
   ]
  },
  {
   "cell_type": "code",
   "execution_count": 4,
   "id": "47fb9baf",
   "metadata": {
    "scrolled": true
   },
   "outputs": [
    {
     "data": {
      "text/plain": [
       "['---------- Forwarded message ---------\\nDe: Sales Team sellyourtesla.de <ankauf@sellyourtesla.de>\\nDate: vie, 5 nov 2021 a las 12:39\\nSubject: Fwd: 105\\nTo: javier.chamorro.w@gmail.com <javier.chamorro.w@gmail.com>\\n\\n\\n\\n---------- Urspr=C3=BCngliche Nachricht ----------\\nVon: hhh ddd <hhhh@hhhh.de>\\nAn: ankauf@sellyourtesla.de\\nDatum: 31.10.2021 14:23\\nBetreff: 105\\n\\n\\n*Welches Tesla Modell m=C3=B6chtest Du verkaufen?*\\nModel 3\\n*Ausweisbare MWST?*\\nJa\\n*Datum der Erstzulassung*\\n6363636366\\n*Kilometerstand*\\nAusgew=C3=A4hlter Wert: 11252 (0 min / 12000 max)\\n*Antriebsversion*\\nMaximale Reichweite\\n*Lackierungen*\\nRed Multi-Coat\\n*R=C3=A4der*\\nModel 3 - 18\" Aero Felgen\\n*Innenansicht*\\nKomplett schwarz\\n*Autopilot*\\nVolles Potential f=C3=BCr autonomes Fahren\\n*Unfallfahrzeug:*\\nJa\\n*Brutto-Listenpreis*\\n999999\\n*Name*\\nhhh ddd\\n*Strasse und Hausnummer*\\nddd\\n*PLZ und Ort*\\nddd\\n*Telefonische Erreichbarkeit*\\n010101100101\\n*E-Mail*\\nhhhh@hhhh.de\\n*Datenschutzerkl=C3=A4rung*\\nHiermit best=C3=A4tige ich, dass ich die nachfolgende Datenschutzerkl=C3=A4=\\nrung\\ngelesen habe und akzeptiere.\\n*Ankaufs AGB*\\nHiermit best=C3=A4tige ich, dass ich die nachfolgende Datenschutzerkl=C3=A4=\\nrung\\ngelesen habe und akzeptiere.\\nGesendet von sellyourtesla.de\\n',\n",
       " '---------- Forwarded message ---------\\nDe: Sales Team sellyourtesla.de <ankauf@sellyourtesla.de>\\nDate: vie, 5 nov 2021 a las 12:38\\nSubject: Fwd: 105\\nTo: javier.chamorro.w@gmail.com <javier.chamorro.w@gmail.com>\\n\\n\\n\\n---------- Urspr=C3=BCngliche Nachricht ----------\\nVon: G=C3=BCnter Meisinger <g.meisinger@mlogica.de>\\nAn: ankauf@sellyourtesla.de\\nDatum: 04.11.2021 21:39\\nBetreff: 105\\n\\n\\n*Welches Tesla Modell m=C3=B6chtest Du verkaufen?*\\nModel 3\\n*Ausweisbare MWST?*\\nJa\\n*Datum der Erstzulassung*\\n16.5.2021\\n*Kilometerstand*\\nAusgew=C3=A4hlter Wert: 9429 (0 min / 12000 max)\\n*Antriebsversion*\\nMaximale Reichweite\\n*Lackierungen*\\nPearl White Multi-Coat\\n*R=C3=A4der*\\nModel 3 - 18\" Aero Felgen\\n*Innenansicht*\\nKomplett schwarz\\n*Autopilot*\\nBasis\\n*Unfallfahrzeug:*\\nNein\\n*Brutto-Listenpreis*\\n55000\\n*Name*\\nG=C3=BCnter Meisinger\\n*Strasse und Hausnummer*\\n94116 Hutthurm\\n*PLZ und Ort*\\nHutthurm\\n*Telefonische Erreichbarkeit*\\n015115617854\\n*E-Mail*\\ng.meisinger@mlogica.de\\n*Datenschutzerkl=C3=A4rung*\\nHiermit best=C3=A4tige ich, dass ich die nachfolgende Datenschutzerkl=C3=A4=\\nrung\\ngelesen habe und akzeptiere.\\n*Ankauf AGB*\\nHiermit best=C3=A4tige ich, dass ich die nachfolgende Ankauf AGB gelesen ha=\\nbe\\nund akzeptiere.\\nGesendet von sellyourtesla.de\\n',\n",
       " '---------- Forwarded message ---------\\nDe: Sales Team sellyourtesla.de <ankauf@sellyourtesla.de>\\nDate: vie, 5 nov 2021 a las 12:39\\nSubject: Fwd: 105\\nTo: javier.chamorro.w@gmail.com <javier.chamorro.w@gmail.com>\\n\\n\\n\\n---------- Urspr=C3=BCngliche Nachricht ----------\\nVon: Test Test <test@test.de>\\nAn: ankauf@sellyourtesla.de\\nDatum: 02.11.2021 18:14\\nBetreff: 105\\n\\n\\n*Welches Tesla Modell m=C3=B6chtest Du verkaufen?*\\nModel 3\\n*Ausweisbare MWST?*\\nJa\\n*Datum der Erstzulassung*\\n21.04.2020\\n*Kilometerstand*\\nAusgew=C3=A4hlter Wert: 2847 (0 min / 12000 max)\\n*Antriebsversion*\\nStandard Plus\\n*Lackierungen*\\nPearl White Multi-Coat\\n*R=C3=A4der*\\nModel 3 - 18\" Aero Felgen\\n*Innenansicht*\\nKomplett schwarz\\n*Autopilot*\\nBasis\\n*Unfallfahrzeug:*\\nJa\\n*Besch=C3=A4digungen*\\nTest Test\\n*Zubeh=C3=B6r*\\nAnh=C3=A4ngerkupplung\\n*Brutto-Listenpreis*\\nTest\\n*Name*\\nTest Test\\n*Strasse und Hausnummer*\\nTest\\n*PLZ und Ort*\\nTest\\n*Telefonische Erreichbarkeit*\\n28971309827\\n*E-Mail*\\ntest@test.de\\n*Datenschutzerkl=C3=A4rung*\\nHiermit best=C3=A4tige ich, dass ich die nachfolgende Datenschutzerkl=C3=A4=\\nrung\\ngelesen habe und akzeptiere.\\n*Ankauf AGB*\\nHiermit best=C3=A4tige ich, dass ich die nachfolgende Ankauf AGB gelesen ha=\\nbe\\nund akzeptiere.\\nGesendet von sellyourtesla.de\\n',\n",
       " '---------- Forwarded message ---------\\nDe: Sales Team sellyourtesla.de <ankauf@sellyourtesla.de>\\nDate: vie, 5 nov 2021 a las 12:39\\nSubject: Fwd: 105\\nTo: javier.chamorro.w@gmail.com <javier.chamorro.w@gmail.com>\\n\\n\\n\\n---------- Urspr=C3=BCngliche Nachricht ----------\\nVon: Justin Breschul <justin@gmail.com>\\nAn: ankauf@sellyourtesla.de\\nDatum: 29.10.2021 11:19\\nBetreff: 105\\n\\n\\n*Welches Tesla Modell m=C3=B6chtest Du verkaufen?*\\nModel Y\\n*Ausweisbare MWST?*\\nJa\\n*Datum der Erstzulassung*\\n09.10.2021\\n*Kilometerstand*\\nAusgew=C3=A4hlter Wert: 1432 (0 min / 12000 max)\\n*Antriebsversion*\\nPerformance\\n*Lackierungen*\\nRed Multi-Coat\\n*R=C3=A4der*\\nModel Y - 20\" Induction Felgen\\n*Innenansicht*\\nSchwarz und wei=C3=9F\\n*Autopilot*\\nEnhanced\\n*Name*\\nJustin Breschul\\n*Strasse und Hausnummer*\\nSonderschulstrasse 1\\n*PLZ und Ort*\\n42105 Wuppertal\\n*Telefonische Erreichbarkeit*\\n0189765432\\n*E-Mail*\\njustin@gmail.com\\n*Datenschutzerkl=C3=A4rung*\\nHiermit best=C3=A4tige ich, dass ich die nachfolgende Datenschutzerkl=C3=A4=\\nrung\\ngelesen habe und akzeptiere.\\nGesendet von sellyourtesla.de\\n']"
      ]
     },
     "execution_count": 4,
     "metadata": {},
     "output_type": "execute_result"
    }
   ],
   "source": [
    "body_list = []\n",
    "\n",
    "for msg in mbox_data:\n",
    "    if msg.is_multipart():    #Walk through the parts of the email to find the text body.\n",
    "        for part in msg.walk():\n",
    "            if part.is_multipart(): # If part is multipart, walk through the subparts.\n",
    "                for subpart in part.walk():\n",
    "                    if subpart.get_content_type() == 'text/plain':\n",
    "                        body = subpart.get_payload(decode=False) # Get the subpart payload (i.e the message body)\n",
    "                        body_list.append(body)\n",
    "                    for k,v in subpart.items():\n",
    "                            if k == 'Content-Transfer-Encoding':\n",
    "                                cte = v             # Keep the Content Transfer Encoding\n",
    "            elif subpart.get_content_type() == 'text/plain':\n",
    "                body = part.get_payload(decode=False)           # part isn't multipart Get the payload\n",
    "                for k,v in part.items():\n",
    "                    if k == 'Content-Transfer-Encoding':\n",
    "                        cte = v                      # Keep the Content Transfer Encoding\n",
    "\n",
    "body_list"
   ]
  },
  {
   "cell_type": "code",
   "execution_count": 5,
   "id": "b2f1a604",
   "metadata": {},
   "outputs": [
    {
     "data": {
      "text/plain": [
       "['Welches Tesla Modell m=C3=B6chtest Du verkaufen?*\\nModel 3\\n*Ausweisbare MWST?*\\nJa\\n*Datum der Erstzulassung*\\n6363636366\\n*Kilometerstand*\\nAusgew=C3=A4hlter Wert: 11252 (0 min / 12000 max)\\n*Antriebsversion*\\nMaximale Reichweite\\n*Lackierungen*\\nRed Multi-Coat\\n*R=C3=A4der*\\nModel 3 - 18\" Aero Felgen\\n*Innenansicht*\\nKomplett schwarz\\n*Autopilot*\\nVolles Potential f=C3=BCr autonomes Fahren\\n*Unfallfahrzeug:*\\nJa\\n*Brutto-Listenpreis*\\n999999\\n*Name*\\nhhh ddd\\n*Strasse und Hausnummer*\\nddd\\n*PLZ und Ort*\\nddd\\n*Telefonische Erreichbarkeit*\\n010101100101\\n*E-Mail*\\nhhhh@hhhh.de\\n*Datenschutzerkl=C3=A4rung*\\nHiermit best=C3=A4tige ich, dass ich die nachfolgende Datenschutzerkl=C3=A4=\\nrung\\ngelesen habe und akzeptiere.\\n*Ankaufs AGB*\\nHiermit best=C3=A4tige ich, dass ich die nachfolgende Datenschutzerkl=C3=A4=\\nrung\\ngelesen habe und akzeptiere.\\nGesendet von sellyourtesla.de\\n',\n",
       " 'Welches Tesla Modell m=C3=B6chtest Du verkaufen?*\\nModel 3\\n*Ausweisbare MWST?*\\nJa\\n*Datum der Erstzulassung*\\n16.5.2021\\n*Kilometerstand*\\nAusgew=C3=A4hlter Wert: 9429 (0 min / 12000 max)\\n*Antriebsversion*\\nMaximale Reichweite\\n*Lackierungen*\\nPearl White Multi-Coat\\n*R=C3=A4der*\\nModel 3 - 18\" Aero Felgen\\n*Innenansicht*\\nKomplett schwarz\\n*Autopilot*\\nBasis\\n*Unfallfahrzeug:*\\nNein\\n*Brutto-Listenpreis*\\n55000\\n*Name*\\nG=C3=BCnter Meisinger\\n*Strasse und Hausnummer*\\n94116 Hutthurm\\n*PLZ und Ort*\\nHutthurm\\n*Telefonische Erreichbarkeit*\\n015115617854\\n*E-Mail*\\ng.meisinger@mlogica.de\\n*Datenschutzerkl=C3=A4rung*\\nHiermit best=C3=A4tige ich, dass ich die nachfolgende Datenschutzerkl=C3=A4=\\nrung\\ngelesen habe und akzeptiere.\\n*Ankauf AGB*\\nHiermit best=C3=A4tige ich, dass ich die nachfolgende Ankauf AGB gelesen ha=\\nbe\\nund akzeptiere.\\nGesendet von sellyourtesla.de\\n',\n",
       " 'Welches Tesla Modell m=C3=B6chtest Du verkaufen?*\\nModel 3\\n*Ausweisbare MWST?*\\nJa\\n*Datum der Erstzulassung*\\n21.04.2020\\n*Kilometerstand*\\nAusgew=C3=A4hlter Wert: 2847 (0 min / 12000 max)\\n*Antriebsversion*\\nStandard Plus\\n*Lackierungen*\\nPearl White Multi-Coat\\n*R=C3=A4der*\\nModel 3 - 18\" Aero Felgen\\n*Innenansicht*\\nKomplett schwarz\\n*Autopilot*\\nBasis\\n*Unfallfahrzeug:*\\nJa\\n*Besch=C3=A4digungen*\\nTest Test\\n*Zubeh=C3=B6r*\\nAnh=C3=A4ngerkupplung\\n*Brutto-Listenpreis*\\nTest\\n*Name*\\nTest Test\\n*Strasse und Hausnummer*\\nTest\\n*PLZ und Ort*\\nTest\\n*Telefonische Erreichbarkeit*\\n28971309827\\n*E-Mail*\\ntest@test.de\\n*Datenschutzerkl=C3=A4rung*\\nHiermit best=C3=A4tige ich, dass ich die nachfolgende Datenschutzerkl=C3=A4=\\nrung\\ngelesen habe und akzeptiere.\\n*Ankauf AGB*\\nHiermit best=C3=A4tige ich, dass ich die nachfolgende Ankauf AGB gelesen ha=\\nbe\\nund akzeptiere.\\nGesendet von sellyourtesla.de\\n',\n",
       " 'Welches Tesla Modell m=C3=B6chtest Du verkaufen?*\\nModel Y\\n*Ausweisbare MWST?*\\nJa\\n*Datum der Erstzulassung*\\n09.10.2021\\n*Kilometerstand*\\nAusgew=C3=A4hlter Wert: 1432 (0 min / 12000 max)\\n*Antriebsversion*\\nPerformance\\n*Lackierungen*\\nRed Multi-Coat\\n*R=C3=A4der*\\nModel Y - 20\" Induction Felgen\\n*Innenansicht*\\nSchwarz und wei=C3=9F\\n*Autopilot*\\nEnhanced\\n*Name*\\nJustin Breschul\\n*Strasse und Hausnummer*\\nSonderschulstrasse 1\\n*PLZ und Ort*\\n42105 Wuppertal\\n*Telefonische Erreichbarkeit*\\n0189765432\\n*E-Mail*\\njustin@gmail.com\\n*Datenschutzerkl=C3=A4rung*\\nHiermit best=C3=A4tige ich, dass ich die nachfolgende Datenschutzerkl=C3=A4=\\nrung\\ngelesen habe und akzeptiere.\\nGesendet von sellyourtesla.de\\n']"
      ]
     },
     "execution_count": 5,
     "metadata": {},
     "output_type": "execute_result"
    }
   ],
   "source": [
    "body_clean = []\n",
    "for i, b in enumerate(body_list):\n",
    "    index = body_list[i].find(\"Welches\")\n",
    "    new_yy = body_list[i][index:]\n",
    "    body_clean.append(new_yy)\n",
    "\n",
    "body_clean"
   ]
  },
  {
   "cell_type": "code",
   "execution_count": 6,
   "id": "30b64b0b",
   "metadata": {},
   "outputs": [
    {
     "data": {
      "text/plain": [
       "['Welches Tesla Modell m=C3=B6chtest Du verkaufen?*\\nModel 3\\n*Ausweisbare MWST?*\\nJa\\n*Datum der Erstzulassung*\\n6363636366\\n*Kilometerstand*\\nAusgew=C3=A4hlter Wert: 11252 (0 min / 12000 max)\\n*Antriebsversion*\\nMaximale Reichweite\\n*Lackierungen*\\nRed Multi-Coat\\n*R=C3=A4der*\\nModel 3 - 18\" Aero Felgen\\n*Innenansicht*\\nKomplett schwarz\\n*Autopilot*\\nVolles Potential f=C3=BCr autonomes Fahren\\n*Unfallfahrzeug:*\\nJa\\n*Brutto-Listenpreis*\\n999999\\n*Name*\\nhhh ddd\\n*Strasse und Hausnummer*\\nddd\\n*PLZ und Ort*\\nddd\\n*Telefonische Erreichbarkeit*\\n010101100101\\n*E-Mail*\\nhhhh@hhhh.de\\n*Datenschutzerkl=C3=A4rung*\\nHiermit best=C3=A4tige ich, dass ich die nachfolgende Datenschutzerkl=C3=A4=\\nrung\\ngelesen habe und akzeptiere.\\n*Ankaufs AGB*\\nHiermit best=C3=A4tige ich, dass ich die nachfolgende Datenschutzerkl=C3=A4=\\nrung\\ngelesen habe und akzeptiere.\\nGesendet von sellyourtesla.de\\n',\n",
       " 'Welches Tesla Modell m=C3=B6chtest Du verkaufen?*\\nModel 3\\n*Ausweisbare MWST?*\\nJa\\n*Datum der Erstzulassung*\\n16.5.2021\\n*Kilometerstand*\\nAusgew=C3=A4hlter Wert: 9429 (0 min / 12000 max)\\n*Antriebsversion*\\nMaximale Reichweite\\n*Lackierungen*\\nPearl White Multi-Coat\\n*R=C3=A4der*\\nModel 3 - 18\" Aero Felgen\\n*Innenansicht*\\nKomplett schwarz\\n*Autopilot*\\nBasis\\n*Unfallfahrzeug:*\\nNein\\n*Brutto-Listenpreis*\\n55000\\n*Name*\\nG=C3=BCnter Meisinger\\n*Strasse und Hausnummer*\\n94116 Hutthurm\\n*PLZ und Ort*\\nHutthurm\\n*Telefonische Erreichbarkeit*\\n015115617854\\n*E-Mail*\\ng.meisinger@mlogica.de\\n*Datenschutzerkl=C3=A4rung*\\nHiermit best=C3=A4tige ich, dass ich die nachfolgende Datenschutzerkl=C3=A4=\\nrung\\ngelesen habe und akzeptiere.\\n*Ankauf AGB*\\nHiermit best=C3=A4tige ich, dass ich die nachfolgende Ankauf AGB gelesen ha=\\nbe\\nund akzeptiere.\\nGesendet von sellyourtesla.de\\n',\n",
       " 'Welches Tesla Modell m=C3=B6chtest Du verkaufen?*\\nModel 3\\n*Ausweisbare MWST?*\\nJa\\n*Datum der Erstzulassung*\\n21.04.2020\\n*Kilometerstand*\\nAusgew=C3=A4hlter Wert: 2847 (0 min / 12000 max)\\n*Antriebsversion*\\nStandard Plus\\n*Lackierungen*\\nPearl White Multi-Coat\\n*R=C3=A4der*\\nModel 3 - 18\" Aero Felgen\\n*Innenansicht*\\nKomplett schwarz\\n*Autopilot*\\nBasis\\n*Unfallfahrzeug:*\\nJa\\n*Besch=C3=A4digungen*\\nTest Test\\n*Zubeh=C3=B6r*\\nAnh=C3=A4ngerkupplung\\n*Brutto-Listenpreis*\\nTest\\n*Name*\\nTest Test\\n*Strasse und Hausnummer*\\nTest\\n*PLZ und Ort*\\nTest\\n*Telefonische Erreichbarkeit*\\n28971309827\\n*E-Mail*\\ntest@test.de\\n*Datenschutzerkl=C3=A4rung*\\nHiermit best=C3=A4tige ich, dass ich die nachfolgende Datenschutzerkl=C3=A4=\\nrung\\ngelesen habe und akzeptiere.\\n*Ankauf AGB*\\nHiermit best=C3=A4tige ich, dass ich die nachfolgende Ankauf AGB gelesen ha=\\nbe\\nund akzeptiere.\\nGesendet von sellyourtesla.de\\n',\n",
       " 'Welches Tesla Modell m=C3=B6chtest Du verkaufen?*\\nModel Y\\n*Ausweisbare MWST?*\\nJa\\n*Datum der Erstzulassung*\\n09.10.2021\\n*Kilometerstand*\\nAusgew=C3=A4hlter Wert: 1432 (0 min / 12000 max)\\n*Antriebsversion*\\nPerformance\\n*Lackierungen*\\nRed Multi-Coat\\n*R=C3=A4der*\\nModel Y - 20\" Induction Felgen\\n*Innenansicht*\\nSchwarz und wei=C3=9F\\n*Autopilot*\\nEnhanced\\n*Name*\\nJustin Breschul\\n*Strasse und Hausnummer*\\nSonderschulstrasse 1\\n*PLZ und Ort*\\n42105 Wuppertal\\n*Telefonische Erreichbarkeit*\\n0189765432\\n*E-Mail*\\njustin@gmail.com\\n*Datenschutzerkl=C3=A4rung*\\nHiermit best=C3=A4tige ich, dass ich die nachfolgende Datenschutzerkl=C3=A4=\\nrung\\ngelesen habe und akzeptiere.\\nGesendet von sellyourtesla.de\\n']"
      ]
     },
     "execution_count": 6,
     "metadata": {},
     "output_type": "execute_result"
    }
   ],
   "source": [
    "body_clean = []\n",
    "for i, b in enumerate(body_list):\n",
    "    index = body_list[i].find('Welches')\n",
    "    clean = body_list[i][index:]\n",
    "    body_clean.append(clean)\n",
    "body_clean"
   ]
  },
  {
   "cell_type": "code",
   "execution_count": 7,
   "id": "9b34e40e",
   "metadata": {},
   "outputs": [],
   "source": [
    "questions_first = ['Welches', 'Ausweisbare', 'Datum', 'Kilometerstand', 'Antriebsversion', 'Lackierungen', 'R=C3=A4der', 'Innenansicht','Autopilot','Unfallfahrzeug:', 'Brutto', 'Name', 'Strasse', 'PLZ','Telefonische', 'E-Mail', 'Datenschutzerkl=C3=A4rung', 'Ankaufs AGB']\n",
    "questions_second = ['Ausweisbare', 'Datum', 'Kilometerstand', 'Antriebsversion', 'Lackierungen', 'R=C3=A4der', 'Innenansicht','Autopilot','Unfallfahrzeug:', 'Brutto', 'Name', 'Strasse', 'PLZ','Telefonische', 'E-Mail', 'Datenschutzerkl=C3=A4rung', 'Ankaufs AGB', '-1']"
   ]
  },
  {
   "cell_type": "markdown",
   "id": "304ca386",
   "metadata": {
    "scrolled": true
   },
   "source": [
    "yy = body_list[0]\n",
    "index = yy.find(\"Welches\")\n",
    "new_yy = yy[index:]\n",
    "new_yy"
   ]
  },
  {
   "cell_type": "code",
   "execution_count": 8,
   "id": "d812f46d",
   "metadata": {},
   "outputs": [
    {
     "data": {
      "text/plain": [
       "[48, 17, 23, 14, 15, 12, 10, 12, 9, 15, 18, 4, 22, 11, 27, 6, 25, 11]"
      ]
     },
     "execution_count": 8,
     "metadata": {},
     "output_type": "execute_result"
    }
   ],
   "source": [
    "question_1 = 'Welches Tesla Modell m=C3=B6chtest Du verkaufen?'\n",
    "question_2 = 'Ausweisbare MWST?'\n",
    "question_3 = 'Datum der Erstzulassung'\n",
    "question_4 = 'Kilometerstand'\n",
    "question_5 = 'Antriebsversion'\n",
    "question_6 = 'Lackierungen'\n",
    "question_7 = 'R=C3=A4der'\n",
    "question_8 = 'Innenansicht'\n",
    "question_9 = 'Autopilot'\n",
    "question_10 = 'Unfallfahrzeug:'\n",
    "question_11 = 'Brutto-Listenpreis'\n",
    "question_12 = 'Name'\n",
    "question_13 = 'Strasse und Hausnummer'\n",
    "question_14 = 'PLZ und Ort'\n",
    "question_15 = 'Telefonische Erreichbarkeit'\n",
    "question_16 = 'E-Mail'\n",
    "question_17 = 'Datenschutzerkl=C3=A4rung'\n",
    "question_18 = 'Ankaufs AGB'\n",
    "questions = [question_1, question_2, question_3, question_4, question_5, question_6, question_7, question_8, question_9, question_10, question_11, question_12, question_13, question_14, question_15, question_16, question_17, question_18]\n",
    "questions_len = []\n",
    "for question in questions:\n",
    "    question_len = len(question)\n",
    "    questions_len.append(question_len)\n",
    "questions_len"
   ]
  },
  {
   "cell_type": "code",
   "execution_count": 9,
   "id": "def693bd",
   "metadata": {
    "scrolled": true
   },
   "outputs": [
    {
     "data": {
      "text/plain": [
       "[['Model 3',\n",
       "  'Ja',\n",
       "  '6363636366',\n",
       "  'Ausgew=C3=A4hlter Wert: 11252 (0 min / 12000 max)',\n",
       "  'Maximale Reichweite',\n",
       "  'Red Multi-Coat',\n",
       "  'Model 3 - 18\" Aero Felgen',\n",
       "  'Komplett schwarz',\n",
       "  'Volles Potential f=C3=BCr autonomes Fahren',\n",
       "  'Ja',\n",
       "  '999999',\n",
       "  'hhh ddd',\n",
       "  'ddd',\n",
       "  'ddd',\n",
       "  '010101100101',\n",
       "  'hhhh@hhhh.de',\n",
       "  'Hiermit best=C3=A4tige ich, dass ich die nachfolgende Datenschutzerkl=C3=A4=\\nrung\\ngelesen habe und akzeptiere.',\n",
       "  'Hiermit best=C3=A4tige ich, dass ich die nachfolgende Datenschutzerkl=C3=A4=\\nrung\\ngelesen habe und akzeptiere.\\nGesendet von sellyourtesla.'],\n",
       " ['Model 3',\n",
       "  'Ja',\n",
       "  '16.5.2021',\n",
       "  'Ausgew=C3=A4hlter Wert: 9429 (0 min / 12000 max)',\n",
       "  'Maximale Reichweite',\n",
       "  'Pearl White Multi-Coat',\n",
       "  'Model 3 - 18\" Aero Felgen',\n",
       "  'Komplett schwarz',\n",
       "  'Basis',\n",
       "  'Nein',\n",
       "  '55000',\n",
       "  'G=C3=BCnter Meisinger',\n",
       "  '94116 Hutthurm',\n",
       "  'Hutthurm',\n",
       "  '015115617854',\n",
       "  'g.meisinger@mlogica.de',\n",
       "  'Hiermit best=C3=A4tige ich, dass ich die nachfolgende Datenschutzerkl=C3=A4=\\nrung\\ngelesen habe und akzeptiere.\\n*Ankauf AGB*\\nHiermit best=C3=A4tige ich, dass ich die nachfolgende Ankauf AGB gelesen ha=\\nbe\\nund akzeptiere.\\nGesendet von sellyourtesla.',\n",
       "  'a Modell m=C3=B6chtest Du verkaufen?*\\nModel 3\\n*Ausweisbare MWST?*\\nJa\\n*Datum der Erstzulassung*\\n16.5.2021\\n*Kilometerstand*\\nAusgew=C3=A4hlter Wert: 9429 (0 min / 12000 max)\\n*Antriebsversion*\\nMaximale Reichweite\\n*Lackierungen*\\nPearl White Multi-Coat\\n*R=C3=A4der*\\nModel 3 - 18\" Aero Felgen\\n*Innenansicht*\\nKomplett schwarz\\n*Autopilot*\\nBasis\\n*Unfallfahrzeug:*\\nNein\\n*Brutto-Listenpreis*\\n55000\\n*Name*\\nG=C3=BCnter Meisinger\\n*Strasse und Hausnummer*\\n94116 Hutthurm\\n*PLZ und Ort*\\nHutthurm\\n*Telefonische Erreichbarkeit*\\n015115617854\\n*E-Mail*\\ng.meisinger@mlogica.de\\n*Datenschutzerkl=C3=A4rung*\\nHiermit best=C3=A4tige ich, dass ich die nachfolgende Datenschutzerkl=C3=A4=\\nrung\\ngelesen habe und akzeptiere.\\n*Ankauf AGB*\\nHiermit best=C3=A4tige ich, dass ich die nachfolgende Ankauf AGB gelesen ha=\\nbe\\nund akzeptiere.\\nGesendet von sellyourtesla.'],\n",
       " ['Model 3',\n",
       "  'Ja',\n",
       "  '21.04.2020',\n",
       "  'Ausgew=C3=A4hlter Wert: 2847 (0 min / 12000 max)',\n",
       "  'Standard Plus',\n",
       "  'Pearl White Multi-Coat',\n",
       "  'Model 3 - 18\" Aero Felgen',\n",
       "  'Komplett schwarz',\n",
       "  'Basis',\n",
       "  'Ja\\n*Besch=C3=A4digungen*\\nTest Test\\n*Zubeh=C3=B6r*\\nAnh=C3=A4ngerkupplung',\n",
       "  'Test',\n",
       "  'Test Test',\n",
       "  'Test',\n",
       "  'Test',\n",
       "  '28971309827',\n",
       "  'test@test.de',\n",
       "  'Hiermit best=C3=A4tige ich, dass ich die nachfolgende Datenschutzerkl=C3=A4=\\nrung\\ngelesen habe und akzeptiere.\\n*Ankauf AGB*\\nHiermit best=C3=A4tige ich, dass ich die nachfolgende Ankauf AGB gelesen ha=\\nbe\\nund akzeptiere.\\nGesendet von sellyourtesla.',\n",
       "  'a Modell m=C3=B6chtest Du verkaufen?*\\nModel 3\\n*Ausweisbare MWST?*\\nJa\\n*Datum der Erstzulassung*\\n21.04.2020\\n*Kilometerstand*\\nAusgew=C3=A4hlter Wert: 2847 (0 min / 12000 max)\\n*Antriebsversion*\\nStandard Plus\\n*Lackierungen*\\nPearl White Multi-Coat\\n*R=C3=A4der*\\nModel 3 - 18\" Aero Felgen\\n*Innenansicht*\\nKomplett schwarz\\n*Autopilot*\\nBasis\\n*Unfallfahrzeug:*\\nJa\\n*Besch=C3=A4digungen*\\nTest Test\\n*Zubeh=C3=B6r*\\nAnh=C3=A4ngerkupplung\\n*Brutto-Listenpreis*\\nTest\\n*Name*\\nTest Test\\n*Strasse und Hausnummer*\\nTest\\n*PLZ und Ort*\\nTest\\n*Telefonische Erreichbarkeit*\\n28971309827\\n*E-Mail*\\ntest@test.de\\n*Datenschutzerkl=C3=A4rung*\\nHiermit best=C3=A4tige ich, dass ich die nachfolgende Datenschutzerkl=C3=A4=\\nrung\\ngelesen habe und akzeptiere.\\n*Ankauf AGB*\\nHiermit best=C3=A4tige ich, dass ich die nachfolgende Ankauf AGB gelesen ha=\\nbe\\nund akzeptiere.\\nGesendet von sellyourtesla.'],\n",
       " ['Model Y',\n",
       "  'Ja',\n",
       "  '09.10.2021',\n",
       "  'Ausgew=C3=A4hlter Wert: 1432 (0 min / 12000 max)',\n",
       "  'Performance',\n",
       "  'Red Multi-Coat',\n",
       "  'Model Y - 20\" Induction Felgen',\n",
       "  'Schwarz und wei=C3=9F',\n",
       "  'Enhanced\\n*Name*\\nJustin Breschul\\n*Strasse und Hausnummer*\\nSonderschulstrasse 1\\n*PLZ und Ort*\\n42105 Wuppertal\\n*Telefonische Erreichbarkeit*\\n0189765432\\n*E-Mail*\\njustin@gmail.com\\n*Datenschutzerkl=C3=A4rung*\\nHiermit best=C3=A4tige ich, dass ich die nachfolgende Datenschutzerkl=C3=A4=\\nrung\\ngelesen habe und akzeptiere.\\nGesendet von sellyourtesla.',\n",
       "  'dell m=C3=B6chtest Du verkaufen?*\\nModel Y\\n*Ausweisbare MWST?*\\nJa\\n*Datum der Erstzulassung*\\n09.10.2021\\n*Kilometerstand*\\nAusgew=C3=A4hlter Wert: 1432 (0 min / 12000 max)\\n*Antriebsversion*\\nPerformance\\n*Lackierungen*\\nRed Multi-Coat\\n*R=C3=A4der*\\nModel Y - 20\" Induction Felgen\\n*Innenansicht*\\nSchwarz und wei=C3=9F\\n*Autopilot*\\nEnhanced\\n*Name*\\nJustin Breschul\\n*Strasse und Hausnummer*\\nSonderschulstrasse 1\\n*PLZ und Ort*\\n42105 Wuppertal\\n*Telefonische Erreichbarkeit*\\n0189765432\\n*E-Mail*\\njustin@gmail.com\\n*Datenschutzerkl=C3=A4rung*\\nHiermit best=C3=A4tige ich, dass ich die nachfolgende Datenschutzerkl=C3=A4=\\nrung\\ngelesen habe und akzeptiere.\\nGesendet von sellyourtesla.',\n",
       "  'l m=C3=B6chtest Du verkaufen?*\\nModel Y\\n*Ausweisbare MWST?*\\nJa\\n*Datum der Erstzulassung*\\n09.10.2021\\n*Kilometerstand*\\nAusgew=C3=A4hlter Wert: 1432 (0 min / 12000 max)\\n*Antriebsversion*\\nPerformance\\n*Lackierungen*\\nRed Multi-Coat\\n*R=C3=A4der*\\nModel Y - 20\" Induction Felgen\\n*Innenansicht*\\nSchwarz und wei=C3=9F\\n*Autopilot*\\nEnhanced',\n",
       "  'Justin Breschul',\n",
       "  'Sonderschulstrasse 1',\n",
       "  '42105 Wuppertal',\n",
       "  '0189765432',\n",
       "  'justin@gmail.com',\n",
       "  'Hiermit best=C3=A4tige ich, dass ich die nachfolgende Datenschutzerkl=C3=A4=\\nrung\\ngelesen habe und akzeptiere.\\nGesendet von sellyourtesla.',\n",
       "  'a Modell m=C3=B6chtest Du verkaufen?*\\nModel Y\\n*Ausweisbare MWST?*\\nJa\\n*Datum der Erstzulassung*\\n09.10.2021\\n*Kilometerstand*\\nAusgew=C3=A4hlter Wert: 1432 (0 min / 12000 max)\\n*Antriebsversion*\\nPerformance\\n*Lackierungen*\\nRed Multi-Coat\\n*R=C3=A4der*\\nModel Y - 20\" Induction Felgen\\n*Innenansicht*\\nSchwarz und wei=C3=9F\\n*Autopilot*\\nEnhanced\\n*Name*\\nJustin Breschul\\n*Strasse und Hausnummer*\\nSonderschulstrasse 1\\n*PLZ und Ort*\\n42105 Wuppertal\\n*Telefonische Erreichbarkeit*\\n0189765432\\n*E-Mail*\\njustin@gmail.com\\n*Datenschutzerkl=C3=A4rung*\\nHiermit best=C3=A4tige ich, dass ich die nachfolgende Datenschutzerkl=C3=A4=\\nrung\\ngelesen habe und akzeptiere.\\nGesendet von sellyourtesla.']]"
      ]
     },
     "execution_count": 9,
     "metadata": {},
     "output_type": "execute_result"
    }
   ],
   "source": [
    "answers_list = []\n",
    "\n",
    "for body_n in body_clean:\n",
    "    answers = []\n",
    "    for i, x, s in zip(questions_len, questions_first, questions_second):\n",
    "        index = body_n.find(x)\n",
    "        index_plus_one = body_n.find(s)\n",
    "        answer = body_n[(index+i):(index_plus_one)]\n",
    "        answers.append(answer[2:-2])\n",
    "    answers_list.append(answers)\n",
    "answers_list"
   ]
  },
  {
   "cell_type": "code",
   "execution_count": 10,
   "id": "8ceacc7c",
   "metadata": {},
   "outputs": [
    {
     "data": {
      "text/html": [
       "<div>\n",
       "<style scoped>\n",
       "    .dataframe tbody tr th:only-of-type {\n",
       "        vertical-align: middle;\n",
       "    }\n",
       "\n",
       "    .dataframe tbody tr th {\n",
       "        vertical-align: top;\n",
       "    }\n",
       "\n",
       "    .dataframe thead th {\n",
       "        text-align: right;\n",
       "    }\n",
       "</style>\n",
       "<table border=\"1\" class=\"dataframe\">\n",
       "  <thead>\n",
       "    <tr style=\"text-align: right;\">\n",
       "      <th></th>\n",
       "      <th>Welches Tesla Modell m=C3=B6chtest Du verkaufen?</th>\n",
       "      <th>Ausweisbare MWST?</th>\n",
       "      <th>Datum der Erstzulassung</th>\n",
       "      <th>Kilometerstand</th>\n",
       "      <th>Antriebsversion</th>\n",
       "      <th>Lackierungen</th>\n",
       "      <th>R=C3=A4der</th>\n",
       "      <th>Innenansicht</th>\n",
       "      <th>Autopilot</th>\n",
       "      <th>Unfallfahrzeug:</th>\n",
       "      <th>Brutto-Listenpreis</th>\n",
       "      <th>Name</th>\n",
       "      <th>Strasse und Hausnummer</th>\n",
       "      <th>PLZ und Ort</th>\n",
       "      <th>Telefonische Erreichbarkeit</th>\n",
       "      <th>E-Mail</th>\n",
       "      <th>Datenschutzerkl=C3=A4rung</th>\n",
       "      <th>Ankaufs AGB</th>\n",
       "    </tr>\n",
       "  </thead>\n",
       "  <tbody>\n",
       "    <tr>\n",
       "      <th>0</th>\n",
       "      <td>Model 3</td>\n",
       "      <td>Ja</td>\n",
       "      <td>6363636366</td>\n",
       "      <td>Ausgew=C3=A4hlter Wert: 11252 (0 min / 12000 max)</td>\n",
       "      <td>Maximale Reichweite</td>\n",
       "      <td>Red Multi-Coat</td>\n",
       "      <td>Model 3 - 18\" Aero Felgen</td>\n",
       "      <td>Komplett schwarz</td>\n",
       "      <td>Volles Potential f=C3=BCr autonomes Fahren</td>\n",
       "      <td>Ja</td>\n",
       "      <td>999999</td>\n",
       "      <td>hhh ddd</td>\n",
       "      <td>ddd</td>\n",
       "      <td>ddd</td>\n",
       "      <td>010101100101</td>\n",
       "      <td>hhhh@hhhh.de</td>\n",
       "      <td>Hiermit best=C3=A4tige ich, dass ich die nachf...</td>\n",
       "      <td>Hiermit best=C3=A4tige ich, dass ich die nachf...</td>\n",
       "    </tr>\n",
       "    <tr>\n",
       "      <th>1</th>\n",
       "      <td>Model 3</td>\n",
       "      <td>Ja</td>\n",
       "      <td>16.5.2021</td>\n",
       "      <td>Ausgew=C3=A4hlter Wert: 9429 (0 min / 12000 max)</td>\n",
       "      <td>Maximale Reichweite</td>\n",
       "      <td>Pearl White Multi-Coat</td>\n",
       "      <td>Model 3 - 18\" Aero Felgen</td>\n",
       "      <td>Komplett schwarz</td>\n",
       "      <td>Basis</td>\n",
       "      <td>Nein</td>\n",
       "      <td>55000</td>\n",
       "      <td>G=C3=BCnter Meisinger</td>\n",
       "      <td>94116 Hutthurm</td>\n",
       "      <td>Hutthurm</td>\n",
       "      <td>015115617854</td>\n",
       "      <td>g.meisinger@mlogica.de</td>\n",
       "      <td>Hiermit best=C3=A4tige ich, dass ich die nachf...</td>\n",
       "      <td>a Modell m=C3=B6chtest Du verkaufen?*\\nModel 3...</td>\n",
       "    </tr>\n",
       "    <tr>\n",
       "      <th>2</th>\n",
       "      <td>Model 3</td>\n",
       "      <td>Ja</td>\n",
       "      <td>21.04.2020</td>\n",
       "      <td>Ausgew=C3=A4hlter Wert: 2847 (0 min / 12000 max)</td>\n",
       "      <td>Standard Plus</td>\n",
       "      <td>Pearl White Multi-Coat</td>\n",
       "      <td>Model 3 - 18\" Aero Felgen</td>\n",
       "      <td>Komplett schwarz</td>\n",
       "      <td>Basis</td>\n",
       "      <td>Ja\\n*Besch=C3=A4digungen*\\nTest Test\\n*Zubeh=C...</td>\n",
       "      <td>Test</td>\n",
       "      <td>Test Test</td>\n",
       "      <td>Test</td>\n",
       "      <td>Test</td>\n",
       "      <td>28971309827</td>\n",
       "      <td>test@test.de</td>\n",
       "      <td>Hiermit best=C3=A4tige ich, dass ich die nachf...</td>\n",
       "      <td>a Modell m=C3=B6chtest Du verkaufen?*\\nModel 3...</td>\n",
       "    </tr>\n",
       "    <tr>\n",
       "      <th>3</th>\n",
       "      <td>Model Y</td>\n",
       "      <td>Ja</td>\n",
       "      <td>09.10.2021</td>\n",
       "      <td>Ausgew=C3=A4hlter Wert: 1432 (0 min / 12000 max)</td>\n",
       "      <td>Performance</td>\n",
       "      <td>Red Multi-Coat</td>\n",
       "      <td>Model Y - 20\" Induction Felgen</td>\n",
       "      <td>Schwarz und wei=C3=9F</td>\n",
       "      <td>Enhanced\\n*Name*\\nJustin Breschul\\n*Strasse un...</td>\n",
       "      <td>dell m=C3=B6chtest Du verkaufen?*\\nModel Y\\n*A...</td>\n",
       "      <td>l m=C3=B6chtest Du verkaufen?*\\nModel Y\\n*Ausw...</td>\n",
       "      <td>Justin Breschul</td>\n",
       "      <td>Sonderschulstrasse 1</td>\n",
       "      <td>42105 Wuppertal</td>\n",
       "      <td>0189765432</td>\n",
       "      <td>justin@gmail.com</td>\n",
       "      <td>Hiermit best=C3=A4tige ich, dass ich die nachf...</td>\n",
       "      <td>a Modell m=C3=B6chtest Du verkaufen?*\\nModel Y...</td>\n",
       "    </tr>\n",
       "  </tbody>\n",
       "</table>\n",
       "</div>"
      ],
      "text/plain": [
       "  Welches Tesla Modell m=C3=B6chtest Du verkaufen? Ausweisbare MWST?  \\\n",
       "0                                          Model 3                Ja   \n",
       "1                                          Model 3                Ja   \n",
       "2                                          Model 3                Ja   \n",
       "3                                          Model Y                Ja   \n",
       "\n",
       "  Datum der Erstzulassung                                     Kilometerstand  \\\n",
       "0              6363636366  Ausgew=C3=A4hlter Wert: 11252 (0 min / 12000 max)   \n",
       "1               16.5.2021   Ausgew=C3=A4hlter Wert: 9429 (0 min / 12000 max)   \n",
       "2              21.04.2020   Ausgew=C3=A4hlter Wert: 2847 (0 min / 12000 max)   \n",
       "3              09.10.2021   Ausgew=C3=A4hlter Wert: 1432 (0 min / 12000 max)   \n",
       "\n",
       "       Antriebsversion            Lackierungen  \\\n",
       "0  Maximale Reichweite          Red Multi-Coat   \n",
       "1  Maximale Reichweite  Pearl White Multi-Coat   \n",
       "2        Standard Plus  Pearl White Multi-Coat   \n",
       "3          Performance          Red Multi-Coat   \n",
       "\n",
       "                       R=C3=A4der           Innenansicht  \\\n",
       "0       Model 3 - 18\" Aero Felgen       Komplett schwarz   \n",
       "1       Model 3 - 18\" Aero Felgen       Komplett schwarz   \n",
       "2       Model 3 - 18\" Aero Felgen       Komplett schwarz   \n",
       "3  Model Y - 20\" Induction Felgen  Schwarz und wei=C3=9F   \n",
       "\n",
       "                                           Autopilot  \\\n",
       "0         Volles Potential f=C3=BCr autonomes Fahren   \n",
       "1                                              Basis   \n",
       "2                                              Basis   \n",
       "3  Enhanced\\n*Name*\\nJustin Breschul\\n*Strasse un...   \n",
       "\n",
       "                                     Unfallfahrzeug:  \\\n",
       "0                                                 Ja   \n",
       "1                                               Nein   \n",
       "2  Ja\\n*Besch=C3=A4digungen*\\nTest Test\\n*Zubeh=C...   \n",
       "3  dell m=C3=B6chtest Du verkaufen?*\\nModel Y\\n*A...   \n",
       "\n",
       "                                  Brutto-Listenpreis                   Name  \\\n",
       "0                                             999999                hhh ddd   \n",
       "1                                              55000  G=C3=BCnter Meisinger   \n",
       "2                                               Test              Test Test   \n",
       "3  l m=C3=B6chtest Du verkaufen?*\\nModel Y\\n*Ausw...        Justin Breschul   \n",
       "\n",
       "  Strasse und Hausnummer      PLZ und Ort Telefonische Erreichbarkeit  \\\n",
       "0                    ddd              ddd                010101100101   \n",
       "1         94116 Hutthurm         Hutthurm                015115617854   \n",
       "2                   Test             Test                 28971309827   \n",
       "3   Sonderschulstrasse 1  42105 Wuppertal                  0189765432   \n",
       "\n",
       "                   E-Mail                          Datenschutzerkl=C3=A4rung  \\\n",
       "0            hhhh@hhhh.de  Hiermit best=C3=A4tige ich, dass ich die nachf...   \n",
       "1  g.meisinger@mlogica.de  Hiermit best=C3=A4tige ich, dass ich die nachf...   \n",
       "2            test@test.de  Hiermit best=C3=A4tige ich, dass ich die nachf...   \n",
       "3        justin@gmail.com  Hiermit best=C3=A4tige ich, dass ich die nachf...   \n",
       "\n",
       "                                         Ankaufs AGB  \n",
       "0  Hiermit best=C3=A4tige ich, dass ich die nachf...  \n",
       "1  a Modell m=C3=B6chtest Du verkaufen?*\\nModel 3...  \n",
       "2  a Modell m=C3=B6chtest Du verkaufen?*\\nModel 3...  \n",
       "3  a Modell m=C3=B6chtest Du verkaufen?*\\nModel Y...  "
      ]
     },
     "execution_count": 10,
     "metadata": {},
     "output_type": "execute_result"
    }
   ],
   "source": [
    "df = pd.DataFrame(answers_list)\n",
    "df.columns=questions\n",
    "df"
   ]
  },
  {
   "cell_type": "markdown",
   "id": "0ca26bc5",
   "metadata": {},
   "source": [
    "df_t = pd.DataFrame(answers_list)\n",
    "df_t"
   ]
  },
  {
   "cell_type": "markdown",
   "id": "0d3b817c",
   "metadata": {},
   "source": [
    "df = pd.DataFrame(questions, answers_list)\n",
    "df_t = pd.DataFrame(questions, answers_list).transpose()\n",
    "df_t"
   ]
  },
  {
   "cell_type": "markdown",
   "id": "01cdcb88",
   "metadata": {},
   "source": [
    "df = pd.DataFrame(pyr,ryp)\n",
    "df_t = pd.DataFrame(ryp, pyr).transpose()\n",
    "df_t"
   ]
  },
  {
   "cell_type": "markdown",
   "id": "3c016ae4",
   "metadata": {},
   "source": [
    "for i in new_yy:\n",
    "    "
   ]
  },
  {
   "cell_type": "markdown",
   "id": "9df3909d",
   "metadata": {},
   "source": [
    "body_list[0].find('n*')"
   ]
  },
  {
   "cell_type": "markdown",
   "id": "cd2fbaa7",
   "metadata": {},
   "source": [
    "xx = pd.read_csv(yy, sep = '\\r\\n')\n",
    "xx"
   ]
  },
  {
   "cell_type": "markdown",
   "id": "b409fcfa",
   "metadata": {},
   "source": [
    "def read_email_payload_2(email_data):\n",
    "    email_payload = email_data.email.message.Message.get_payload()\n",
    "    if email_data.is_multipart():\n",
    "        email_messages = list(get_email_messages(email_payload))\n",
    "    else:\n",
    "        email_messages = [email_payload]\n",
    "    return [read_email_text(msg) for msg in email_messages]"
   ]
  },
  {
   "cell_type": "markdown",
   "id": "8d7e9642",
   "metadata": {},
   "source": [
    "def parse_email_2(email_data):\n",
    "    for i, email_data in zip(range(num_entries), email_data):\n",
    "        #email_labels = email_data[i]['X-Gmail-Labels']\n",
    "        email_date = email_data[i]['Date']\n",
    "        email_from = email_data[i]['From']\n",
    "        email_to = email_data[i]['To']\n",
    "        email_subject = email_data[i]['Subject']\n",
    "        email_text = read_email_payload(email_data)"
   ]
  },
  {
   "cell_type": "markdown",
   "id": "09d63ef8",
   "metadata": {},
   "source": [
    "import mailbox\n",
    "import bs4\n",
    "\n",
    "def get_html_text(html):\n",
    "    try:\n",
    "        return bs4.BeautifulSoup(html, 'lxml').body.get_text(' ', strip=True)\n",
    "    except AttributeError: # message contents empty\n",
    "        return None\n",
    "\n",
    "class GmailMboxMessage():\n",
    "    def __init__(self, email_data):\n",
    "        if not isinstance(email_data, mailbox.mboxMessage):\n",
    "            raise TypeError('Variable must be type mailbox.mboxMessage')\n",
    "        self.email_data = email_data\n",
    "\n",
    "    def parse_email(self):\n",
    "        email_labels = self.email_data['X-Gmail-Labels']\n",
    "        email_date = self.email_data['Date']\n",
    "        email_from = self.email_data['From']\n",
    "        email_to = self.email_data['To']\n",
    "        email_subject = self.email_data['Subject']\n",
    "        email_text = self.read_email_payload() \n",
    "\n",
    "    def read_email_payload(self):\n",
    "        email_payload = self.email_data.get_payload()\n",
    "        if self.email_data.is_multipart():\n",
    "            email_messages = list(self._get_email_messages(email_payload))\n",
    "        else:\n",
    "            email_messages = [email_payload]\n",
    "        return [self._read_email_text(msg) for msg in email_messages]\n",
    "\n",
    "    def _get_email_messages(self, email_payload):\n",
    "        for msg in email_payload:\n",
    "            if isinstance(msg, (list,tuple)):\n",
    "                for submsg in self._get_email_messages(msg):\n",
    "                    yield submsg\n",
    "            elif msg.is_multipart():\n",
    "                for submsg in self._get_email_messages(msg.get_payload()):\n",
    "                    yield submsg\n",
    "            else:\n",
    "                yield msg\n",
    "\n",
    "    def _read_email_text(self, msg):\n",
    "        content_type = 'NA' if isinstance(msg, str) else msg.get_content_type()\n",
    "        encoding = 'NA' if isinstance(msg, str) else msg.get('Content-Transfer-Encoding', 'NA')\n",
    "        if 'text/plain' in content_type and 'base64' not in encoding:\n",
    "            msg_text = msg.get_payload()\n",
    "        elif 'text/html' in content_type and 'base64' not in encoding:\n",
    "            msg_text = get_html_text(msg.get_payload())\n",
    "        elif content_type == 'NA':\n",
    "            msg_text = get_html_text(msg)\n",
    "        else:\n",
    "            msg_text = None\n",
    "        return (content_type, encoding, msg_text)\n",
    "\n",
    "######################### End of library, example of use below\n",
    "\n",
    "mbox_obj = mailbox.mbox('/Users/Javi/Downloads/Destacados.mbox')\n",
    "\n",
    "num_entries = len(mbox_obj)\n",
    "\n",
    "for idx, email_obj in enumerate(mbox_obj):\n",
    "    email_data = GmailMboxMessage(email_obj)\n",
    "    email_data.parse_email()\n",
    "    print('Parsing email {0} of {1}'.format(idx, num_entries))"
   ]
  },
  {
   "cell_type": "code",
   "execution_count": 11,
   "id": "09ecbd43",
   "metadata": {},
   "outputs": [
    {
     "ename": "FileNotFoundError",
     "evalue": "[Errno 2] No such file or directory: 'C:\\\\Users\\\\Javi\\\\Downloads\\\\Destacados.mbox'",
     "output_type": "error",
     "traceback": [
      "\u001b[1;31m---------------------------------------------------------------------------\u001b[0m",
      "\u001b[1;31mFileNotFoundError\u001b[0m                         Traceback (most recent call last)",
      "\u001b[1;32m~\\anaconda3\\lib\\mailbox.py\u001b[0m in \u001b[0;36m__init__\u001b[1;34m(self, path, factory, create)\u001b[0m\n\u001b[0;32m    580\u001b[0m         \u001b[1;32mtry\u001b[0m\u001b[1;33m:\u001b[0m\u001b[1;33m\u001b[0m\u001b[1;33m\u001b[0m\u001b[0m\n\u001b[1;32m--> 581\u001b[1;33m             \u001b[0mf\u001b[0m \u001b[1;33m=\u001b[0m \u001b[0mopen\u001b[0m\u001b[1;33m(\u001b[0m\u001b[0mself\u001b[0m\u001b[1;33m.\u001b[0m\u001b[0m_path\u001b[0m\u001b[1;33m,\u001b[0m \u001b[1;34m'rb+'\u001b[0m\u001b[1;33m)\u001b[0m\u001b[1;33m\u001b[0m\u001b[1;33m\u001b[0m\u001b[0m\n\u001b[0m\u001b[0;32m    582\u001b[0m         \u001b[1;32mexcept\u001b[0m \u001b[0mOSError\u001b[0m \u001b[1;32mas\u001b[0m \u001b[0me\u001b[0m\u001b[1;33m:\u001b[0m\u001b[1;33m\u001b[0m\u001b[1;33m\u001b[0m\u001b[0m\n",
      "\u001b[1;31mFileNotFoundError\u001b[0m: [Errno 2] No such file or directory: 'C:\\\\Users\\\\Javi\\\\Downloads\\\\Destacados.mbox'",
      "\nDuring handling of the above exception, another exception occurred:\n",
      "\u001b[1;31mFileNotFoundError\u001b[0m                         Traceback (most recent call last)",
      "\u001b[1;32m<ipython-input-11-3ff6d996e9c6>\u001b[0m in \u001b[0;36m<module>\u001b[1;34m\u001b[0m\n\u001b[0;32m     42\u001b[0m     \u001b[0memail_text\u001b[0m \u001b[1;33m=\u001b[0m \u001b[0mread_email_payload\u001b[0m\u001b[1;33m(\u001b[0m\u001b[0memail_data\u001b[0m\u001b[1;33m)\u001b[0m\u001b[1;33m\u001b[0m\u001b[1;33m\u001b[0m\u001b[0m\n\u001b[0;32m     43\u001b[0m \u001b[1;33m\u001b[0m\u001b[0m\n\u001b[1;32m---> 44\u001b[1;33m \u001b[0mmbox_data\u001b[0m \u001b[1;33m=\u001b[0m \u001b[0mmailbox\u001b[0m\u001b[1;33m.\u001b[0m\u001b[0mmbox\u001b[0m\u001b[1;33m(\u001b[0m\u001b[1;34m'/Users/Javi/Downloads/Destacados.mbox'\u001b[0m\u001b[1;33m)\u001b[0m\u001b[1;33m\u001b[0m\u001b[1;33m\u001b[0m\u001b[0m\n\u001b[0m\u001b[0;32m     45\u001b[0m \u001b[1;33m\u001b[0m\u001b[0m\n\u001b[0;32m     46\u001b[0m \u001b[0mnum_entries\u001b[0m \u001b[1;33m=\u001b[0m \u001b[0mlen\u001b[0m\u001b[1;33m(\u001b[0m\u001b[0mmbox_data\u001b[0m\u001b[1;33m)\u001b[0m\u001b[1;33m\u001b[0m\u001b[1;33m\u001b[0m\u001b[0m\n",
      "\u001b[1;32m~\\anaconda3\\lib\\mailbox.py\u001b[0m in \u001b[0;36m__init__\u001b[1;34m(self, path, factory, create)\u001b[0m\n\u001b[0;32m    845\u001b[0m         \u001b[1;34m\"\"\"Initialize an mbox mailbox.\"\"\"\u001b[0m\u001b[1;33m\u001b[0m\u001b[1;33m\u001b[0m\u001b[0m\n\u001b[0;32m    846\u001b[0m         \u001b[0mself\u001b[0m\u001b[1;33m.\u001b[0m\u001b[0m_message_factory\u001b[0m \u001b[1;33m=\u001b[0m \u001b[0mmboxMessage\u001b[0m\u001b[1;33m\u001b[0m\u001b[1;33m\u001b[0m\u001b[0m\n\u001b[1;32m--> 847\u001b[1;33m         \u001b[0m_mboxMMDF\u001b[0m\u001b[1;33m.\u001b[0m\u001b[0m__init__\u001b[0m\u001b[1;33m(\u001b[0m\u001b[0mself\u001b[0m\u001b[1;33m,\u001b[0m \u001b[0mpath\u001b[0m\u001b[1;33m,\u001b[0m \u001b[0mfactory\u001b[0m\u001b[1;33m,\u001b[0m \u001b[0mcreate\u001b[0m\u001b[1;33m)\u001b[0m\u001b[1;33m\u001b[0m\u001b[1;33m\u001b[0m\u001b[0m\n\u001b[0m\u001b[0;32m    848\u001b[0m \u001b[1;33m\u001b[0m\u001b[0m\n\u001b[0;32m    849\u001b[0m     \u001b[1;32mdef\u001b[0m \u001b[0m_post_message_hook\u001b[0m\u001b[1;33m(\u001b[0m\u001b[0mself\u001b[0m\u001b[1;33m,\u001b[0m \u001b[0mf\u001b[0m\u001b[1;33m)\u001b[0m\u001b[1;33m:\u001b[0m\u001b[1;33m\u001b[0m\u001b[1;33m\u001b[0m\u001b[0m\n",
      "\u001b[1;32m~\\anaconda3\\lib\\mailbox.py\u001b[0m in \u001b[0;36m__init__\u001b[1;34m(self, path, factory, create)\u001b[0m\n\u001b[0;32m    583\u001b[0m             \u001b[1;32mif\u001b[0m \u001b[0me\u001b[0m\u001b[1;33m.\u001b[0m\u001b[0merrno\u001b[0m \u001b[1;33m==\u001b[0m \u001b[0merrno\u001b[0m\u001b[1;33m.\u001b[0m\u001b[0mENOENT\u001b[0m\u001b[1;33m:\u001b[0m\u001b[1;33m\u001b[0m\u001b[1;33m\u001b[0m\u001b[0m\n\u001b[0;32m    584\u001b[0m                 \u001b[1;32mif\u001b[0m \u001b[0mcreate\u001b[0m\u001b[1;33m:\u001b[0m\u001b[1;33m\u001b[0m\u001b[1;33m\u001b[0m\u001b[0m\n\u001b[1;32m--> 585\u001b[1;33m                     \u001b[0mf\u001b[0m \u001b[1;33m=\u001b[0m \u001b[0mopen\u001b[0m\u001b[1;33m(\u001b[0m\u001b[0mself\u001b[0m\u001b[1;33m.\u001b[0m\u001b[0m_path\u001b[0m\u001b[1;33m,\u001b[0m \u001b[1;34m'wb+'\u001b[0m\u001b[1;33m)\u001b[0m\u001b[1;33m\u001b[0m\u001b[1;33m\u001b[0m\u001b[0m\n\u001b[0m\u001b[0;32m    586\u001b[0m                 \u001b[1;32melse\u001b[0m\u001b[1;33m:\u001b[0m\u001b[1;33m\u001b[0m\u001b[1;33m\u001b[0m\u001b[0m\n\u001b[0;32m    587\u001b[0m                     \u001b[1;32mraise\u001b[0m \u001b[0mNoSuchMailboxError\u001b[0m\u001b[1;33m(\u001b[0m\u001b[0mself\u001b[0m\u001b[1;33m.\u001b[0m\u001b[0m_path\u001b[0m\u001b[1;33m)\u001b[0m\u001b[1;33m\u001b[0m\u001b[1;33m\u001b[0m\u001b[0m\n",
      "\u001b[1;31mFileNotFoundError\u001b[0m: [Errno 2] No such file or directory: 'C:\\\\Users\\\\Javi\\\\Downloads\\\\Destacados.mbox'"
     ]
    }
   ],
   "source": [
    "def get_html_text(html):\n",
    "    return bs4.BeautifulSoup(html, 'lxml').body.get_text(' ', strip=True)\n",
    "\n",
    "def read_email_text(msg):\n",
    "    content_type = 'NA' if isinstance(msg, str) else msg.get_content_type()\n",
    "    encoding = 'NA' if isinstance(msg, str) else msg.get('Content-Transfer-Encoding')\n",
    "    if 'text/plain' in content_type and 'base64' not in encoding:\n",
    "        msg_text = msg.get_payload()\n",
    "    elif 'text/html' in content_type and 'base64' not in encoding:\n",
    "        msg_text = get_html_text(msg.get_payload())\n",
    "    elif content_type == 'NA':\n",
    "        msg_text = het_html_text(msg)\n",
    "    else:\n",
    "        msg_text = None\n",
    "    return (content_type, encoding, msg_text)\n",
    "\n",
    "def get_email_messages(email_payload):\n",
    "    for msg in email_payload:\n",
    "        if isinstance(msg, (list,tuple)):\n",
    "            for submsg in get_email_messages(msg):\n",
    "                yield submsg\n",
    "        elif msg.is_multipart():\n",
    "            for submsg in get_email_messages(msg.get_payload()):\n",
    "                yield submsg\n",
    "        else:\n",
    "            yield msg\n",
    "\n",
    "def read_email_payload(email_data):\n",
    "    email_payload = email_data.get_payload()\n",
    "    if email_data.is_multipart():\n",
    "        email_messages = list(get_email_messages(email_payload))\n",
    "    else:\n",
    "        email_messages = [email_payload]\n",
    "    return [read_email_text(msg) for msg in email_messages]\n",
    "\n",
    "def parse_email(email_data):\n",
    "    email_labels = email_data['X-Gmail-Labels']\n",
    "    email_date = email_data['Date']\n",
    "    email_from = email_data['From']\n",
    "    email_to = email_data['To']\n",
    "    email_subject = email_data['Subject']\n",
    "    email_text = read_email_payload(email_data) \n",
    "\n",
    "mbox_data = mailbox.mbox('/Users/Javi/Downloads/Destacados.mbox')\n",
    "\n",
    "num_entries = len(mbox_data)\n",
    "\n",
    "for idx, email_data in enumerate(mbox_data):\n",
    "    print('Parsing email {0} of {1}'.format(idx, num_entries))"
   ]
  },
  {
   "cell_type": "code",
   "execution_count": null,
   "id": "53b2ef2b",
   "metadata": {},
   "outputs": [],
   "source": [
    "import mailbox\n",
    "import quopri,base64\n",
    "import pandas as pd\n",
    "import email\n",
    "import mailbox\n",
    "import bs4\n",
    "from email import message\n",
    "\n",
    "def myconvert(encoded,ContentTransferEncoding):\n",
    "    if ContentTransferEncoding == 'quoted-printable':\n",
    "        result = quopri.decodestring(encoded)\n",
    "    elif ContentTransferEncoding == 'base64':\n",
    "        result = base64.b64decode(encoded)\n",
    "\n",
    "mboxfile = '../Data/Destacados.mbox'\n",
    "\n",
    "body_list = []\n",
    "\n",
    "for msg in mailbox.mbox(mboxfile):\n",
    "    if msg.is_multipart():    #Walk through the parts of the email to find the text body.\n",
    "        for part in msg.walk():\n",
    "            if part.is_multipart(): # If part is multipart, walk through the subparts.\n",
    "                for subpart in part.walk():\n",
    "                    if subpart.get_content_type() == 'text/plain':\n",
    "                        body = subpart.get_payload(decode=False) # Get the subpart payload (i.e the message body)\n",
    "                        body_list.append(body)\n",
    "                    for k,v in subpart.items():\n",
    "                            if k == 'Content-Transfer-Encoding':\n",
    "                                cte = v             # Keep the Content Transfer Encoding\n",
    "            elif subpart.get_content_type() == 'text/plain':\n",
    "                body = part.get_payload(decode=False)           # part isn't multipart Get the payload\n",
    "                for k,v in part.items():\n",
    "                    if k == 'Content-Transfer-Encoding':\n",
    "                        cte = v                      # Keep the Content Transfer Encoding\n",
    "\n",
    "body_list[3]"
   ]
  },
  {
   "cell_type": "code",
   "execution_count": null,
   "id": "9e4e7830",
   "metadata": {},
   "outputs": [],
   "source": [
    "answers_list = []\n",
    "\n",
    "for body_n in body_clean:\n",
    "#     questions = []\n",
    "    answers = []\n",
    "    for i, x, s in zip(questions_len, questions_first, questions_second):\n",
    "        index = body_n.find(x)\n",
    "        index_plus_one = body_n.find(s)\n",
    "#         question = body_n[index:(i+index)]\n",
    "#         questions.append(question)\n",
    "        answer = body_n[(index+i):(index_plus_one)]\n",
    "        answers.append(answer[2:-2])\n",
    "    answers_list.append(answers)\n",
    "answers_list"
   ]
  }
 ],
 "metadata": {
  "kernelspec": {
   "display_name": "Python 3",
   "language": "python",
   "name": "python3"
  },
  "language_info": {
   "codemirror_mode": {
    "name": "ipython",
    "version": 3
   },
   "file_extension": ".py",
   "mimetype": "text/x-python",
   "name": "python",
   "nbconvert_exporter": "python",
   "pygments_lexer": "ipython3",
   "version": "3.8.8"
  }
 },
 "nbformat": 4,
 "nbformat_minor": 5
}
