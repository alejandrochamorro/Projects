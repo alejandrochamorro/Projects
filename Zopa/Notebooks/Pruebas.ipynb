{
 "cells": [
  {
   "cell_type": "code",
   "execution_count": null,
   "id": "steady-basin",
   "metadata": {},
   "outputs": [],
   "source": [
    "import pandas as pd\n",
    "\n",
    "import sys\n",
    "sys.path.append('..')"
   ]
  },
  {
   "cell_type": "code",
   "execution_count": null,
   "id": "reliable-fisher",
   "metadata": {},
   "outputs": [],
   "source": [
    "from ToolsLoanCalculator import LoanCalculator"
   ]
  },
  {
   "cell_type": "code",
   "execution_count": null,
   "id": "sharing-iraqi",
   "metadata": {},
   "outputs": [],
   "source": [
    "LoanCalculator.test(9)"
   ]
  },
  {
   "cell_type": "code",
   "execution_count": null,
   "id": "hollywood-stone",
   "metadata": {},
   "outputs": [],
   "source": [
    "data = pd.read_csv('../Data/MarketDataforTechnicalExercise.csv')\n",
    "data.head()"
   ]
  },
  {
   "cell_type": "code",
   "execution_count": null,
   "id": "above-affiliation",
   "metadata": {},
   "outputs": [],
   "source": [
    "import pandas as pd\n",
    "def print_shape (dataframe):\n",
    "    return print(dataframe.shape)\n",
    "print_shape(data)"
   ]
  },
  {
   "cell_type": "code",
   "execution_count": null,
   "id": "saved-circle",
   "metadata": {},
   "outputs": [],
   "source": [
    "data.shape"
   ]
  },
  {
   "cell_type": "code",
   "execution_count": null,
   "id": "apart-girlfriend",
   "metadata": {},
   "outputs": [],
   "source": [
    "from ToolsLoanCalculator import Prueba\n"
   ]
  },
  {
   "cell_type": "code",
   "execution_count": null,
   "id": "different-headline",
   "metadata": {},
   "outputs": [],
   "source": [
    "Prueba.print_shape(data)"
   ]
  },
  {
   "cell_type": "markdown",
   "id": "human-handle",
   "metadata": {},
   "source": [
    "# Project"
   ]
  },
  {
   "cell_type": "code",
   "execution_count": null,
   "id": "solved-damages",
   "metadata": {},
   "outputs": [],
   "source": [
    "# Input un numero\n",
    "# Proceso una funcion\n",
    "# Output 1: ¿Hay suficiente dinero? Si/No\n",
    "# Output 2: Rate mas bajo posible (motnhly repayment+total repayment)"
   ]
  },
  {
   "cell_type": "code",
   "execution_count": null,
   "id": "tested-incident",
   "metadata": {},
   "outputs": [],
   "source": [
    "import pandas as pd\n",
    "import sys\n",
    "sys.path.append('..')"
   ]
  },
  {
   "cell_type": "code",
   "execution_count": null,
   "id": "wireless-creativity",
   "metadata": {},
   "outputs": [],
   "source": [
    "data = pd.read_csv('../Data/MarketDataforTechnicalExercise.csv')\n",
    "data.head()"
   ]
  },
  {
   "cell_type": "code",
   "execution_count": null,
   "id": "closed-airfare",
   "metadata": {},
   "outputs": [],
   "source": [
    "data.info()"
   ]
  },
  {
   "cell_type": "code",
   "execution_count": null,
   "id": "nuclear-collective",
   "metadata": {},
   "outputs": [],
   "source": [
    "data.describe()"
   ]
  },
  {
   "cell_type": "code",
   "execution_count": null,
   "id": "illegal-cooking",
   "metadata": {},
   "outputs": [],
   "source": [
    "data['exp_rate_sorted'] = data['exp_rate']\n",
    "data = data.sort_values(by=['exp_rate_sorted'])\n",
    "data.head()"
   ]
  },
  {
   "cell_type": "code",
   "execution_count": null,
   "id": "connected-comedy",
   "metadata": {},
   "outputs": [],
   "source": [
    "data['exp_return'] = data['money_lent']*(1+data['exp_rate'])\n",
    "data.head(15)"
   ]
  },
  {
   "cell_type": "code",
   "execution_count": null,
   "id": "becoming-multiple",
   "metadata": {},
   "outputs": [],
   "source": [
    "df = data.reset_index()\n",
    "df = df.drop(columns=['exp_rate_sorted', 'index'])\n",
    "df"
   ]
  },
  {
   "cell_type": "code",
   "execution_count": null,
   "id": "meaning-proof",
   "metadata": {},
   "outputs": [],
   "source": [
    "total_available = data['money_lent'].sum()\n",
    "total_available"
   ]
  },
  {
   "cell_type": "code",
   "execution_count": null,
   "id": "spanish-status",
   "metadata": {},
   "outputs": [],
   "source": [
    "money_requested = 1000\n",
    "money_requested"
   ]
  },
  {
   "cell_type": "code",
   "execution_count": null,
   "id": "developed-patrol",
   "metadata": {},
   "outputs": [],
   "source": [
    "extra = data.loc[2,'exp_rate_sorted']\n",
    "extra"
   ]
  },
  {
   "cell_type": "code",
   "execution_count": null,
   "id": "hungry-boring",
   "metadata": {},
   "outputs": [],
   "source": [
    "money_requested = 1000\n",
    "remainder = money_requested\n",
    "to_return = 0\n",
    "next_count_ind = 0\n",
    "for element1, element2 in zip(data['money_lent'], data['exp_return']):\n",
    "    if remainder > element1:\n",
    "        next_count_ind +=1\n",
    "        remainder-=element1\n",
    "        to_return+=element2\n",
    "    \n",
    "print(remainder)\n",
    "print(next_count_ind)\n",
    "print(to_return)"
   ]
  },
  {
   "cell_type": "code",
   "execution_count": null,
   "id": "interim-adrian",
   "metadata": {},
   "outputs": [],
   "source": [
    "df = data.reset_index()\n",
    "df = df.drop(columns=['exp_rate_sorted', 'index'])\n",
    "df.head(28)"
   ]
  },
  {
   "cell_type": "code",
   "execution_count": null,
   "id": "stock-addiction",
   "metadata": {},
   "outputs": [],
   "source": [
    "money_requested = 1920\n",
    "\n",
    "remainder = money_requested\n",
    "to_return = 0\n",
    "next_count_ind = 1\n",
    "\n",
    "for element1, element2 in zip(df['money_lent'], df['exp_return']):\n",
    "    if remainder >= element1:\n",
    "        next_count_ind +=1\n",
    "        remainder-=element1\n",
    "        to_return+=element2\n",
    "print(next_count_ind)\n",
    "extra = remainder * (1+df.loc[next_count_ind,'exp_rate'])\n",
    "total_return = to_return+extra\n",
    "\n",
    "print(remainder)\n",
    "print(extra)\n",
    "print(to_return)\n",
    "print(total_return)"
   ]
  },
  {
   "cell_type": "code",
   "execution_count": null,
   "id": "other-pasta",
   "metadata": {},
   "outputs": [],
   "source": [
    "extra = remainder * (1+df.loc[3,'exp_rate'])\n",
    "extra"
   ]
  },
  {
   "cell_type": "code",
   "execution_count": null,
   "id": "pressing-entity",
   "metadata": {},
   "outputs": [],
   "source": [
    "money_requested = 1920\n",
    "\n",
    "remainder = money_requested\n",
    "to_return = 0\n",
    "next_count_ind = 1\n",
    "\n",
    "for element1, element2 in zip(df['money_lent'], df['exp_return']):\n",
    "    if remainder >= element1:\n",
    "        next_count_ind +=1\n",
    "        remainder-=element1\n",
    "        to_return+=element2\n",
    "extra = remainder * (1+df.loc[next_count_ind,'exp_rate'])\n",
    "total_return = to_return+extra\n",
    "\n",
    "mon_repay = total_return/36\n",
    "rate = (total_return/money_requested-1)*100\n",
    "\n",
    "print('Requested amount: £'+ str(money_requested) + \n",
    "      '\\n' + 'Rate: '+ str(rate) + '%' +\n",
    "      '\\n' + 'Monthly repayment: £'+ str(mon_repay) +\n",
    "      '\\n' + 'Total repayment: £' + str(total_return))"
   ]
  },
  {
   "cell_type": "code",
   "execution_count": null,
   "id": "double-liberty",
   "metadata": {},
   "outputs": [],
   "source": [
    "def LoanCalculatorFun (money_requested):\n",
    "    pos_req = list(range(1000,15100,100))\n",
    "    \n",
    "    if money_requested not in pos_req:\n",
    "        return 'Invalid amount - it must be any £100 increment between £1000 and £15000 inclusive'\n",
    "    \n",
    "    else:\n",
    "    \n",
    "        remainder = money_requested\n",
    "        to_return = 0\n",
    "        next_count_ind = 1\n",
    "\n",
    "        for element1, element2 in zip(df['money_lent'], df['exp_return']):\n",
    "            if remainder >= element1:\n",
    "                next_count_ind +=1\n",
    "                remainder-=element1\n",
    "                to_return+=element2\n",
    "        extra = remainder * (1+df.loc[next_count_ind,'exp_rate'])\n",
    "        total_return = to_return+extra\n",
    "\n",
    "\n",
    "        mon_repay = total_return/36\n",
    "        rate = (total_return/money_requested-1)*100\n",
    "\n",
    "        return print('Requested amount: £'+ '%.2f'%(money_requested)+\n",
    "              '\\n' + 'Rate: '+ str(rate.round(1)) + '%' +\n",
    "              '\\n' + 'Monthly repayment: £'+ str(mon_repay.round(2)) +\n",
    "              '\\n' + 'Total repayment: £' + str(total_return.round(2)))\n",
    "\n",
    "LoanCalculatorFun(1000)"
   ]
  },
  {
   "cell_type": "code",
   "execution_count": null,
   "id": "biological-timer",
   "metadata": {},
   "outputs": [],
   "source": [
    "def LoanCalculatorFun (money_requested):\n",
    "#     pos_req = list(range(1000,15100,100))\n",
    "    \n",
    "#     if money_requested not in pos_req:\n",
    "#         return 'Invalid amount - it must be any £100 increment between £1000 and £15000 inclusive'\n",
    "    \n",
    "#     else:\n",
    "    \n",
    "        remainder = money_requested\n",
    "        to_return = 0\n",
    "        next_count_ind = -1\n",
    "        for element1, element2 in zip(df['money_lent'], df['exp_return']):\n",
    "            if remainder >= element1:\n",
    "                next_count_ind +=1\n",
    "                remainder-=element1\n",
    "                to_return+=element2\n",
    "                print(df.loc[next_count_ind,'lender_name'])\n",
    "                print(element1)\n",
    "                print(df.loc[next_count_ind,'exp_rate'])\n",
    "                print(element2)\n",
    "        extra = remainder * (1+df.loc[next_count_ind,'exp_rate'])\n",
    "        total_return = to_return+extra\n",
    "#         df_2 = df.drop(list(range(0,next_count_ind)))\n",
    "        print(next_count_ind)\n",
    "        print(df.loc[next_count_ind,'exp_rate'])\n",
    "        print(to_return)\n",
    "        print(extra)\n",
    "        print(remainder)\n",
    "        mon_repay = total_return/36\n",
    "        rate = (total_return/money_requested-1)*100\n",
    "\n",
    "        return print('Requested amount: £'+ '%.2f'%(money_requested)+\n",
    "              '\\n' + 'Rate: '+ str(rate.round(1)) + '%' +\n",
    "              '\\n' + 'Monthly repayment: £'+ str(mon_repay.round(2)) +\n",
    "              '\\n' + 'Total repayment: £' + str(total_return.round(2)))\n",
    "\n",
    "LoanCalculatorFun(7660)"
   ]
  },
  {
   "cell_type": "code",
   "execution_count": null,
   "id": "younger-closer",
   "metadata": {},
   "outputs": [],
   "source": [
    "def LoanCalculatorFun (money_requested):\n",
    "    \n",
    "    # Import libraries and read the file with investor info.\n",
    "    import pandas as pd\n",
    "    import sys\n",
    "    sys.path.append('..')\n",
    "    data = pd.read_csv('../Data/MarketDataforTechnicalExercise.csv')\n",
    "    \n",
    "    # Sort data by expected rate and create a column with expected amount (for each investor to receive in return).\n",
    "    data = data.sort_values(by=['exp_rate'])\n",
    "    data['exp_return'] = data['money_lent']*(1+data['exp_rate'])\n",
    "    \n",
    "    # Rename DataFrame and reset indexes.\n",
    "    df = data.reset_index(drop=True)\n",
    "    \n",
    "    # Check that the money requested is valid and available.\n",
    "    pos_req = list(range(1000,15100,100))\n",
    "    if money_requested not in pos_req:\n",
    "        return 'Invalid amount - It must be any £100 increment between £1000 and £15000 inclusive'\n",
    "    elif money_requested > df['money_lent'].sum():\n",
    "        return 'Invalid amount  - Not enough money in the bucket'\n",
    "    \n",
    "    else:\n",
    "    \n",
    "    \n",
    "        remainder = money_requested   # Money to return from a part of \"the last\" lender.\n",
    "        to_return = 0                 # Money to return in exact amounts.\n",
    "        next_count_ind = 0            # Current index in the loop.\n",
    "        \n",
    "        # Loop through the investors data.\n",
    "        for element1, element2 in zip(df['money_lent'], df['exp_return']):\n",
    "            \n",
    "            # We start from the total requested amount and subtract each investor block until needed.\n",
    "            if remainder >= element1:\n",
    "                remainder-= df.loc[next_count_ind,'money_lent']\n",
    "                to_return+= df.loc[next_count_ind,'exp_return']\n",
    "                next_count_ind +=1\n",
    "        \n",
    "        # Calculate the extra part if it didn't fit exactly with the investors money lent.\n",
    "        extra = remainder * (1+df.loc[next_count_ind,'exp_rate'])\n",
    "        total_return = to_return+extra\n",
    "        \n",
    "        # Calculate monthly repay and rate\n",
    "        mon_repay = total_return/36\n",
    "        rate = (total_return/money_requested-1)*100\n",
    "\n",
    "        # Create a DF of the updated CSV (same as old without the money that was lent)\n",
    "        df_2 = df.drop(list(range(0,next_count_ind))).reset_index()\n",
    "        df_2.loc[0,'money_lent'] = df_2.loc[0,'money_lent']-remainder\n",
    "        df_2.to_csv(path_or_buf='../Data/MarketDataforTechnicalExercise_2.csv')\n",
    "        \n",
    "        return print('Requested amount: £'+ '%.2f'%(money_requested)+\n",
    "              '\\n' + 'Rate: '+ str(rate.round(1)) + '%' +\n",
    "              '\\n' + 'Monthly repayment: £'+ str(mon_repay.round(2)) +\n",
    "              '\\n' + 'Total repayment: £' + str(total_return.round(2)))\n",
    "\n",
    "LoanCalculatorFun(9800)"
   ]
  },
  {
   "cell_type": "code",
   "execution_count": null,
   "id": "standard-marking",
   "metadata": {},
   "outputs": [],
   "source": [
    "# each group of investors (with 7 participants) is able to provide 2.330 EUR at different rates.\n",
    "def FillTheBucket (n_groups_of_7_investors):\n",
    "\n",
    "    # Import libraries and read the file with investor info.\n",
    "    import pandas as pd\n",
    "    import sys\n",
    "    sys.path.append('..')\n",
    "    data = pd.read_csv('../Data/MarketDataforTechnicalExercise_2.csv')\n",
    "    df = data\n",
    "    \n",
    "    # Create a standard  investor dataframe.\n",
    "    new_inv_dict = {'lender_name': ['Bob', 'Jane', 'Fred', 'Mary', 'John', 'Dave', 'Angela'], \n",
    "                  'exp_rate': [0.075, 0.069, 0.071, 0.104, 0.081, 0.074, 0.071], \n",
    "                 'money_lent': [640, 480, 520, 170, 320, 140, 60]}\n",
    "    new_inv_df = pd.DataFrame(data=new_inv_dict)\n",
    "    \n",
    "    # Append as many groups as required.\n",
    "    n_groups = list(range(0,n_groups_of_7_investors))\n",
    "    \n",
    "    for n in n_groups:\n",
    "        df = df.append(new_inv_df)\n",
    "    df = df.reset_index(drop=True)\n",
    "    df = df.drop(['Unnamed: 0','index'], axis=1)\n",
    "    print(df)\n",
    "    # Save to CSV.\n",
    "#     df.to_csv(path_or_buf='../Data/MarketDataforTechnicalExercise_2.csv')\n",
    "    \n",
    "    return df\n",
    "\n",
    "\n",
    "FillTheBucket(2)"
   ]
  },
  {
   "cell_type": "code",
   "execution_count": null,
   "id": "rocky-macedonia",
   "metadata": {},
   "outputs": [],
   "source": [
    "# each group of investors (with 7 participants) is able to provide 2.330 EUR at different rates.\n",
    "def FillTheBucket (n_groups_of_7_investors):\n",
    "\n",
    "    # Import libraries.\n",
    "    import pandas as pd\n",
    "    \n",
    "    # Create a standard  investor dataframe.\n",
    "    d = {'lender_name': ['Bob', 'Jane', 'Fred', 'Mary', 'John', 'Dave', 'Angela'], \n",
    "                  'exp_rate': [0.075, 0.069, 0.071, 0.104, 0.081, 0.074, 0.071], \n",
    "                 'money_lent': [640, 480, 520, 170, 320, 140, 60]}\n",
    "    df = pd.DataFrame(data=d)\n",
    "    \n",
    "    # Append as many groups as required.\n",
    "    n_groups = list(range(0,(n_groups_of_7_investors-1)))\n",
    "    for n in n_groups:\n",
    "        df = df.append(df)\n",
    "    df = df.reset_index(drop=True)\n",
    "    \n",
    "    \n",
    "    return df\n",
    "\n",
    "\n",
    "FillTheBucket(2)\n",
    "\n",
    "# No hay que crear un DF sino pillar el csv con la info y appendearle ahi los inversores."
   ]
  },
  {
   "cell_type": "code",
   "execution_count": null,
   "id": "basic-daniel",
   "metadata": {},
   "outputs": [],
   "source": [
    "# lo abras saques el dinero y que se actualice (desparezca ese dinero)\n",
    "# creas dataframe, tocsv y reemplazas el antiguo\n",
    "# fill the bucket que te rellena de inversores\n",
    "# github README"
   ]
  },
  {
   "cell_type": "markdown",
   "id": "centered-blogger",
   "metadata": {},
   "source": [
    "## This folder contains all the projects:\n",
    "\n",
    "1) Command line - Get used to navigating your drive using the command line and carry out simple searches.\n",
    "\n",
    "2) Zopa - Create a small lending program whcih allows you to request money from a bucket and to refill it.\n"
   ]
  },
  {
   "cell_type": "markdown",
   "id": "recreational-appointment",
   "metadata": {},
   "source": [
    "## This folder contains Zopa's project's files:\n",
    "\n",
    "1) Data - The project's objective and necessary raw data.\n",
    "\n",
    "2) Notebooks - Jupyter Notebooks used to develop and test the project's functions.\n",
    "\n",
    "3) Scripts - Python files used to call the functions stored in ToolsLoanCalculator.\n",
    "\n",
    "4) ToolsLoanCalculator - Library where python files with the developed functions are stored.\n"
   ]
  },
  {
   "cell_type": "markdown",
   "id": "great-giving",
   "metadata": {},
   "source": [
    "## This folder contains:\n",
    "\n",
    "1) DevTechnicalTest - Project specification and objetives.\n",
    "\n",
    "2) MarketDataforTechnicalExercise_2.csv - Raw data containing lenders information.\n",
    "\n",
    "3) Other files - Used for testing."
   ]
  },
  {
   "cell_type": "markdown",
   "id": "aerial-boards",
   "metadata": {},
   "source": [
    "## This folder contains:\n",
    "\n",
    "1) LoanCalculatorDevelopment.ipynb - Jupyter Notebook used to develop and test the project's functions.\n",
    "\n",
    "2) Other files - Used for testing."
   ]
  },
  {
   "cell_type": "markdown",
   "id": "chief-earth",
   "metadata": {},
   "source": [
    "## This folder contains the files used to call the functions:\n",
    "\n",
    "1) request_loan.py - Script used to call the function LoanCalculatorFun which takes 1 argument (money_requested) and, if the amount requested is available, it returns the details of this loan's rate, monthly payment and total repayment amount as well as updating the lender's information in the Data folder.\n",
    "\n",
    "2) fill_bucket.py - Script used to call the function FillTheBucket which takes 1 argument (n_groups_of_7_investors) each group is able to provide 2.330 EUR at different rates and this function also updates the lender's information in the Data folder.\n",
    "\n",
    "3) Other files - Used for testing."
   ]
  },
  {
   "cell_type": "markdown",
   "id": "brown-latitude",
   "metadata": {},
   "source": [
    "## This folder contains the files with the functions:\n",
    "\n",
    "1) LoanCalculator.py - Contains 2 functions:\n",
    "    \n",
    "   1.1) LoanCalculatorFun which takes 1 argument (money_requested) and, if the amount requested is available, it returns the details of this loan's rate, monthly payment and total repayment amount as well as updating the lender's information in the Data folder.\n",
    "\n",
    "   1.2) FillTheBucket which takes 1 argument (n_groups_of_7_investors) each group is able to provide 2.330 EUR at different rates and this function also updates the lender's information in the Data folder.\n",
    "\n",
    "2) Other files - Used for testing."
   ]
  },
  {
   "cell_type": "code",
   "execution_count": null,
   "id": "original-favorite",
   "metadata": {},
   "outputs": [],
   "source": []
  },
  {
   "cell_type": "code",
   "execution_count": null,
   "id": "careful-resource",
   "metadata": {},
   "outputs": [],
   "source": []
  }
 ],
 "metadata": {
  "kernelspec": {
   "display_name": "Python 3",
   "language": "python",
   "name": "python3"
  },
  "language_info": {
   "codemirror_mode": {
    "name": "ipython",
    "version": 3
   },
   "file_extension": ".py",
   "mimetype": "text/x-python",
   "name": "python",
   "nbconvert_exporter": "python",
   "pygments_lexer": "ipython3",
   "version": "3.8.5"
  }
 },
 "nbformat": 4,
 "nbformat_minor": 5
}
