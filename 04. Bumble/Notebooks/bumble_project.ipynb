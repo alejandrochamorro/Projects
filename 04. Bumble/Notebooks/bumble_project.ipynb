{
 "cells": [
  {
   "cell_type": "code",
   "execution_count": 2,
   "id": "generic-panama",
   "metadata": {},
   "outputs": [],
   "source": [
    "import pandas as pd\n",
    "import numpy as np\n",
    "import seaborn as sns\n",
    "import matplotlib.pyplot as plt\n",
    "%matplotlib inline\n",
    "import sys\n",
    "sys.path.append('..')"
   ]
  },
  {
   "cell_type": "code",
   "execution_count": 8,
   "id": "prescription-eating",
   "metadata": {},
   "outputs": [
    {
     "data": {
      "text/html": [
       "<div>\n",
       "<style scoped>\n",
       "    .dataframe tbody tr th:only-of-type {\n",
       "        vertical-align: middle;\n",
       "    }\n",
       "\n",
       "    .dataframe tbody tr th {\n",
       "        vertical-align: top;\n",
       "    }\n",
       "\n",
       "    .dataframe thead th {\n",
       "        text-align: right;\n",
       "    }\n",
       "</style>\n",
       "<table border=\"1\" class=\"dataframe\">\n",
       "  <thead>\n",
       "    <tr style=\"text-align: right;\">\n",
       "      <th></th>\n",
       "      <th>Active User</th>\n",
       "      <th>Passive User</th>\n",
       "      <th>yes_vote</th>\n",
       "    </tr>\n",
       "  </thead>\n",
       "  <tbody>\n",
       "    <tr>\n",
       "      <th>0</th>\n",
       "      <td>38411</td>\n",
       "      <td>54288</td>\n",
       "      <td>0</td>\n",
       "    </tr>\n",
       "    <tr>\n",
       "      <th>1</th>\n",
       "      <td>50211</td>\n",
       "      <td>34398</td>\n",
       "      <td>0</td>\n",
       "    </tr>\n",
       "    <tr>\n",
       "      <th>2</th>\n",
       "      <td>45114</td>\n",
       "      <td>43284</td>\n",
       "      <td>1</td>\n",
       "    </tr>\n",
       "  </tbody>\n",
       "</table>\n",
       "</div>"
      ],
      "text/plain": [
       "   Active User  Passive User  yes_vote\n",
       "0        38411         54288         0\n",
       "1        50211         34398         0\n",
       "2        45114         43284         1"
      ]
     },
     "execution_count": 8,
     "metadata": {},
     "output_type": "execute_result"
    }
   ],
   "source": [
    "data = pd.read_csv('../Data/events.csv')\n",
    "data.head(3)"
   ]
  },
  {
   "cell_type": "code",
   "execution_count": 9,
   "id": "exceptional-merchant",
   "metadata": {},
   "outputs": [
    {
     "data": {
      "text/plain": [
       "Active User     0\n",
       "Passive User    0\n",
       "yes_vote        0\n",
       "dtype: int64"
      ]
     },
     "execution_count": 9,
     "metadata": {},
     "output_type": "execute_result"
    }
   ],
   "source": [
    "data.isnull().sum()"
   ]
  },
  {
   "cell_type": "code",
   "execution_count": 28,
   "id": "occupied-carol",
   "metadata": {},
   "outputs": [
    {
     "data": {
      "text/html": [
       "<div>\n",
       "<style scoped>\n",
       "    .dataframe tbody tr th:only-of-type {\n",
       "        vertical-align: middle;\n",
       "    }\n",
       "\n",
       "    .dataframe tbody tr th {\n",
       "        vertical-align: top;\n",
       "    }\n",
       "\n",
       "    .dataframe thead th {\n",
       "        text-align: right;\n",
       "    }\n",
       "</style>\n",
       "<table border=\"1\" class=\"dataframe\">\n",
       "  <thead>\n",
       "    <tr style=\"text-align: right;\">\n",
       "      <th></th>\n",
       "      <th>age</th>\n",
       "      <th>body_type</th>\n",
       "      <th>drinks</th>\n",
       "      <th>drugs</th>\n",
       "      <th>essay0</th>\n",
       "      <th>essay1</th>\n",
       "      <th>essay2</th>\n",
       "      <th>essay3</th>\n",
       "      <th>essay4</th>\n",
       "      <th>essay5</th>\n",
       "      <th>...</th>\n",
       "      <th>income</th>\n",
       "      <th>job</th>\n",
       "      <th>offspring</th>\n",
       "      <th>orientation</th>\n",
       "      <th>pets</th>\n",
       "      <th>religion</th>\n",
       "      <th>sex</th>\n",
       "      <th>sign</th>\n",
       "      <th>smokes</th>\n",
       "      <th>UID</th>\n",
       "    </tr>\n",
       "  </thead>\n",
       "  <tbody>\n",
       "    <tr>\n",
       "      <th>0</th>\n",
       "      <td>22</td>\n",
       "      <td>a little extra</td>\n",
       "      <td>socially</td>\n",
       "      <td>never</td>\n",
       "      <td>about me:&lt;br /&gt;\\n&lt;br /&gt;\\ni would love to think...</td>\n",
       "      <td>currently working as an international agent fo...</td>\n",
       "      <td>making people laugh.&lt;br /&gt;\\nranting about a go...</td>\n",
       "      <td>the way i look. i am a six foot half asian, ha...</td>\n",
       "      <td>books:&lt;br /&gt;\\nabsurdistan, the republic, of mi...</td>\n",
       "      <td>food.&lt;br /&gt;\\nwater.&lt;br /&gt;\\ncell phone.&lt;br /&gt;\\n...</td>\n",
       "      <td>...</td>\n",
       "      <td>-1</td>\n",
       "      <td>transportation</td>\n",
       "      <td>doesn&amp;rsquo;t have kids, but might want them</td>\n",
       "      <td>straight</td>\n",
       "      <td>likes dogs and likes cats</td>\n",
       "      <td>agnosticism and very serious about it</td>\n",
       "      <td>m</td>\n",
       "      <td>gemini</td>\n",
       "      <td>sometimes</td>\n",
       "      <td>0</td>\n",
       "    </tr>\n",
       "    <tr>\n",
       "      <th>1</th>\n",
       "      <td>35</td>\n",
       "      <td>average</td>\n",
       "      <td>often</td>\n",
       "      <td>sometimes</td>\n",
       "      <td>i am a chef: this is what that means.&lt;br /&gt;\\n1...</td>\n",
       "      <td>dedicating everyday to being an unbelievable b...</td>\n",
       "      <td>being silly. having ridiculous amonts of fun w...</td>\n",
       "      <td>NaN</td>\n",
       "      <td>i am die hard christopher moore fan. i don't r...</td>\n",
       "      <td>delicious porkness in all of its glories.&lt;br /...</td>\n",
       "      <td>...</td>\n",
       "      <td>80000</td>\n",
       "      <td>hospitality / travel</td>\n",
       "      <td>doesn&amp;rsquo;t have kids, but might want them</td>\n",
       "      <td>straight</td>\n",
       "      <td>likes dogs and likes cats</td>\n",
       "      <td>agnosticism but not too serious about it</td>\n",
       "      <td>m</td>\n",
       "      <td>cancer</td>\n",
       "      <td>no</td>\n",
       "      <td>1</td>\n",
       "    </tr>\n",
       "    <tr>\n",
       "      <th>2</th>\n",
       "      <td>38</td>\n",
       "      <td>thin</td>\n",
       "      <td>socially</td>\n",
       "      <td>NaN</td>\n",
       "      <td>i'm not ashamed of much, but writing public te...</td>\n",
       "      <td>i make nerdy software for musicians, artists, ...</td>\n",
       "      <td>improvising in different contexts. alternating...</td>\n",
       "      <td>my large jaw and large glasses are the physica...</td>\n",
       "      <td>okay this is where the cultural matrix gets so...</td>\n",
       "      <td>movement&lt;br /&gt;\\nconversation&lt;br /&gt;\\ncreation&lt;b...</td>\n",
       "      <td>...</td>\n",
       "      <td>-1</td>\n",
       "      <td>NaN</td>\n",
       "      <td>NaN</td>\n",
       "      <td>straight</td>\n",
       "      <td>has cats</td>\n",
       "      <td>NaN</td>\n",
       "      <td>m</td>\n",
       "      <td>pisces but it doesn&amp;rsquo;t matter</td>\n",
       "      <td>no</td>\n",
       "      <td>2</td>\n",
       "    </tr>\n",
       "  </tbody>\n",
       "</table>\n",
       "<p>3 rows × 26 columns</p>\n",
       "</div>"
      ],
      "text/plain": [
       "   age       body_type    drinks      drugs  \\\n",
       "0   22  a little extra  socially      never   \n",
       "1   35         average     often  sometimes   \n",
       "2   38            thin  socially        NaN   \n",
       "\n",
       "                                              essay0  \\\n",
       "0  about me:<br />\\n<br />\\ni would love to think...   \n",
       "1  i am a chef: this is what that means.<br />\\n1...   \n",
       "2  i'm not ashamed of much, but writing public te...   \n",
       "\n",
       "                                              essay1  \\\n",
       "0  currently working as an international agent fo...   \n",
       "1  dedicating everyday to being an unbelievable b...   \n",
       "2  i make nerdy software for musicians, artists, ...   \n",
       "\n",
       "                                              essay2  \\\n",
       "0  making people laugh.<br />\\nranting about a go...   \n",
       "1  being silly. having ridiculous amonts of fun w...   \n",
       "2  improvising in different contexts. alternating...   \n",
       "\n",
       "                                              essay3  \\\n",
       "0  the way i look. i am a six foot half asian, ha...   \n",
       "1                                                NaN   \n",
       "2  my large jaw and large glasses are the physica...   \n",
       "\n",
       "                                              essay4  \\\n",
       "0  books:<br />\\nabsurdistan, the republic, of mi...   \n",
       "1  i am die hard christopher moore fan. i don't r...   \n",
       "2  okay this is where the cultural matrix gets so...   \n",
       "\n",
       "                                              essay5  ... income  \\\n",
       "0  food.<br />\\nwater.<br />\\ncell phone.<br />\\n...  ...     -1   \n",
       "1  delicious porkness in all of its glories.<br /...  ...  80000   \n",
       "2  movement<br />\\nconversation<br />\\ncreation<b...  ...     -1   \n",
       "\n",
       "                    job                                     offspring  \\\n",
       "0        transportation  doesn&rsquo;t have kids, but might want them   \n",
       "1  hospitality / travel  doesn&rsquo;t have kids, but might want them   \n",
       "2                   NaN                                           NaN   \n",
       "\n",
       "  orientation                       pets  \\\n",
       "0    straight  likes dogs and likes cats   \n",
       "1    straight  likes dogs and likes cats   \n",
       "2    straight                   has cats   \n",
       "\n",
       "                                   religion  sex  \\\n",
       "0     agnosticism and very serious about it    m   \n",
       "1  agnosticism but not too serious about it    m   \n",
       "2                                       NaN    m   \n",
       "\n",
       "                                 sign     smokes UID  \n",
       "0                              gemini  sometimes   0  \n",
       "1                              cancer         no   1  \n",
       "2  pisces but it doesn&rsquo;t matter         no   2  \n",
       "\n",
       "[3 rows x 26 columns]"
      ]
     },
     "execution_count": 28,
     "metadata": {},
     "output_type": "execute_result"
    }
   ],
   "source": [
    "data_2 = pd.read_csv('../Data/user_profiles.csv')\n",
    "data_2.head(3)"
   ]
  },
  {
   "cell_type": "code",
   "execution_count": 12,
   "id": "jewish-alaska",
   "metadata": {},
   "outputs": [
    {
     "data": {
      "text/plain": [
       "age                0\n",
       "body_type       5296\n",
       "drinks          2985\n",
       "drugs          14080\n",
       "essay0          5488\n",
       "essay1          7572\n",
       "essay2          9638\n",
       "essay3         11476\n",
       "essay4         10537\n",
       "essay5         10850\n",
       "essay6         13771\n",
       "essay7         12451\n",
       "essay8         19225\n",
       "essay9         12603\n",
       "ethnicity       5680\n",
       "height             3\n",
       "income             0\n",
       "job             8198\n",
       "offspring      35561\n",
       "orientation        0\n",
       "pets           19921\n",
       "religion       20226\n",
       "sex                0\n",
       "sign           11056\n",
       "smokes          5512\n",
       "UID                0\n",
       "dtype: int64"
      ]
     },
     "execution_count": 12,
     "metadata": {},
     "output_type": "execute_result"
    }
   ],
   "source": [
    "data_2.isnull().sum()"
   ]
  },
  {
   "cell_type": "code",
   "execution_count": 29,
   "id": "underlying-federal",
   "metadata": {},
   "outputs": [
    {
     "data": {
      "text/html": [
       "<div>\n",
       "<style scoped>\n",
       "    .dataframe tbody tr th:only-of-type {\n",
       "        vertical-align: middle;\n",
       "    }\n",
       "\n",
       "    .dataframe tbody tr th {\n",
       "        vertical-align: top;\n",
       "    }\n",
       "\n",
       "    .dataframe thead th {\n",
       "        text-align: right;\n",
       "    }\n",
       "</style>\n",
       "<table border=\"1\" class=\"dataframe\">\n",
       "  <thead>\n",
       "    <tr style=\"text-align: right;\">\n",
       "      <th></th>\n",
       "      <th>age</th>\n",
       "      <th>body_type</th>\n",
       "      <th>drinks</th>\n",
       "      <th>drugs</th>\n",
       "      <th>ethnicity</th>\n",
       "      <th>height</th>\n",
       "      <th>income</th>\n",
       "      <th>job</th>\n",
       "      <th>offspring</th>\n",
       "      <th>orientation</th>\n",
       "      <th>pets</th>\n",
       "      <th>religion</th>\n",
       "      <th>sex</th>\n",
       "      <th>sign</th>\n",
       "      <th>smokes</th>\n",
       "      <th>UID</th>\n",
       "    </tr>\n",
       "  </thead>\n",
       "  <tbody>\n",
       "    <tr>\n",
       "      <th>0</th>\n",
       "      <td>22</td>\n",
       "      <td>a little extra</td>\n",
       "      <td>socially</td>\n",
       "      <td>never</td>\n",
       "      <td>asian, white</td>\n",
       "      <td>75.0</td>\n",
       "      <td>-1</td>\n",
       "      <td>transportation</td>\n",
       "      <td>doesn&amp;rsquo;t have kids, but might want them</td>\n",
       "      <td>straight</td>\n",
       "      <td>likes dogs and likes cats</td>\n",
       "      <td>agnosticism and very serious about it</td>\n",
       "      <td>m</td>\n",
       "      <td>gemini</td>\n",
       "      <td>sometimes</td>\n",
       "      <td>0</td>\n",
       "    </tr>\n",
       "    <tr>\n",
       "      <th>1</th>\n",
       "      <td>35</td>\n",
       "      <td>average</td>\n",
       "      <td>often</td>\n",
       "      <td>sometimes</td>\n",
       "      <td>white</td>\n",
       "      <td>70.0</td>\n",
       "      <td>80000</td>\n",
       "      <td>hospitality / travel</td>\n",
       "      <td>doesn&amp;rsquo;t have kids, but might want them</td>\n",
       "      <td>straight</td>\n",
       "      <td>likes dogs and likes cats</td>\n",
       "      <td>agnosticism but not too serious about it</td>\n",
       "      <td>m</td>\n",
       "      <td>cancer</td>\n",
       "      <td>no</td>\n",
       "      <td>1</td>\n",
       "    </tr>\n",
       "    <tr>\n",
       "      <th>2</th>\n",
       "      <td>38</td>\n",
       "      <td>thin</td>\n",
       "      <td>socially</td>\n",
       "      <td>NaN</td>\n",
       "      <td>NaN</td>\n",
       "      <td>68.0</td>\n",
       "      <td>-1</td>\n",
       "      <td>NaN</td>\n",
       "      <td>NaN</td>\n",
       "      <td>straight</td>\n",
       "      <td>has cats</td>\n",
       "      <td>NaN</td>\n",
       "      <td>m</td>\n",
       "      <td>pisces but it doesn&amp;rsquo;t matter</td>\n",
       "      <td>no</td>\n",
       "      <td>2</td>\n",
       "    </tr>\n",
       "  </tbody>\n",
       "</table>\n",
       "</div>"
      ],
      "text/plain": [
       "   age       body_type    drinks      drugs     ethnicity  height  income  \\\n",
       "0   22  a little extra  socially      never  asian, white    75.0      -1   \n",
       "1   35         average     often  sometimes         white    70.0   80000   \n",
       "2   38            thin  socially        NaN           NaN    68.0      -1   \n",
       "\n",
       "                    job                                     offspring  \\\n",
       "0        transportation  doesn&rsquo;t have kids, but might want them   \n",
       "1  hospitality / travel  doesn&rsquo;t have kids, but might want them   \n",
       "2                   NaN                                           NaN   \n",
       "\n",
       "  orientation                       pets  \\\n",
       "0    straight  likes dogs and likes cats   \n",
       "1    straight  likes dogs and likes cats   \n",
       "2    straight                   has cats   \n",
       "\n",
       "                                   religion sex  \\\n",
       "0     agnosticism and very serious about it   m   \n",
       "1  agnosticism but not too serious about it   m   \n",
       "2                                       NaN   m   \n",
       "\n",
       "                                 sign     smokes  UID  \n",
       "0                              gemini  sometimes    0  \n",
       "1                              cancer         no    1  \n",
       "2  pisces but it doesn&rsquo;t matter         no    2  "
      ]
     },
     "execution_count": 29,
     "metadata": {},
     "output_type": "execute_result"
    }
   ],
   "source": [
    "essay_cols = [4,5,6,7,8,9,10,11,12,13]\n",
    "data_3 = data_2.drop(data_2.columns[essay_cols], axis=1).copy()\n",
    "data_3.head(3)"
   ]
  },
  {
   "cell_type": "code",
   "execution_count": 31,
   "id": "weekly-boating",
   "metadata": {},
   "outputs": [
    {
     "data": {
      "text/plain": [
       "age                0\n",
       "body_type       5296\n",
       "drinks          2985\n",
       "drugs          14080\n",
       "ethnicity       5680\n",
       "height             3\n",
       "income             0\n",
       "job             8198\n",
       "offspring      35561\n",
       "orientation        0\n",
       "pets           19921\n",
       "religion       20226\n",
       "sex                0\n",
       "sign           11056\n",
       "smokes          5512\n",
       "UID                0\n",
       "dtype: int64"
      ]
     },
     "execution_count": 31,
     "metadata": {},
     "output_type": "execute_result"
    }
   ],
   "source": [
    "data_3.isnull().sum()"
   ]
  },
  {
   "cell_type": "markdown",
   "id": "twelve-minister",
   "metadata": {},
   "source": [
    "# Let's analyse each variable separately\n",
    "\n",
    "### 1. Age"
   ]
  },
  {
   "cell_type": "code",
   "execution_count": 44,
   "id": "bulgarian-court",
   "metadata": {},
   "outputs": [
    {
     "data": {
      "image/png": "[encoded data removed]",
      "text/plain": [
       "<Figure size 432x288 with 1 Axes>"
      ]
     },
     "metadata": {
      "needs_background": "light"
     },
     "output_type": "display_data"
    }
   ],
   "source": [
    "plt.hist(data_3.age, bins=25)\n",
    "plt.xlim([15,75])\n",
    "plt.show()"
   ]
  },
  {
   "cell_type": "code",
   "execution_count": 56,
   "id": "abstract-bubble",
   "metadata": {},
   "outputs": [
    {
     "data": {
      "text/plain": [
       "2512     110\n",
       "25324    109\n",
       "Name: age, dtype: int64"
      ]
     },
     "execution_count": 56,
     "metadata": {},
     "output_type": "execute_result"
    }
   ],
   "source": [
    "# Identifying and removing unrealistic outliers\n",
    "mask = data_3.age>70\n",
    "data_3.loc[mask,'age'].head()"
   ]
  },
  {
   "cell_type": "code",
   "execution_count": 57,
   "id": "catholic-duration",
   "metadata": {},
   "outputs": [
    {
     "data": {
      "text/plain": [
       "count    59944.000000\n",
       "mean        32.337715\n",
       "std          9.442423\n",
       "min         18.000000\n",
       "25%         26.000000\n",
       "50%         30.000000\n",
       "75%         37.000000\n",
       "max         69.000000\n",
       "Name: age, dtype: float64"
      ]
     },
     "execution_count": 57,
     "metadata": {},
     "output_type": "execute_result"
    }
   ],
   "source": [
    "mask_2 = data_3.age<=70\n",
    "data_4 = data_3.loc[mask_2,:]\n",
    "data_4.age.describe()"
   ]
  },
  {
   "cell_type": "markdown",
   "id": "legitimate-mumbai",
   "metadata": {},
   "source": [
    "### 2. Body type"
   ]
  },
  {
   "cell_type": "code",
   "execution_count": 80,
   "id": "varying-slovakia",
   "metadata": {},
   "outputs": [
    {
     "data": {
      "text/plain": [
       "<AxesSubplot:>"
      ]
     },
     "execution_count": 80,
     "metadata": {},
     "output_type": "execute_result"
    },
    {
     "data": {
      "image/png": "[encoded data removed]",
      "text/plain": [
       "<Figure size 432x288 with 1 Axes>"
      ]
     },
     "metadata": {
      "needs_background": "light"
     },
     "output_type": "display_data"
    }
   ],
   "source": [
    "data_4.body_type.value_counts(dropna=False).plot.barh()"
   ]
  },
  {
   "cell_type": "markdown",
   "id": "affecting-scholarship",
   "metadata": {},
   "source": [
    "### 3. Drinks"
   ]
  },
  {
   "cell_type": "code",
   "execution_count": 81,
   "id": "acquired-punch",
   "metadata": {},
   "outputs": [
    {
     "data": {
      "text/plain": [
       "<AxesSubplot:>"
      ]
     },
     "execution_count": 81,
     "metadata": {},
     "output_type": "execute_result"
    },
    {
     "data": {
      "image/png": "[encoded data removed]",
      "text/plain": [
       "<Figure size 432x288 with 1 Axes>"
      ]
     },
     "metadata": {
      "needs_background": "light"
     },
     "output_type": "display_data"
    }
   ],
   "source": [
    "data_4.drinks.value_counts(dropna=False).plot.barh()"
   ]
  },
  {
   "cell_type": "markdown",
   "id": "pacific-quick",
   "metadata": {},
   "source": [
    "### 4. Drinks"
   ]
  },
  {
   "cell_type": "code",
   "execution_count": null,
   "id": "present-course",
   "metadata": {},
   "outputs": [],
   "source": [
    "def plot_categorical (df, col_name):\n",
    "    data_4.col_name.value_counts(dropna=False).plot.barh()"
   ]
  },
  {
   "cell_type": "markdown",
   "id": "regional-forth",
   "metadata": {},
   "source": [
    "age                0\n",
    "body_type       5296\n",
    "drinks          2985\n",
    "drugs          14080\n",
    "ethnicity       5680\n",
    "height             3\n",
    "income             0\n",
    "job             8198\n",
    "offspring      35561\n",
    "orientation        0\n",
    "pets           19921\n",
    "religion       20226\n",
    "sex                0\n",
    "sign           11056\n",
    "smokes          5512\n",
    "UID                0"
   ]
  }
 ],
 "metadata": {
  "kernelspec": {
   "display_name": "Python 3",
   "language": "python",
   "name": "python3"
  },
  "language_info": {
   "codemirror_mode": {
    "name": "ipython",
    "version": 3
   },
   "file_extension": ".py",
   "mimetype": "text/x-python",
   "name": "python",
   "nbconvert_exporter": "python",
   "pygments_lexer": "ipython3",
   "version": "3.8.5"
  }
 },
 "nbformat": 4,
 "nbformat_minor": 5
}
