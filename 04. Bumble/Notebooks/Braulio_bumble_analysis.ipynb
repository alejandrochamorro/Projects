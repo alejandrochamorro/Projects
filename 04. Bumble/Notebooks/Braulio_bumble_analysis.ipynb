{
 "cells": [
  {
   "cell_type": "code",
   "execution_count": 1,
   "metadata": {},
   "outputs": [],
   "source": [
    "import pandas as pd"
   ]
  },
  {
   "cell_type": "code",
   "execution_count": 2,
   "metadata": {},
   "outputs": [],
   "source": [
    "events_data = pd.read_csv(\"../Data/events.csv\")"
   ]
  },
  {
   "cell_type": "code",
   "execution_count": 3,
   "metadata": {},
   "outputs": [],
   "source": [
    "users_data = pd.read_csv(\"../Data/user_profiles.csv\")"
   ]
  },
  {
   "cell_type": "markdown",
   "metadata": {},
   "source": [
    "## First overview ##\n",
    "First, in the next rows we are going to get a general image of the two datasets that we have.\n",
    "We can see the rows and columns that we have, the null values, their data types and some descriptive statistics for some of the columns. "
   ]
  },
  {
   "cell_type": "markdown",
   "metadata": {},
   "source": [
    "### events_data ###"
   ]
  },
  {
   "cell_type": "code",
   "execution_count": 4,
   "metadata": {},
   "outputs": [
    {
     "data": {
      "text/html": [
       "<div>\n",
       "<style scoped>\n",
       "    .dataframe tbody tr th:only-of-type {\n",
       "        vertical-align: middle;\n",
       "    }\n",
       "\n",
       "    .dataframe tbody tr th {\n",
       "        vertical-align: top;\n",
       "    }\n",
       "\n",
       "    .dataframe thead th {\n",
       "        text-align: right;\n",
       "    }\n",
       "</style>\n",
       "<table border=\"1\" class=\"dataframe\">\n",
       "  <thead>\n",
       "    <tr style=\"text-align: right;\">\n",
       "      <th></th>\n",
       "      <th>Active User</th>\n",
       "      <th>Passive User</th>\n",
       "      <th>yes_vote</th>\n",
       "    </tr>\n",
       "  </thead>\n",
       "  <tbody>\n",
       "    <tr>\n",
       "      <th>0</th>\n",
       "      <td>38411</td>\n",
       "      <td>54288</td>\n",
       "      <td>0</td>\n",
       "    </tr>\n",
       "    <tr>\n",
       "      <th>1</th>\n",
       "      <td>50211</td>\n",
       "      <td>34398</td>\n",
       "      <td>0</td>\n",
       "    </tr>\n",
       "    <tr>\n",
       "      <th>2</th>\n",
       "      <td>45114</td>\n",
       "      <td>43284</td>\n",
       "      <td>1</td>\n",
       "    </tr>\n",
       "    <tr>\n",
       "      <th>3</th>\n",
       "      <td>14307</td>\n",
       "      <td>25947</td>\n",
       "      <td>1</td>\n",
       "    </tr>\n",
       "    <tr>\n",
       "      <th>4</th>\n",
       "      <td>25595</td>\n",
       "      <td>26064</td>\n",
       "      <td>0</td>\n",
       "    </tr>\n",
       "  </tbody>\n",
       "</table>\n",
       "</div>"
      ],
      "text/plain": [
       "   Active User  Passive User  yes_vote\n",
       "0        38411         54288         0\n",
       "1        50211         34398         0\n",
       "2        45114         43284         1\n",
       "3        14307         25947         1\n",
       "4        25595         26064         0"
      ]
     },
     "execution_count": 4,
     "metadata": {},
     "output_type": "execute_result"
    }
   ],
   "source": [
    "events_data.head()"
   ]
  },
  {
   "cell_type": "code",
   "execution_count": 5,
   "metadata": {
    "scrolled": false
   },
   "outputs": [
    {
     "name": "stdout",
     "output_type": "stream",
     "text": [
      "<class 'pandas.core.frame.DataFrame'>\n",
      "RangeIndex: 290610 entries, 0 to 290609\n",
      "Data columns (total 3 columns):\n",
      " #   Column        Non-Null Count   Dtype\n",
      "---  ------        --------------   -----\n",
      " 0   Active User   290610 non-null  int64\n",
      " 1   Passive User  290610 non-null  int64\n",
      " 2   yes_vote      290610 non-null  int64\n",
      "dtypes: int64(3)\n",
      "memory usage: 6.7 MB\n"
     ]
    }
   ],
   "source": [
    "events_data.info()"
   ]
  },
  {
   "cell_type": "markdown",
   "metadata": {},
   "source": [
    "For the following information of events_data, the only usefull information is that the mean is 0.39, this tells us that there are more \"no\" votes than \"yes votes.\""
   ]
  },
  {
   "cell_type": "code",
   "execution_count": 6,
   "metadata": {
    "scrolled": true
   },
   "outputs": [
    {
     "data": {
      "text/html": [
       "<div>\n",
       "<style scoped>\n",
       "    .dataframe tbody tr th:only-of-type {\n",
       "        vertical-align: middle;\n",
       "    }\n",
       "\n",
       "    .dataframe tbody tr th {\n",
       "        vertical-align: top;\n",
       "    }\n",
       "\n",
       "    .dataframe thead th {\n",
       "        text-align: right;\n",
       "    }\n",
       "</style>\n",
       "<table border=\"1\" class=\"dataframe\">\n",
       "  <thead>\n",
       "    <tr style=\"text-align: right;\">\n",
       "      <th></th>\n",
       "      <th>Active User</th>\n",
       "      <th>Passive User</th>\n",
       "      <th>yes_vote</th>\n",
       "    </tr>\n",
       "  </thead>\n",
       "  <tbody>\n",
       "    <tr>\n",
       "      <th>count</th>\n",
       "      <td>290610.000000</td>\n",
       "      <td>290610.000000</td>\n",
       "      <td>290610.000000</td>\n",
       "    </tr>\n",
       "    <tr>\n",
       "      <th>mean</th>\n",
       "      <td>30033.274185</td>\n",
       "      <td>30376.271856</td>\n",
       "      <td>0.397220</td>\n",
       "    </tr>\n",
       "    <tr>\n",
       "      <th>std</th>\n",
       "      <td>17327.206154</td>\n",
       "      <td>17488.725395</td>\n",
       "      <td>0.489323</td>\n",
       "    </tr>\n",
       "    <tr>\n",
       "      <th>min</th>\n",
       "      <td>0.000000</td>\n",
       "      <td>0.000000</td>\n",
       "      <td>0.000000</td>\n",
       "    </tr>\n",
       "    <tr>\n",
       "      <th>25%</th>\n",
       "      <td>15033.000000</td>\n",
       "      <td>15110.000000</td>\n",
       "      <td>0.000000</td>\n",
       "    </tr>\n",
       "    <tr>\n",
       "      <th>50%</th>\n",
       "      <td>30066.000000</td>\n",
       "      <td>30561.000000</td>\n",
       "      <td>0.000000</td>\n",
       "    </tr>\n",
       "    <tr>\n",
       "      <th>75%</th>\n",
       "      <td>45037.000000</td>\n",
       "      <td>45825.000000</td>\n",
       "      <td>1.000000</td>\n",
       "    </tr>\n",
       "    <tr>\n",
       "      <th>max</th>\n",
       "      <td>59944.000000</td>\n",
       "      <td>59944.000000</td>\n",
       "      <td>1.000000</td>\n",
       "    </tr>\n",
       "  </tbody>\n",
       "</table>\n",
       "</div>"
      ],
      "text/plain": [
       "         Active User   Passive User       yes_vote\n",
       "count  290610.000000  290610.000000  290610.000000\n",
       "mean    30033.274185   30376.271856       0.397220\n",
       "std     17327.206154   17488.725395       0.489323\n",
       "min         0.000000       0.000000       0.000000\n",
       "25%     15033.000000   15110.000000       0.000000\n",
       "50%     30066.000000   30561.000000       0.000000\n",
       "75%     45037.000000   45825.000000       1.000000\n",
       "max     59944.000000   59944.000000       1.000000"
      ]
     },
     "execution_count": 6,
     "metadata": {},
     "output_type": "execute_result"
    }
   ],
   "source": [
    "events_data.describe()"
   ]
  },
  {
   "cell_type": "markdown",
   "metadata": {},
   "source": [
    "### users_data ###"
   ]
  },
  {
   "cell_type": "code",
   "execution_count": 7,
   "metadata": {},
   "outputs": [
    {
     "data": {
      "text/html": [
       "<div>\n",
       "<style scoped>\n",
       "    .dataframe tbody tr th:only-of-type {\n",
       "        vertical-align: middle;\n",
       "    }\n",
       "\n",
       "    .dataframe tbody tr th {\n",
       "        vertical-align: top;\n",
       "    }\n",
       "\n",
       "    .dataframe thead th {\n",
       "        text-align: right;\n",
       "    }\n",
       "</style>\n",
       "<table border=\"1\" class=\"dataframe\">\n",
       "  <thead>\n",
       "    <tr style=\"text-align: right;\">\n",
       "      <th></th>\n",
       "      <th>age</th>\n",
       "      <th>body_type</th>\n",
       "      <th>drinks</th>\n",
       "      <th>drugs</th>\n",
       "      <th>essay0</th>\n",
       "      <th>essay1</th>\n",
       "      <th>essay2</th>\n",
       "      <th>essay3</th>\n",
       "      <th>essay4</th>\n",
       "      <th>essay5</th>\n",
       "      <th>...</th>\n",
       "      <th>income</th>\n",
       "      <th>job</th>\n",
       "      <th>offspring</th>\n",
       "      <th>orientation</th>\n",
       "      <th>pets</th>\n",
       "      <th>religion</th>\n",
       "      <th>sex</th>\n",
       "      <th>sign</th>\n",
       "      <th>smokes</th>\n",
       "      <th>UID</th>\n",
       "    </tr>\n",
       "  </thead>\n",
       "  <tbody>\n",
       "    <tr>\n",
       "      <th>0</th>\n",
       "      <td>22</td>\n",
       "      <td>a little extra</td>\n",
       "      <td>socially</td>\n",
       "      <td>never</td>\n",
       "      <td>about me:&lt;br /&gt;\\n&lt;br /&gt;\\ni would love to think...</td>\n",
       "      <td>currently working as an international agent fo...</td>\n",
       "      <td>making people laugh.&lt;br /&gt;\\nranting about a go...</td>\n",
       "      <td>the way i look. i am a six foot half asian, ha...</td>\n",
       "      <td>books:&lt;br /&gt;\\nabsurdistan, the republic, of mi...</td>\n",
       "      <td>food.&lt;br /&gt;\\nwater.&lt;br /&gt;\\ncell phone.&lt;br /&gt;\\n...</td>\n",
       "      <td>...</td>\n",
       "      <td>-1</td>\n",
       "      <td>transportation</td>\n",
       "      <td>doesn&amp;rsquo;t have kids, but might want them</td>\n",
       "      <td>straight</td>\n",
       "      <td>likes dogs and likes cats</td>\n",
       "      <td>agnosticism and very serious about it</td>\n",
       "      <td>m</td>\n",
       "      <td>gemini</td>\n",
       "      <td>sometimes</td>\n",
       "      <td>0</td>\n",
       "    </tr>\n",
       "    <tr>\n",
       "      <th>1</th>\n",
       "      <td>35</td>\n",
       "      <td>average</td>\n",
       "      <td>often</td>\n",
       "      <td>sometimes</td>\n",
       "      <td>i am a chef: this is what that means.&lt;br /&gt;\\n1...</td>\n",
       "      <td>dedicating everyday to being an unbelievable b...</td>\n",
       "      <td>being silly. having ridiculous amonts of fun w...</td>\n",
       "      <td>NaN</td>\n",
       "      <td>i am die hard christopher moore fan. i don't r...</td>\n",
       "      <td>delicious porkness in all of its glories.&lt;br /...</td>\n",
       "      <td>...</td>\n",
       "      <td>80000</td>\n",
       "      <td>hospitality / travel</td>\n",
       "      <td>doesn&amp;rsquo;t have kids, but might want them</td>\n",
       "      <td>straight</td>\n",
       "      <td>likes dogs and likes cats</td>\n",
       "      <td>agnosticism but not too serious about it</td>\n",
       "      <td>m</td>\n",
       "      <td>cancer</td>\n",
       "      <td>no</td>\n",
       "      <td>1</td>\n",
       "    </tr>\n",
       "    <tr>\n",
       "      <th>2</th>\n",
       "      <td>38</td>\n",
       "      <td>thin</td>\n",
       "      <td>socially</td>\n",
       "      <td>NaN</td>\n",
       "      <td>i'm not ashamed of much, but writing public te...</td>\n",
       "      <td>i make nerdy software for musicians, artists, ...</td>\n",
       "      <td>improvising in different contexts. alternating...</td>\n",
       "      <td>my large jaw and large glasses are the physica...</td>\n",
       "      <td>okay this is where the cultural matrix gets so...</td>\n",
       "      <td>movement&lt;br /&gt;\\nconversation&lt;br /&gt;\\ncreation&lt;b...</td>\n",
       "      <td>...</td>\n",
       "      <td>-1</td>\n",
       "      <td>NaN</td>\n",
       "      <td>NaN</td>\n",
       "      <td>straight</td>\n",
       "      <td>has cats</td>\n",
       "      <td>NaN</td>\n",
       "      <td>m</td>\n",
       "      <td>pisces but it doesn&amp;rsquo;t matter</td>\n",
       "      <td>no</td>\n",
       "      <td>2</td>\n",
       "    </tr>\n",
       "  </tbody>\n",
       "</table>\n",
       "<p>3 rows × 26 columns</p>\n",
       "</div>"
      ],
      "text/plain": [
       "   age       body_type    drinks      drugs  \\\n",
       "0   22  a little extra  socially      never   \n",
       "1   35         average     often  sometimes   \n",
       "2   38            thin  socially        NaN   \n",
       "\n",
       "                                              essay0  \\\n",
       "0  about me:<br />\\n<br />\\ni would love to think...   \n",
       "1  i am a chef: this is what that means.<br />\\n1...   \n",
       "2  i'm not ashamed of much, but writing public te...   \n",
       "\n",
       "                                              essay1  \\\n",
       "0  currently working as an international agent fo...   \n",
       "1  dedicating everyday to being an unbelievable b...   \n",
       "2  i make nerdy software for musicians, artists, ...   \n",
       "\n",
       "                                              essay2  \\\n",
       "0  making people laugh.<br />\\nranting about a go...   \n",
       "1  being silly. having ridiculous amonts of fun w...   \n",
       "2  improvising in different contexts. alternating...   \n",
       "\n",
       "                                              essay3  \\\n",
       "0  the way i look. i am a six foot half asian, ha...   \n",
       "1                                                NaN   \n",
       "2  my large jaw and large glasses are the physica...   \n",
       "\n",
       "                                              essay4  \\\n",
       "0  books:<br />\\nabsurdistan, the republic, of mi...   \n",
       "1  i am die hard christopher moore fan. i don't r...   \n",
       "2  okay this is where the cultural matrix gets so...   \n",
       "\n",
       "                                              essay5  ... income  \\\n",
       "0  food.<br />\\nwater.<br />\\ncell phone.<br />\\n...  ...     -1   \n",
       "1  delicious porkness in all of its glories.<br /...  ...  80000   \n",
       "2  movement<br />\\nconversation<br />\\ncreation<b...  ...     -1   \n",
       "\n",
       "                    job                                     offspring  \\\n",
       "0        transportation  doesn&rsquo;t have kids, but might want them   \n",
       "1  hospitality / travel  doesn&rsquo;t have kids, but might want them   \n",
       "2                   NaN                                           NaN   \n",
       "\n",
       "  orientation                       pets  \\\n",
       "0    straight  likes dogs and likes cats   \n",
       "1    straight  likes dogs and likes cats   \n",
       "2    straight                   has cats   \n",
       "\n",
       "                                   religion  sex  \\\n",
       "0     agnosticism and very serious about it    m   \n",
       "1  agnosticism but not too serious about it    m   \n",
       "2                                       NaN    m   \n",
       "\n",
       "                                 sign     smokes UID  \n",
       "0                              gemini  sometimes   0  \n",
       "1                              cancer         no   1  \n",
       "2  pisces but it doesn&rsquo;t matter         no   2  \n",
       "\n",
       "[3 rows x 26 columns]"
      ]
     },
     "execution_count": 7,
     "metadata": {},
     "output_type": "execute_result"
    }
   ],
   "source": [
    "users_data.head(3)"
   ]
  },
  {
   "cell_type": "code",
   "execution_count": 8,
   "metadata": {},
   "outputs": [
    {
     "data": {
      "text/plain": [
       "(59946, 26)"
      ]
     },
     "execution_count": 8,
     "metadata": {},
     "output_type": "execute_result"
    }
   ],
   "source": [
    "users_data.shape"
   ]
  },
  {
   "cell_type": "code",
   "execution_count": 9,
   "metadata": {
    "scrolled": true
   },
   "outputs": [
    {
     "name": "stdout",
     "output_type": "stream",
     "text": [
      "<class 'pandas.core.frame.DataFrame'>\n",
      "RangeIndex: 59946 entries, 0 to 59945\n",
      "Data columns (total 26 columns):\n",
      " #   Column       Non-Null Count  Dtype  \n",
      "---  ------       --------------  -----  \n",
      " 0   age          59946 non-null  int64  \n",
      " 1   body_type    54650 non-null  object \n",
      " 2   drinks       56961 non-null  object \n",
      " 3   drugs        45866 non-null  object \n",
      " 4   essay0       54458 non-null  object \n",
      " 5   essay1       52374 non-null  object \n",
      " 6   essay2       50308 non-null  object \n",
      " 7   essay3       48470 non-null  object \n",
      " 8   essay4       49409 non-null  object \n",
      " 9   essay5       49096 non-null  object \n",
      " 10  essay6       46175 non-null  object \n",
      " 11  essay7       47495 non-null  object \n",
      " 12  essay8       40721 non-null  object \n",
      " 13  essay9       47343 non-null  object \n",
      " 14  ethnicity    54266 non-null  object \n",
      " 15  height       59943 non-null  float64\n",
      " 16  income       59946 non-null  int64  \n",
      " 17  job          51748 non-null  object \n",
      " 18  offspring    24385 non-null  object \n",
      " 19  orientation  59946 non-null  object \n",
      " 20  pets         40025 non-null  object \n",
      " 21  religion     39720 non-null  object \n",
      " 22  sex          59946 non-null  object \n",
      " 23  sign         48890 non-null  object \n",
      " 24  smokes       54434 non-null  object \n",
      " 25  UID          59946 non-null  int64  \n",
      "dtypes: float64(1), int64(3), object(22)\n",
      "memory usage: 11.9+ MB\n"
     ]
    }
   ],
   "source": [
    "users_data.info()"
   ]
  },
  {
   "cell_type": "code",
   "execution_count": 10,
   "metadata": {
    "scrolled": true
   },
   "outputs": [
    {
     "data": {
      "text/plain": [
       "Index(['age', 'body_type', 'drinks', 'drugs', 'essay0', 'essay1', 'essay2',\n",
       "       'essay3', 'essay4', 'essay5', 'essay6', 'essay7', 'essay8', 'essay9',\n",
       "       'ethnicity', 'height', 'income', 'job', 'offspring', 'orientation',\n",
       "       'pets', 'religion', 'sex', 'sign', 'smokes', 'UID'],\n",
       "      dtype='object')"
      ]
     },
     "execution_count": 10,
     "metadata": {},
     "output_type": "execute_result"
    }
   ],
   "source": [
    "users_data.columns"
   ]
  },
  {
   "cell_type": "markdown",
   "metadata": {},
   "source": [
    "Below we can see some descritive statistics for the user_data dataset. This information for now is not very usefull. We will need to dive deeper and study each variable independently and probably group by certain variables (maybe grouping by gender or age we could get better insights)"
   ]
  },
  {
   "cell_type": "code",
   "execution_count": 11,
   "metadata": {},
   "outputs": [
    {
     "data": {
      "text/html": [
       "<div>\n",
       "<style scoped>\n",
       "    .dataframe tbody tr th:only-of-type {\n",
       "        vertical-align: middle;\n",
       "    }\n",
       "\n",
       "    .dataframe tbody tr th {\n",
       "        vertical-align: top;\n",
       "    }\n",
       "\n",
       "    .dataframe thead th {\n",
       "        text-align: right;\n",
       "    }\n",
       "</style>\n",
       "<table border=\"1\" class=\"dataframe\">\n",
       "  <thead>\n",
       "    <tr style=\"text-align: right;\">\n",
       "      <th></th>\n",
       "      <th>age</th>\n",
       "      <th>height</th>\n",
       "      <th>income</th>\n",
       "      <th>UID</th>\n",
       "    </tr>\n",
       "  </thead>\n",
       "  <tbody>\n",
       "    <tr>\n",
       "      <th>count</th>\n",
       "      <td>59946.000000</td>\n",
       "      <td>59943.000000</td>\n",
       "      <td>59946.000000</td>\n",
       "      <td>59946.000000</td>\n",
       "    </tr>\n",
       "    <tr>\n",
       "      <th>mean</th>\n",
       "      <td>32.340290</td>\n",
       "      <td>68.295281</td>\n",
       "      <td>20033.222534</td>\n",
       "      <td>29972.500000</td>\n",
       "    </tr>\n",
       "    <tr>\n",
       "      <th>std</th>\n",
       "      <td>9.452779</td>\n",
       "      <td>3.994803</td>\n",
       "      <td>97346.192104</td>\n",
       "      <td>17305.063955</td>\n",
       "    </tr>\n",
       "    <tr>\n",
       "      <th>min</th>\n",
       "      <td>18.000000</td>\n",
       "      <td>1.000000</td>\n",
       "      <td>-1.000000</td>\n",
       "      <td>0.000000</td>\n",
       "    </tr>\n",
       "    <tr>\n",
       "      <th>25%</th>\n",
       "      <td>26.000000</td>\n",
       "      <td>66.000000</td>\n",
       "      <td>-1.000000</td>\n",
       "      <td>14986.250000</td>\n",
       "    </tr>\n",
       "    <tr>\n",
       "      <th>50%</th>\n",
       "      <td>30.000000</td>\n",
       "      <td>68.000000</td>\n",
       "      <td>-1.000000</td>\n",
       "      <td>29972.500000</td>\n",
       "    </tr>\n",
       "    <tr>\n",
       "      <th>75%</th>\n",
       "      <td>37.000000</td>\n",
       "      <td>71.000000</td>\n",
       "      <td>-1.000000</td>\n",
       "      <td>44958.750000</td>\n",
       "    </tr>\n",
       "    <tr>\n",
       "      <th>max</th>\n",
       "      <td>110.000000</td>\n",
       "      <td>95.000000</td>\n",
       "      <td>1000000.000000</td>\n",
       "      <td>59945.000000</td>\n",
       "    </tr>\n",
       "  </tbody>\n",
       "</table>\n",
       "</div>"
      ],
      "text/plain": [
       "                age        height          income           UID\n",
       "count  59946.000000  59943.000000    59946.000000  59946.000000\n",
       "mean      32.340290     68.295281    20033.222534  29972.500000\n",
       "std        9.452779      3.994803    97346.192104  17305.063955\n",
       "min       18.000000      1.000000       -1.000000      0.000000\n",
       "25%       26.000000     66.000000       -1.000000  14986.250000\n",
       "50%       30.000000     68.000000       -1.000000  29972.500000\n",
       "75%       37.000000     71.000000       -1.000000  44958.750000\n",
       "max      110.000000     95.000000  1000000.000000  59945.000000"
      ]
     },
     "execution_count": 11,
     "metadata": {},
     "output_type": "execute_result"
    }
   ],
   "source": [
    "users_data.describe()"
   ]
  },
  {
   "cell_type": "markdown",
   "metadata": {},
   "source": [
    "## Exploring the variables\n",
    "\n",
    "The next step we are going to take is to start analysing each variable to get a better image of each one of them. The purpose of this is to understand better our datasets and see which variables will be usefull for our analysis.\n",
    "\n",
    "Also through this we will decide which variables to drop and we will also decide what to do with the null values from our data."
   ]
  },
  {
   "cell_type": "markdown",
   "metadata": {},
   "source": [
    "### events_data ###\n",
    "\n",
    "Since for this dataset two of the columns are user ids we will only analyse the third column \"yes_vote\"."
   ]
  },
  {
   "cell_type": "code",
   "execution_count": 12,
   "metadata": {},
   "outputs": [
    {
     "data": {
      "text/plain": [
       "0    60.278036\n",
       "1    39.721964\n",
       "Name: yes_vote, dtype: float64"
      ]
     },
     "execution_count": 12,
     "metadata": {},
     "output_type": "execute_result"
    }
   ],
   "source": [
    "events_data[\"yes_vote\"].value_counts(normalize=True) * 100"
   ]
  },
  {
   "cell_type": "markdown",
   "metadata": {},
   "source": [
    "With the value_counts above we see the frequency expressed as a percentage of 0s (no votes) and 1s (yes votes).\n",
    "We can see that about 60% of the votes are 0s and about 40% are 1s.\n",
    "\n",
    "It will be interesting to study this separating by gender."
   ]
  },
  {
   "cell_type": "markdown",
   "metadata": {},
   "source": [
    "### users_data ###"
   ]
  },
  {
   "cell_type": "code",
   "execution_count": 13,
   "metadata": {},
   "outputs": [
    {
     "data": {
      "text/plain": [
       "(17.907, 24.133]     18.221399\n",
       "(24.133, 30.267]     34.976479\n",
       "(30.267, 36.4]       21.299169\n",
       "(36.4, 42.533]       11.695526\n",
       "(42.533, 48.667]      6.334034\n",
       "(48.667, 54.8]        3.518166\n",
       "(54.8, 60.933]        2.343776\n",
       "(60.933, 67.067]      1.457979\n",
       "(67.067, 73.2]        0.150135\n",
       "(73.2, 79.333]        0.000000\n",
       "(79.333, 85.467]      0.000000\n",
       "(85.467, 91.6]        0.000000\n",
       "(91.6, 97.733]        0.000000\n",
       "(97.733, 103.867]     0.000000\n",
       "(103.867, 110.0]      0.003336\n",
       "Name: age, dtype: float64"
      ]
     },
     "execution_count": 13,
     "metadata": {},
     "output_type": "execute_result"
    }
   ],
   "source": [
    "# Edad de los usuarios\n",
    "users_data[\"age\"].value_counts(normalize = True, bins = 15).sort_index()*100"
   ]
  },
  {
   "cell_type": "code",
   "execution_count": 14,
   "metadata": {},
   "outputs": [
    {
     "data": {
      "text/plain": [
       "<AxesSubplot:>"
      ]
     },
     "execution_count": 14,
     "metadata": {},
     "output_type": "execute_result"
    },
    {
     "data": {
      "image/png": "[encoded data removed]",
      "text/plain": [
       "<Figure size 432x288 with 1 Axes>"
      ]
     },
     "metadata": {
      "needs_background": "light"
     },
     "output_type": "display_data"
    }
   ],
   "source": [
    "import matplotlib.pyplot as plt\n",
    "users_data[\"age\"].value_counts(normalize = True, bins = 15).sort_index().plot.barh()"
   ]
  },
  {
   "cell_type": "code",
   "execution_count": 15,
   "metadata": {
    "scrolled": true
   },
   "outputs": [
    {
     "data": {
      "text/plain": [
       "count    59946.000000\n",
       "mean        32.340290\n",
       "std          9.452779\n",
       "min         18.000000\n",
       "25%         26.000000\n",
       "50%         30.000000\n",
       "75%         37.000000\n",
       "max        110.000000\n",
       "Name: age, dtype: float64"
      ]
     },
     "execution_count": 15,
     "metadata": {},
     "output_type": "execute_result"
    }
   ],
   "source": [
    "users_data[\"age\"].describe()"
   ]
  },
  {
   "cell_type": "code",
   "execution_count": 16,
   "metadata": {},
   "outputs": [
    {
     "data": {
      "text/plain": [
       "0"
      ]
     },
     "execution_count": 16,
     "metadata": {},
     "output_type": "execute_result"
    }
   ],
   "source": [
    "users_data[\"age\"].isnull().sum()"
   ]
  },
  {
   "cell_type": "markdown",
   "metadata": {},
   "source": [
    "En la variable edad observamos que la mayoria de usarios tienen entre 18 y 40 años. Puede ser interesante deshacernos de los usuarios con una edad superior a 60 ya que vemos que son menos del 2%. \n",
    "Algunas estadisticas descriptivas podemos verlas en el ultimo cuadro."
   ]
  },
  {
   "cell_type": "code",
   "execution_count": 17,
   "metadata": {},
   "outputs": [
    {
     "data": {
      "text/plain": [
       "average           26.810613\n",
       "fit               23.258920\n",
       "athletic          21.626715\n",
       "thin               8.620311\n",
       "curvy              7.180238\n",
       "a little extra     4.810613\n",
       "skinny             3.251601\n",
       "full figured       1.846295\n",
       "overweight         0.812443\n",
       "jacked             0.770357\n",
       "used up            0.649588\n",
       "rather not say     0.362306\n",
       "Name: body_type, dtype: float64"
      ]
     },
     "execution_count": 17,
     "metadata": {},
     "output_type": "execute_result"
    }
   ],
   "source": [
    "# Body Type\n",
    "users_data[\"body_type\"].value_counts(normalize = True)*100"
   ]
  },
  {
   "cell_type": "code",
   "execution_count": 18,
   "metadata": {
    "scrolled": true
   },
   "outputs": [
    {
     "data": {
      "text/plain": [
       "<AxesSubplot:>"
      ]
     },
     "execution_count": 18,
     "metadata": {},
     "output_type": "execute_result"
    },
    {
     "data": {
      "image/png": "[encoded data removed]",
      "text/plain": [
       "<Figure size 432x288 with 1 Axes>"
      ]
     },
     "metadata": {
      "needs_background": "light"
     },
     "output_type": "display_data"
    }
   ],
   "source": [
    "users_data[\"body_type\"].value_counts().plot.barh()"
   ]
  },
  {
   "cell_type": "code",
   "execution_count": 19,
   "metadata": {},
   "outputs": [
    {
     "data": {
      "text/plain": [
       "5296"
      ]
     },
     "execution_count": 19,
     "metadata": {},
     "output_type": "execute_result"
    }
   ],
   "source": [
    "users_data[\"body_type\"].isnull().sum()"
   ]
  },
  {
   "cell_type": "markdown",
   "metadata": {},
   "source": [
    "In the variable body type we see that most of the users are in 3 types: \"average\", \"fit\" or \"athletic\".\n",
    "There are some null values, that we will decide how to treat later."
   ]
  },
  {
   "cell_type": "code",
   "execution_count": 20,
   "metadata": {},
   "outputs": [
    {
     "data": {
      "text/plain": [
       "socially       73.348431\n",
       "rarely         10.458033\n",
       "often           9.065852\n",
       "not at all      5.735503\n",
       "very often      0.826882\n",
       "desperately     0.565299\n",
       "Name: drinks, dtype: float64"
      ]
     },
     "execution_count": 20,
     "metadata": {},
     "output_type": "execute_result"
    }
   ],
   "source": [
    "# Drinks\n",
    "users_data[\"drinks\"].value_counts(normalize = True)*100"
   ]
  },
  {
   "cell_type": "code",
   "execution_count": 21,
   "metadata": {
    "scrolled": false
   },
   "outputs": [
    {
     "data": {
      "text/plain": [
       "<AxesSubplot:>"
      ]
     },
     "execution_count": 21,
     "metadata": {},
     "output_type": "execute_result"
    },
    {
     "data": {
      "image/png": "[encoded data removed]",
      "text/plain": [
       "<Figure size 432x288 with 1 Axes>"
      ]
     },
     "metadata": {
      "needs_background": "light"
     },
     "output_type": "display_data"
    }
   ],
   "source": [
    "users_data[\"drinks\"].value_counts().plot.barh()"
   ]
  },
  {
   "cell_type": "code",
   "execution_count": 22,
   "metadata": {},
   "outputs": [
    {
     "data": {
      "text/plain": [
       "2985"
      ]
     },
     "execution_count": 22,
     "metadata": {},
     "output_type": "execute_result"
    }
   ],
   "source": [
    "users_data[\"drinks\"].isnull().sum()"
   ]
  },
  {
   "cell_type": "markdown",
   "metadata": {},
   "source": [
    "For this variable we see that more than 70% of the users are in the same category, \"socially\". There are some null values, that we will decide how to treat later."
   ]
  },
  {
   "cell_type": "code",
   "execution_count": 23,
   "metadata": {},
   "outputs": [
    {
     "data": {
      "text/plain": [
       "never        82.248288\n",
       "sometimes    16.857803\n",
       "often         0.893908\n",
       "Name: drugs, dtype: float64"
      ]
     },
     "execution_count": 23,
     "metadata": {},
     "output_type": "execute_result"
    }
   ],
   "source": [
    "# Drugs\n",
    "users_data[\"drugs\"].value_counts(normalize = True)*100"
   ]
  },
  {
   "cell_type": "code",
   "execution_count": 24,
   "metadata": {
    "scrolled": true
   },
   "outputs": [
    {
     "data": {
      "text/plain": [
       "<AxesSubplot:>"
      ]
     },
     "execution_count": 24,
     "metadata": {},
     "output_type": "execute_result"
    },
    {
     "data": {
      "image/png": "[encoded data removed]",
      "text/plain": [
       "<Figure size 432x288 with 1 Axes>"
      ]
     },
     "metadata": {
      "needs_background": "light"
     },
     "output_type": "display_data"
    }
   ],
   "source": [
    "users_data[\"drugs\"].value_counts().plot.bar(rot = 45)"
   ]
  },
  {
   "cell_type": "code",
   "execution_count": 25,
   "metadata": {},
   "outputs": [
    {
     "data": {
      "text/plain": [
       "14080"
      ]
     },
     "execution_count": 25,
     "metadata": {},
     "output_type": "execute_result"
    }
   ],
   "source": [
    "users_data[\"drugs\"].isnull().sum()"
   ]
  },
  {
   "cell_type": "markdown",
   "metadata": {},
   "source": [
    "Most users never do drugs. Might be interesting to analyze the affect of those which do. There are many null values that we will need to decide what to do with them."
   ]
  },
  {
   "cell_type": "code",
   "execution_count": 26,
   "metadata": {},
   "outputs": [
    {
     "data": {
      "text/plain": [
       "white                                                            60.500129\n",
       "asian                                                            11.303579\n",
       "hispanic / latin                                                  5.202152\n",
       "black                                                             3.700291\n",
       "other                                                             3.143773\n",
       "                                                                   ...    \n",
       "asian, black, pacific islander, other                             0.001843\n",
       "asian, middle eastern, indian, hispanic / latin, white, other     0.001843\n",
       "asian, indian, hispanic / latin, white                            0.001843\n",
       "asian, middle eastern, black, pacific islander                    0.001843\n",
       "asian, middle eastern, other                                      0.001843\n",
       "Name: ethnicity, Length: 217, dtype: float64"
      ]
     },
     "execution_count": 26,
     "metadata": {},
     "output_type": "execute_result"
    }
   ],
   "source": [
    "# Ethnicity\n",
    "users_data[\"ethnicity\"].value_counts(normalize = True)*100"
   ]
  },
  {
   "cell_type": "code",
   "execution_count": 27,
   "metadata": {},
   "outputs": [
    {
     "data": {
      "text/plain": [
       "218"
      ]
     },
     "execution_count": 27,
     "metadata": {},
     "output_type": "execute_result"
    }
   ],
   "source": [
    "len(users_data[\"ethnicity\"].unique())"
   ]
  },
  {
   "cell_type": "code",
   "execution_count": 28,
   "metadata": {},
   "outputs": [
    {
     "data": {
      "text/plain": [
       "5680"
      ]
     },
     "execution_count": 28,
     "metadata": {},
     "output_type": "execute_result"
    }
   ],
   "source": [
    "users_data[\"ethnicity\"].isnull().sum()"
   ]
  },
  {
   "cell_type": "markdown",
   "metadata": {},
   "source": [
    "La variable etnia tiene 218 diferentes valores. Tendremos que valorar como tratarla ya que será muy dificil hacer un analisis y sacar conclusiones con tantas posibles categorias. El 60 % de los usuarios son blancos."
   ]
  },
  {
   "cell_type": "code",
   "execution_count": 29,
   "metadata": {
    "scrolled": true
   },
   "outputs": [
    {
     "data": {
      "text/plain": [
       "(0.905, 7.267]       0.006673\n",
       "(7.267, 13.533]      0.003336\n",
       "(13.533, 19.8]       0.000000\n",
       "(19.8, 26.067]       0.001668\n",
       "(26.067, 32.333]     0.000000\n",
       "(32.333, 38.6]       0.021686\n",
       "(38.6, 44.867]       0.005005\n",
       "(44.867, 51.133]     0.011677\n",
       "(51.133, 57.4]       0.066727\n",
       "(57.4, 63.667]      11.939079\n",
       "(63.667, 69.933]    47.375972\n",
       "(69.933, 76.2]      39.605645\n",
       "(76.2, 82.467]       0.864111\n",
       "(82.467, 88.733]     0.043372\n",
       "(88.733, 95.0]       0.050045\n",
       "Name: height, dtype: float64"
      ]
     },
     "execution_count": 29,
     "metadata": {},
     "output_type": "execute_result"
    }
   ],
   "source": [
    "# Height\n",
    "users_data[\"height\"].value_counts(normalize = True, bins = 15).sort_index()*100"
   ]
  },
  {
   "cell_type": "code",
   "execution_count": 30,
   "metadata": {},
   "outputs": [
    {
     "data": {
      "text/plain": [
       "3"
      ]
     },
     "execution_count": 30,
     "metadata": {},
     "output_type": "execute_result"
    }
   ],
   "source": [
    "users_data[\"height\"].isnull().sum()"
   ]
  },
  {
   "cell_type": "code",
   "execution_count": 31,
   "metadata": {
    "scrolled": false
   },
   "outputs": [
    {
     "data": {
      "text/plain": [
       "<AxesSubplot:>"
      ]
     },
     "execution_count": 31,
     "metadata": {},
     "output_type": "execute_result"
    },
    {
     "data": {
      "image/png": "[encoded data removed]",
      "text/plain": [
       "<Figure size 432x288 with 1 Axes>"
      ]
     },
     "metadata": {
      "needs_background": "light"
     },
     "output_type": "display_data"
    }
   ],
   "source": [
    "users_data[\"height\"].value_counts(bins = 10).sort_index().plot.barh()"
   ]
  },
  {
   "cell_type": "markdown",
   "metadata": {},
   "source": [
    "En esta variable vemos que hay valor por debajo de un intervalo que seguramente sean errores y podria tener sentido quitarlos. Por otra parte esta variable seguramente varie mucho en funcion del género."
   ]
  },
  {
   "cell_type": "code",
   "execution_count": 32,
   "metadata": {},
   "outputs": [
    {
     "data": {
      "text/plain": [
       "(-1001.002, 49999.05]     89.158576\n",
       "(49999.05, 99999.1]        5.886965\n",
       "(99999.1, 149999.15]       2.704100\n",
       "(149999.15, 199999.2]      1.052614\n",
       "(199999.2, 249999.25]      0.000000\n",
       "(249999.25, 299999.3]      0.248557\n",
       "(299999.3, 349999.35]      0.000000\n",
       "(349999.35, 399999.4]      0.000000\n",
       "(399999.4, 449999.45]      0.000000\n",
       "(449999.45, 499999.5]      0.000000\n",
       "(499999.5, 549999.55]      0.080072\n",
       "(549999.55, 599999.6]      0.000000\n",
       "(599999.6, 649999.65]      0.000000\n",
       "(649999.65, 699999.7]      0.000000\n",
       "(699999.7, 749999.75]      0.000000\n",
       "(749999.75, 799999.8]      0.000000\n",
       "(799999.8, 849999.85]      0.000000\n",
       "(849999.85, 899999.9]      0.000000\n",
       "(899999.9, 949999.95]      0.000000\n",
       "(949999.95, 1000000.0]     0.869116\n",
       "Name: income, dtype: float64"
      ]
     },
     "execution_count": 32,
     "metadata": {},
     "output_type": "execute_result"
    }
   ],
   "source": [
    "# Income\n",
    "users_data[\"income\"].value_counts(normalize = True, bins = 20).sort_index()*100"
   ]
  },
  {
   "cell_type": "code",
   "execution_count": 33,
   "metadata": {
    "scrolled": true
   },
   "outputs": [
    {
     "data": {
      "text/plain": [
       "<AxesSubplot:>"
      ]
     },
     "execution_count": 33,
     "metadata": {},
     "output_type": "execute_result"
    },
    {
     "data": {
      "image/png": "[encoded data removed]",
      "text/plain": [
       "<Figure size 432x288 with 1 Axes>"
      ]
     },
     "metadata": {
      "needs_background": "light"
     },
     "output_type": "display_data"
    }
   ],
   "source": [
    "users_data[\"income\"].value_counts(bins = 20).sort_index().plot.barh()"
   ]
  },
  {
   "cell_type": "code",
   "execution_count": 34,
   "metadata": {
    "scrolled": true
   },
   "outputs": [
    {
     "data": {
      "text/plain": [
       "count      59946.000000\n",
       "mean       20033.222534\n",
       "std        97346.192104\n",
       "min           -1.000000\n",
       "25%           -1.000000\n",
       "50%           -1.000000\n",
       "75%           -1.000000\n",
       "max      1000000.000000\n",
       "Name: income, dtype: float64"
      ]
     },
     "execution_count": 34,
     "metadata": {},
     "output_type": "execute_result"
    }
   ],
   "source": [
    "users_data[\"income\"].describe()"
   ]
  },
  {
   "cell_type": "code",
   "execution_count": 35,
   "metadata": {},
   "outputs": [],
   "source": [
    "mask_income = users_data[\"income\"] == -1\n",
    "income_1 = users_data[mask_income]"
   ]
  },
  {
   "cell_type": "code",
   "execution_count": 36,
   "metadata": {},
   "outputs": [
    {
     "data": {
      "text/plain": [
       "(48442, 26)"
      ]
     },
     "execution_count": 36,
     "metadata": {},
     "output_type": "execute_result"
    }
   ],
   "source": [
    "income_1.shape"
   ]
  },
  {
   "cell_type": "code",
   "execution_count": 37,
   "metadata": {},
   "outputs": [
    {
     "data": {
      "text/plain": [
       "0"
      ]
     },
     "execution_count": 37,
     "metadata": {},
     "output_type": "execute_result"
    }
   ],
   "source": [
    "users_data[\"income\"].isnull().sum()"
   ]
  },
  {
   "cell_type": "markdown",
   "metadata": {},
   "source": [
    "En la variable de income, vemos 48442 filas de las 59946 totales tienen un valor de -1. Esta variable no la usaremos ya que parece que los usuarios en general no contestan a esta informacion."
   ]
  },
  {
   "cell_type": "code",
   "execution_count": 38,
   "metadata": {},
   "outputs": [
    {
     "data": {
      "text/plain": [
       "artistic / musical / writer           8.578109\n",
       "banking / financial / real estate     4.378913\n",
       "clerical / administrative             1.555616\n",
       "computer / hardware / software        9.099869\n",
       "construction / craftsmanship          1.973023\n",
       "education / academia                  6.788668\n",
       "entertainment / media                 4.347994\n",
       "executive / management                4.585684\n",
       "hospitality / travel                  2.635851\n",
       "law / legal services                  2.668702\n",
       "medicine / health                     7.111386\n",
       "military                              0.394218\n",
       "other                                14.665301\n",
       "political / government                1.368169\n",
       "rather not say                        0.842545\n",
       "retired                               0.483110\n",
       "sales / marketing / biz dev           8.485352\n",
       "science / tech / engineering          9.368478\n",
       "student                               9.434181\n",
       "transportation                        0.707274\n",
       "unemployed                            0.527557\n",
       "Name: job, dtype: float64"
      ]
     },
     "execution_count": 38,
     "metadata": {},
     "output_type": "execute_result"
    }
   ],
   "source": [
    "# Job\n",
    "users_data[\"job\"].value_counts(normalize = True).sort_index()*100"
   ]
  },
  {
   "cell_type": "code",
   "execution_count": 39,
   "metadata": {},
   "outputs": [
    {
     "data": {
      "text/plain": [
       "<AxesSubplot:>"
      ]
     },
     "execution_count": 39,
     "metadata": {},
     "output_type": "execute_result"
    },
    {
     "data": {
      "image/png": "[encoded data removed]",
      "text/plain": [
       "<Figure size 432x288 with 1 Axes>"
      ]
     },
     "metadata": {
      "needs_background": "light"
     },
     "output_type": "display_data"
    }
   ],
   "source": [
    "users_data[\"job\"].value_counts(normalize = True).plot.barh()"
   ]
  },
  {
   "cell_type": "code",
   "execution_count": 40,
   "metadata": {},
   "outputs": [
    {
     "data": {
      "text/plain": [
       "8198"
      ]
     },
     "execution_count": 40,
     "metadata": {},
     "output_type": "execute_result"
    }
   ],
   "source": [
    "users_data[\"job\"].isnull().sum()"
   ]
  },
  {
   "cell_type": "markdown",
   "metadata": {},
   "source": [
    "En esta variable vemos que hay muchas categorias diferentes, siendo la mas elegida \"others\". Puede ser interesante analizar si el tipo de trabajo tiene efecto en el exito de un perfil. Los valores nulos habrá que ver como tratarlos. Puede tener sentido convertirlos en \"other\"."
   ]
  },
  {
   "cell_type": "code",
   "execution_count": 41,
   "metadata": {},
   "outputs": [
    {
     "data": {
      "text/plain": [
       "doesn&rsquo;t have kids                                31.002666\n",
       "doesn&rsquo;t have kids, and doesn&rsquo;t want any     4.642198\n",
       "doesn&rsquo;t have kids, but might want them           15.890917\n",
       "doesn&rsquo;t have kids, but wants them                14.619643\n",
       "doesn&rsquo;t want kids                                12.003281\n",
       "has a kid                                               7.713758\n",
       "has a kid, and might want more                          0.947304\n",
       "has a kid, and wants more                               0.291163\n",
       "has a kid, but doesn&rsquo;t want more                  1.127742\n",
       "has kids                                                7.721960\n",
       "has kids, and might want more                           0.471601\n",
       "has kids, and wants more                                0.086119\n",
       "has kids, but doesn&rsquo;t want more                   1.812590\n",
       "might want kids                                         0.746360\n",
       "wants kids                                              0.922698\n",
       "Name: offspring, dtype: float64"
      ]
     },
     "execution_count": 41,
     "metadata": {},
     "output_type": "execute_result"
    }
   ],
   "source": [
    "# Offspring\n",
    "users_data[\"offspring\"].value_counts(normalize = True).sort_index()*100"
   ]
  },
  {
   "cell_type": "code",
   "execution_count": 42,
   "metadata": {},
   "outputs": [
    {
     "data": {
      "text/plain": [
       "<AxesSubplot:>"
      ]
     },
     "execution_count": 42,
     "metadata": {},
     "output_type": "execute_result"
    },
    {
     "data": {
      "image/png": "[encoded data removed]",
      "text/plain": [
       "<Figure size 432x288 with 1 Axes>"
      ]
     },
     "metadata": {
      "needs_background": "light"
     },
     "output_type": "display_data"
    }
   ],
   "source": [
    "users_data[\"offspring\"].value_counts().plot.barh()"
   ]
  },
  {
   "cell_type": "code",
   "execution_count": 43,
   "metadata": {},
   "outputs": [
    {
     "data": {
      "text/plain": [
       "35561"
      ]
     },
     "execution_count": 43,
     "metadata": {},
     "output_type": "execute_result"
    }
   ],
   "source": [
    "users_data[\"offspring\"].isnull().sum()"
   ]
  },
  {
   "cell_type": "markdown",
   "metadata": {},
   "source": [
    "In this variable more than half of the rows is null. We need to decide what to do with this column."
   ]
  },
  {
   "cell_type": "code",
   "execution_count": 44,
   "metadata": {},
   "outputs": [
    {
     "data": {
      "text/plain": [
       "bisexual     4.615821\n",
       "gay          9.296700\n",
       "straight    86.087479\n",
       "Name: orientation, dtype: float64"
      ]
     },
     "execution_count": 44,
     "metadata": {},
     "output_type": "execute_result"
    }
   ],
   "source": [
    "# orientation\n",
    "users_data[\"orientation\"].value_counts(normalize = True).sort_index()*100"
   ]
  },
  {
   "cell_type": "code",
   "execution_count": 45,
   "metadata": {},
   "outputs": [
    {
     "data": {
      "text/plain": [
       "<AxesSubplot:>"
      ]
     },
     "execution_count": 45,
     "metadata": {},
     "output_type": "execute_result"
    },
    {
     "data": {
      "image/png": "[encoded data removed]",
      "text/plain": [
       "<Figure size 432x288 with 1 Axes>"
      ]
     },
     "metadata": {
      "needs_background": "light"
     },
     "output_type": "display_data"
    }
   ],
   "source": [
    "users_data[\"orientation\"].value_counts(normalize = True).plot.bar(rot = 360)"
   ]
  },
  {
   "cell_type": "code",
   "execution_count": 46,
   "metadata": {},
   "outputs": [
    {
     "data": {
      "text/plain": [
       "0"
      ]
     },
     "execution_count": 46,
     "metadata": {},
     "output_type": "execute_result"
    }
   ],
   "source": [
    "users_data[\"orientation\"].isnull().sum()"
   ]
  },
  {
   "cell_type": "markdown",
   "metadata": {},
   "source": [
    "Most of the users are in the category \"straight\". Could be interesting to understand the different behaviours between orientations."
   ]
  },
  {
   "cell_type": "code",
   "execution_count": 47,
   "metadata": {},
   "outputs": [
    {
     "data": {
      "text/plain": [
       "dislikes cats                       0.304809\n",
       "dislikes dogs                       0.109931\n",
       "dislikes dogs and dislikes cats     0.489694\n",
       "dislikes dogs and has cats          0.202374\n",
       "dislikes dogs and likes cats        0.599625\n",
       "has cats                            3.512804\n",
       "has dogs                           10.328545\n",
       "has dogs and dislikes cats          1.379138\n",
       "has dogs and has cats               3.682698\n",
       "has dogs and likes cats             5.828857\n",
       "likes cats                          2.655840\n",
       "likes dogs                         18.048720\n",
       "likes dogs and dislikes cats        5.069332\n",
       "likes dogs and has cats            10.775765\n",
       "likes dogs and likes cats          37.011868\n",
       "Name: pets, dtype: float64"
      ]
     },
     "execution_count": 47,
     "metadata": {},
     "output_type": "execute_result"
    }
   ],
   "source": [
    "# Pets\n",
    "users_data[\"pets\"].value_counts(normalize = True).sort_index()*100"
   ]
  },
  {
   "cell_type": "code",
   "execution_count": 48,
   "metadata": {},
   "outputs": [
    {
     "data": {
      "text/plain": [
       "<AxesSubplot:>"
      ]
     },
     "execution_count": 48,
     "metadata": {},
     "output_type": "execute_result"
    },
    {
     "data": {
      "image/png": "[encoded data removed]",
      "text/plain": [
       "<Figure size 432x288 with 1 Axes>"
      ]
     },
     "metadata": {
      "needs_background": "light"
     },
     "output_type": "display_data"
    }
   ],
   "source": [
    "users_data[\"pets\"].value_counts(normalize = True).plot.barh()"
   ]
  },
  {
   "cell_type": "code",
   "execution_count": 49,
   "metadata": {},
   "outputs": [
    {
     "data": {
      "text/plain": [
       "19921"
      ]
     },
     "execution_count": 49,
     "metadata": {},
     "output_type": "execute_result"
    }
   ],
   "source": [
    "users_data[\"pets\"].isnull().sum()"
   ]
  },
  {
   "cell_type": "markdown",
   "metadata": {},
   "source": [
    "There are many null values in this variable. If we want to analyze it we might need to create maybe a new category.\n",
    "Maybe \"indifferent\"."
   ]
  },
  {
   "cell_type": "code",
   "execution_count": 50,
   "metadata": {},
   "outputs": [
    {
     "data": {
      "text/plain": [
       "agnosticism                                   6.858006\n",
       "agnosticism and laughing about it             6.283988\n",
       "agnosticism and somewhat serious about it     1.616314\n",
       "agnosticism and very serious about it         0.790534\n",
       "agnosticism but not too serious about it      6.636455\n",
       "atheism                                       5.475831\n",
       "atheism and laughing about it                 5.221551\n",
       "atheism and somewhat serious about it         2.134945\n",
       "atheism and very serious about it             1.435045\n",
       "atheism but not too serious about it          3.318228\n",
       "buddhism                                      1.014602\n",
       "buddhism and laughing about it                1.173212\n",
       "buddhism and somewhat serious about it        0.903827\n",
       "buddhism and very serious about it            0.176234\n",
       "buddhism but not too serious about it         1.636455\n",
       "catholicism                                   2.678751\n",
       "catholicism and laughing about it             1.827795\n",
       "catholicism and somewhat serious about it     1.379658\n",
       "catholicism and very serious about it         0.256798\n",
       "catholicism but not too serious about it      5.835851\n",
       "christianity                                  4.926989\n",
       "christianity and laughing about it            0.939074\n",
       "christianity and somewhat serious about it    2.333837\n",
       "christianity and very serious about it        1.455186\n",
       "christianity but not too serious about it     4.914401\n",
       "hinduism                                      0.269386\n",
       "hinduism and laughing about it                0.110775\n",
       "hinduism and somewhat serious about it        0.146022\n",
       "hinduism and very serious about it            0.035247\n",
       "hinduism but not too serious about it         0.571501\n",
       "islam                                         0.120846\n",
       "islam and laughing about it                   0.040282\n",
       "islam and somewhat serious about it           0.055388\n",
       "islam and very serious about it               0.032729\n",
       "islam but not too serious about it            0.100705\n",
       "judaism                                       1.540785\n",
       "judaism and laughing about it                 1.714502\n",
       "judaism and somewhat serious about it         0.669688\n",
       "judaism and very serious about it             0.055388\n",
       "judaism but not too serious about it          3.819235\n",
       "other                                         6.774924\n",
       "other and laughing about it                   5.334844\n",
       "other and somewhat serious about it           2.129909\n",
       "other and very serious about it               1.341893\n",
       "other but not too serious about it            3.912387\n",
       "Name: religion, dtype: float64"
      ]
     },
     "execution_count": 50,
     "metadata": {},
     "output_type": "execute_result"
    }
   ],
   "source": [
    "# Religion\n",
    "users_data[\"religion\"].value_counts(normalize = True).sort_index()*100"
   ]
  },
  {
   "cell_type": "code",
   "execution_count": 51,
   "metadata": {},
   "outputs": [
    {
     "data": {
      "text/plain": [
       "20226"
      ]
     },
     "execution_count": 51,
     "metadata": {},
     "output_type": "execute_result"
    }
   ],
   "source": [
    "users_data[\"religion\"].isnull().sum()"
   ]
  },
  {
   "cell_type": "markdown",
   "metadata": {},
   "source": [
    "Esta variable tiene muchas categorias y muchos valores nulos. No parece ser un variable de la que se vaya a poder extraer mucha información."
   ]
  },
  {
   "cell_type": "code",
   "execution_count": 52,
   "metadata": {},
   "outputs": [
    {
     "data": {
      "text/plain": [
       "f    40.231208\n",
       "m    59.768792\n",
       "Name: sex, dtype: float64"
      ]
     },
     "execution_count": 52,
     "metadata": {},
     "output_type": "execute_result"
    }
   ],
   "source": [
    "# Sex\n",
    "users_data[\"sex\"].value_counts(normalize = True).sort_index()*100"
   ]
  },
  {
   "cell_type": "code",
   "execution_count": 53,
   "metadata": {},
   "outputs": [
    {
     "data": {
      "text/plain": [
       "<AxesSubplot:>"
      ]
     },
     "execution_count": 53,
     "metadata": {},
     "output_type": "execute_result"
    },
    {
     "data": {
      "image/png": "[encoded data removed]",
      "text/plain": [
       "<Figure size 432x288 with 1 Axes>"
      ]
     },
     "metadata": {
      "needs_background": "light"
     },
     "output_type": "display_data"
    }
   ],
   "source": [
    "users_data[\"sex\"].value_counts(normalize = True).plot.bar(rot = 360)"
   ]
  },
  {
   "cell_type": "code",
   "execution_count": 54,
   "metadata": {},
   "outputs": [
    {
     "data": {
      "text/plain": [
       "0"
      ]
     },
     "execution_count": 54,
     "metadata": {},
     "output_type": "execute_result"
    }
   ],
   "source": [
    "users_data[\"sex\"].isnull().sum()"
   ]
  },
  {
   "cell_type": "markdown",
   "metadata": {},
   "source": [
    "Vemos que el 40% de los perfiles son de mujeres frente al 60% de hombres. Puede ser interesante estudiar el comportamiento en funcion de esta variable."
   ]
  },
  {
   "cell_type": "code",
   "execution_count": 55,
   "metadata": {},
   "outputs": [
    {
     "data": {
      "text/plain": [
       "aquarius                                         1.951319\n",
       "aquarius and it matters a lot                    0.128861\n",
       "aquarius and it&rsquo;s fun to think about       3.074248\n",
       "aquarius but it doesn&rsquo;t matter             2.879935\n",
       "aries                                            2.037226\n",
       "aries and it matters a lot                       0.096134\n",
       "aries and it&rsquo;s fun to think about          3.217427\n",
       "aries but it doesn&rsquo;t matter                2.808345\n",
       "cancer                                           2.233586\n",
       "cancer and it matters a lot                      0.128861\n",
       "cancer and it&rsquo;s fun to think about         3.266517\n",
       "cancer but it doesn&rsquo;t matter               2.974023\n",
       "capricorn                                        1.703825\n",
       "capricorn and it matters a lot                   0.092043\n",
       "capricorn and it&rsquo;s fun to think about      2.814481\n",
       "capricorn but it doesn&rsquo;t matter            2.697893\n",
       "gemini                                           2.071998\n",
       "gemini and it matters a lot                      0.126815\n",
       "gemini and it&rsquo;s fun to think about         3.644917\n",
       "gemini but it doesn&rsquo;t matter               2.971978\n",
       "leo                                              2.370628\n",
       "leo and it matters a lot                         0.134997\n",
       "leo and it&rsquo;s fun to think about            3.460830\n",
       "leo but it doesn&rsquo;t matter                  2.980160\n",
       "libra                                            2.245858\n",
       "libra and it matters a lot                       0.106361\n",
       "libra and it&rsquo;s fun to think about          3.372878\n",
       "libra but it doesn&rsquo;t matter                2.879935\n",
       "pisces                                           2.029045\n",
       "pisces and it matters a lot                      0.126815\n",
       "pisces and it&rsquo;s fun to think about         3.256290\n",
       "pisces but it doesn&rsquo;t matter               2.659030\n",
       "sagittarius                                      1.916547\n",
       "sagittarius and it matters a lot                 0.096134\n",
       "sagittarius and it&rsquo;s fun to think about    3.237881\n",
       "sagittarius but it doesn&rsquo;t matter          2.812436\n",
       "scorpio                                          2.086316\n",
       "scorpio and it matters a lot                     0.159542\n",
       "scorpio and it&rsquo;s fun to think about        3.624463\n",
       "scorpio but it doesn&rsquo;t matter              2.585396\n",
       "taurus                                           2.047453\n",
       "taurus and it matters a lot                      0.100225\n",
       "taurus and it&rsquo;s fun to think about         3.354469\n",
       "taurus but it doesn&rsquo;t matter               2.965842\n",
       "virgo                                            2.104725\n",
       "virgo and it matters a lot                       0.083862\n",
       "virgo and it&rsquo;s fun to think about          3.219472\n",
       "virgo but it doesn&rsquo;t matter                3.061976\n",
       "Name: sign, dtype: float64"
      ]
     },
     "execution_count": 55,
     "metadata": {},
     "output_type": "execute_result"
    }
   ],
   "source": [
    "# Sign\n",
    "users_data[\"sign\"].value_counts(normalize = True).sort_index()*100"
   ]
  },
  {
   "cell_type": "code",
   "execution_count": 56,
   "metadata": {},
   "outputs": [
    {
     "data": {
      "text/plain": [
       "<AxesSubplot:>"
      ]
     },
     "execution_count": 56,
     "metadata": {},
     "output_type": "execute_result"
    },
    {
     "data": {
      "image/png": "[encoded data removed]",
      "text/plain": [
       "<Figure size 720x720 with 1 Axes>"
      ]
     },
     "metadata": {
      "needs_background": "light"
     },
     "output_type": "display_data"
    }
   ],
   "source": [
    "users_data[\"sign\"].value_counts(normalize = True).plot.barh(figsize = (10,10))"
   ]
  },
  {
   "cell_type": "code",
   "execution_count": 57,
   "metadata": {},
   "outputs": [
    {
     "data": {
      "text/plain": [
       "11056"
      ]
     },
     "execution_count": 57,
     "metadata": {},
     "output_type": "execute_result"
    }
   ],
   "source": [
    "users_data[\"sign\"].isnull().sum()"
   ]
  },
  {
   "cell_type": "markdown",
   "metadata": {},
   "source": [
    "Muchas categorias diferentes y valores nulos."
   ]
  },
  {
   "cell_type": "code",
   "execution_count": 58,
   "metadata": {},
   "outputs": [
    {
     "data": {
      "text/plain": [
       "no                80.640776\n",
       "sometimes          6.957049\n",
       "trying to quit     2.718889\n",
       "when drinking      5.584745\n",
       "yes                4.098541\n",
       "Name: smokes, dtype: float64"
      ]
     },
     "execution_count": 58,
     "metadata": {},
     "output_type": "execute_result"
    }
   ],
   "source": [
    "# Smokes\n",
    "users_data[\"smokes\"].value_counts(normalize = True).sort_index()*100"
   ]
  },
  {
   "cell_type": "code",
   "execution_count": 59,
   "metadata": {},
   "outputs": [
    {
     "data": {
      "text/plain": [
       "<AxesSubplot:>"
      ]
     },
     "execution_count": 59,
     "metadata": {},
     "output_type": "execute_result"
    },
    {
     "data": {
      "image/png": "[encoded data removed]",
      "text/plain": [
       "<Figure size 720x432 with 1 Axes>"
      ]
     },
     "metadata": {
      "needs_background": "light"
     },
     "output_type": "display_data"
    }
   ],
   "source": [
    "users_data[\"smokes\"].value_counts(normalize = True).plot.bar(rot = 360,  figsize= (10,6))"
   ]
  },
  {
   "cell_type": "code",
   "execution_count": 60,
   "metadata": {},
   "outputs": [
    {
     "data": {
      "text/plain": [
       "5512"
      ]
     },
     "execution_count": 60,
     "metadata": {},
     "output_type": "execute_result"
    }
   ],
   "source": [
    "users_data[\"smokes\"].isnull().sum()"
   ]
  },
  {
   "cell_type": "markdown",
   "metadata": {},
   "source": [
    "El 80% de los usuarios no fuman. Podria ser interesante ver si el hecho de fumar afecta a los swipes. Hay que decidir que hacer con los valores nulos"
   ]
  },
  {
   "cell_type": "markdown",
   "metadata": {},
   "source": [
    "## Drop columns"
   ]
  },
  {
   "cell_type": "markdown",
   "metadata": {},
   "source": [
    "We are going to drop the columns we belive are not going to help us with our analysis. These are:\n",
    "\n",
    "    1. essay ones: to hard to analyse\n",
    "    2. income: around 80% of the rows are null for this column.\n",
    "    3. religion: this variable also has many null values and many different categorical values. Its a difficult variable to analyse and does not look like would give us much information\n",
    "    4. sign: this variable is very similar to religion"
   ]
  },
  {
   "cell_type": "code",
   "execution_count": 61,
   "metadata": {},
   "outputs": [],
   "source": [
    "users_data_def = users_data[['age', 'body_type', 'drinks', 'drugs',\n",
    "       'ethnicity', 'height', 'job', 'offspring', 'orientation',\n",
    "       'pets', 'sex', 'smokes', 'UID']]"
   ]
  },
  {
   "cell_type": "code",
   "execution_count": 62,
   "metadata": {},
   "outputs": [
    {
     "data": {
      "text/html": [
       "<div>\n",
       "<style scoped>\n",
       "    .dataframe tbody tr th:only-of-type {\n",
       "        vertical-align: middle;\n",
       "    }\n",
       "\n",
       "    .dataframe tbody tr th {\n",
       "        vertical-align: top;\n",
       "    }\n",
       "\n",
       "    .dataframe thead th {\n",
       "        text-align: right;\n",
       "    }\n",
       "</style>\n",
       "<table border=\"1\" class=\"dataframe\">\n",
       "  <thead>\n",
       "    <tr style=\"text-align: right;\">\n",
       "      <th></th>\n",
       "      <th>age</th>\n",
       "      <th>body_type</th>\n",
       "      <th>drinks</th>\n",
       "      <th>drugs</th>\n",
       "      <th>ethnicity</th>\n",
       "      <th>height</th>\n",
       "      <th>job</th>\n",
       "      <th>offspring</th>\n",
       "      <th>orientation</th>\n",
       "      <th>pets</th>\n",
       "      <th>sex</th>\n",
       "      <th>smokes</th>\n",
       "      <th>UID</th>\n",
       "    </tr>\n",
       "  </thead>\n",
       "  <tbody>\n",
       "    <tr>\n",
       "      <th>0</th>\n",
       "      <td>22</td>\n",
       "      <td>a little extra</td>\n",
       "      <td>socially</td>\n",
       "      <td>never</td>\n",
       "      <td>asian, white</td>\n",
       "      <td>75.0</td>\n",
       "      <td>transportation</td>\n",
       "      <td>doesn&amp;rsquo;t have kids, but might want them</td>\n",
       "      <td>straight</td>\n",
       "      <td>likes dogs and likes cats</td>\n",
       "      <td>m</td>\n",
       "      <td>sometimes</td>\n",
       "      <td>0</td>\n",
       "    </tr>\n",
       "    <tr>\n",
       "      <th>1</th>\n",
       "      <td>35</td>\n",
       "      <td>average</td>\n",
       "      <td>often</td>\n",
       "      <td>sometimes</td>\n",
       "      <td>white</td>\n",
       "      <td>70.0</td>\n",
       "      <td>hospitality / travel</td>\n",
       "      <td>doesn&amp;rsquo;t have kids, but might want them</td>\n",
       "      <td>straight</td>\n",
       "      <td>likes dogs and likes cats</td>\n",
       "      <td>m</td>\n",
       "      <td>no</td>\n",
       "      <td>1</td>\n",
       "    </tr>\n",
       "    <tr>\n",
       "      <th>2</th>\n",
       "      <td>38</td>\n",
       "      <td>thin</td>\n",
       "      <td>socially</td>\n",
       "      <td>NaN</td>\n",
       "      <td>NaN</td>\n",
       "      <td>68.0</td>\n",
       "      <td>NaN</td>\n",
       "      <td>NaN</td>\n",
       "      <td>straight</td>\n",
       "      <td>has cats</td>\n",
       "      <td>m</td>\n",
       "      <td>no</td>\n",
       "      <td>2</td>\n",
       "    </tr>\n",
       "    <tr>\n",
       "      <th>3</th>\n",
       "      <td>23</td>\n",
       "      <td>thin</td>\n",
       "      <td>socially</td>\n",
       "      <td>NaN</td>\n",
       "      <td>white</td>\n",
       "      <td>71.0</td>\n",
       "      <td>student</td>\n",
       "      <td>doesn&amp;rsquo;t want kids</td>\n",
       "      <td>straight</td>\n",
       "      <td>likes cats</td>\n",
       "      <td>m</td>\n",
       "      <td>no</td>\n",
       "      <td>3</td>\n",
       "    </tr>\n",
       "    <tr>\n",
       "      <th>4</th>\n",
       "      <td>29</td>\n",
       "      <td>athletic</td>\n",
       "      <td>socially</td>\n",
       "      <td>never</td>\n",
       "      <td>asian, black, other</td>\n",
       "      <td>66.0</td>\n",
       "      <td>artistic / musical / writer</td>\n",
       "      <td>NaN</td>\n",
       "      <td>straight</td>\n",
       "      <td>likes dogs and likes cats</td>\n",
       "      <td>m</td>\n",
       "      <td>no</td>\n",
       "      <td>4</td>\n",
       "    </tr>\n",
       "  </tbody>\n",
       "</table>\n",
       "</div>"
      ],
      "text/plain": [
       "   age       body_type    drinks      drugs            ethnicity  height  \\\n",
       "0   22  a little extra  socially      never         asian, white    75.0   \n",
       "1   35         average     often  sometimes                white    70.0   \n",
       "2   38            thin  socially        NaN                  NaN    68.0   \n",
       "3   23            thin  socially        NaN                white    71.0   \n",
       "4   29        athletic  socially      never  asian, black, other    66.0   \n",
       "\n",
       "                           job                                     offspring  \\\n",
       "0               transportation  doesn&rsquo;t have kids, but might want them   \n",
       "1         hospitality / travel  doesn&rsquo;t have kids, but might want them   \n",
       "2                          NaN                                           NaN   \n",
       "3                      student                       doesn&rsquo;t want kids   \n",
       "4  artistic / musical / writer                                           NaN   \n",
       "\n",
       "  orientation                       pets sex     smokes  UID  \n",
       "0    straight  likes dogs and likes cats   m  sometimes    0  \n",
       "1    straight  likes dogs and likes cats   m         no    1  \n",
       "2    straight                   has cats   m         no    2  \n",
       "3    straight                 likes cats   m         no    3  \n",
       "4    straight  likes dogs and likes cats   m         no    4  "
      ]
     },
     "execution_count": 62,
     "metadata": {},
     "output_type": "execute_result"
    }
   ],
   "source": [
    "users_data_def.head()"
   ]
  },
  {
   "cell_type": "markdown",
   "metadata": {},
   "source": [
    "## Modify columns"
   ]
  },
  {
   "cell_type": "markdown",
   "metadata": {},
   "source": [
    "For the columns with null values, we are going to change them to \"No response\""
   ]
  },
  {
   "cell_type": "code",
   "execution_count": 63,
   "metadata": {},
   "outputs": [
    {
     "name": "stderr",
     "output_type": "stream",
     "text": [
      "c:\\users\\alejandro chamorro\\appdata\\local\\programs\\python\\python37\\lib\\site-packages\\pandas\\core\\series.py:4469: SettingWithCopyWarning: \n",
      "A value is trying to be set on a copy of a slice from a DataFrame\n",
      "\n",
      "See the caveats in the documentation: https://pandas.pydata.org/pandas-docs/stable/user_guide/indexing.html#returning-a-view-versus-a-copy\n",
      "  downcast=downcast,\n"
     ]
    }
   ],
   "source": [
    "users_data_def[\"body_type\"].fillna(\"No response\", inplace = True)\n",
    "users_data_def[\"drinks\"].fillna(\"No response\", inplace = True)\n",
    "users_data_def[\"drugs\"].fillna(\"No response\", inplace = True)"
   ]
  },
  {
   "cell_type": "markdown",
   "metadata": {},
   "source": [
    "Next we are going to modify the column ethnicity to be able to deal with it easier. We saw that it has 218 different categorical values. There are 5 main ones: white, asian, hisoanic, black and other. All the other values are going to be included in the \"other\" value."
   ]
  },
  {
   "cell_type": "code",
   "execution_count": 64,
   "metadata": {},
   "outputs": [],
   "source": [
    "def sust_ethn(ethn):\n",
    "    \n",
    "    if ethn == \"white\":\n",
    "        return \"white\"\n",
    "    elif ethn == \"asian\":\n",
    "        return \"asian\"\n",
    "    elif ethn == \"hispanic / latin\":\n",
    "        return \"hispanic / latin\"\n",
    "    elif ethn == \"black\":\n",
    "        return \"black\"\n",
    "    else:\n",
    "        return \"other\""
   ]
  },
  {
   "cell_type": "code",
   "execution_count": 65,
   "metadata": {},
   "outputs": [
    {
     "name": "stderr",
     "output_type": "stream",
     "text": [
      "c:\\users\\alejandro chamorro\\appdata\\local\\programs\\python\\python37\\lib\\site-packages\\ipykernel_launcher.py:1: SettingWithCopyWarning: \n",
      "A value is trying to be set on a copy of a slice from a DataFrame.\n",
      "Try using .loc[row_indexer,col_indexer] = value instead\n",
      "\n",
      "See the caveats in the documentation: https://pandas.pydata.org/pandas-docs/stable/user_guide/indexing.html#returning-a-view-versus-a-copy\n",
      "  \"\"\"Entry point for launching an IPython kernel.\n"
     ]
    }
   ],
   "source": [
    "users_data_def[\"ethnicity\"] = users_data_def[\"ethnicity\"].apply(sust_ethn)"
   ]
  },
  {
   "cell_type": "code",
   "execution_count": 66,
   "metadata": {},
   "outputs": [
    {
     "data": {
      "text/plain": [
       "white               54.767624\n",
       "other               26.940913\n",
       "asian               10.232543\n",
       "hispanic / latin     4.709238\n",
       "black                3.349681\n",
       "Name: ethnicity, dtype: float64"
      ]
     },
     "execution_count": 66,
     "metadata": {},
     "output_type": "execute_result"
    }
   ],
   "source": [
    "users_data_def[\"ethnicity\"].value_counts(normalize = True)*100"
   ]
  },
  {
   "cell_type": "code",
   "execution_count": 67,
   "metadata": {},
   "outputs": [],
   "source": [
    "users_data_def[\"offspring\"].fillna(\"No response\", inplace = True)"
   ]
  },
  {
   "cell_type": "code",
   "execution_count": 68,
   "metadata": {},
   "outputs": [],
   "source": [
    "users_data_def[\"pets\"].fillna(\"No response\", inplace = True)"
   ]
  },
  {
   "cell_type": "code",
   "execution_count": 69,
   "metadata": {},
   "outputs": [],
   "source": [
    "users_data_def[\"height\"].fillna(\"No response\", inplace = True)\n",
    "users_data_def[\"job\"].fillna(\"No response\", inplace = True)\n",
    "users_data_def[\"smokes\"].fillna(\"No response\", inplace = True)"
   ]
  },
  {
   "cell_type": "markdown",
   "metadata": {},
   "source": [
    "Now we have the variables we are going to analyze ready. Next step will by to create a new dataframe together with events_data"
   ]
  },
  {
   "cell_type": "code",
   "execution_count": 70,
   "metadata": {},
   "outputs": [
    {
     "data": {
      "text/html": [
       "<div>\n",
       "<style scoped>\n",
       "    .dataframe tbody tr th:only-of-type {\n",
       "        vertical-align: middle;\n",
       "    }\n",
       "\n",
       "    .dataframe tbody tr th {\n",
       "        vertical-align: top;\n",
       "    }\n",
       "\n",
       "    .dataframe thead th {\n",
       "        text-align: right;\n",
       "    }\n",
       "</style>\n",
       "<table border=\"1\" class=\"dataframe\">\n",
       "  <thead>\n",
       "    <tr style=\"text-align: right;\">\n",
       "      <th></th>\n",
       "      <th>Active User</th>\n",
       "      <th>Passive User</th>\n",
       "      <th>yes_vote</th>\n",
       "    </tr>\n",
       "  </thead>\n",
       "  <tbody>\n",
       "    <tr>\n",
       "      <th>0</th>\n",
       "      <td>38411</td>\n",
       "      <td>54288</td>\n",
       "      <td>0</td>\n",
       "    </tr>\n",
       "    <tr>\n",
       "      <th>1</th>\n",
       "      <td>50211</td>\n",
       "      <td>34398</td>\n",
       "      <td>0</td>\n",
       "    </tr>\n",
       "    <tr>\n",
       "      <th>2</th>\n",
       "      <td>45114</td>\n",
       "      <td>43284</td>\n",
       "      <td>1</td>\n",
       "    </tr>\n",
       "    <tr>\n",
       "      <th>3</th>\n",
       "      <td>14307</td>\n",
       "      <td>25947</td>\n",
       "      <td>1</td>\n",
       "    </tr>\n",
       "    <tr>\n",
       "      <th>4</th>\n",
       "      <td>25595</td>\n",
       "      <td>26064</td>\n",
       "      <td>0</td>\n",
       "    </tr>\n",
       "  </tbody>\n",
       "</table>\n",
       "</div>"
      ],
      "text/plain": [
       "   Active User  Passive User  yes_vote\n",
       "0        38411         54288         0\n",
       "1        50211         34398         0\n",
       "2        45114         43284         1\n",
       "3        14307         25947         1\n",
       "4        25595         26064         0"
      ]
     },
     "execution_count": 70,
     "metadata": {},
     "output_type": "execute_result"
    }
   ],
   "source": [
    "events_data.head()"
   ]
  },
  {
   "cell_type": "markdown",
   "metadata": {},
   "source": [
    "## Yes ratio dataframe\n",
    "\n",
    "Next we are going to create a dataframe which will consist in a column with the users and the yes ratio the have received."
   ]
  },
  {
   "cell_type": "code",
   "execution_count": 71,
   "metadata": {},
   "outputs": [],
   "source": [
    "events_data_passive_users = events_data[[\"Passive User\", \"yes_vote\"]]\n",
    "users_ratio = events_data_passive_users.groupby(by = \"Passive User\").mean().reset_index()"
   ]
  },
  {
   "cell_type": "code",
   "execution_count": 72,
   "metadata": {
    "scrolled": true
   },
   "outputs": [
    {
     "data": {
      "text/html": [
       "<div>\n",
       "<style scoped>\n",
       "    .dataframe tbody tr th:only-of-type {\n",
       "        vertical-align: middle;\n",
       "    }\n",
       "\n",
       "    .dataframe tbody tr th {\n",
       "        vertical-align: top;\n",
       "    }\n",
       "\n",
       "    .dataframe thead th {\n",
       "        text-align: right;\n",
       "    }\n",
       "</style>\n",
       "<table border=\"1\" class=\"dataframe\">\n",
       "  <thead>\n",
       "    <tr style=\"text-align: right;\">\n",
       "      <th></th>\n",
       "      <th>Passive User</th>\n",
       "      <th>yes_vote</th>\n",
       "    </tr>\n",
       "  </thead>\n",
       "  <tbody>\n",
       "    <tr>\n",
       "      <th>0</th>\n",
       "      <td>0</td>\n",
       "      <td>0.000000</td>\n",
       "    </tr>\n",
       "    <tr>\n",
       "      <th>1</th>\n",
       "      <td>1</td>\n",
       "      <td>0.166667</td>\n",
       "    </tr>\n",
       "    <tr>\n",
       "      <th>2</th>\n",
       "      <td>2</td>\n",
       "      <td>0.000000</td>\n",
       "    </tr>\n",
       "    <tr>\n",
       "      <th>3</th>\n",
       "      <td>3</td>\n",
       "      <td>0.000000</td>\n",
       "    </tr>\n",
       "    <tr>\n",
       "      <th>4</th>\n",
       "      <td>4</td>\n",
       "      <td>0.000000</td>\n",
       "    </tr>\n",
       "  </tbody>\n",
       "</table>\n",
       "</div>"
      ],
      "text/plain": [
       "   Passive User  yes_vote\n",
       "0             0  0.000000\n",
       "1             1  0.166667\n",
       "2             2  0.000000\n",
       "3             3  0.000000\n",
       "4             4  0.000000"
      ]
     },
     "execution_count": 72,
     "metadata": {},
     "output_type": "execute_result"
    }
   ],
   "source": [
    "users_ratio.head()"
   ]
  },
  {
   "cell_type": "code",
   "execution_count": 73,
   "metadata": {},
   "outputs": [],
   "source": [
    "users_ratio = users_ratio.rename({\"Passive User\": \"UID\"}, axis = 1)"
   ]
  },
  {
   "cell_type": "code",
   "execution_count": 74,
   "metadata": {},
   "outputs": [
    {
     "data": {
      "text/html": [
       "<div>\n",
       "<style scoped>\n",
       "    .dataframe tbody tr th:only-of-type {\n",
       "        vertical-align: middle;\n",
       "    }\n",
       "\n",
       "    .dataframe tbody tr th {\n",
       "        vertical-align: top;\n",
       "    }\n",
       "\n",
       "    .dataframe thead th {\n",
       "        text-align: right;\n",
       "    }\n",
       "</style>\n",
       "<table border=\"1\" class=\"dataframe\">\n",
       "  <thead>\n",
       "    <tr style=\"text-align: right;\">\n",
       "      <th></th>\n",
       "      <th>UID</th>\n",
       "      <th>yes_vote</th>\n",
       "    </tr>\n",
       "  </thead>\n",
       "  <tbody>\n",
       "    <tr>\n",
       "      <th>0</th>\n",
       "      <td>0</td>\n",
       "      <td>0.000000</td>\n",
       "    </tr>\n",
       "    <tr>\n",
       "      <th>1</th>\n",
       "      <td>1</td>\n",
       "      <td>0.166667</td>\n",
       "    </tr>\n",
       "  </tbody>\n",
       "</table>\n",
       "</div>"
      ],
      "text/plain": [
       "   UID  yes_vote\n",
       "0    0  0.000000\n",
       "1    1  0.166667"
      ]
     },
     "execution_count": 74,
     "metadata": {},
     "output_type": "execute_result"
    }
   ],
   "source": [
    "users_ratio.head(2)"
   ]
  },
  {
   "cell_type": "code",
   "execution_count": 75,
   "metadata": {},
   "outputs": [],
   "source": [
    "bumble_data = pd.merge(users_data_def, users_ratio, on = \"UID\")"
   ]
  },
  {
   "cell_type": "code",
   "execution_count": 76,
   "metadata": {},
   "outputs": [],
   "source": [
    "bumble_data[\"height\"] = bumble_data[\"height\"].replace({\"No response\": 68}) "
   ]
  },
  {
   "cell_type": "code",
   "execution_count": 77,
   "metadata": {
    "scrolled": false
   },
   "outputs": [
    {
     "data": {
      "text/html": [
       "<div>\n",
       "<style scoped>\n",
       "    .dataframe tbody tr th:only-of-type {\n",
       "        vertical-align: middle;\n",
       "    }\n",
       "\n",
       "    .dataframe tbody tr th {\n",
       "        vertical-align: top;\n",
       "    }\n",
       "\n",
       "    .dataframe thead th {\n",
       "        text-align: right;\n",
       "    }\n",
       "</style>\n",
       "<table border=\"1\" class=\"dataframe\">\n",
       "  <thead>\n",
       "    <tr style=\"text-align: right;\">\n",
       "      <th></th>\n",
       "      <th>age</th>\n",
       "      <th>body_type</th>\n",
       "      <th>drinks</th>\n",
       "      <th>drugs</th>\n",
       "      <th>ethnicity</th>\n",
       "      <th>height</th>\n",
       "      <th>job</th>\n",
       "      <th>offspring</th>\n",
       "      <th>orientation</th>\n",
       "      <th>pets</th>\n",
       "      <th>sex</th>\n",
       "      <th>smokes</th>\n",
       "      <th>UID</th>\n",
       "      <th>yes_vote</th>\n",
       "    </tr>\n",
       "  </thead>\n",
       "  <tbody>\n",
       "    <tr>\n",
       "      <th>0</th>\n",
       "      <td>22</td>\n",
       "      <td>a little extra</td>\n",
       "      <td>socially</td>\n",
       "      <td>never</td>\n",
       "      <td>other</td>\n",
       "      <td>75.0</td>\n",
       "      <td>transportation</td>\n",
       "      <td>doesn&amp;rsquo;t have kids, but might want them</td>\n",
       "      <td>straight</td>\n",
       "      <td>likes dogs and likes cats</td>\n",
       "      <td>m</td>\n",
       "      <td>sometimes</td>\n",
       "      <td>0</td>\n",
       "      <td>0.000000</td>\n",
       "    </tr>\n",
       "    <tr>\n",
       "      <th>1</th>\n",
       "      <td>35</td>\n",
       "      <td>average</td>\n",
       "      <td>often</td>\n",
       "      <td>sometimes</td>\n",
       "      <td>white</td>\n",
       "      <td>70.0</td>\n",
       "      <td>hospitality / travel</td>\n",
       "      <td>doesn&amp;rsquo;t have kids, but might want them</td>\n",
       "      <td>straight</td>\n",
       "      <td>likes dogs and likes cats</td>\n",
       "      <td>m</td>\n",
       "      <td>no</td>\n",
       "      <td>1</td>\n",
       "      <td>0.166667</td>\n",
       "    </tr>\n",
       "    <tr>\n",
       "      <th>2</th>\n",
       "      <td>38</td>\n",
       "      <td>thin</td>\n",
       "      <td>socially</td>\n",
       "      <td>No response</td>\n",
       "      <td>other</td>\n",
       "      <td>68.0</td>\n",
       "      <td>No response</td>\n",
       "      <td>No response</td>\n",
       "      <td>straight</td>\n",
       "      <td>has cats</td>\n",
       "      <td>m</td>\n",
       "      <td>no</td>\n",
       "      <td>2</td>\n",
       "      <td>0.000000</td>\n",
       "    </tr>\n",
       "  </tbody>\n",
       "</table>\n",
       "</div>"
      ],
      "text/plain": [
       "   age       body_type    drinks        drugs ethnicity  height  \\\n",
       "0   22  a little extra  socially        never     other    75.0   \n",
       "1   35         average     often    sometimes     white    70.0   \n",
       "2   38            thin  socially  No response     other    68.0   \n",
       "\n",
       "                    job                                     offspring  \\\n",
       "0        transportation  doesn&rsquo;t have kids, but might want them   \n",
       "1  hospitality / travel  doesn&rsquo;t have kids, but might want them   \n",
       "2           No response                                   No response   \n",
       "\n",
       "  orientation                       pets sex     smokes  UID  yes_vote  \n",
       "0    straight  likes dogs and likes cats   m  sometimes    0  0.000000  \n",
       "1    straight  likes dogs and likes cats   m         no    1  0.166667  \n",
       "2    straight                   has cats   m         no    2  0.000000  "
      ]
     },
     "execution_count": 77,
     "metadata": {},
     "output_type": "execute_result"
    }
   ],
   "source": [
    "bumble_data.head(3)"
   ]
  },
  {
   "cell_type": "code",
   "execution_count": 78,
   "metadata": {},
   "outputs": [
    {
     "data": {
      "text/plain": [
       "(50789, 14)"
      ]
     },
     "execution_count": 78,
     "metadata": {},
     "output_type": "execute_result"
    }
   ],
   "source": [
    "bumble_data.shape"
   ]
  },
  {
   "cell_type": "code",
   "execution_count": 79,
   "metadata": {},
   "outputs": [
    {
     "data": {
      "text/plain": [
       "straight    50789\n",
       "Name: orientation, dtype: int64"
      ]
     },
     "execution_count": 79,
     "metadata": {},
     "output_type": "execute_result"
    }
   ],
   "source": [
    "bumble_data[\"orientation\"].value_counts()"
   ]
  },
  {
   "cell_type": "markdown",
   "metadata": {},
   "source": [
    "In the dataframe of events there was data only for \"straight\" of the variable orientation. So we wont be able to analyze this variable."
   ]
  },
  {
   "cell_type": "markdown",
   "metadata": {},
   "source": [
    "## Analysis of the variables"
   ]
  },
  {
   "cell_type": "markdown",
   "metadata": {},
   "source": [
    "Now we are going to divide the dataframes into smaller dataframes grouping by the columns and try to see what values get better ratios.\n",
    "\n",
    "First we are going to do the sex variable, since there could be a big difference in this one. In that case it could make sense to do all the analysis dividing by sex."
   ]
  },
  {
   "cell_type": "code",
   "execution_count": 80,
   "metadata": {},
   "outputs": [],
   "source": [
    "sex_data = bumble_data[[\"sex\", \"yes_vote\"]]"
   ]
  },
  {
   "cell_type": "code",
   "execution_count": 81,
   "metadata": {},
   "outputs": [
    {
     "data": {
      "text/html": [
       "<div>\n",
       "<style scoped>\n",
       "    .dataframe tbody tr th:only-of-type {\n",
       "        vertical-align: middle;\n",
       "    }\n",
       "\n",
       "    .dataframe tbody tr th {\n",
       "        vertical-align: top;\n",
       "    }\n",
       "\n",
       "    .dataframe thead th {\n",
       "        text-align: right;\n",
       "    }\n",
       "</style>\n",
       "<table border=\"1\" class=\"dataframe\">\n",
       "  <thead>\n",
       "    <tr style=\"text-align: right;\">\n",
       "      <th></th>\n",
       "      <th>yes_vote</th>\n",
       "    </tr>\n",
       "    <tr>\n",
       "      <th>sex</th>\n",
       "      <th></th>\n",
       "    </tr>\n",
       "  </thead>\n",
       "  <tbody>\n",
       "    <tr>\n",
       "      <th>f</th>\n",
       "      <td>0.551866</td>\n",
       "    </tr>\n",
       "    <tr>\n",
       "      <th>m</th>\n",
       "      <td>0.154245</td>\n",
       "    </tr>\n",
       "  </tbody>\n",
       "</table>\n",
       "</div>"
      ],
      "text/plain": [
       "     yes_vote\n",
       "sex          \n",
       "f    0.551866\n",
       "m    0.154245"
      ]
     },
     "execution_count": 81,
     "metadata": {},
     "output_type": "execute_result"
    }
   ],
   "source": [
    "sex_data.groupby(by = \"sex\").mean()"
   ]
  },
  {
   "cell_type": "markdown",
   "metadata": {},
   "source": [
    "As we were thinking there is a really big difference between the male and female ratios. Because of this we are going to create a female and male dataframe to analyse it independently."
   ]
  },
  {
   "cell_type": "code",
   "execution_count": 82,
   "metadata": {},
   "outputs": [],
   "source": [
    "mask_female = bumble_data[\"sex\"] == \"f\"\n",
    "mask_male = bumble_data[\"sex\"] == \"m\"\n",
    "bumble_data_f = bumble_data[mask_female]\n",
    "bumble_data_m = bumble_data[mask_male]"
   ]
  },
  {
   "cell_type": "code",
   "execution_count": 83,
   "metadata": {
    "scrolled": true
   },
   "outputs": [
    {
     "data": {
      "text/html": [
       "<div>\n",
       "<style scoped>\n",
       "    .dataframe tbody tr th:only-of-type {\n",
       "        vertical-align: middle;\n",
       "    }\n",
       "\n",
       "    .dataframe tbody tr th {\n",
       "        vertical-align: top;\n",
       "    }\n",
       "\n",
       "    .dataframe thead th {\n",
       "        text-align: right;\n",
       "    }\n",
       "</style>\n",
       "<table border=\"1\" class=\"dataframe\">\n",
       "  <thead>\n",
       "    <tr style=\"text-align: right;\">\n",
       "      <th></th>\n",
       "      <th>age</th>\n",
       "      <th>height</th>\n",
       "      <th>UID</th>\n",
       "      <th>yes_vote</th>\n",
       "    </tr>\n",
       "  </thead>\n",
       "  <tbody>\n",
       "    <tr>\n",
       "      <th>count</th>\n",
       "      <td>20530.000000</td>\n",
       "      <td>20530.000000</td>\n",
       "      <td>20530.000000</td>\n",
       "      <td>20530.000000</td>\n",
       "    </tr>\n",
       "    <tr>\n",
       "      <th>mean</th>\n",
       "      <td>33.311252</td>\n",
       "      <td>65.085826</td>\n",
       "      <td>31031.248368</td>\n",
       "      <td>0.551866</td>\n",
       "    </tr>\n",
       "    <tr>\n",
       "      <th>std</th>\n",
       "      <td>10.150317</td>\n",
       "      <td>2.914074</td>\n",
       "      <td>17706.226663</td>\n",
       "      <td>0.182998</td>\n",
       "    </tr>\n",
       "    <tr>\n",
       "      <th>min</th>\n",
       "      <td>18.000000</td>\n",
       "      <td>4.000000</td>\n",
       "      <td>6.000000</td>\n",
       "      <td>0.000000</td>\n",
       "    </tr>\n",
       "    <tr>\n",
       "      <th>25%</th>\n",
       "      <td>26.000000</td>\n",
       "      <td>63.000000</td>\n",
       "      <td>15424.250000</td>\n",
       "      <td>0.428571</td>\n",
       "    </tr>\n",
       "    <tr>\n",
       "      <th>50%</th>\n",
       "      <td>31.000000</td>\n",
       "      <td>65.000000</td>\n",
       "      <td>31350.500000</td>\n",
       "      <td>0.555556</td>\n",
       "    </tr>\n",
       "    <tr>\n",
       "      <th>75%</th>\n",
       "      <td>38.000000</td>\n",
       "      <td>67.000000</td>\n",
       "      <td>47088.750000</td>\n",
       "      <td>0.666667</td>\n",
       "    </tr>\n",
       "    <tr>\n",
       "      <th>max</th>\n",
       "      <td>110.000000</td>\n",
       "      <td>95.000000</td>\n",
       "      <td>59941.000000</td>\n",
       "      <td>1.000000</td>\n",
       "    </tr>\n",
       "  </tbody>\n",
       "</table>\n",
       "</div>"
      ],
      "text/plain": [
       "                age        height           UID      yes_vote\n",
       "count  20530.000000  20530.000000  20530.000000  20530.000000\n",
       "mean      33.311252     65.085826  31031.248368      0.551866\n",
       "std       10.150317      2.914074  17706.226663      0.182998\n",
       "min       18.000000      4.000000      6.000000      0.000000\n",
       "25%       26.000000     63.000000  15424.250000      0.428571\n",
       "50%       31.000000     65.000000  31350.500000      0.555556\n",
       "75%       38.000000     67.000000  47088.750000      0.666667\n",
       "max      110.000000     95.000000  59941.000000      1.000000"
      ]
     },
     "execution_count": 83,
     "metadata": {},
     "output_type": "execute_result"
    }
   ],
   "source": [
    "bumble_data_f.describe()"
   ]
  },
  {
   "cell_type": "code",
   "execution_count": 84,
   "metadata": {},
   "outputs": [
    {
     "data": {
      "text/html": [
       "<div>\n",
       "<style scoped>\n",
       "    .dataframe tbody tr th:only-of-type {\n",
       "        vertical-align: middle;\n",
       "    }\n",
       "\n",
       "    .dataframe tbody tr th {\n",
       "        vertical-align: top;\n",
       "    }\n",
       "\n",
       "    .dataframe thead th {\n",
       "        text-align: right;\n",
       "    }\n",
       "</style>\n",
       "<table border=\"1\" class=\"dataframe\">\n",
       "  <thead>\n",
       "    <tr style=\"text-align: right;\">\n",
       "      <th></th>\n",
       "      <th>age</th>\n",
       "      <th>height</th>\n",
       "      <th>UID</th>\n",
       "      <th>yes_vote</th>\n",
       "    </tr>\n",
       "  </thead>\n",
       "  <tbody>\n",
       "    <tr>\n",
       "      <th>count</th>\n",
       "      <td>30259.000000</td>\n",
       "      <td>30259.000000</td>\n",
       "      <td>30259.000000</td>\n",
       "      <td>30259.000000</td>\n",
       "    </tr>\n",
       "    <tr>\n",
       "      <th>mean</th>\n",
       "      <td>31.991705</td>\n",
       "      <td>70.501305</td>\n",
       "      <td>29407.227866</td>\n",
       "      <td>0.154245</td>\n",
       "    </tr>\n",
       "    <tr>\n",
       "      <th>std</th>\n",
       "      <td>9.009647</td>\n",
       "      <td>3.089734</td>\n",
       "      <td>17054.267743</td>\n",
       "      <td>0.219046</td>\n",
       "    </tr>\n",
       "    <tr>\n",
       "      <th>min</th>\n",
       "      <td>18.000000</td>\n",
       "      <td>1.000000</td>\n",
       "      <td>0.000000</td>\n",
       "      <td>0.000000</td>\n",
       "    </tr>\n",
       "    <tr>\n",
       "      <th>25%</th>\n",
       "      <td>26.000000</td>\n",
       "      <td>69.000000</td>\n",
       "      <td>14901.500000</td>\n",
       "      <td>0.000000</td>\n",
       "    </tr>\n",
       "    <tr>\n",
       "      <th>50%</th>\n",
       "      <td>30.000000</td>\n",
       "      <td>70.000000</td>\n",
       "      <td>29043.000000</td>\n",
       "      <td>0.000000</td>\n",
       "    </tr>\n",
       "    <tr>\n",
       "      <th>75%</th>\n",
       "      <td>36.000000</td>\n",
       "      <td>72.000000</td>\n",
       "      <td>43779.500000</td>\n",
       "      <td>0.250000</td>\n",
       "    </tr>\n",
       "    <tr>\n",
       "      <th>max</th>\n",
       "      <td>109.000000</td>\n",
       "      <td>95.000000</td>\n",
       "      <td>59944.000000</td>\n",
       "      <td>1.000000</td>\n",
       "    </tr>\n",
       "  </tbody>\n",
       "</table>\n",
       "</div>"
      ],
      "text/plain": [
       "                age        height           UID      yes_vote\n",
       "count  30259.000000  30259.000000  30259.000000  30259.000000\n",
       "mean      31.991705     70.501305  29407.227866      0.154245\n",
       "std        9.009647      3.089734  17054.267743      0.219046\n",
       "min       18.000000      1.000000      0.000000      0.000000\n",
       "25%       26.000000     69.000000  14901.500000      0.000000\n",
       "50%       30.000000     70.000000  29043.000000      0.000000\n",
       "75%       36.000000     72.000000  43779.500000      0.250000\n",
       "max      109.000000     95.000000  59944.000000      1.000000"
      ]
     },
     "execution_count": 84,
     "metadata": {},
     "output_type": "execute_result"
    }
   ],
   "source": [
    "bumble_data_m.describe()"
   ]
  },
  {
   "cell_type": "markdown",
   "metadata": {},
   "source": [
    "From this point we are going to start analysing each variable independently for males and females. In the cases where we may see something interesting we will study it deeper."
   ]
  },
  {
   "cell_type": "markdown",
   "metadata": {},
   "source": [
    "### Age\n",
    "We are going to do the correlations."
   ]
  },
  {
   "cell_type": "code",
   "execution_count": 85,
   "metadata": {},
   "outputs": [
    {
     "data": {
      "text/plain": [
       "-0.06925459797205251"
      ]
     },
     "execution_count": 85,
     "metadata": {},
     "output_type": "execute_result"
    }
   ],
   "source": [
    "#Female\n",
    "corr_age_f = bumble_data_f[\"age\"].corr(bumble_data_f[\"yes_vote\"])\n",
    "corr_age_f"
   ]
  },
  {
   "cell_type": "code",
   "execution_count": 86,
   "metadata": {},
   "outputs": [
    {
     "data": {
      "text/plain": [
       "0.02796583938118388"
      ]
     },
     "execution_count": 86,
     "metadata": {},
     "output_type": "execute_result"
    }
   ],
   "source": [
    "#Male\n",
    "corr_age_m = bumble_data_m[\"age\"].corr(bumble_data_m[\"yes_vote\"])\n",
    "corr_age_m"
   ]
  },
  {
   "cell_type": "markdown",
   "metadata": {},
   "source": [
    "The correlations we get here are low but we see an interesting trend. It seems like for females, the younger they are the better ratio the get. And for males is the opposite, the older the better. We are going to use hypothesis testing to see if we get this result out of randomness or it is actually significant."
   ]
  },
  {
   "cell_type": "markdown",
   "metadata": {},
   "source": [
    "Fot this hypothesis test our test statistic is going to be the correlation.\n",
    "Our null hypothesis is going to be that there is no correlation between age and ratio.\n",
    "    \n",
    "    H0: x = 0\n",
    "    H1: x != 0"
   ]
  },
  {
   "cell_type": "code",
   "execution_count": 87,
   "metadata": {},
   "outputs": [],
   "source": [
    "list_correlations_female = []\n",
    "\n",
    "for i in range(0,1000):\n",
    "    df_sample = bumble_data_f.sample(1000)\n",
    "    corr_sample = df_sample[\"age\"].corr(df_sample[\"yes_vote\"])\n",
    "    list_correlations_female.append(corr_sample)"
   ]
  },
  {
   "cell_type": "code",
   "execution_count": 88,
   "metadata": {},
   "outputs": [],
   "source": [
    "count_f = 0\n",
    "for i in list_correlations_female:\n",
    "    if i <= 0:\n",
    "        count_f += 1"
   ]
  },
  {
   "cell_type": "code",
   "execution_count": 89,
   "metadata": {},
   "outputs": [
    {
     "data": {
      "text/plain": [
       "0.987"
      ]
     },
     "execution_count": 89,
     "metadata": {},
     "output_type": "execute_result"
    }
   ],
   "source": [
    "p_value_age_f = count_f / len(list_correlations_female)\n",
    "p_value_age_f"
   ]
  },
  {
   "cell_type": "markdown",
   "metadata": {},
   "source": [
    "Conclusion de este test"
   ]
  },
  {
   "cell_type": "code",
   "execution_count": 90,
   "metadata": {},
   "outputs": [],
   "source": [
    "list_correlations_male = []\n",
    "\n",
    "for i in range(0,1000):\n",
    "    df_sample = bumble_data_m.sample(1000)\n",
    "    corr_sample = df_sample[\"age\"].corr(df_sample[\"yes_vote\"])\n",
    "    list_correlations_male.append(corr_sample)"
   ]
  },
  {
   "cell_type": "code",
   "execution_count": 91,
   "metadata": {},
   "outputs": [],
   "source": [
    "count_m = 0\n",
    "for i in list_correlations_male:\n",
    "    if i >= 0:\n",
    "        count_m += 1"
   ]
  },
  {
   "cell_type": "code",
   "execution_count": 92,
   "metadata": {},
   "outputs": [
    {
     "data": {
      "text/plain": [
       "0.8"
      ]
     },
     "execution_count": 92,
     "metadata": {},
     "output_type": "execute_result"
    }
   ],
   "source": [
    "p_value_age_m = count_m / len(list_correlations_male)\n",
    "p_value_age_m"
   ]
  },
  {
   "cell_type": "markdown",
   "metadata": {},
   "source": [
    "Conclusion de este test"
   ]
  },
  {
   "cell_type": "markdown",
   "metadata": {},
   "source": [
    "### Body type\n",
    "\n",
    "Mean grouped pero body type."
   ]
  },
  {
   "cell_type": "code",
   "execution_count": 93,
   "metadata": {},
   "outputs": [],
   "source": [
    "# Female\n",
    "body_data_f = bumble_data_f[[\"body_type\", \"yes_vote\"]] \n",
    "body_data_f = body_data_f.groupby(\"body_type\").mean()"
   ]
  },
  {
   "cell_type": "code",
   "execution_count": 94,
   "metadata": {
    "scrolled": true
   },
   "outputs": [
    {
     "data": {
      "text/plain": [
       "<AxesSubplot:ylabel='body_type'>"
      ]
     },
     "execution_count": 94,
     "metadata": {},
     "output_type": "execute_result"
    },
    {
     "data": {
      "image/png": "[encoded data removed]",
      "text/plain": [
       "<Figure size 432x288 with 1 Axes>"
      ]
     },
     "metadata": {
      "needs_background": "light"
     },
     "output_type": "display_data"
    }
   ],
   "source": [
    "body_data_f.plot.barh()"
   ]
  },
  {
   "cell_type": "code",
   "execution_count": 95,
   "metadata": {
    "scrolled": false
   },
   "outputs": [
    {
     "data": {
      "text/html": [
       "<div>\n",
       "<style scoped>\n",
       "    .dataframe tbody tr th:only-of-type {\n",
       "        vertical-align: middle;\n",
       "    }\n",
       "\n",
       "    .dataframe tbody tr th {\n",
       "        vertical-align: top;\n",
       "    }\n",
       "\n",
       "    .dataframe thead th {\n",
       "        text-align: right;\n",
       "    }\n",
       "</style>\n",
       "<table border=\"1\" class=\"dataframe\">\n",
       "  <thead>\n",
       "    <tr style=\"text-align: right;\">\n",
       "      <th></th>\n",
       "      <th>yes_vote</th>\n",
       "    </tr>\n",
       "    <tr>\n",
       "      <th>body_type</th>\n",
       "      <th></th>\n",
       "    </tr>\n",
       "  </thead>\n",
       "  <tbody>\n",
       "    <tr>\n",
       "      <th>No response</th>\n",
       "      <td>0.543770</td>\n",
       "    </tr>\n",
       "    <tr>\n",
       "      <th>a little extra</th>\n",
       "      <td>0.547720</td>\n",
       "    </tr>\n",
       "    <tr>\n",
       "      <th>athletic</th>\n",
       "      <td>0.557120</td>\n",
       "    </tr>\n",
       "    <tr>\n",
       "      <th>average</th>\n",
       "      <td>0.552662</td>\n",
       "    </tr>\n",
       "    <tr>\n",
       "      <th>curvy</th>\n",
       "      <td>0.556193</td>\n",
       "    </tr>\n",
       "    <tr>\n",
       "      <th>fit</th>\n",
       "      <td>0.550610</td>\n",
       "    </tr>\n",
       "    <tr>\n",
       "      <th>full figured</th>\n",
       "      <td>0.548402</td>\n",
       "    </tr>\n",
       "    <tr>\n",
       "      <th>jacked</th>\n",
       "      <td>0.540141</td>\n",
       "    </tr>\n",
       "    <tr>\n",
       "      <th>overweight</th>\n",
       "      <td>0.530730</td>\n",
       "    </tr>\n",
       "    <tr>\n",
       "      <th>rather not say</th>\n",
       "      <td>0.579225</td>\n",
       "    </tr>\n",
       "    <tr>\n",
       "      <th>skinny</th>\n",
       "      <td>0.559363</td>\n",
       "    </tr>\n",
       "    <tr>\n",
       "      <th>thin</th>\n",
       "      <td>0.550269</td>\n",
       "    </tr>\n",
       "    <tr>\n",
       "      <th>used up</th>\n",
       "      <td>0.566237</td>\n",
       "    </tr>\n",
       "  </tbody>\n",
       "</table>\n",
       "</div>"
      ],
      "text/plain": [
       "                yes_vote\n",
       "body_type               \n",
       "No response     0.543770\n",
       "a little extra  0.547720\n",
       "athletic        0.557120\n",
       "average         0.552662\n",
       "curvy           0.556193\n",
       "fit             0.550610\n",
       "full figured    0.548402\n",
       "jacked          0.540141\n",
       "overweight      0.530730\n",
       "rather not say  0.579225\n",
       "skinny          0.559363\n",
       "thin            0.550269\n",
       "used up         0.566237"
      ]
     },
     "execution_count": 95,
     "metadata": {},
     "output_type": "execute_result"
    }
   ],
   "source": [
    "body_data_f"
   ]
  },
  {
   "cell_type": "markdown",
   "metadata": {},
   "source": [
    "Our test statistic is going to be the mean of the yes_vote ratio.\n",
    "\n",
    "H0: mean of \"rather not say\" often = mean\n",
    "\n",
    "H1: mean of \"rather not say\" often > mean"
   ]
  },
  {
   "cell_type": "code",
   "execution_count": 96,
   "metadata": {},
   "outputs": [],
   "source": [
    "mystery_body = body_data_f.loc[\"rather not say\", \"yes_vote\"]"
   ]
  },
  {
   "cell_type": "code",
   "execution_count": 97,
   "metadata": {},
   "outputs": [
    {
     "data": {
      "text/plain": [
       "0.0"
      ]
     },
     "execution_count": 97,
     "metadata": {},
     "output_type": "execute_result"
    }
   ],
   "source": [
    "list_ratio_mystery_female = []\n",
    "\n",
    "for i in range(0,1000):\n",
    "    df_sample = bumble_data_f[\"yes_vote\"].sample(1000)\n",
    "    media_sample = df_sample.mean()\n",
    "    list_ratio_mystery_female.append(media_sample)\n",
    "    \n",
    "mystery_body_count = 0\n",
    "for i in list_ratio_mystery_female:\n",
    "    if i >= mystery_body:\n",
    "        mystery_body_count += 1\n",
    "        \n",
    "p_value_mystery_f = mystery_body_count/len(list_ratio_mystery_female)\n",
    "p_value_mystery_f"
   ]
  },
  {
   "cell_type": "code",
   "execution_count": 98,
   "metadata": {},
   "outputs": [],
   "source": [
    "# Male\n",
    "body_data_m = bumble_data_m[[\"body_type\", \"yes_vote\"]] \n",
    "body_data_m = body_data_m.groupby(\"body_type\").mean()"
   ]
  },
  {
   "cell_type": "code",
   "execution_count": 99,
   "metadata": {
    "scrolled": true
   },
   "outputs": [
    {
     "data": {
      "text/plain": [
       "<AxesSubplot:ylabel='body_type'>"
      ]
     },
     "execution_count": 99,
     "metadata": {},
     "output_type": "execute_result"
    },
    {
     "data": {
      "image/png": "[encoded data removed]",
      "text/plain": [
       "<Figure size 432x288 with 1 Axes>"
      ]
     },
     "metadata": {
      "needs_background": "light"
     },
     "output_type": "display_data"
    }
   ],
   "source": [
    "body_data_m.plot.barh()"
   ]
  },
  {
   "cell_type": "code",
   "execution_count": 100,
   "metadata": {
    "scrolled": false
   },
   "outputs": [
    {
     "data": {
      "text/html": [
       "<div>\n",
       "<style scoped>\n",
       "    .dataframe tbody tr th:only-of-type {\n",
       "        vertical-align: middle;\n",
       "    }\n",
       "\n",
       "    .dataframe tbody tr th {\n",
       "        vertical-align: top;\n",
       "    }\n",
       "\n",
       "    .dataframe thead th {\n",
       "        text-align: right;\n",
       "    }\n",
       "</style>\n",
       "<table border=\"1\" class=\"dataframe\">\n",
       "  <thead>\n",
       "    <tr style=\"text-align: right;\">\n",
       "      <th></th>\n",
       "      <th>yes_vote</th>\n",
       "    </tr>\n",
       "    <tr>\n",
       "      <th>body_type</th>\n",
       "      <th></th>\n",
       "    </tr>\n",
       "  </thead>\n",
       "  <tbody>\n",
       "    <tr>\n",
       "      <th>No response</th>\n",
       "      <td>0.145169</td>\n",
       "    </tr>\n",
       "    <tr>\n",
       "      <th>a little extra</th>\n",
       "      <td>0.148337</td>\n",
       "    </tr>\n",
       "    <tr>\n",
       "      <th>athletic</th>\n",
       "      <td>0.156620</td>\n",
       "    </tr>\n",
       "    <tr>\n",
       "      <th>average</th>\n",
       "      <td>0.154659</td>\n",
       "    </tr>\n",
       "    <tr>\n",
       "      <th>curvy</th>\n",
       "      <td>0.164933</td>\n",
       "    </tr>\n",
       "    <tr>\n",
       "      <th>fit</th>\n",
       "      <td>0.156960</td>\n",
       "    </tr>\n",
       "    <tr>\n",
       "      <th>full figured</th>\n",
       "      <td>0.166926</td>\n",
       "    </tr>\n",
       "    <tr>\n",
       "      <th>jacked</th>\n",
       "      <td>0.168196</td>\n",
       "    </tr>\n",
       "    <tr>\n",
       "      <th>overweight</th>\n",
       "      <td>0.137594</td>\n",
       "    </tr>\n",
       "    <tr>\n",
       "      <th>rather not say</th>\n",
       "      <td>0.143755</td>\n",
       "    </tr>\n",
       "    <tr>\n",
       "      <th>skinny</th>\n",
       "      <td>0.153039</td>\n",
       "    </tr>\n",
       "    <tr>\n",
       "      <th>thin</th>\n",
       "      <td>0.149616</td>\n",
       "    </tr>\n",
       "    <tr>\n",
       "      <th>used up</th>\n",
       "      <td>0.128756</td>\n",
       "    </tr>\n",
       "  </tbody>\n",
       "</table>\n",
       "</div>"
      ],
      "text/plain": [
       "                yes_vote\n",
       "body_type               \n",
       "No response     0.145169\n",
       "a little extra  0.148337\n",
       "athletic        0.156620\n",
       "average         0.154659\n",
       "curvy           0.164933\n",
       "fit             0.156960\n",
       "full figured    0.166926\n",
       "jacked          0.168196\n",
       "overweight      0.137594\n",
       "rather not say  0.143755\n",
       "skinny          0.153039\n",
       "thin            0.149616\n",
       "used up         0.128756"
      ]
     },
     "execution_count": 100,
     "metadata": {},
     "output_type": "execute_result"
    }
   ],
   "source": [
    "body_data_m"
   ]
  },
  {
   "cell_type": "code",
   "execution_count": 101,
   "metadata": {},
   "outputs": [],
   "source": [
    "jacked = body_data_m.loc[\"jacked\", \"yes_vote\"]"
   ]
  },
  {
   "cell_type": "markdown",
   "metadata": {},
   "source": [
    "Our test statistic is going to be the mean of the yes_vote ratio.\n",
    "\n",
    "H0: mean of \"jacked\" often = mean\n",
    "\n",
    "H1: mean of \"jacked\" often > mean"
   ]
  },
  {
   "cell_type": "code",
   "execution_count": 102,
   "metadata": {},
   "outputs": [
    {
     "data": {
      "text/plain": [
       "0.021"
      ]
     },
     "execution_count": 102,
     "metadata": {},
     "output_type": "execute_result"
    }
   ],
   "source": [
    "list_ratio_jacked_male = []\n",
    "\n",
    "for i in range(0,1000):\n",
    "    df_sample = bumble_data_m[\"yes_vote\"].sample(1000)\n",
    "    media_sample = df_sample.mean()\n",
    "    list_ratio_jacked_male.append(media_sample)\n",
    "    \n",
    "count_m_jacked = 0\n",
    "for i in list_ratio_jacked_male:\n",
    "    if i >= jacked:\n",
    "        count_m_jacked += 1\n",
    "        \n",
    "p_value_jacked_m = count_m_jacked/len(list_ratio_jacked_male)\n",
    "p_value_jacked_m"
   ]
  },
  {
   "cell_type": "markdown",
   "metadata": {},
   "source": [
    "We can see that most of the different categories in the body_type variable are very similar. Except for the \"rather not say\" value for female and jacked for male. We did hipothesys testing to make sure this was not by randomness.\n",
    "\n",
    "The p_value for female was 0, which means we reject H0 and it is significant.\n",
    "\n",
    "The p_value for male was 0.025, which means we reject H0 and it is significant.\n",
    "\n",
    "Interesting to see how girls always say they dont like jacked people..."
   ]
  },
  {
   "cell_type": "markdown",
   "metadata": {},
   "source": [
    "### Drinks\n",
    "Mean grouped pero different drink categories."
   ]
  },
  {
   "cell_type": "code",
   "execution_count": 103,
   "metadata": {},
   "outputs": [],
   "source": [
    "# Female\n",
    "drinks_data_f = bumble_data_f[[\"drinks\", \"yes_vote\"]] \n",
    "drinks_data_f = drinks_data_f.groupby(\"drinks\").mean()"
   ]
  },
  {
   "cell_type": "code",
   "execution_count": 104,
   "metadata": {
    "scrolled": true
   },
   "outputs": [
    {
     "data": {
      "text/plain": [
       "<AxesSubplot:xlabel='drinks'>"
      ]
     },
     "execution_count": 104,
     "metadata": {},
     "output_type": "execute_result"
    },
    {
     "data": {
      "image/png": "[encoded data removed]",
      "text/plain": [
       "<Figure size 432x288 with 1 Axes>"
      ]
     },
     "metadata": {
      "needs_background": "light"
     },
     "output_type": "display_data"
    }
   ],
   "source": [
    "drinks_data_f.plot.bar(rot = 45)"
   ]
  },
  {
   "cell_type": "code",
   "execution_count": 105,
   "metadata": {
    "scrolled": true
   },
   "outputs": [
    {
     "data": {
      "text/html": [
       "<div>\n",
       "<style scoped>\n",
       "    .dataframe tbody tr th:only-of-type {\n",
       "        vertical-align: middle;\n",
       "    }\n",
       "\n",
       "    .dataframe tbody tr th {\n",
       "        vertical-align: top;\n",
       "    }\n",
       "\n",
       "    .dataframe thead th {\n",
       "        text-align: right;\n",
       "    }\n",
       "</style>\n",
       "<table border=\"1\" class=\"dataframe\">\n",
       "  <thead>\n",
       "    <tr style=\"text-align: right;\">\n",
       "      <th></th>\n",
       "      <th>yes_vote</th>\n",
       "    </tr>\n",
       "    <tr>\n",
       "      <th>drinks</th>\n",
       "      <th></th>\n",
       "    </tr>\n",
       "  </thead>\n",
       "  <tbody>\n",
       "    <tr>\n",
       "      <th>No response</th>\n",
       "      <td>0.529157</td>\n",
       "    </tr>\n",
       "    <tr>\n",
       "      <th>desperately</th>\n",
       "      <td>0.511597</td>\n",
       "    </tr>\n",
       "    <tr>\n",
       "      <th>not at all</th>\n",
       "      <td>0.545800</td>\n",
       "    </tr>\n",
       "    <tr>\n",
       "      <th>often</th>\n",
       "      <td>0.553617</td>\n",
       "    </tr>\n",
       "    <tr>\n",
       "      <th>rarely</th>\n",
       "      <td>0.550298</td>\n",
       "    </tr>\n",
       "    <tr>\n",
       "      <th>socially</th>\n",
       "      <td>0.553795</td>\n",
       "    </tr>\n",
       "    <tr>\n",
       "      <th>very often</th>\n",
       "      <td>0.567986</td>\n",
       "    </tr>\n",
       "  </tbody>\n",
       "</table>\n",
       "</div>"
      ],
      "text/plain": [
       "             yes_vote\n",
       "drinks               \n",
       "No response  0.529157\n",
       "desperately  0.511597\n",
       "not at all   0.545800\n",
       "often        0.553617\n",
       "rarely       0.550298\n",
       "socially     0.553795\n",
       "very often   0.567986"
      ]
     },
     "execution_count": 105,
     "metadata": {},
     "output_type": "execute_result"
    }
   ],
   "source": [
    "drinks_data_f"
   ]
  },
  {
   "cell_type": "markdown",
   "metadata": {},
   "source": [
    "We can see that most of the different categories in the drinks variable are very similar. Except for the \"desperately\" value. We are going to do a hypothesis test to see if this is produced by randomness or if it could be significant.\n",
    "\n",
    "Our test statistic is going to be the mean of the yes_vote ratio.\n",
    "\n",
    "H0: mean of drinks desperately = mean\n",
    "\n",
    "H1: mean of drinks desperately < mean"
   ]
  },
  {
   "cell_type": "code",
   "execution_count": 106,
   "metadata": {},
   "outputs": [],
   "source": [
    "desperately_f = drinks_data_f.loc[\"desperately\", \"yes_vote\"]"
   ]
  },
  {
   "cell_type": "code",
   "execution_count": 107,
   "metadata": {},
   "outputs": [
    {
     "data": {
      "text/plain": [
       "0.5115970375006519"
      ]
     },
     "execution_count": 107,
     "metadata": {},
     "output_type": "execute_result"
    }
   ],
   "source": [
    "desperately_f"
   ]
  },
  {
   "cell_type": "code",
   "execution_count": 108,
   "metadata": {},
   "outputs": [],
   "source": [
    "list_ratio_drinks_female = []\n",
    "\n",
    "for i in range(0,1000):\n",
    "    df_sample = bumble_data_f[\"yes_vote\"].sample(1000)\n",
    "    media_sample = df_sample.mean()\n",
    "    list_ratio_drinks_female.append(media_sample)"
   ]
  },
  {
   "cell_type": "code",
   "execution_count": 109,
   "metadata": {},
   "outputs": [],
   "source": [
    "count_f_drinks = 0\n",
    "for i in list_ratio_drinks_female:\n",
    "    if i <= desperately_f:\n",
    "        count_f_drinks += 1"
   ]
  },
  {
   "cell_type": "code",
   "execution_count": 110,
   "metadata": {},
   "outputs": [
    {
     "ename": "NameError",
     "evalue": "name 'count_m_drinks' is not defined",
     "output_type": "error",
     "traceback": [
      "\u001b[1;31m---------------------------------------------------------------------------\u001b[0m",
      "\u001b[1;31mNameError\u001b[0m                                 Traceback (most recent call last)",
      "\u001b[1;32m<ipython-input-110-52dea15178c5>\u001b[0m in \u001b[0;36m<module>\u001b[1;34m\u001b[0m\n\u001b[1;32m----> 1\u001b[1;33m \u001b[0mp_value_drink_m\u001b[0m \u001b[1;33m=\u001b[0m \u001b[0mcount_m_drinks\u001b[0m\u001b[1;33m/\u001b[0m\u001b[0mlen\u001b[0m\u001b[1;33m(\u001b[0m\u001b[0mlist_ratio_drinks_male\u001b[0m\u001b[1;33m)\u001b[0m\u001b[1;33m\u001b[0m\u001b[1;33m\u001b[0m\u001b[0m\n\u001b[0m\u001b[0;32m      2\u001b[0m \u001b[0mp_value_drink_m\u001b[0m\u001b[1;33m\u001b[0m\u001b[1;33m\u001b[0m\u001b[0m\n",
      "\u001b[1;31mNameError\u001b[0m: name 'count_m_drinks' is not defined"
     ]
    }
   ],
   "source": [
    "p_value_drink_m = count_m_drinks/len(list_ratio_drinks_male)\n",
    "p_value_drink_m"
   ]
  },
  {
   "cell_type": "markdown",
   "metadata": {},
   "source": [
    "We got a p_value = 0.\n",
    "\n",
    "This is the probability of getting a result as low or lower as the one we got having H0.\n",
    "We reject the null hypothesis"
   ]
  },
  {
   "cell_type": "code",
   "execution_count": null,
   "metadata": {},
   "outputs": [],
   "source": [
    "# Male\n",
    "drinks_data_m = bumble_data_m[[\"drinks\", \"yes_vote\"]] \n",
    "drinks_data_m = drinks_data_m.groupby(\"drinks\").mean()"
   ]
  },
  {
   "cell_type": "code",
   "execution_count": null,
   "metadata": {},
   "outputs": [],
   "source": [
    "drinks_data_m.plot.bar(rot = 45)"
   ]
  },
  {
   "cell_type": "code",
   "execution_count": null,
   "metadata": {
    "scrolled": true
   },
   "outputs": [],
   "source": [
    "drinks_data_m"
   ]
  },
  {
   "cell_type": "markdown",
   "metadata": {},
   "source": [
    "We can see that most of the different categories in the drinks variable are very similar. Except for the \"desperately\" value. We are going to do a hypothesis test to see if this is produced by randomness or if it could be significant.\n",
    "\n",
    "Our test statistic is going to be the mean of the yes_vote ratio.\n",
    "\n",
    "H0: mean of drinks desperately = mean\n",
    "\n",
    "H1: mean of drinks desperately < mean"
   ]
  },
  {
   "cell_type": "code",
   "execution_count": null,
   "metadata": {},
   "outputs": [],
   "source": [
    "list_ratio_drinks_male = []\n",
    "\n",
    "for i in range(0,1000):\n",
    "    df_sample = bumble_data_m[\"yes_vote\"].sample(1000)\n",
    "    media_sample = df_sample.mean()\n",
    "    list_ratio_drinks_male.append(media_sample)"
   ]
  },
  {
   "cell_type": "code",
   "execution_count": null,
   "metadata": {},
   "outputs": [],
   "source": [
    "count_m_drinks = 0\n",
    "for i in list_ratio_drinks_male:\n",
    "    if i <= 0.118745:\n",
    "        count_m += 1"
   ]
  },
  {
   "cell_type": "code",
   "execution_count": null,
   "metadata": {},
   "outputs": [],
   "source": [
    "p_value_drink_m = count_m_drinks/len(list_ratio_drinks_male)\n",
    "p_value_drink_m"
   ]
  },
  {
   "cell_type": "markdown",
   "metadata": {},
   "source": [
    "We got a p_value = 0.\n",
    "\n",
    "This is the probability of getting a result as low or lower as the one we got having H0.\n",
    "We reject the null hypothesis"
   ]
  },
  {
   "cell_type": "markdown",
   "metadata": {},
   "source": [
    "As a conclusion, we can say that having \"desperately\" in the variable drinks will make female users get in average 3.5% lower ratios and for male users 4% lower ratios."
   ]
  },
  {
   "cell_type": "markdown",
   "metadata": {},
   "source": [
    "### Drugs\n",
    "\n",
    "Mean grouped per different drugs categories."
   ]
  },
  {
   "cell_type": "code",
   "execution_count": null,
   "metadata": {},
   "outputs": [],
   "source": [
    "# Female\n",
    "drugs_data_f = bumble_data_f[[\"drugs\", \"yes_vote\"]] \n",
    "drugs_data_f = drugs_data_f.groupby(\"drugs\").mean()"
   ]
  },
  {
   "cell_type": "code",
   "execution_count": null,
   "metadata": {},
   "outputs": [],
   "source": [
    "drugs_data_f.plot.bar(rot = 360)"
   ]
  },
  {
   "cell_type": "code",
   "execution_count": null,
   "metadata": {},
   "outputs": [],
   "source": [
    "drugs_data_f"
   ]
  },
  {
   "cell_type": "code",
   "execution_count": null,
   "metadata": {},
   "outputs": [],
   "source": [
    "# Male\n",
    "drugs_data_m = bumble_data_m[[\"drugs\", \"yes_vote\"]] \n",
    "drugs_data_m = drugs_data_m.groupby(\"drugs\").mean()"
   ]
  },
  {
   "cell_type": "code",
   "execution_count": null,
   "metadata": {},
   "outputs": [],
   "source": [
    "drugs_data_m.plot.bar(rot = 360)"
   ]
  },
  {
   "cell_type": "code",
   "execution_count": null,
   "metadata": {
    "scrolled": true
   },
   "outputs": [],
   "source": [
    "drugs_data_m"
   ]
  },
  {
   "cell_type": "markdown",
   "metadata": {},
   "source": [
    "We can see in this case that the value \"often\" gets lower rates. It is interesting how this happens for male users and not female users."
   ]
  },
  {
   "cell_type": "markdown",
   "metadata": {},
   "source": [
    "We can see that most of the different categories in the drugs variable are very similar. Except for the \"often\" value. We are going to do a hypothesis test to see if this is produced by randomness or if it could be significant.\n",
    "\n",
    "Our test statistic is going to be the mean of the yes_vote ratio.\n",
    "\n",
    "H0: mean of drugs often = mean\n",
    "\n",
    "H1: mean of drugs often < mean"
   ]
  },
  {
   "cell_type": "code",
   "execution_count": null,
   "metadata": {},
   "outputs": [],
   "source": [
    "drugs_often = drugs_data_m.loc[\"often\", \"yes_vote\"]"
   ]
  },
  {
   "cell_type": "code",
   "execution_count": null,
   "metadata": {},
   "outputs": [],
   "source": [
    "list_ratio_drugs_male = []\n",
    "\n",
    "for i in range(0,1000):\n",
    "    df_sample = bumble_data_m[\"yes_vote\"].sample(1000)\n",
    "    media_sample = df_sample.mean()\n",
    "    list_ratio_drugs_male.append(media_sample)"
   ]
  },
  {
   "cell_type": "code",
   "execution_count": null,
   "metadata": {},
   "outputs": [],
   "source": [
    "count_m_drugs = 0\n",
    "for i in list_ratio_drugs_male:\n",
    "    if i <= drugs_often:\n",
    "        count_m_drugs += 1"
   ]
  },
  {
   "cell_type": "code",
   "execution_count": null,
   "metadata": {},
   "outputs": [],
   "source": [
    "p_value_drugs_m = count_m_drugs/len(list_ratio_drugs_male)\n",
    "p_value_drugs_m"
   ]
  },
  {
   "cell_type": "markdown",
   "metadata": {},
   "source": [
    "We got a p_value = 0.\n",
    "\n",
    "This is the probability of getting a result as low or lower as the one we got having H0.\n",
    "We reject the null hypothesis.\n",
    "\n",
    "As a conclusion is interesting to see how female and male users behave differently in regard to the use of drugs. Since most of the users are straight, most of the votes for male users are from females. Females tend to vote 3.5% less to males that consume drugs often. This is very similar to the variable we studied before."
   ]
  },
  {
   "cell_type": "markdown",
   "metadata": {},
   "source": [
    "### Ethnicity\n",
    "\n",
    "Mean grouped per different ethnicity category."
   ]
  },
  {
   "cell_type": "code",
   "execution_count": null,
   "metadata": {
    "scrolled": true
   },
   "outputs": [],
   "source": [
    "# Female\n",
    "ethnicity_data_f = bumble_data_f[[\"ethnicity\", \"yes_vote\"]] \n",
    "ethnicity_data_f = ethnicity_data_f.groupby(\"ethnicity\").mean()\n",
    "ethnicity_data_f.plot.bar(rot = 360)"
   ]
  },
  {
   "cell_type": "code",
   "execution_count": null,
   "metadata": {
    "scrolled": true
   },
   "outputs": [],
   "source": [
    "# Male\n",
    "ethnicity_data_m = bumble_data_m[[\"ethnicity\", \"yes_vote\"]] \n",
    "ethnicity_data_m = ethnicity_data_m.groupby(\"ethnicity\").mean()\n",
    "ethnicity_data_m.plot.bar(rot = 360)"
   ]
  },
  {
   "cell_type": "markdown",
   "metadata": {},
   "source": [
    "This variable has very similar values in its different categories. We will not study it further."
   ]
  },
  {
   "cell_type": "markdown",
   "metadata": {},
   "source": [
    "### Height\n",
    "\n",
    "Correlations."
   ]
  },
  {
   "cell_type": "code",
   "execution_count": null,
   "metadata": {},
   "outputs": [],
   "source": [
    "bumble_data_f[\"height\"].corr(bumble_data_f[\"yes_vote\"])"
   ]
  },
  {
   "cell_type": "code",
   "execution_count": null,
   "metadata": {},
   "outputs": [],
   "source": [
    "bumble_data_m[\"height\"].corr(bumble_data_m[\"yes_vote\"])"
   ]
  },
  {
   "cell_type": "markdown",
   "metadata": {},
   "source": [
    "The correlations between height and the ratio of votes is too low to analyze it further."
   ]
  },
  {
   "cell_type": "markdown",
   "metadata": {},
   "source": [
    "### Job\n",
    "\n",
    "Mean grouped per different job category."
   ]
  },
  {
   "cell_type": "code",
   "execution_count": null,
   "metadata": {},
   "outputs": [],
   "source": [
    "# Female\n",
    "job_data_f = bumble_data_f[[\"job\", \"yes_vote\"]] \n",
    "job_data_f = job_data_f.groupby(\"job\").mean()\n",
    "job_data_f.plot.barh(figsize=(10, 10))"
   ]
  },
  {
   "cell_type": "code",
   "execution_count": null,
   "metadata": {
    "scrolled": true
   },
   "outputs": [],
   "source": [
    "job_data_f"
   ]
  },
  {
   "cell_type": "markdown",
   "metadata": {},
   "source": [
    "We can see that most of the different categories in the job variable are very similar. Except for the \"transportation\", and \"unemployed\" values. We are going to do a hypothesis test to see if this is produced by randomness or if it could be significant.\n",
    "\n",
    "Since unemployed is a bit lower than transportation, if unemployed is significant, the other one will be too.\n",
    "\n",
    "Our test statistic is going to be the mean of the yes_vote ratio.\n",
    "\n",
    "H0: mean of unemployed = mean\n",
    "\n",
    "H1: mean unemployed > mean"
   ]
  },
  {
   "cell_type": "code",
   "execution_count": null,
   "metadata": {},
   "outputs": [],
   "source": [
    "unemployed = job_data_f.loc[\"unemployed\", \"yes_vote\"]"
   ]
  },
  {
   "cell_type": "code",
   "execution_count": null,
   "metadata": {},
   "outputs": [],
   "source": [
    "list_ratio_unemployed_female = []\n",
    "\n",
    "for i in range(0,1000):\n",
    "    df_sample = bumble_data_f[\"yes_vote\"].sample(1000)\n",
    "    media_sample = df_sample.mean()\n",
    "    list_ratio_unemployed_female.append(media_sample)\n",
    "    \n",
    "count_f_unemployed = 0\n",
    "for i in list_ratio_unemployed_female:\n",
    "    if i >= unemployed:\n",
    "        count_f_unemployed += 1\n",
    "        \n",
    "p_value_unemployed_f = count_f_unemployed/len(list_ratio_unemployed_female)\n",
    "p_value_unemployed_f"
   ]
  },
  {
   "cell_type": "code",
   "execution_count": null,
   "metadata": {},
   "outputs": [],
   "source": [
    "# Male\n",
    "job_data_m = bumble_data_m[[\"job\", \"yes_vote\"]] \n",
    "job_data_m = job_data_m.groupby(\"job\").mean()\n",
    "job_data_m.plot.barh(figsize=(10, 10))"
   ]
  },
  {
   "cell_type": "code",
   "execution_count": null,
   "metadata": {
    "scrolled": true
   },
   "outputs": [],
   "source": [
    "job_data_m"
   ]
  },
  {
   "cell_type": "markdown",
   "metadata": {},
   "source": [
    "We can see that most of the different categories in the job variable are very similar. Except for the \"unemployed\" value. We are going to do a hypothesis test to see if this is produced by randomness or if it could be significant.\n",
    "\n",
    "Our test statistic is going to be the mean of the yes_vote ratio.\n",
    "\n",
    "H0: mean of unemployed = mean\n",
    "\n",
    "H1: mean unemployed > mean"
   ]
  },
  {
   "cell_type": "code",
   "execution_count": null,
   "metadata": {},
   "outputs": [],
   "source": [
    "unemployed_m = job_data_m.loc[\"unemployed\", \"yes_vote\"]"
   ]
  },
  {
   "cell_type": "code",
   "execution_count": null,
   "metadata": {},
   "outputs": [],
   "source": [
    "list_ratio_unemployed_male = []\n",
    "\n",
    "for i in range(0,1000):\n",
    "    df_sample = bumble_data_m[\"yes_vote\"].sample(1000)\n",
    "    media_sample = df_sample.mean()\n",
    "    list_ratio_unemployed_male.append(media_sample)\n",
    "    \n",
    "count_m_unemployed = 0\n",
    "for i in list_ratio_unemployed_male:\n",
    "    if i >= unemployed_m:\n",
    "        count_m_unemployed += 1\n",
    "        \n",
    "p_value_unemployed_m = count_m_unemployed/len(list_ratio_unemployed_male)\n",
    "p_value_unemployed_m"
   ]
  },
  {
   "cell_type": "markdown",
   "metadata": {},
   "source": [
    "Both for female and male, we reject H0.\n",
    "\n",
    "It is really interesting how the unemployed and transportation female get that high ratios. The get ratios 3.2% higher for unemployed and 3.6% higher for transportation.\n",
    "\n",
    "Something similar happens at a lower scale for men. 2.7% higher ratios for unemployed."
   ]
  },
  {
   "cell_type": "markdown",
   "metadata": {},
   "source": [
    "### Offspring\n",
    "\n",
    "Mean grouped per different offspring category."
   ]
  },
  {
   "cell_type": "code",
   "execution_count": null,
   "metadata": {},
   "outputs": [],
   "source": [
    "# Female\n",
    "offspring_data_f = bumble_data_f[[\"offspring\", \"yes_vote\"]] \n",
    "offspring_data_f = offspring_data_f.groupby(\"offspring\").mean()\n",
    "offspring_data_f.plot.barh(figsize=(10, 10))"
   ]
  },
  {
   "cell_type": "code",
   "execution_count": null,
   "metadata": {},
   "outputs": [],
   "source": [
    "offspring_data_f"
   ]
  },
  {
   "cell_type": "code",
   "execution_count": null,
   "metadata": {},
   "outputs": [],
   "source": [
    "# Male\n",
    "offspring_data_m = bumble_data_m[[\"offspring\", \"yes_vote\"]] \n",
    "offspring_data_m = offspring_data_m.groupby(\"offspring\").mean()\n",
    "offspring_data_m.plot.barh(figsize=(10, 10))"
   ]
  },
  {
   "cell_type": "code",
   "execution_count": null,
   "metadata": {},
   "outputs": [],
   "source": [
    "offspring_data_m"
   ]
  },
  {
   "cell_type": "markdown",
   "metadata": {},
   "source": [
    "### Pets\n",
    "\n",
    "Mean grouped per different pets category."
   ]
  },
  {
   "cell_type": "code",
   "execution_count": null,
   "metadata": {},
   "outputs": [],
   "source": [
    "# Female\n",
    "pets_data_f = bumble_data_f[[\"pets\", \"yes_vote\"]] \n",
    "pets_data_f = pets_data_f.groupby(\"pets\").mean()\n",
    "pets_data_f.plot.barh(figsize=(10, 10))"
   ]
  },
  {
   "cell_type": "code",
   "execution_count": null,
   "metadata": {},
   "outputs": [],
   "source": [
    "pets_data_f"
   ]
  },
  {
   "cell_type": "code",
   "execution_count": null,
   "metadata": {},
   "outputs": [],
   "source": [
    "# Male\n",
    "pets_data_m = bumble_data_m[[\"pets\", \"yes_vote\"]] \n",
    "pets_data_m = pets_data_m.groupby(\"pets\").mean()\n",
    "pets_data_m.plot.barh(figsize=(10, 10))"
   ]
  },
  {
   "cell_type": "code",
   "execution_count": null,
   "metadata": {},
   "outputs": [],
   "source": [
    "pets_data_m"
   ]
  },
  {
   "cell_type": "markdown",
   "metadata": {},
   "source": [
    "### Smokes\n",
    "\n",
    "Mean grouped per different smokes category."
   ]
  },
  {
   "cell_type": "code",
   "execution_count": null,
   "metadata": {},
   "outputs": [],
   "source": [
    "# Female\n",
    "smokes_data_f = bumble_data_f[[\"smokes\", \"yes_vote\"]] \n",
    "smokes_data_f = smokes_data_f.groupby(\"smokes\").mean()\n",
    "smokes_data_f.plot.bar(rot = 45, figsize=(10, 10))"
   ]
  },
  {
   "cell_type": "code",
   "execution_count": null,
   "metadata": {},
   "outputs": [],
   "source": [
    "# Male\n",
    "smokes_data_m = bumble_data_m[[\"smokes\", \"yes_vote\"]] \n",
    "smokes_data_m = smokes_data_m.groupby(\"smokes\").mean()\n",
    "smokes_data_m.plot.bar(rot = 45, figsize=(10, 10))"
   ]
  },
  {
   "cell_type": "code",
   "execution_count": null,
   "metadata": {},
   "outputs": [],
   "source": [
    "smokes_data_m"
   ]
  },
  {
   "cell_type": "markdown",
   "metadata": {},
   "source": [
    "We can see that most of the different categories in the drugs variables are similar. Except for the \"yes\" value. We are going to do a hypothesis test to see if this is produced by randomness or if it could be significant.\n",
    "Our test statistic is going to be the mean of the yes_vote ratio.\n",
    "H0: mean of smokes yes = mean\n",
    "H1: mean of smokes yes < mean"
   ]
  },
  {
   "cell_type": "code",
   "execution_count": null,
   "metadata": {
    "scrolled": true
   },
   "outputs": [],
   "source": [
    "bumble_data_m.describe()"
   ]
  },
  {
   "cell_type": "code",
   "execution_count": null,
   "metadata": {},
   "outputs": [],
   "source": [
    "smokes_often = smokes_data_m.loc[\"yes\", \"yes_vote\"]"
   ]
  },
  {
   "cell_type": "code",
   "execution_count": null,
   "metadata": {},
   "outputs": [],
   "source": [
    "list_ratio_smokes_male = []\n",
    "\n",
    "for i in range(0,1000):\n",
    "    df_sample = bumble_data_m[\"yes_vote\"].sample(1000)\n",
    "    media_sample = df_sample.mean()\n",
    "    list_ratio_smokes_male.append(media_sample)\n",
    "    \n",
    "count_m_smokes = 0\n",
    "for i in list_ratio_smokes_male:\n",
    "    if i <= smokes_often:\n",
    "        count_m_smokes += 1\n",
    "        \n",
    "p_value_smokes_m = count_m_smokes/len(list_ratio_smokes_male)\n",
    "p_value_smokes_m"
   ]
  },
  {
   "cell_type": "markdown",
   "metadata": {},
   "source": [
    "We got a p_value = 0.\n",
    "\n",
    "This is the probability of getting a result as low or lower as the one we got having H0.\n",
    "We reject the null hypothesis.\n",
    "\n",
    "As we expected seeing the drinks and drugs variable, this one affects the ratio of men while not women.\n",
    "\n",
    "Men get 2.3% ratios when they smoke. To smoke affects less than drinking or doing drugs."
   ]
  },
  {
   "cell_type": "code",
   "execution_count": null,
   "metadata": {},
   "outputs": [],
   "source": []
  },
  {
   "cell_type": "markdown",
   "metadata": {},
   "source": [
    "# Conclusion"
   ]
  },
  {
   "cell_type": "markdown",
   "metadata": {},
   "source": [
    "### Factors popularity"
   ]
  },
  {
   "cell_type": "markdown",
   "metadata": {},
   "source": [
    "### Factors unpopularity"
   ]
  },
  {
   "cell_type": "markdown",
   "metadata": {},
   "source": [
    "It is important to point out that eventhough we see significance in the variables that we talked about, this does not mean that there is causation.\n",
    "\n",
    "This means that for example the fact that unemployed female get higher ratios, this does not mean that its for the fact of being unemployed. There could be a related factor which makes them get the better ratios."
   ]
  },
  {
   "cell_type": "code",
   "execution_count": null,
   "metadata": {},
   "outputs": [],
   "source": []
  }
 ],
 "metadata": {
  "kernelspec": {
   "display_name": "Python 3",
   "language": "python",
   "name": "python3"
  },
  "language_info": {
   "codemirror_mode": {
    "name": "ipython",
    "version": 3
   },
   "file_extension": ".py",
   "mimetype": "text/x-python",
   "name": "python",
   "nbconvert_exporter": "python",
   "pygments_lexer": "ipython3",
   "version": "3.7.7"
  }
 },
 "nbformat": 4,
 "nbformat_minor": 4
}
