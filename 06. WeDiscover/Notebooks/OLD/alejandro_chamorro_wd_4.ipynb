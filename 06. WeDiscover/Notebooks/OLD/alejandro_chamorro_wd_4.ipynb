{
 "cells": [
  {
   "cell_type": "markdown",
   "id": "c6f2fa50",
   "metadata": {},
   "source": [
    "# WeDiscover - Technical Assessment - Alejandro Chamorro\n",
    "------------------------------------"
   ]
  },
  {
   "cell_type": "markdown",
   "id": "f72a88a8",
   "metadata": {},
   "source": [
    "# Structure:\n",
    "\n",
    "#### 1) Data cleaning:\n",
    "    \n",
    "- Inspecting variables   \n",
    "    \n",
    "\n",
    "\n",
    "#### 2) Test 1:\n",
    "\n",
    "- Interesting metrics\n",
    "    \n",
    "- Duration\n",
    "\n",
    "- Alternative duration\n",
    "\n",
    "\n",
    "\n",
    "#### 3) Test 2:\n",
    "\n",
    "- Duration"
   ]
  },
  {
   "cell_type": "markdown",
   "id": "b376c82a",
   "metadata": {},
   "source": [
    "# 1. Data cleaning"
   ]
  },
  {
   "cell_type": "markdown",
   "id": "c5268f08",
   "metadata": {},
   "source": [
    "### Import libraries"
   ]
  },
  {
   "cell_type": "code",
   "execution_count": 1,
   "id": "c565d7b9",
   "metadata": {},
   "outputs": [],
   "source": [
    "import pandas as pd\n",
    "import numpy as np\n",
    "import seaborn as sns\n",
    "import plotly.express as px\n",
    "import matplotlib.pyplot as plt\n",
    "%matplotlib inline\n",
    "import sys\n",
    "sys.path.append('..')\n",
    "pd.set_option('display.max_columns', 50)\n",
    "pd.set_option('display.max_rows', 50)"
   ]
  },
  {
   "cell_type": "markdown",
   "id": "b0e1430c",
   "metadata": {},
   "source": [
    "### Read .jason file"
   ]
  },
  {
   "cell_type": "code",
   "execution_count": 2,
   "id": "106ee53d",
   "metadata": {},
   "outputs": [
    {
     "data": {
      "text/html": [
       "<div>\n",
       "<style scoped>\n",
       "    .dataframe tbody tr th:only-of-type {\n",
       "        vertical-align: middle;\n",
       "    }\n",
       "\n",
       "    .dataframe tbody tr th {\n",
       "        vertical-align: top;\n",
       "    }\n",
       "\n",
       "    .dataframe thead th {\n",
       "        text-align: right;\n",
       "    }\n",
       "</style>\n",
       "<table border=\"1\" class=\"dataframe\">\n",
       "  <thead>\n",
       "    <tr style=\"text-align: right;\">\n",
       "      <th></th>\n",
       "      <th>date</th>\n",
       "      <th>campaign_id</th>\n",
       "      <th>ad_group_id</th>\n",
       "      <th>ad_id</th>\n",
       "      <th>labels</th>\n",
       "      <th>cost</th>\n",
       "      <th>impressions</th>\n",
       "      <th>clicks</th>\n",
       "      <th>registrations</th>\n",
       "      <th>enquiries</th>\n",
       "      <th>purchases</th>\n",
       "    </tr>\n",
       "  </thead>\n",
       "  <tbody>\n",
       "    <tr>\n",
       "      <th>0</th>\n",
       "      <td>date</td>\n",
       "      <td>campaign_id</td>\n",
       "      <td>ad_group_id</td>\n",
       "      <td>ad_id</td>\n",
       "      <td>labels</td>\n",
       "      <td>cost</td>\n",
       "      <td>impressions</td>\n",
       "      <td>clicks</td>\n",
       "      <td>registrations</td>\n",
       "      <td>enquiries</td>\n",
       "      <td>purchases</td>\n",
       "    </tr>\n",
       "    <tr>\n",
       "      <th>1</th>\n",
       "      <td>2020-09-06</td>\n",
       "      <td>100001</td>\n",
       "      <td>200001</td>\n",
       "      <td>300001</td>\n",
       "      <td>[\"mvt_id:91,var_id:type_1\"]</td>\n",
       "      <td>£20.68</td>\n",
       "      <td>1821</td>\n",
       "      <td>12</td>\n",
       "      <td>2.68</td>\n",
       "      <td>0.98</td>\n",
       "      <td>0.18</td>\n",
       "    </tr>\n",
       "    <tr>\n",
       "      <th>2</th>\n",
       "      <td>2020-09-07</td>\n",
       "      <td>100001</td>\n",
       "      <td>200001</td>\n",
       "      <td>300001</td>\n",
       "      <td>[\"mvt_id:91,var_id:type_1\"]</td>\n",
       "      <td>£17.41</td>\n",
       "      <td>2297</td>\n",
       "      <td>10</td>\n",
       "      <td>1.72</td>\n",
       "      <td>0.46</td>\n",
       "      <td>0.20</td>\n",
       "    </tr>\n",
       "  </tbody>\n",
       "</table>\n",
       "</div>"
      ],
      "text/plain": [
       "         date  campaign_id  ad_group_id   ad_id                       labels  \\\n",
       "0        date  campaign_id  ad_group_id   ad_id                       labels   \n",
       "1  2020-09-06       100001       200001  300001  [\"mvt_id:91,var_id:type_1\"]   \n",
       "2  2020-09-07       100001       200001  300001  [\"mvt_id:91,var_id:type_1\"]   \n",
       "\n",
       "     cost  impressions  clicks  registrations  enquiries  purchases  \n",
       "0    cost  impressions  clicks  registrations  enquiries  purchases  \n",
       "1  £20.68         1821      12           2.68       0.98       0.18  \n",
       "2  £17.41         2297      10           1.72       0.46       0.20  "
      ]
     },
     "execution_count": 2,
     "metadata": {},
     "output_type": "execute_result"
    }
   ],
   "source": [
    "data = pd.read_json('../Data/test_data.json')\n",
    "data.head(3)"
   ]
  },
  {
   "cell_type": "code",
   "execution_count": 3,
   "id": "858707df",
   "metadata": {},
   "outputs": [
    {
     "data": {
      "text/html": [
       "<div>\n",
       "<style scoped>\n",
       "    .dataframe tbody tr th:only-of-type {\n",
       "        vertical-align: middle;\n",
       "    }\n",
       "\n",
       "    .dataframe tbody tr th {\n",
       "        vertical-align: top;\n",
       "    }\n",
       "\n",
       "    .dataframe thead th {\n",
       "        text-align: right;\n",
       "    }\n",
       "</style>\n",
       "<table border=\"1\" class=\"dataframe\">\n",
       "  <thead>\n",
       "    <tr style=\"text-align: right;\">\n",
       "      <th></th>\n",
       "      <th>date</th>\n",
       "      <th>campaign_id</th>\n",
       "      <th>ad_group_id</th>\n",
       "      <th>ad_id</th>\n",
       "      <th>labels</th>\n",
       "      <th>cost</th>\n",
       "      <th>impressions</th>\n",
       "      <th>clicks</th>\n",
       "      <th>registrations</th>\n",
       "      <th>enquiries</th>\n",
       "      <th>purchases</th>\n",
       "    </tr>\n",
       "  </thead>\n",
       "  <tbody>\n",
       "    <tr>\n",
       "      <th>3039</th>\n",
       "      <td>2020-10-14</td>\n",
       "      <td>100076</td>\n",
       "      <td>200076</td>\n",
       "      <td>300076</td>\n",
       "      <td>[\"mvt_id:91,var_id:type_2\"]</td>\n",
       "      <td>£18.71</td>\n",
       "      <td>1643</td>\n",
       "      <td>16</td>\n",
       "      <td>1.31</td>\n",
       "      <td>0.69</td>\n",
       "      <td>0.25</td>\n",
       "    </tr>\n",
       "    <tr>\n",
       "      <th>3040</th>\n",
       "      <td>2020-10-15</td>\n",
       "      <td>100076</td>\n",
       "      <td>200076</td>\n",
       "      <td>300076</td>\n",
       "      <td>[\"mvt_id:91,var_id:type_2\"]</td>\n",
       "      <td>£23.76</td>\n",
       "      <td>2078</td>\n",
       "      <td>16</td>\n",
       "      <td>1.00</td>\n",
       "      <td>0.53</td>\n",
       "      <td>0.15</td>\n",
       "    </tr>\n",
       "    <tr>\n",
       "      <th>3041</th>\n",
       "      <td>2020-09-14</td>\n",
       "      <td>100026</td>\n",
       "      <td>200026</td>\n",
       "      <td>300026</td>\n",
       "      <td>[\"mvt_id:91,var_id:type_1\"]</td>\n",
       "      <td>£10.24</td>\n",
       "      <td>1924</td>\n",
       "      <td>7</td>\n",
       "      <td>1.35</td>\n",
       "      <td>0.23</td>\n",
       "      <td>0.09</td>\n",
       "    </tr>\n",
       "  </tbody>\n",
       "</table>\n",
       "</div>"
      ],
      "text/plain": [
       "            date campaign_id ad_group_id   ad_id                       labels  \\\n",
       "3039  2020-10-14      100076      200076  300076  [\"mvt_id:91,var_id:type_2\"]   \n",
       "3040  2020-10-15      100076      200076  300076  [\"mvt_id:91,var_id:type_2\"]   \n",
       "3041  2020-09-14      100026      200026  300026  [\"mvt_id:91,var_id:type_1\"]   \n",
       "\n",
       "        cost impressions clicks registrations enquiries purchases  \n",
       "3039  £18.71        1643     16          1.31      0.69      0.25  \n",
       "3040  £23.76        2078     16          1.00      0.53      0.15  \n",
       "3041  £10.24        1924      7          1.35      0.23      0.09  "
      ]
     },
     "execution_count": 3,
     "metadata": {},
     "output_type": "execute_result"
    }
   ],
   "source": [
    "data = data.iloc[1:]\n",
    "data.tail(3)"
   ]
  },
  {
   "cell_type": "code",
   "execution_count": 4,
   "id": "21c4e287",
   "metadata": {},
   "outputs": [
    {
     "data": {
      "text/html": [
       "<div>\n",
       "<style scoped>\n",
       "    .dataframe tbody tr th:only-of-type {\n",
       "        vertical-align: middle;\n",
       "    }\n",
       "\n",
       "    .dataframe tbody tr th {\n",
       "        vertical-align: top;\n",
       "    }\n",
       "\n",
       "    .dataframe thead th {\n",
       "        text-align: right;\n",
       "    }\n",
       "</style>\n",
       "<table border=\"1\" class=\"dataframe\">\n",
       "  <thead>\n",
       "    <tr style=\"text-align: right;\">\n",
       "      <th></th>\n",
       "      <th>date</th>\n",
       "      <th>campaign_id</th>\n",
       "      <th>ad_group_id</th>\n",
       "      <th>ad_id</th>\n",
       "      <th>labels</th>\n",
       "      <th>cost</th>\n",
       "      <th>impressions</th>\n",
       "      <th>clicks</th>\n",
       "      <th>registrations</th>\n",
       "      <th>enquiries</th>\n",
       "      <th>purchases</th>\n",
       "    </tr>\n",
       "  </thead>\n",
       "  <tbody>\n",
       "    <tr>\n",
       "      <th>1</th>\n",
       "      <td>2020-09-06</td>\n",
       "      <td>100001</td>\n",
       "      <td>200001</td>\n",
       "      <td>300001</td>\n",
       "      <td>[\"mvt_id:91,var_id:type_1\"]</td>\n",
       "      <td>£20.68</td>\n",
       "      <td>1821</td>\n",
       "      <td>12</td>\n",
       "      <td>2.68</td>\n",
       "      <td>0.98</td>\n",
       "      <td>0.18</td>\n",
       "    </tr>\n",
       "    <tr>\n",
       "      <th>2</th>\n",
       "      <td>2020-09-07</td>\n",
       "      <td>100001</td>\n",
       "      <td>200001</td>\n",
       "      <td>300001</td>\n",
       "      <td>[\"mvt_id:91,var_id:type_1\"]</td>\n",
       "      <td>£17.41</td>\n",
       "      <td>2297</td>\n",
       "      <td>10</td>\n",
       "      <td>1.72</td>\n",
       "      <td>0.46</td>\n",
       "      <td>0.20</td>\n",
       "    </tr>\n",
       "    <tr>\n",
       "      <th>3</th>\n",
       "      <td>2020-09-08</td>\n",
       "      <td>100001</td>\n",
       "      <td>200001</td>\n",
       "      <td>300001</td>\n",
       "      <td>[\"mvt_id:91,var_id:type_1\"]</td>\n",
       "      <td>£13.02</td>\n",
       "      <td>1551</td>\n",
       "      <td>7</td>\n",
       "      <td>1.12</td>\n",
       "      <td>0.50</td>\n",
       "      <td>0.15</td>\n",
       "    </tr>\n",
       "  </tbody>\n",
       "</table>\n",
       "</div>"
      ],
      "text/plain": [
       "         date campaign_id ad_group_id   ad_id                       labels  \\\n",
       "1  2020-09-06      100001      200001  300001  [\"mvt_id:91,var_id:type_1\"]   \n",
       "2  2020-09-07      100001      200001  300001  [\"mvt_id:91,var_id:type_1\"]   \n",
       "3  2020-09-08      100001      200001  300001  [\"mvt_id:91,var_id:type_1\"]   \n",
       "\n",
       "     cost impressions clicks registrations enquiries purchases  \n",
       "1  £20.68        1821     12          2.68      0.98      0.18  \n",
       "2  £17.41        2297     10          1.72      0.46      0.20  \n",
       "3  £13.02        1551      7          1.12      0.50      0.15  "
      ]
     },
     "execution_count": 4,
     "metadata": {},
     "output_type": "execute_result"
    }
   ],
   "source": [
    "data = data.iloc[:-1]\n",
    "data.head(3)"
   ]
  },
  {
   "cell_type": "markdown",
   "id": "c8b72300",
   "metadata": {},
   "source": [
    "### Check for null values"
   ]
  },
  {
   "cell_type": "code",
   "execution_count": 5,
   "id": "861a5c32",
   "metadata": {
    "scrolled": true
   },
   "outputs": [
    {
     "data": {
      "text/plain": [
       "date             0\n",
       "campaign_id      0\n",
       "ad_group_id      0\n",
       "ad_id            0\n",
       "labels           0\n",
       "cost             0\n",
       "impressions      0\n",
       "clicks           0\n",
       "registrations    0\n",
       "enquiries        0\n",
       "purchases        0\n",
       "dtype: int64"
      ]
     },
     "execution_count": 5,
     "metadata": {},
     "output_type": "execute_result"
    }
   ],
   "source": [
    "data.isnull().sum()"
   ]
  },
  {
   "cell_type": "markdown",
   "id": "7e1b4211",
   "metadata": {},
   "source": [
    "## a) Inspecting variables"
   ]
  },
  {
   "cell_type": "code",
   "execution_count": 6,
   "id": "fcfc1689",
   "metadata": {},
   "outputs": [
    {
     "name": "stdout",
     "output_type": "stream",
     "text": [
      "<class 'pandas.core.frame.DataFrame'>\n",
      "RangeIndex: 3040 entries, 1 to 3040\n",
      "Data columns (total 11 columns):\n",
      " #   Column         Non-Null Count  Dtype \n",
      "---  ------         --------------  ----- \n",
      " 0   date           3040 non-null   object\n",
      " 1   campaign_id    3040 non-null   object\n",
      " 2   ad_group_id    3040 non-null   object\n",
      " 3   ad_id          3040 non-null   object\n",
      " 4   labels         3040 non-null   object\n",
      " 5   cost           3040 non-null   object\n",
      " 6   impressions    3040 non-null   object\n",
      " 7   clicks         3040 non-null   object\n",
      " 8   registrations  3040 non-null   object\n",
      " 9   enquiries      3040 non-null   object\n",
      " 10  purchases      3040 non-null   object\n",
      "dtypes: object(11)\n",
      "memory usage: 261.4+ KB\n"
     ]
    }
   ],
   "source": [
    "data.info()"
   ]
  },
  {
   "cell_type": "code",
   "execution_count": 7,
   "id": "2a8f0cca",
   "metadata": {},
   "outputs": [
    {
     "data": {
      "text/plain": [
       "2020-09-07    76\n",
       "2020-09-10    76\n",
       "2020-09-27    76\n",
       "2020-10-05    76\n",
       "2020-09-09    76\n",
       "2020-10-02    76\n",
       "2020-09-13    76\n",
       "2020-10-12    76\n",
       "2020-09-17    76\n",
       "2020-10-15    76\n",
       "2020-09-12    76\n",
       "2020-09-20    76\n",
       "2020-09-18    76\n",
       "2020-09-06    76\n",
       "2020-09-21    76\n",
       "2020-09-24    76\n",
       "2020-10-07    76\n",
       "2020-09-08    76\n",
       "2020-10-08    76\n",
       "2020-09-30    76\n",
       "2020-09-11    76\n",
       "2020-09-16    76\n",
       "2020-09-22    76\n",
       "2020-10-13    76\n",
       "2020-10-06    76\n",
       "2020-09-28    76\n",
       "2020-10-04    76\n",
       "2020-09-26    76\n",
       "2020-10-09    76\n",
       "2020-09-14    76\n",
       "2020-09-19    76\n",
       "2020-10-03    76\n",
       "2020-10-11    76\n",
       "2020-10-14    76\n",
       "2020-09-25    76\n",
       "2020-10-10    76\n",
       "2020-09-29    76\n",
       "2020-10-01    76\n",
       "2020-09-15    76\n",
       "2020-09-23    75\n",
       "44097          1\n",
       "Name: date, dtype: int64"
      ]
     },
     "execution_count": 7,
     "metadata": {},
     "output_type": "execute_result"
    }
   ],
   "source": [
    "data.date.value_counts()"
   ]
  },
  {
   "cell_type": "code",
   "execution_count": 8,
   "id": "dece543b",
   "metadata": {
    "scrolled": true
   },
   "outputs": [],
   "source": [
    "data = data.copy()\n",
    "data.date = data.copy().date.replace({'44097':'2020-09-23'}) # Found conversion to date on Excel"
   ]
  },
  {
   "cell_type": "code",
   "execution_count": 9,
   "id": "fbee949f",
   "metadata": {},
   "outputs": [],
   "source": [
    "data = data.copy()\n",
    "data.date = pd.to_datetime(data.date)"
   ]
  },
  {
   "cell_type": "code",
   "execution_count": 10,
   "id": "4e6e62f2",
   "metadata": {},
   "outputs": [
    {
     "data": {
      "text/plain": [
       "<AxesSubplot:>"
      ]
     },
     "execution_count": 10,
     "metadata": {},
     "output_type": "execute_result"
    },
    {
     "data": {
      "image/png": "[encoded data removed]",
      "text/plain": [
       "<Figure size 432x288 with 1 Axes>"
      ]
     },
     "metadata": {
      "needs_background": "light"
     },
     "output_type": "display_data"
    }
   ],
   "source": [
    "data.date.value_counts().plot()"
   ]
  },
  {
   "cell_type": "code",
   "execution_count": 11,
   "id": "0d3d943d",
   "metadata": {},
   "outputs": [],
   "source": [
    "data = data.copy()\n",
    "data.campaign_id = data.campaign_id.astype(int)"
   ]
  },
  {
   "cell_type": "code",
   "execution_count": 12,
   "id": "64097c98",
   "metadata": {
    "scrolled": false
   },
   "outputs": [
    {
     "data": {
      "text/plain": [
       "<AxesSubplot:>"
      ]
     },
     "execution_count": 12,
     "metadata": {},
     "output_type": "execute_result"
    },
    {
     "data": {
      "image/png": "[encoded data removed]",
      "text/plain": [
       "<Figure size 432x288 with 1 Axes>"
      ]
     },
     "metadata": {
      "needs_background": "light"
     },
     "output_type": "display_data"
    }
   ],
   "source": [
    "data.campaign_id.value_counts().plot()"
   ]
  },
  {
   "cell_type": "code",
   "execution_count": 13,
   "id": "c134de37",
   "metadata": {},
   "outputs": [],
   "source": [
    "data = data.copy()\n",
    "data.ad_group_id = data.ad_group_id.astype(int)"
   ]
  },
  {
   "cell_type": "code",
   "execution_count": 14,
   "id": "8d1fc377",
   "metadata": {
    "scrolled": false
   },
   "outputs": [
    {
     "data": {
      "text/plain": [
       "<AxesSubplot:>"
      ]
     },
     "execution_count": 14,
     "metadata": {},
     "output_type": "execute_result"
    },
    {
     "data": {
      "image/png": "[encoded data removed]",
      "text/plain": [
       "<Figure size 432x288 with 1 Axes>"
      ]
     },
     "metadata": {
      "needs_background": "light"
     },
     "output_type": "display_data"
    }
   ],
   "source": [
    "data.ad_group_id.value_counts().plot()"
   ]
  },
  {
   "cell_type": "code",
   "execution_count": 15,
   "id": "9eaf3f1b",
   "metadata": {},
   "outputs": [],
   "source": [
    "data = data.copy()\n",
    "data.ad_id = data.ad_id.astype(int)"
   ]
  },
  {
   "cell_type": "code",
   "execution_count": 16,
   "id": "e0ea77d9",
   "metadata": {},
   "outputs": [
    {
     "data": {
      "text/plain": [
       "<AxesSubplot:>"
      ]
     },
     "execution_count": 16,
     "metadata": {},
     "output_type": "execute_result"
    },
    {
     "data": {
      "image/png": "[encoded data removed]",
      "text/plain": [
       "<Figure size 432x288 with 1 Axes>"
      ]
     },
     "metadata": {
      "needs_background": "light"
     },
     "output_type": "display_data"
    }
   ],
   "source": [
    "data.ad_id.value_counts().plot()"
   ]
  },
  {
   "cell_type": "code",
   "execution_count": 17,
   "id": "a50b2591",
   "metadata": {
    "scrolled": true
   },
   "outputs": [
    {
     "data": {
      "text/plain": [
       "[\"mvt_id:91,var_id:type_1\"]    1800\n",
       "[\"mvt_id:91,var_id:type_2\"]    1240\n",
       "Name: labels, dtype: int64"
      ]
     },
     "execution_count": 17,
     "metadata": {},
     "output_type": "execute_result"
    }
   ],
   "source": [
    "data.labels.value_counts()"
   ]
  },
  {
   "cell_type": "code",
   "execution_count": 18,
   "id": "34cf7c11",
   "metadata": {},
   "outputs": [],
   "source": [
    "data.labels = data.labels.replace('[\"mvt_id:91,var_id:type_1\"]', 'A')\n",
    "data.labels = data.labels.replace('[\"mvt_id:91,var_id:type_2\"]', 'B')"
   ]
  },
  {
   "cell_type": "code",
   "execution_count": 19,
   "id": "dd0ec3f5",
   "metadata": {},
   "outputs": [],
   "source": [
    "data = data.copy()\n",
    "data.cost = data.cost.str.replace('£', '')"
   ]
  },
  {
   "cell_type": "code",
   "execution_count": 20,
   "id": "9f722ca3",
   "metadata": {
    "scrolled": true
   },
   "outputs": [
    {
     "data": {
      "text/html": [
       "<div>\n",
       "<style scoped>\n",
       "    .dataframe tbody tr th:only-of-type {\n",
       "        vertical-align: middle;\n",
       "    }\n",
       "\n",
       "    .dataframe tbody tr th {\n",
       "        vertical-align: top;\n",
       "    }\n",
       "\n",
       "    .dataframe thead th {\n",
       "        text-align: right;\n",
       "    }\n",
       "</style>\n",
       "<table border=\"1\" class=\"dataframe\">\n",
       "  <thead>\n",
       "    <tr style=\"text-align: right;\">\n",
       "      <th></th>\n",
       "      <th>date</th>\n",
       "      <th>campaign_id</th>\n",
       "      <th>ad_group_id</th>\n",
       "      <th>ad_id</th>\n",
       "      <th>labels</th>\n",
       "      <th>cost</th>\n",
       "      <th>impressions</th>\n",
       "      <th>clicks</th>\n",
       "      <th>registrations</th>\n",
       "      <th>enquiries</th>\n",
       "      <th>purchases</th>\n",
       "    </tr>\n",
       "  </thead>\n",
       "  <tbody>\n",
       "    <tr>\n",
       "      <th>1</th>\n",
       "      <td>2020-09-06</td>\n",
       "      <td>100001</td>\n",
       "      <td>200001</td>\n",
       "      <td>300001</td>\n",
       "      <td>A</td>\n",
       "      <td>20.68</td>\n",
       "      <td>1821</td>\n",
       "      <td>12</td>\n",
       "      <td>2.68</td>\n",
       "      <td>0.98</td>\n",
       "      <td>0.18</td>\n",
       "    </tr>\n",
       "    <tr>\n",
       "      <th>2</th>\n",
       "      <td>2020-09-07</td>\n",
       "      <td>100001</td>\n",
       "      <td>200001</td>\n",
       "      <td>300001</td>\n",
       "      <td>A</td>\n",
       "      <td>17.41</td>\n",
       "      <td>2297</td>\n",
       "      <td>10</td>\n",
       "      <td>1.72</td>\n",
       "      <td>0.46</td>\n",
       "      <td>0.20</td>\n",
       "    </tr>\n",
       "    <tr>\n",
       "      <th>3</th>\n",
       "      <td>2020-09-08</td>\n",
       "      <td>100001</td>\n",
       "      <td>200001</td>\n",
       "      <td>300001</td>\n",
       "      <td>A</td>\n",
       "      <td>13.02</td>\n",
       "      <td>1551</td>\n",
       "      <td>7</td>\n",
       "      <td>1.12</td>\n",
       "      <td>0.50</td>\n",
       "      <td>0.15</td>\n",
       "    </tr>\n",
       "  </tbody>\n",
       "</table>\n",
       "</div>"
      ],
      "text/plain": [
       "        date  campaign_id  ad_group_id   ad_id labels   cost impressions  \\\n",
       "1 2020-09-06       100001       200001  300001      A  20.68        1821   \n",
       "2 2020-09-07       100001       200001  300001      A  17.41        2297   \n",
       "3 2020-09-08       100001       200001  300001      A  13.02        1551   \n",
       "\n",
       "  clicks registrations enquiries purchases  \n",
       "1     12          2.68      0.98      0.18  \n",
       "2     10          1.72      0.46      0.20  \n",
       "3      7          1.12      0.50      0.15  "
      ]
     },
     "execution_count": 20,
     "metadata": {},
     "output_type": "execute_result"
    }
   ],
   "source": [
    "data.head(3)"
   ]
  },
  {
   "cell_type": "code",
   "execution_count": 21,
   "id": "ed674c61",
   "metadata": {},
   "outputs": [],
   "source": [
    "data = data.copy()\n",
    "data.cost = data.cost.astype(float)"
   ]
  },
  {
   "cell_type": "code",
   "execution_count": 22,
   "id": "ba02647a",
   "metadata": {},
   "outputs": [],
   "source": [
    "data.cost.replace(to_replace='£', value='', inplace=True)"
   ]
  },
  {
   "cell_type": "code",
   "execution_count": 23,
   "id": "ed1f1e45",
   "metadata": {
    "scrolled": true
   },
   "outputs": [
    {
     "data": {
      "text/plain": [
       "<AxesSubplot:>"
      ]
     },
     "execution_count": 23,
     "metadata": {},
     "output_type": "execute_result"
    },
    {
     "data": {
      "image/png": "[encoded data removed]",
      "text/plain": [
       "<Figure size 432x288 with 1 Axes>"
      ]
     },
     "metadata": {
      "needs_background": "light"
     },
     "output_type": "display_data"
    }
   ],
   "source": [
    "data.cost.plot()"
   ]
  },
  {
   "cell_type": "code",
   "execution_count": 24,
   "id": "eb84fc49",
   "metadata": {
    "scrolled": true
   },
   "outputs": [
    {
     "data": {
      "text/plain": [
       "date             datetime64[ns]\n",
       "campaign_id               int32\n",
       "ad_group_id               int32\n",
       "ad_id                     int32\n",
       "labels                   object\n",
       "cost                    float64\n",
       "impressions              object\n",
       "clicks                   object\n",
       "registrations            object\n",
       "enquiries                object\n",
       "purchases                object\n",
       "dtype: object"
      ]
     },
     "execution_count": 24,
     "metadata": {},
     "output_type": "execute_result"
    }
   ],
   "source": [
    "data.dtypes"
   ]
  },
  {
   "cell_type": "code",
   "execution_count": 25,
   "id": "8fb755c6",
   "metadata": {},
   "outputs": [],
   "source": [
    "for col in data.columns[-3:]:\n",
    "    data[col] = data[col].astype(float)"
   ]
  },
  {
   "cell_type": "code",
   "execution_count": 26,
   "id": "dc8bf444",
   "metadata": {},
   "outputs": [],
   "source": [
    "for col in data.columns[-5:-3]:\n",
    "    data[col] = data[col].astype(int)"
   ]
  },
  {
   "cell_type": "code",
   "execution_count": 27,
   "id": "8e4d30c4",
   "metadata": {},
   "outputs": [
    {
     "data": {
      "text/plain": [
       "date             datetime64[ns]\n",
       "campaign_id               int32\n",
       "ad_group_id               int32\n",
       "ad_id                     int32\n",
       "labels                   object\n",
       "cost                    float64\n",
       "impressions               int32\n",
       "clicks                    int32\n",
       "registrations           float64\n",
       "enquiries               float64\n",
       "purchases               float64\n",
       "dtype: object"
      ]
     },
     "execution_count": 27,
     "metadata": {},
     "output_type": "execute_result"
    }
   ],
   "source": [
    "data.dtypes"
   ]
  },
  {
   "cell_type": "code",
   "execution_count": 28,
   "id": "a8de1b49",
   "metadata": {},
   "outputs": [
    {
     "data": {
      "text/html": [
       "<div>\n",
       "<style scoped>\n",
       "    .dataframe tbody tr th:only-of-type {\n",
       "        vertical-align: middle;\n",
       "    }\n",
       "\n",
       "    .dataframe tbody tr th {\n",
       "        vertical-align: top;\n",
       "    }\n",
       "\n",
       "    .dataframe thead th {\n",
       "        text-align: right;\n",
       "    }\n",
       "</style>\n",
       "<table border=\"1\" class=\"dataframe\">\n",
       "  <thead>\n",
       "    <tr style=\"text-align: right;\">\n",
       "      <th></th>\n",
       "      <th>date</th>\n",
       "      <th>campaign_id</th>\n",
       "      <th>ad_group_id</th>\n",
       "      <th>ad_id</th>\n",
       "      <th>labels</th>\n",
       "      <th>cost</th>\n",
       "      <th>impressions</th>\n",
       "      <th>clicks</th>\n",
       "      <th>registrations</th>\n",
       "      <th>enquiries</th>\n",
       "      <th>purchases</th>\n",
       "    </tr>\n",
       "  </thead>\n",
       "  <tbody>\n",
       "    <tr>\n",
       "      <th>1</th>\n",
       "      <td>2020-09-06</td>\n",
       "      <td>100001</td>\n",
       "      <td>200001</td>\n",
       "      <td>300001</td>\n",
       "      <td>A</td>\n",
       "      <td>20.68</td>\n",
       "      <td>1821</td>\n",
       "      <td>12</td>\n",
       "      <td>2.68</td>\n",
       "      <td>0.98</td>\n",
       "      <td>0.18</td>\n",
       "    </tr>\n",
       "    <tr>\n",
       "      <th>2</th>\n",
       "      <td>2020-09-07</td>\n",
       "      <td>100001</td>\n",
       "      <td>200001</td>\n",
       "      <td>300001</td>\n",
       "      <td>A</td>\n",
       "      <td>17.41</td>\n",
       "      <td>2297</td>\n",
       "      <td>10</td>\n",
       "      <td>1.72</td>\n",
       "      <td>0.46</td>\n",
       "      <td>0.20</td>\n",
       "    </tr>\n",
       "    <tr>\n",
       "      <th>3</th>\n",
       "      <td>2020-09-08</td>\n",
       "      <td>100001</td>\n",
       "      <td>200001</td>\n",
       "      <td>300001</td>\n",
       "      <td>A</td>\n",
       "      <td>13.02</td>\n",
       "      <td>1551</td>\n",
       "      <td>7</td>\n",
       "      <td>1.12</td>\n",
       "      <td>0.50</td>\n",
       "      <td>0.15</td>\n",
       "    </tr>\n",
       "  </tbody>\n",
       "</table>\n",
       "</div>"
      ],
      "text/plain": [
       "        date  campaign_id  ad_group_id   ad_id labels   cost  impressions  \\\n",
       "1 2020-09-06       100001       200001  300001      A  20.68         1821   \n",
       "2 2020-09-07       100001       200001  300001      A  17.41         2297   \n",
       "3 2020-09-08       100001       200001  300001      A  13.02         1551   \n",
       "\n",
       "   clicks  registrations  enquiries  purchases  \n",
       "1      12           2.68       0.98       0.18  \n",
       "2      10           1.72       0.46       0.20  \n",
       "3       7           1.12       0.50       0.15  "
      ]
     },
     "execution_count": 28,
     "metadata": {},
     "output_type": "execute_result"
    }
   ],
   "source": [
    "data.head(3)"
   ]
  },
  {
   "cell_type": "code",
   "execution_count": 29,
   "id": "c8dd5d8a",
   "metadata": {},
   "outputs": [
    {
     "data": {
      "text/html": [
       "<div>\n",
       "<style scoped>\n",
       "    .dataframe tbody tr th:only-of-type {\n",
       "        vertical-align: middle;\n",
       "    }\n",
       "\n",
       "    .dataframe tbody tr th {\n",
       "        vertical-align: top;\n",
       "    }\n",
       "\n",
       "    .dataframe thead th {\n",
       "        text-align: right;\n",
       "    }\n",
       "</style>\n",
       "<table border=\"1\" class=\"dataframe\">\n",
       "  <thead>\n",
       "    <tr style=\"text-align: right;\">\n",
       "      <th></th>\n",
       "      <th>index</th>\n",
       "      <th>date</th>\n",
       "      <th>campaign_id</th>\n",
       "      <th>ad_group_id</th>\n",
       "      <th>ad_id</th>\n",
       "      <th>labels</th>\n",
       "      <th>cost</th>\n",
       "      <th>impressions</th>\n",
       "      <th>clicks</th>\n",
       "      <th>registrations</th>\n",
       "      <th>enquiries</th>\n",
       "      <th>purchases</th>\n",
       "    </tr>\n",
       "  </thead>\n",
       "  <tbody>\n",
       "    <tr>\n",
       "      <th>0</th>\n",
       "      <td>1</td>\n",
       "      <td>2020-09-06</td>\n",
       "      <td>100001</td>\n",
       "      <td>200001</td>\n",
       "      <td>300001</td>\n",
       "      <td>A</td>\n",
       "      <td>20.68</td>\n",
       "      <td>1821</td>\n",
       "      <td>12</td>\n",
       "      <td>2.68</td>\n",
       "      <td>0.98</td>\n",
       "      <td>0.18</td>\n",
       "    </tr>\n",
       "    <tr>\n",
       "      <th>1</th>\n",
       "      <td>2</td>\n",
       "      <td>2020-09-07</td>\n",
       "      <td>100001</td>\n",
       "      <td>200001</td>\n",
       "      <td>300001</td>\n",
       "      <td>A</td>\n",
       "      <td>17.41</td>\n",
       "      <td>2297</td>\n",
       "      <td>10</td>\n",
       "      <td>1.72</td>\n",
       "      <td>0.46</td>\n",
       "      <td>0.20</td>\n",
       "    </tr>\n",
       "    <tr>\n",
       "      <th>2</th>\n",
       "      <td>3</td>\n",
       "      <td>2020-09-08</td>\n",
       "      <td>100001</td>\n",
       "      <td>200001</td>\n",
       "      <td>300001</td>\n",
       "      <td>A</td>\n",
       "      <td>13.02</td>\n",
       "      <td>1551</td>\n",
       "      <td>7</td>\n",
       "      <td>1.12</td>\n",
       "      <td>0.50</td>\n",
       "      <td>0.15</td>\n",
       "    </tr>\n",
       "    <tr>\n",
       "      <th>3</th>\n",
       "      <td>4</td>\n",
       "      <td>2020-09-09</td>\n",
       "      <td>100001</td>\n",
       "      <td>200001</td>\n",
       "      <td>300001</td>\n",
       "      <td>A</td>\n",
       "      <td>17.07</td>\n",
       "      <td>1398</td>\n",
       "      <td>10</td>\n",
       "      <td>1.33</td>\n",
       "      <td>0.75</td>\n",
       "      <td>0.18</td>\n",
       "    </tr>\n",
       "    <tr>\n",
       "      <th>4</th>\n",
       "      <td>5</td>\n",
       "      <td>2020-09-10</td>\n",
       "      <td>100001</td>\n",
       "      <td>200001</td>\n",
       "      <td>300001</td>\n",
       "      <td>A</td>\n",
       "      <td>23.90</td>\n",
       "      <td>2754</td>\n",
       "      <td>14</td>\n",
       "      <td>2.39</td>\n",
       "      <td>0.97</td>\n",
       "      <td>0.16</td>\n",
       "    </tr>\n",
       "    <tr>\n",
       "      <th>...</th>\n",
       "      <td>...</td>\n",
       "      <td>...</td>\n",
       "      <td>...</td>\n",
       "      <td>...</td>\n",
       "      <td>...</td>\n",
       "      <td>...</td>\n",
       "      <td>...</td>\n",
       "      <td>...</td>\n",
       "      <td>...</td>\n",
       "      <td>...</td>\n",
       "      <td>...</td>\n",
       "      <td>...</td>\n",
       "    </tr>\n",
       "    <tr>\n",
       "      <th>1795</th>\n",
       "      <td>1796</td>\n",
       "      <td>2020-10-11</td>\n",
       "      <td>100045</td>\n",
       "      <td>200045</td>\n",
       "      <td>300045</td>\n",
       "      <td>A</td>\n",
       "      <td>11.43</td>\n",
       "      <td>1551</td>\n",
       "      <td>9</td>\n",
       "      <td>0.80</td>\n",
       "      <td>0.63</td>\n",
       "      <td>0.12</td>\n",
       "    </tr>\n",
       "    <tr>\n",
       "      <th>1796</th>\n",
       "      <td>1797</td>\n",
       "      <td>2020-10-12</td>\n",
       "      <td>100045</td>\n",
       "      <td>200045</td>\n",
       "      <td>300045</td>\n",
       "      <td>A</td>\n",
       "      <td>12.68</td>\n",
       "      <td>1679</td>\n",
       "      <td>8</td>\n",
       "      <td>1.20</td>\n",
       "      <td>0.43</td>\n",
       "      <td>0.15</td>\n",
       "    </tr>\n",
       "    <tr>\n",
       "      <th>1797</th>\n",
       "      <td>1798</td>\n",
       "      <td>2020-10-13</td>\n",
       "      <td>100045</td>\n",
       "      <td>200045</td>\n",
       "      <td>300045</td>\n",
       "      <td>A</td>\n",
       "      <td>11.51</td>\n",
       "      <td>1225</td>\n",
       "      <td>6</td>\n",
       "      <td>0.69</td>\n",
       "      <td>0.53</td>\n",
       "      <td>0.07</td>\n",
       "    </tr>\n",
       "    <tr>\n",
       "      <th>1798</th>\n",
       "      <td>1799</td>\n",
       "      <td>2020-10-14</td>\n",
       "      <td>100045</td>\n",
       "      <td>200045</td>\n",
       "      <td>300045</td>\n",
       "      <td>A</td>\n",
       "      <td>13.83</td>\n",
       "      <td>1842</td>\n",
       "      <td>9</td>\n",
       "      <td>0.67</td>\n",
       "      <td>0.90</td>\n",
       "      <td>0.20</td>\n",
       "    </tr>\n",
       "    <tr>\n",
       "      <th>1799</th>\n",
       "      <td>1800</td>\n",
       "      <td>2020-10-15</td>\n",
       "      <td>100045</td>\n",
       "      <td>200045</td>\n",
       "      <td>300045</td>\n",
       "      <td>A</td>\n",
       "      <td>16.15</td>\n",
       "      <td>1234</td>\n",
       "      <td>10</td>\n",
       "      <td>1.51</td>\n",
       "      <td>0.48</td>\n",
       "      <td>0.15</td>\n",
       "    </tr>\n",
       "  </tbody>\n",
       "</table>\n",
       "<p>1800 rows × 12 columns</p>\n",
       "</div>"
      ],
      "text/plain": [
       "      index       date  campaign_id  ad_group_id   ad_id labels   cost  \\\n",
       "0         1 2020-09-06       100001       200001  300001      A  20.68   \n",
       "1         2 2020-09-07       100001       200001  300001      A  17.41   \n",
       "2         3 2020-09-08       100001       200001  300001      A  13.02   \n",
       "3         4 2020-09-09       100001       200001  300001      A  17.07   \n",
       "4         5 2020-09-10       100001       200001  300001      A  23.90   \n",
       "...     ...        ...          ...          ...     ...    ...    ...   \n",
       "1795   1796 2020-10-11       100045       200045  300045      A  11.43   \n",
       "1796   1797 2020-10-12       100045       200045  300045      A  12.68   \n",
       "1797   1798 2020-10-13       100045       200045  300045      A  11.51   \n",
       "1798   1799 2020-10-14       100045       200045  300045      A  13.83   \n",
       "1799   1800 2020-10-15       100045       200045  300045      A  16.15   \n",
       "\n",
       "      impressions  clicks  registrations  enquiries  purchases  \n",
       "0            1821      12           2.68       0.98       0.18  \n",
       "1            2297      10           1.72       0.46       0.20  \n",
       "2            1551       7           1.12       0.50       0.15  \n",
       "3            1398      10           1.33       0.75       0.18  \n",
       "4            2754      14           2.39       0.97       0.16  \n",
       "...           ...     ...            ...        ...        ...  \n",
       "1795         1551       9           0.80       0.63       0.12  \n",
       "1796         1679       8           1.20       0.43       0.15  \n",
       "1797         1225       6           0.69       0.53       0.07  \n",
       "1798         1842       9           0.67       0.90       0.20  \n",
       "1799         1234      10           1.51       0.48       0.15  \n",
       "\n",
       "[1800 rows x 12 columns]"
      ]
     },
     "execution_count": 29,
     "metadata": {},
     "output_type": "execute_result"
    }
   ],
   "source": [
    "data_a = data[data.labels=='A'].copy().reset_index()\n",
    "data_a"
   ]
  },
  {
   "cell_type": "code",
   "execution_count": 30,
   "id": "e0fee2b9",
   "metadata": {},
   "outputs": [
    {
     "data": {
      "text/html": [
       "<div>\n",
       "<style scoped>\n",
       "    .dataframe tbody tr th:only-of-type {\n",
       "        vertical-align: middle;\n",
       "    }\n",
       "\n",
       "    .dataframe tbody tr th {\n",
       "        vertical-align: top;\n",
       "    }\n",
       "\n",
       "    .dataframe thead th {\n",
       "        text-align: right;\n",
       "    }\n",
       "</style>\n",
       "<table border=\"1\" class=\"dataframe\">\n",
       "  <thead>\n",
       "    <tr style=\"text-align: right;\">\n",
       "      <th></th>\n",
       "      <th>index</th>\n",
       "      <th>date</th>\n",
       "      <th>campaign_id</th>\n",
       "      <th>ad_group_id</th>\n",
       "      <th>ad_id</th>\n",
       "      <th>labels</th>\n",
       "      <th>cost</th>\n",
       "      <th>impressions</th>\n",
       "      <th>clicks</th>\n",
       "      <th>registrations</th>\n",
       "      <th>enquiries</th>\n",
       "      <th>purchases</th>\n",
       "    </tr>\n",
       "  </thead>\n",
       "  <tbody>\n",
       "    <tr>\n",
       "      <th>0</th>\n",
       "      <td>1801</td>\n",
       "      <td>2020-09-06</td>\n",
       "      <td>100046</td>\n",
       "      <td>200046</td>\n",
       "      <td>300046</td>\n",
       "      <td>B</td>\n",
       "      <td>33.72</td>\n",
       "      <td>2313</td>\n",
       "      <td>27</td>\n",
       "      <td>2.87</td>\n",
       "      <td>1.92</td>\n",
       "      <td>0.44</td>\n",
       "    </tr>\n",
       "    <tr>\n",
       "      <th>1</th>\n",
       "      <td>1802</td>\n",
       "      <td>2020-09-07</td>\n",
       "      <td>100046</td>\n",
       "      <td>200046</td>\n",
       "      <td>300046</td>\n",
       "      <td>B</td>\n",
       "      <td>26.17</td>\n",
       "      <td>4543</td>\n",
       "      <td>23</td>\n",
       "      <td>1.91</td>\n",
       "      <td>1.19</td>\n",
       "      <td>0.29</td>\n",
       "    </tr>\n",
       "    <tr>\n",
       "      <th>2</th>\n",
       "      <td>1803</td>\n",
       "      <td>2020-09-08</td>\n",
       "      <td>100046</td>\n",
       "      <td>200046</td>\n",
       "      <td>300046</td>\n",
       "      <td>B</td>\n",
       "      <td>28.72</td>\n",
       "      <td>3134</td>\n",
       "      <td>19</td>\n",
       "      <td>2.96</td>\n",
       "      <td>1.37</td>\n",
       "      <td>0.30</td>\n",
       "    </tr>\n",
       "    <tr>\n",
       "      <th>3</th>\n",
       "      <td>1804</td>\n",
       "      <td>2020-09-09</td>\n",
       "      <td>100046</td>\n",
       "      <td>200046</td>\n",
       "      <td>300046</td>\n",
       "      <td>B</td>\n",
       "      <td>40.59</td>\n",
       "      <td>4188</td>\n",
       "      <td>26</td>\n",
       "      <td>3.95</td>\n",
       "      <td>1.89</td>\n",
       "      <td>0.35</td>\n",
       "    </tr>\n",
       "    <tr>\n",
       "      <th>4</th>\n",
       "      <td>1805</td>\n",
       "      <td>2020-09-10</td>\n",
       "      <td>100046</td>\n",
       "      <td>200046</td>\n",
       "      <td>300046</td>\n",
       "      <td>B</td>\n",
       "      <td>40.70</td>\n",
       "      <td>4748</td>\n",
       "      <td>31</td>\n",
       "      <td>4.32</td>\n",
       "      <td>1.16</td>\n",
       "      <td>0.37</td>\n",
       "    </tr>\n",
       "    <tr>\n",
       "      <th>...</th>\n",
       "      <td>...</td>\n",
       "      <td>...</td>\n",
       "      <td>...</td>\n",
       "      <td>...</td>\n",
       "      <td>...</td>\n",
       "      <td>...</td>\n",
       "      <td>...</td>\n",
       "      <td>...</td>\n",
       "      <td>...</td>\n",
       "      <td>...</td>\n",
       "      <td>...</td>\n",
       "      <td>...</td>\n",
       "    </tr>\n",
       "    <tr>\n",
       "      <th>1235</th>\n",
       "      <td>3036</td>\n",
       "      <td>2020-10-11</td>\n",
       "      <td>100076</td>\n",
       "      <td>200076</td>\n",
       "      <td>300076</td>\n",
       "      <td>B</td>\n",
       "      <td>17.90</td>\n",
       "      <td>2975</td>\n",
       "      <td>13</td>\n",
       "      <td>1.97</td>\n",
       "      <td>1.09</td>\n",
       "      <td>0.10</td>\n",
       "    </tr>\n",
       "    <tr>\n",
       "      <th>1236</th>\n",
       "      <td>3037</td>\n",
       "      <td>2020-10-12</td>\n",
       "      <td>100076</td>\n",
       "      <td>200076</td>\n",
       "      <td>300076</td>\n",
       "      <td>B</td>\n",
       "      <td>19.49</td>\n",
       "      <td>2566</td>\n",
       "      <td>13</td>\n",
       "      <td>1.17</td>\n",
       "      <td>0.35</td>\n",
       "      <td>0.14</td>\n",
       "    </tr>\n",
       "    <tr>\n",
       "      <th>1237</th>\n",
       "      <td>3038</td>\n",
       "      <td>2020-10-13</td>\n",
       "      <td>100076</td>\n",
       "      <td>200076</td>\n",
       "      <td>300076</td>\n",
       "      <td>B</td>\n",
       "      <td>17.79</td>\n",
       "      <td>1977</td>\n",
       "      <td>13</td>\n",
       "      <td>1.82</td>\n",
       "      <td>0.34</td>\n",
       "      <td>0.09</td>\n",
       "    </tr>\n",
       "    <tr>\n",
       "      <th>1238</th>\n",
       "      <td>3039</td>\n",
       "      <td>2020-10-14</td>\n",
       "      <td>100076</td>\n",
       "      <td>200076</td>\n",
       "      <td>300076</td>\n",
       "      <td>B</td>\n",
       "      <td>18.71</td>\n",
       "      <td>1643</td>\n",
       "      <td>16</td>\n",
       "      <td>1.31</td>\n",
       "      <td>0.69</td>\n",
       "      <td>0.25</td>\n",
       "    </tr>\n",
       "    <tr>\n",
       "      <th>1239</th>\n",
       "      <td>3040</td>\n",
       "      <td>2020-10-15</td>\n",
       "      <td>100076</td>\n",
       "      <td>200076</td>\n",
       "      <td>300076</td>\n",
       "      <td>B</td>\n",
       "      <td>23.76</td>\n",
       "      <td>2078</td>\n",
       "      <td>16</td>\n",
       "      <td>1.00</td>\n",
       "      <td>0.53</td>\n",
       "      <td>0.15</td>\n",
       "    </tr>\n",
       "  </tbody>\n",
       "</table>\n",
       "<p>1240 rows × 12 columns</p>\n",
       "</div>"
      ],
      "text/plain": [
       "      index       date  campaign_id  ad_group_id   ad_id labels   cost  \\\n",
       "0      1801 2020-09-06       100046       200046  300046      B  33.72   \n",
       "1      1802 2020-09-07       100046       200046  300046      B  26.17   \n",
       "2      1803 2020-09-08       100046       200046  300046      B  28.72   \n",
       "3      1804 2020-09-09       100046       200046  300046      B  40.59   \n",
       "4      1805 2020-09-10       100046       200046  300046      B  40.70   \n",
       "...     ...        ...          ...          ...     ...    ...    ...   \n",
       "1235   3036 2020-10-11       100076       200076  300076      B  17.90   \n",
       "1236   3037 2020-10-12       100076       200076  300076      B  19.49   \n",
       "1237   3038 2020-10-13       100076       200076  300076      B  17.79   \n",
       "1238   3039 2020-10-14       100076       200076  300076      B  18.71   \n",
       "1239   3040 2020-10-15       100076       200076  300076      B  23.76   \n",
       "\n",
       "      impressions  clicks  registrations  enquiries  purchases  \n",
       "0            2313      27           2.87       1.92       0.44  \n",
       "1            4543      23           1.91       1.19       0.29  \n",
       "2            3134      19           2.96       1.37       0.30  \n",
       "3            4188      26           3.95       1.89       0.35  \n",
       "4            4748      31           4.32       1.16       0.37  \n",
       "...           ...     ...            ...        ...        ...  \n",
       "1235         2975      13           1.97       1.09       0.10  \n",
       "1236         2566      13           1.17       0.35       0.14  \n",
       "1237         1977      13           1.82       0.34       0.09  \n",
       "1238         1643      16           1.31       0.69       0.25  \n",
       "1239         2078      16           1.00       0.53       0.15  \n",
       "\n",
       "[1240 rows x 12 columns]"
      ]
     },
     "execution_count": 30,
     "metadata": {},
     "output_type": "execute_result"
    }
   ],
   "source": [
    "data_b = data[data.labels=='B'].copy().reset_index()\n",
    "data_b"
   ]
  },
  {
   "cell_type": "markdown",
   "id": "083b8408",
   "metadata": {},
   "source": [
    "# 2. Test 1\n",
    "## a) Interesting metrics"
   ]
  },
  {
   "cell_type": "markdown",
   "id": "b1e910e7",
   "metadata": {},
   "source": [
    "### Hypothesis testing\n",
    "\n",
    "H0: Metric(A) == Metric(B)\n",
    "\n",
    "H1: Metric(A) != Metric(B)\n",
    "\n",
    "≈\n",
    "\n",
    "### Example: CTR\n",
    "\n",
    "H0: CTR(A) == CTR(B)\n",
    "\n",
    "H1: CTR(A) != CTR(B)\n"
   ]
  },
  {
   "cell_type": "code",
   "execution_count": 31,
   "id": "d34816eb",
   "metadata": {},
   "outputs": [],
   "source": [
    "# Create a function that returns all the info we want to include from each metric.\n",
    "\n",
    "def metric_info (numerator, denominator):\n",
    "    x_control = data[data.labels=='A'][numerator].sum()\n",
    "    n_control = data[data.labels=='A'][denominator].sum()\n",
    "    x_experiment = data[data.labels=='B'][numerator].sum()\n",
    "    n_experiment = data[data.labels=='B'][denominator].sum()\n",
    "    pooled_prob = (x_control+x_experiment)/(n_control+n_experiment)\n",
    "    pooled_se = (   pooled_prob*(1-pooled_prob)*(1/n_control+1/n_experiment)   )**0.5\n",
    "    prob_control = x_control/n_control\n",
    "    prob_experiment = x_experiment/n_experiment\n",
    "    prob_difference = prob_experiment - prob_control\n",
    "    prob_increase = prob_experiment/prob_control-1\n",
    "    margin_error = pooled_se*1.96\n",
    "    diff_ci_plus_95 = round(0+margin_error, 5)\n",
    "    diff_ci_minus_95 = round(0-margin_error, 5)\n",
    "    if (prob_difference>diff_ci_plus_95) or (prob_difference<diff_ci_minus_95):\n",
    "        return [str(numerator)+'/'+str(denominator), prob_control, prob_experiment, prob_increase, prob_difference, round(pooled_se,4), diff_ci_minus_95, diff_ci_plus_95, 'Yes']\n",
    "    else:\n",
    "        return [str(numerator)+'/'+str(denominator), prob_control, prob_experiment, prob_increase, prob_difference, round(pooled_se,4), diff_ci_minus_95, diff_ci_plus_95, 'No']"
   ]
  },
  {
   "cell_type": "markdown",
   "id": "9ff7a3ee",
   "metadata": {},
   "source": [
    "### Most interesting business metrics:\n",
    "\n",
    "1) CTR\n",
    "\n",
    "2) Registrations/Clicks\n",
    "\n",
    "3) Enquiries/Registrations\n",
    "\n",
    "4) Purchases/Enquiries\n",
    "\n",
    "5) Purchases/Clicks\n",
    "\n",
    "6) Purchases/Impressions"
   ]
  },
  {
   "cell_type": "code",
   "execution_count": 32,
   "id": "4004a2f2",
   "metadata": {
    "scrolled": true
   },
   "outputs": [],
   "source": [
    "# metric_info('clicks','impressions')\n",
    "# metric_info('registrations','clicks')\n",
    "# metric_info('enquiries','registrations')\n",
    "# metric_info('purchases','enquiries')\n",
    "# metric_info('purchases','clicks')\n",
    "# metric_info('purchases','impressions')"
   ]
  },
  {
   "cell_type": "code",
   "execution_count": 33,
   "id": "4fc71ecd",
   "metadata": {},
   "outputs": [],
   "source": [
    "list_1 = ['clicks','impressions', 'registrations','clicks', 'enquiries','registrations', 'purchases','enquiries', 'purchases', 'clicks', 'purchases','impressions']\n",
    "titles = ['Metric', 'A', 'B', 'Increase', 'Difference', 'Pooled SE', 'CI (-95%)', 'CI (+95%)', 'Significant']"
   ]
  },
  {
   "cell_type": "code",
   "execution_count": 34,
   "id": "be90fab8",
   "metadata": {},
   "outputs": [],
   "source": [
    "# List results for desired metrics\n",
    "lists = []\n",
    "for n in range(0,11,2):\n",
    "    lists.append(metric_info(list_1[n], list_1[(n+1)]))\n",
    "\n",
    "# Transpose information to create a dataframe\n",
    "lists_2 = [[],[],[],[],[],[],[],[],[]]\n",
    "for n in range(9):\n",
    "    for lis in lists:\n",
    "        lists_2[n].append(lis[n])"
   ]
  },
  {
   "cell_type": "code",
   "execution_count": 35,
   "id": "a824d477",
   "metadata": {
    "scrolled": true
   },
   "outputs": [],
   "source": [
    "dict_1 = {}\n",
    "for n in range(9):\n",
    "    dict_1[str(titles[n])]=lists_2[n]"
   ]
  },
  {
   "cell_type": "code",
   "execution_count": 36,
   "id": "f08f3b62",
   "metadata": {
    "scrolled": true
   },
   "outputs": [
    {
     "data": {
      "text/html": [
       "<div>\n",
       "<style scoped>\n",
       "    .dataframe tbody tr th:only-of-type {\n",
       "        vertical-align: middle;\n",
       "    }\n",
       "\n",
       "    .dataframe tbody tr th {\n",
       "        vertical-align: top;\n",
       "    }\n",
       "\n",
       "    .dataframe thead th {\n",
       "        text-align: right;\n",
       "    }\n",
       "</style>\n",
       "<table border=\"1\" class=\"dataframe\">\n",
       "  <thead>\n",
       "    <tr style=\"text-align: right;\">\n",
       "      <th></th>\n",
       "      <th>Metric</th>\n",
       "      <th>A</th>\n",
       "      <th>B</th>\n",
       "      <th>Increase</th>\n",
       "      <th>Difference</th>\n",
       "      <th>Pooled SE</th>\n",
       "      <th>CI (-95%)</th>\n",
       "      <th>CI (+95%)</th>\n",
       "      <th>Significant</th>\n",
       "    </tr>\n",
       "  </thead>\n",
       "  <tbody>\n",
       "    <tr>\n",
       "      <th>0</th>\n",
       "      <td>clicks/impressions</td>\n",
       "      <td>0.005640</td>\n",
       "      <td>0.005835</td>\n",
       "      <td>0.034595</td>\n",
       "      <td>0.000195</td>\n",
       "      <td>0.0001</td>\n",
       "      <td>-0.00010</td>\n",
       "      <td>0.00010</td>\n",
       "      <td>Yes</td>\n",
       "    </tr>\n",
       "    <tr>\n",
       "      <th>1</th>\n",
       "      <td>registrations/clicks</td>\n",
       "      <td>0.117936</td>\n",
       "      <td>0.115678</td>\n",
       "      <td>-0.019151</td>\n",
       "      <td>-0.002259</td>\n",
       "      <td>0.0029</td>\n",
       "      <td>-0.00561</td>\n",
       "      <td>0.00561</td>\n",
       "      <td>No</td>\n",
       "    </tr>\n",
       "    <tr>\n",
       "      <th>2</th>\n",
       "      <td>enquiries/registrations</td>\n",
       "      <td>0.506273</td>\n",
       "      <td>0.468591</td>\n",
       "      <td>-0.074430</td>\n",
       "      <td>-0.037682</td>\n",
       "      <td>0.0130</td>\n",
       "      <td>-0.02553</td>\n",
       "      <td>0.02553</td>\n",
       "      <td>Yes</td>\n",
       "    </tr>\n",
       "    <tr>\n",
       "      <th>3</th>\n",
       "      <td>purchases/enquiries</td>\n",
       "      <td>0.233634</td>\n",
       "      <td>0.211599</td>\n",
       "      <td>-0.094314</td>\n",
       "      <td>-0.022035</td>\n",
       "      <td>0.0155</td>\n",
       "      <td>-0.03042</td>\n",
       "      <td>0.03042</td>\n",
       "      <td>No</td>\n",
       "    </tr>\n",
       "    <tr>\n",
       "      <th>4</th>\n",
       "      <td>purchases/clicks</td>\n",
       "      <td>0.013950</td>\n",
       "      <td>0.011470</td>\n",
       "      <td>-0.177777</td>\n",
       "      <td>-0.002480</td>\n",
       "      <td>0.0010</td>\n",
       "      <td>-0.00195</td>\n",
       "      <td>0.00195</td>\n",
       "      <td>Yes</td>\n",
       "    </tr>\n",
       "    <tr>\n",
       "      <th>5</th>\n",
       "      <td>purchases/impressions</td>\n",
       "      <td>0.000079</td>\n",
       "      <td>0.000067</td>\n",
       "      <td>-0.149332</td>\n",
       "      <td>-0.000012</td>\n",
       "      <td>0.0000</td>\n",
       "      <td>-0.00001</td>\n",
       "      <td>0.00001</td>\n",
       "      <td>Yes</td>\n",
       "    </tr>\n",
       "  </tbody>\n",
       "</table>\n",
       "</div>"
      ],
      "text/plain": [
       "                    Metric         A         B  Increase  Difference  \\\n",
       "0       clicks/impressions  0.005640  0.005835  0.034595    0.000195   \n",
       "1     registrations/clicks  0.117936  0.115678 -0.019151   -0.002259   \n",
       "2  enquiries/registrations  0.506273  0.468591 -0.074430   -0.037682   \n",
       "3      purchases/enquiries  0.233634  0.211599 -0.094314   -0.022035   \n",
       "4         purchases/clicks  0.013950  0.011470 -0.177777   -0.002480   \n",
       "5    purchases/impressions  0.000079  0.000067 -0.149332   -0.000012   \n",
       "\n",
       "   Pooled SE  CI (-95%)  CI (+95%) Significant  \n",
       "0     0.0001   -0.00010    0.00010         Yes  \n",
       "1     0.0029   -0.00561    0.00561          No  \n",
       "2     0.0130   -0.02553    0.02553         Yes  \n",
       "3     0.0155   -0.03042    0.03042          No  \n",
       "4     0.0010   -0.00195    0.00195         Yes  \n",
       "5     0.0000   -0.00001    0.00001         Yes  "
      ]
     },
     "execution_count": 36,
     "metadata": {},
     "output_type": "execute_result"
    }
   ],
   "source": [
    "table_1 = pd.DataFrame(data=dict_1)\n",
    "table_1.head(10)"
   ]
  },
  {
   "cell_type": "markdown",
   "id": "ec68bed0",
   "metadata": {},
   "source": [
    "#### Export this information to Excel\n",
    "\n",
    "From Excel it is easier to create nicely formatted tables."
   ]
  },
  {
   "cell_type": "markdown",
   "id": "d97ae2d7",
   "metadata": {},
   "source": [
    "### Cost-related metrics:\n",
    "\n",
    "1) Impressions\n",
    "\n",
    "2) Clicks\n",
    "\n",
    "3) Registrations\n",
    "\n",
    "4) Enquiries\n",
    "\n",
    "5) Purchases"
   ]
  },
  {
   "cell_type": "code",
   "execution_count": 37,
   "id": "ba8acbbe",
   "metadata": {},
   "outputs": [],
   "source": [
    "def cost (col):\n",
    "    cost_a = data[data.labels=='A'].cost.sum()/data[data.labels=='A'][col].sum()\n",
    "    cost_b = data[data.labels=='B'].cost.sum()/data[data.labels=='B'][col].sum()\n",
    "    \n",
    "    return ['Cost per ' +str(col[:-1]), cost_a, cost_b]"
   ]
  },
  {
   "cell_type": "code",
   "execution_count": 38,
   "id": "7664d22c",
   "metadata": {},
   "outputs": [
    {
     "data": {
      "text/plain": [
       "['Cost per impression', 0.009147590070510962, 0.008225119270444546]"
      ]
     },
     "execution_count": 38,
     "metadata": {},
     "output_type": "execute_result"
    }
   ],
   "source": [
    "cost('impressions')"
   ]
  },
  {
   "cell_type": "code",
   "execution_count": 39,
   "id": "17dcf695",
   "metadata": {},
   "outputs": [
    {
     "data": {
      "text/plain": [
       "['Cost per click', 1.6218787777031565, 1.409559757829434]"
      ]
     },
     "execution_count": 39,
     "metadata": {},
     "output_type": "execute_result"
    }
   ],
   "source": [
    "cost('clicks')"
   ]
  },
  {
   "cell_type": "code",
   "execution_count": 40,
   "id": "ac8014bb",
   "metadata": {},
   "outputs": [
    {
     "data": {
      "text/plain": [
       "['Cost per registration', 13.752180830050076, 12.185248602720254]"
      ]
     },
     "execution_count": 40,
     "metadata": {},
     "output_type": "execute_result"
    }
   ],
   "source": [
    "cost('registrations')"
   ]
  },
  {
   "cell_type": "code",
   "execution_count": 41,
   "id": "a9cc55a8",
   "metadata": {},
   "outputs": [
    {
     "data": {
      "text/plain": [
       "['Cost per enquirie', 27.16357347730724, 26.004012603159065]"
      ]
     },
     "execution_count": 41,
     "metadata": {},
     "output_type": "execute_result"
    }
   ],
   "source": [
    "cost('enquiries')"
   ]
  },
  {
   "cell_type": "code",
   "execution_count": 42,
   "id": "85668fd6",
   "metadata": {
    "scrolled": true
   },
   "outputs": [
    {
     "data": {
      "text/plain": [
       "['Cost per purchase', 116.26539086477702, 122.89270470170409]"
      ]
     },
     "execution_count": 42,
     "metadata": {},
     "output_type": "execute_result"
    }
   ],
   "source": [
    "cost('purchases')"
   ]
  },
  {
   "cell_type": "markdown",
   "id": "c163294b",
   "metadata": {},
   "source": [
    "#### Export this information to Excel\n",
    "\n",
    "From Excel it is easier to create nicely formatted tables."
   ]
  },
  {
   "cell_type": "markdown",
   "id": "be382d5d",
   "metadata": {},
   "source": [
    "### Structure of A vs B"
   ]
  },
  {
   "cell_type": "code",
   "execution_count": 43,
   "id": "68d73860",
   "metadata": {},
   "outputs": [
    {
     "data": {
      "text/plain": [
       "45"
      ]
     },
     "execution_count": 43,
     "metadata": {},
     "output_type": "execute_result"
    }
   ],
   "source": [
    "data_a.groupby('campaign_id').sum().shape[0]"
   ]
  },
  {
   "cell_type": "code",
   "execution_count": 44,
   "id": "19ec6fa6",
   "metadata": {},
   "outputs": [
    {
     "data": {
      "text/plain": [
       "31"
      ]
     },
     "execution_count": 44,
     "metadata": {},
     "output_type": "execute_result"
    }
   ],
   "source": [
    "data_b.groupby('campaign_id').sum().shape[0]"
   ]
  },
  {
   "cell_type": "code",
   "execution_count": 45,
   "id": "53ea825b",
   "metadata": {},
   "outputs": [
    {
     "data": {
      "text/plain": [
       "45"
      ]
     },
     "execution_count": 45,
     "metadata": {},
     "output_type": "execute_result"
    }
   ],
   "source": [
    "data_a.groupby('ad_group_id').sum().shape[0]"
   ]
  },
  {
   "cell_type": "code",
   "execution_count": 46,
   "id": "db367d0c",
   "metadata": {},
   "outputs": [
    {
     "data": {
      "text/plain": [
       "31"
      ]
     },
     "execution_count": 46,
     "metadata": {},
     "output_type": "execute_result"
    }
   ],
   "source": [
    "data_b.groupby('ad_group_id').sum().shape[0]"
   ]
  },
  {
   "cell_type": "code",
   "execution_count": 47,
   "id": "1c8d871d",
   "metadata": {},
   "outputs": [
    {
     "data": {
      "text/plain": [
       "45"
      ]
     },
     "execution_count": 47,
     "metadata": {},
     "output_type": "execute_result"
    }
   ],
   "source": [
    "data_a.groupby('ad_id').sum().shape[0]"
   ]
  },
  {
   "cell_type": "markdown",
   "id": "3ee0aed7",
   "metadata": {},
   "source": [
    "### Other metrics:\n",
    "Let's obtain the necessary information to compare the funnel proportion of each branch."
   ]
  },
  {
   "cell_type": "code",
   "execution_count": 48,
   "id": "12ffd620",
   "metadata": {},
   "outputs": [
    {
     "data": {
      "text/plain": [
       "0    4224024.00\n",
       "1      23824.00\n",
       "2       2809.71\n",
       "3       1422.48\n",
       "4        332.34\n",
       "dtype: float64"
      ]
     },
     "execution_count": 48,
     "metadata": {},
     "output_type": "execute_result"
    }
   ],
   "source": [
    "impressions_a = data_a.impressions.sum()\n",
    "clicks_a = data_a.clicks.sum()\n",
    "reg_a = data_a.registrations.sum()\n",
    "enq_a = data_a.enquiries.sum()\n",
    "pur_a = data_a.purchases.sum()\n",
    "\n",
    "totals_a = pd.Series([impressions_a, clicks_a, reg_a, enq_a, pur_a])\n",
    "totals_a"
   ]
  },
  {
   "cell_type": "code",
   "execution_count": 49,
   "id": "49c3ea87",
   "metadata": {},
   "outputs": [
    {
     "data": {
      "text/plain": [
       "0    4585587.00\n",
       "1      26758.00\n",
       "2       3095.30\n",
       "3       1450.43\n",
       "4        306.91\n",
       "dtype: float64"
      ]
     },
     "execution_count": 49,
     "metadata": {},
     "output_type": "execute_result"
    }
   ],
   "source": [
    "impressions_b = data_b.impressions.sum()\n",
    "clicks_b = data_b.clicks.sum()\n",
    "reg_b = data_b.registrations.sum()\n",
    "enq_b = data_b.enquiries.sum()\n",
    "pur_b = data_b.purchases.sum()\n",
    "\n",
    "totals_b = pd.Series([impressions_b, clicks_b, reg_b, enq_b, pur_b])\n",
    "totals_b"
   ]
  },
  {
   "cell_type": "markdown",
   "id": "2acb6dc9",
   "metadata": {},
   "source": [
    "#### Export this information to Excel\n",
    "\n",
    "From Excel it is easier to create nicely formatted tables."
   ]
  },
  {
   "cell_type": "markdown",
   "id": "fb4ed78b",
   "metadata": {},
   "source": [
    "### Plot trends in the data"
   ]
  },
  {
   "cell_type": "code",
   "execution_count": 50,
   "id": "210080a5",
   "metadata": {},
   "outputs": [],
   "source": [
    "dates_1 = data_a.groupby('date').mean().reset_index()['date']"
   ]
  },
  {
   "cell_type": "code",
   "execution_count": 51,
   "id": "926f3d27",
   "metadata": {},
   "outputs": [
    {
     "data": {
      "image/png": "[encoded data removed]",
      "text/plain": [
       "<Figure size 1008x432 with 1 Axes>"
      ]
     },
     "metadata": {
      "needs_background": "light"
     },
     "output_type": "display_data"
    }
   ],
   "source": [
    "plt.figure(figsize=(14,6))\n",
    "plt.yscale('log')\n",
    "plt.title(\"Variables' evolution over time\")\n",
    "\n",
    "plt.plot(dates_1, data_a.groupby('date').mean().impressions, label='impressions A', color='#0070C0', linestyle='dashed')\n",
    "plt.plot(dates_1, data_b.groupby('date').mean().impressions, label='impressions B', color='#0070C0', linewidth=3)\n",
    "\n",
    "plt.plot(dates_1, data_a.groupby('date').mean().clicks, label='clicks A', color='#95B3D7', linestyle='dashed')\n",
    "plt.plot(dates_1, data_b.groupby('date').mean().clicks, label='clicks B', color='#95B3D7', linewidth=3)\n",
    "\n",
    "plt.plot(dates_1, data_a.groupby('date').mean().registrations, label='registrations A', color='#FAC090', linestyle='dashed')\n",
    "plt.plot(dates_1, data_b.groupby('date').mean().registrations, label='registrations B', color='#FAC090', linewidth=3)\n",
    "\n",
    "plt.plot(dates_1, data_a.groupby('date').mean().enquiries, label='enquiries A', color='#E3B0AF', linestyle='dashed')\n",
    "plt.plot(dates_1, data_b.groupby('date').mean().enquiries, label='enquiries B', color='#E3B0AF', linewidth=3)\n",
    "\n",
    "plt.plot(dates_1, data_a.groupby('date').mean().purchases, label='purchases A', color='#C0504D', linestyle='dashed')\n",
    "plt.plot(dates_1, data_b.groupby('date').mean().purchases, label='purchases B', color='#C0504D', linewidth=3)\n",
    "\n",
    "plt.legend()\n",
    "plt.show()"
   ]
  },
  {
   "cell_type": "markdown",
   "id": "9e58a916",
   "metadata": {},
   "source": [
    "## b) Duration\n",
    "\n",
    "Disregarding the time from click to lower funnel conversions, determine the earliest date that you could have declared a winner. If there is no winner, how much longer would the test have needed to run for?"
   ]
  },
  {
   "cell_type": "markdown",
   "id": "599c0609",
   "metadata": {},
   "source": [
    "#### Calculate minimum sample size\n",
    "\n",
    "Based on:\n",
    "\n",
    "- Baseline CTR (0.57%)\n",
    "- Minimum detectable change - relative to the baseline (3.5%)\n",
    "- Level of confidence (95%)\n",
    "- Power (80%)\n",
    "\n",
    "https://www.evanmiller.org/ab-testing/sample-size.html\n",
    "\n",
    "Result - Minimum sample size (per branch): 2,246,990"
   ]
  },
  {
   "cell_type": "code",
   "execution_count": 52,
   "id": "6c566f42",
   "metadata": {},
   "outputs": [],
   "source": [
    "ctr_a = data_a.clicks.sum()/data_a.impressions.sum()\n",
    "ctr_b = data_b.clicks.sum()/data_b.impressions.sum()"
   ]
  },
  {
   "cell_type": "code",
   "execution_count": 53,
   "id": "ab030695",
   "metadata": {},
   "outputs": [
    {
     "data": {
      "text/plain": [
       "0.0345950794979879"
      ]
     },
     "execution_count": 53,
     "metadata": {},
     "output_type": "execute_result"
    }
   ],
   "source": [
    "ctr_increase = ctr_b/ctr_a-1\n",
    "ctr_increase"
   ]
  },
  {
   "cell_type": "code",
   "execution_count": 54,
   "id": "cd5c3413",
   "metadata": {},
   "outputs": [
    {
     "data": {
      "text/plain": [
       "4493980"
      ]
     },
     "execution_count": 54,
     "metadata": {},
     "output_type": "execute_result"
    }
   ],
   "source": [
    "total_sample = 2246990*2\n",
    "total_sample"
   ]
  },
  {
   "cell_type": "code",
   "execution_count": 55,
   "id": "ecffac76",
   "metadata": {},
   "outputs": [
    {
     "data": {
      "text/plain": [
       "Timedelta('39 days 00:00:00')"
      ]
     },
     "execution_count": 55,
     "metadata": {},
     "output_type": "execute_result"
    }
   ],
   "source": [
    "days = max(data.date)-min(data.date)\n",
    "days"
   ]
  },
  {
   "cell_type": "code",
   "execution_count": 56,
   "id": "75048838",
   "metadata": {},
   "outputs": [
    {
     "data": {
      "text/plain": [
       "225887.46153846153"
      ]
     },
     "execution_count": 56,
     "metadata": {},
     "output_type": "execute_result"
    }
   ],
   "source": [
    "daily_impressions = data.impressions.sum()/39\n",
    "daily_impressions"
   ]
  },
  {
   "cell_type": "code",
   "execution_count": 57,
   "id": "cffa8feb",
   "metadata": {},
   "outputs": [
    {
     "data": {
      "text/plain": [
       "19.894774014425835"
      ]
     },
     "execution_count": 57,
     "metadata": {},
     "output_type": "execute_result"
    }
   ],
   "source": [
    "exp_duration = total_sample/daily_impressions\n",
    "exp_duration"
   ]
  },
  {
   "cell_type": "markdown",
   "id": "93a43373",
   "metadata": {},
   "source": [
    "## c) Alternative duration\n"
   ]
  },
  {
   "cell_type": "code",
   "execution_count": 58,
   "id": "1a34676a",
   "metadata": {},
   "outputs": [
    {
     "data": {
      "text/plain": [
       "7.867853023562367e-05"
      ]
     },
     "execution_count": 58,
     "metadata": {},
     "output_type": "execute_result"
    }
   ],
   "source": [
    "i_to_p_a = data_a.purchases.sum()/data_a.impressions.sum()\n",
    "i_to_p_a"
   ]
  },
  {
   "cell_type": "code",
   "execution_count": 59,
   "id": "f7402168",
   "metadata": {},
   "outputs": [
    {
     "data": {
      "text/plain": [
       "6.692927208664887e-05"
      ]
     },
     "execution_count": 59,
     "metadata": {},
     "output_type": "execute_result"
    }
   ],
   "source": [
    "i_to_p_b = data_b.purchases.sum()/data_b.impressions.sum()\n",
    "i_to_p_b"
   ]
  },
  {
   "cell_type": "code",
   "execution_count": 60,
   "id": "4c32c1ad",
   "metadata": {},
   "outputs": [
    {
     "data": {
      "text/plain": [
       "-0.14933245592906397"
      ]
     },
     "execution_count": 60,
     "metadata": {},
     "output_type": "execute_result"
    }
   ],
   "source": [
    "i_to_p_increase = i_to_p_b/i_to_p_a-1\n",
    "i_to_p_increase"
   ]
  },
  {
   "cell_type": "markdown",
   "id": "504db10f",
   "metadata": {},
   "source": [
    "#### Calculate minimum sample size\n",
    "\n",
    "Based on:\n",
    "\n",
    "- Baseline Purchases/Impressions (0.008%)\n",
    "- Minimum detectable change - relative to the baseline (15%)\n",
    "- Level of confidence (95%)\n",
    "- Power (80%)\n",
    "\n",
    "https://www.evanmiller.org/ab-testing/sample-size.html\n",
    "\n",
    "Result - Minimum sample size (per branch): 8,914,251"
   ]
  },
  {
   "cell_type": "code",
   "execution_count": 61,
   "id": "f0cfac97",
   "metadata": {},
   "outputs": [
    {
     "data": {
      "text/plain": [
       "17828502"
      ]
     },
     "execution_count": 61,
     "metadata": {},
     "output_type": "execute_result"
    }
   ],
   "source": [
    "min_ss = 8914251*2\n",
    "min_ss"
   ]
  },
  {
   "cell_type": "code",
   "execution_count": 62,
   "id": "32263d03",
   "metadata": {},
   "outputs": [
    {
     "data": {
      "text/plain": [
       "225887.46153846153"
      ]
     },
     "execution_count": 62,
     "metadata": {},
     "output_type": "execute_result"
    }
   ],
   "source": [
    "daily_imp = data.impressions.sum()/39\n",
    "daily_imp"
   ]
  },
  {
   "cell_type": "code",
   "execution_count": 63,
   "id": "4821a7d9",
   "metadata": {},
   "outputs": [
    {
     "data": {
      "text/plain": [
       "78.92647904657765"
      ]
     },
     "execution_count": 63,
     "metadata": {},
     "output_type": "execute_result"
    }
   ],
   "source": [
    "exp_duration_2 = min_ss/daily_imp\n",
    "exp_duration_2"
   ]
  },
  {
   "cell_type": "markdown",
   "id": "907ae679",
   "metadata": {},
   "source": [
    "# 2. Test 2\n",
    "## a) Duration\n",
    "The client wants to run another test, this time comparing different audiences for campaign targeting. \n",
    "\n",
    "Based on the daily volumes observed in this test, calculate how long they would need to run the audience test for if they wanted to detect a 5% increase in the rate of registered users enquiring."
   ]
  },
  {
   "cell_type": "code",
   "execution_count": 64,
   "id": "dcae2046",
   "metadata": {},
   "outputs": [
    {
     "data": {
      "text/plain": [
       "0.48652076795805593"
      ]
     },
     "execution_count": 64,
     "metadata": {},
     "output_type": "execute_result"
    }
   ],
   "source": [
    "baseline_r_to_e = data.enquiries.sum()/data.registrations.sum()\n",
    "baseline_r_to_e"
   ]
  },
  {
   "cell_type": "code",
   "execution_count": 65,
   "id": "61bdf563",
   "metadata": {},
   "outputs": [
    {
     "data": {
      "text/plain": [
       "Timedelta('39 days 00:00:00')"
      ]
     },
     "execution_count": 65,
     "metadata": {},
     "output_type": "execute_result"
    }
   ],
   "source": [
    "days = max(data.date)-min(data.date)\n",
    "days"
   ]
  },
  {
   "cell_type": "code",
   "execution_count": 66,
   "id": "b24fc122",
   "metadata": {},
   "outputs": [
    {
     "data": {
      "text/plain": [
       "151.41051282051282"
      ]
     },
     "execution_count": 66,
     "metadata": {},
     "output_type": "execute_result"
    }
   ],
   "source": [
    "daily_reg = data.registrations.sum()/39\n",
    "daily_reg"
   ]
  },
  {
   "cell_type": "markdown",
   "id": "29af9750",
   "metadata": {},
   "source": [
    "#### Calculate sample size\n",
    "\n",
    "Based on:\n",
    "\n",
    "- Baseline Enquiries/Registrations (49%)\n",
    "- Minimum detectable change - relative to the baseline (5%)\n",
    "- Level of confidence (95%)\n",
    "- Power (80%)\n",
    "\n",
    "https://www.evanmiller.org/ab-testing/sample-size.html#!48;80;5;5;1\n",
    "\n",
    "Result - Minimum sample size (per branch): 6.535 "
   ]
  },
  {
   "cell_type": "code",
   "execution_count": 67,
   "id": "99fe3235",
   "metadata": {},
   "outputs": [],
   "source": [
    "branch_min_sample_size = 6535"
   ]
  },
  {
   "cell_type": "code",
   "execution_count": 68,
   "id": "3eca5e42",
   "metadata": {},
   "outputs": [],
   "source": [
    "total_min_sample_size = branch_min_sample_size*2"
   ]
  },
  {
   "cell_type": "code",
   "execution_count": 69,
   "id": "4ab6e75d",
   "metadata": {},
   "outputs": [
    {
     "data": {
      "text/plain": [
       "86.32161503536827"
      ]
     },
     "execution_count": 69,
     "metadata": {},
     "output_type": "execute_result"
    }
   ],
   "source": [
    "exp_duration_3 = total_min_sample_size/daily_reg\n",
    "exp_duration_3"
   ]
  }
 ],
 "metadata": {
  "kernelspec": {
   "display_name": "Python 3",
   "language": "python",
   "name": "python3"
  },
  "language_info": {
   "codemirror_mode": {
    "name": "ipython",
    "version": 3
   },
   "file_extension": ".py",
   "mimetype": "text/x-python",
   "name": "python",
   "nbconvert_exporter": "python",
   "pygments_lexer": "ipython3",
   "version": "3.7.7"
  }
 },
 "nbformat": 4,
 "nbformat_minor": 5
}
