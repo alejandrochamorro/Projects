{
 "cells": [
  {
   "cell_type": "code",
   "execution_count": null,
   "id": "c565d7b9",
   "metadata": {},
   "outputs": [],
   "source": [
    "import pandas as pd\n",
    "import numpy as np\n",
    "import seaborn as sns\n",
    "import plotly.express as px\n",
    "import matplotlib.pyplot as plt\n",
    "%matplotlib inline\n",
    "import sys\n",
    "sys.path.append('..')\n",
    "pd.set_option('display.max_columns', 50)\n",
    "pd.set_option('display.max_rows', 50)"
   ]
  },
  {
   "cell_type": "code",
   "execution_count": 2,
   "id": "106ee53d",
   "metadata": {},
   "outputs": [
    {
     "data": {
      "text/html": [
       "<div>\n",
       "<style scoped>\n",
       "    .dataframe tbody tr th:only-of-type {\n",
       "        vertical-align: middle;\n",
       "    }\n",
       "\n",
       "    .dataframe tbody tr th {\n",
       "        vertical-align: top;\n",
       "    }\n",
       "\n",
       "    .dataframe thead th {\n",
       "        text-align: right;\n",
       "    }\n",
       "</style>\n",
       "<table border=\"1\" class=\"dataframe\">\n",
       "  <thead>\n",
       "    <tr style=\"text-align: right;\">\n",
       "      <th></th>\n",
       "      <th>date</th>\n",
       "      <th>campaign_id</th>\n",
       "      <th>ad_group_id</th>\n",
       "      <th>ad_id</th>\n",
       "      <th>labels</th>\n",
       "      <th>cost</th>\n",
       "      <th>impressions</th>\n",
       "      <th>clicks</th>\n",
       "      <th>registrations</th>\n",
       "      <th>enquiries</th>\n",
       "      <th>purchases</th>\n",
       "    </tr>\n",
       "  </thead>\n",
       "  <tbody>\n",
       "    <tr>\n",
       "      <th>0</th>\n",
       "      <td>date</td>\n",
       "      <td>campaign_id</td>\n",
       "      <td>ad_group_id</td>\n",
       "      <td>ad_id</td>\n",
       "      <td>labels</td>\n",
       "      <td>cost</td>\n",
       "      <td>impressions</td>\n",
       "      <td>clicks</td>\n",
       "      <td>registrations</td>\n",
       "      <td>enquiries</td>\n",
       "      <td>purchases</td>\n",
       "    </tr>\n",
       "    <tr>\n",
       "      <th>1</th>\n",
       "      <td>2020-09-06</td>\n",
       "      <td>100001</td>\n",
       "      <td>200001</td>\n",
       "      <td>300001</td>\n",
       "      <td>[\"mvt_id:91,var_id:type_1\"]</td>\n",
       "      <td>£20.68</td>\n",
       "      <td>1821</td>\n",
       "      <td>12</td>\n",
       "      <td>2.68</td>\n",
       "      <td>0.98</td>\n",
       "      <td>0.18</td>\n",
       "    </tr>\n",
       "    <tr>\n",
       "      <th>2</th>\n",
       "      <td>2020-09-07</td>\n",
       "      <td>100001</td>\n",
       "      <td>200001</td>\n",
       "      <td>300001</td>\n",
       "      <td>[\"mvt_id:91,var_id:type_1\"]</td>\n",
       "      <td>£17.41</td>\n",
       "      <td>2297</td>\n",
       "      <td>10</td>\n",
       "      <td>1.72</td>\n",
       "      <td>0.46</td>\n",
       "      <td>0.20</td>\n",
       "    </tr>\n",
       "  </tbody>\n",
       "</table>\n",
       "</div>"
      ],
      "text/plain": [
       "         date  campaign_id  ad_group_id   ad_id                       labels  \\\n",
       "0        date  campaign_id  ad_group_id   ad_id                       labels   \n",
       "1  2020-09-06       100001       200001  300001  [\"mvt_id:91,var_id:type_1\"]   \n",
       "2  2020-09-07       100001       200001  300001  [\"mvt_id:91,var_id:type_1\"]   \n",
       "\n",
       "     cost  impressions  clicks  registrations  enquiries  purchases  \n",
       "0    cost  impressions  clicks  registrations  enquiries  purchases  \n",
       "1  £20.68         1821      12           2.68       0.98       0.18  \n",
       "2  £17.41         2297      10           1.72       0.46       0.20  "
      ]
     },
     "execution_count": 2,
     "metadata": {},
     "output_type": "execute_result"
    }
   ],
   "source": [
    "data = pd.read_json('../Data/test_data.json')\n",
    "data.head(3)"
   ]
  },
  {
   "cell_type": "code",
   "execution_count": 3,
   "id": "858707df",
   "metadata": {},
   "outputs": [
    {
     "data": {
      "text/html": [
       "<div>\n",
       "<style scoped>\n",
       "    .dataframe tbody tr th:only-of-type {\n",
       "        vertical-align: middle;\n",
       "    }\n",
       "\n",
       "    .dataframe tbody tr th {\n",
       "        vertical-align: top;\n",
       "    }\n",
       "\n",
       "    .dataframe thead th {\n",
       "        text-align: right;\n",
       "    }\n",
       "</style>\n",
       "<table border=\"1\" class=\"dataframe\">\n",
       "  <thead>\n",
       "    <tr style=\"text-align: right;\">\n",
       "      <th></th>\n",
       "      <th>date</th>\n",
       "      <th>campaign_id</th>\n",
       "      <th>ad_group_id</th>\n",
       "      <th>ad_id</th>\n",
       "      <th>labels</th>\n",
       "      <th>cost</th>\n",
       "      <th>impressions</th>\n",
       "      <th>clicks</th>\n",
       "      <th>registrations</th>\n",
       "      <th>enquiries</th>\n",
       "      <th>purchases</th>\n",
       "    </tr>\n",
       "  </thead>\n",
       "  <tbody>\n",
       "    <tr>\n",
       "      <th>1</th>\n",
       "      <td>2020-09-06</td>\n",
       "      <td>100001</td>\n",
       "      <td>200001</td>\n",
       "      <td>300001</td>\n",
       "      <td>[\"mvt_id:91,var_id:type_1\"]</td>\n",
       "      <td>£20.68</td>\n",
       "      <td>1821</td>\n",
       "      <td>12</td>\n",
       "      <td>2.68</td>\n",
       "      <td>0.98</td>\n",
       "      <td>0.18</td>\n",
       "    </tr>\n",
       "    <tr>\n",
       "      <th>2</th>\n",
       "      <td>2020-09-07</td>\n",
       "      <td>100001</td>\n",
       "      <td>200001</td>\n",
       "      <td>300001</td>\n",
       "      <td>[\"mvt_id:91,var_id:type_1\"]</td>\n",
       "      <td>£17.41</td>\n",
       "      <td>2297</td>\n",
       "      <td>10</td>\n",
       "      <td>1.72</td>\n",
       "      <td>0.46</td>\n",
       "      <td>0.20</td>\n",
       "    </tr>\n",
       "    <tr>\n",
       "      <th>3</th>\n",
       "      <td>2020-09-08</td>\n",
       "      <td>100001</td>\n",
       "      <td>200001</td>\n",
       "      <td>300001</td>\n",
       "      <td>[\"mvt_id:91,var_id:type_1\"]</td>\n",
       "      <td>£13.02</td>\n",
       "      <td>1551</td>\n",
       "      <td>7</td>\n",
       "      <td>1.12</td>\n",
       "      <td>0.50</td>\n",
       "      <td>0.15</td>\n",
       "    </tr>\n",
       "    <tr>\n",
       "      <th>4</th>\n",
       "      <td>2020-09-09</td>\n",
       "      <td>100001</td>\n",
       "      <td>200001</td>\n",
       "      <td>300001</td>\n",
       "      <td>[\"mvt_id:91,var_id:type_1\"]</td>\n",
       "      <td>£17.07</td>\n",
       "      <td>1398</td>\n",
       "      <td>10</td>\n",
       "      <td>1.33</td>\n",
       "      <td>0.75</td>\n",
       "      <td>0.18</td>\n",
       "    </tr>\n",
       "    <tr>\n",
       "      <th>5</th>\n",
       "      <td>2020-09-10</td>\n",
       "      <td>100001</td>\n",
       "      <td>200001</td>\n",
       "      <td>300001</td>\n",
       "      <td>[\"mvt_id:91,var_id:type_1\"]</td>\n",
       "      <td>£23.90</td>\n",
       "      <td>2754</td>\n",
       "      <td>14</td>\n",
       "      <td>2.39</td>\n",
       "      <td>0.97</td>\n",
       "      <td>0.16</td>\n",
       "    </tr>\n",
       "    <tr>\n",
       "      <th>...</th>\n",
       "      <td>...</td>\n",
       "      <td>...</td>\n",
       "      <td>...</td>\n",
       "      <td>...</td>\n",
       "      <td>...</td>\n",
       "      <td>...</td>\n",
       "      <td>...</td>\n",
       "      <td>...</td>\n",
       "      <td>...</td>\n",
       "      <td>...</td>\n",
       "      <td>...</td>\n",
       "    </tr>\n",
       "    <tr>\n",
       "      <th>3037</th>\n",
       "      <td>2020-10-12</td>\n",
       "      <td>100076</td>\n",
       "      <td>200076</td>\n",
       "      <td>300076</td>\n",
       "      <td>[\"mvt_id:91,var_id:type_2\"]</td>\n",
       "      <td>£19.49</td>\n",
       "      <td>2566</td>\n",
       "      <td>13</td>\n",
       "      <td>1.17</td>\n",
       "      <td>0.35</td>\n",
       "      <td>0.14</td>\n",
       "    </tr>\n",
       "    <tr>\n",
       "      <th>3038</th>\n",
       "      <td>2020-10-13</td>\n",
       "      <td>100076</td>\n",
       "      <td>200076</td>\n",
       "      <td>300076</td>\n",
       "      <td>[\"mvt_id:91,var_id:type_2\"]</td>\n",
       "      <td>£17.79</td>\n",
       "      <td>1977</td>\n",
       "      <td>13</td>\n",
       "      <td>1.82</td>\n",
       "      <td>0.34</td>\n",
       "      <td>0.09</td>\n",
       "    </tr>\n",
       "    <tr>\n",
       "      <th>3039</th>\n",
       "      <td>2020-10-14</td>\n",
       "      <td>100076</td>\n",
       "      <td>200076</td>\n",
       "      <td>300076</td>\n",
       "      <td>[\"mvt_id:91,var_id:type_2\"]</td>\n",
       "      <td>£18.71</td>\n",
       "      <td>1643</td>\n",
       "      <td>16</td>\n",
       "      <td>1.31</td>\n",
       "      <td>0.69</td>\n",
       "      <td>0.25</td>\n",
       "    </tr>\n",
       "    <tr>\n",
       "      <th>3040</th>\n",
       "      <td>2020-10-15</td>\n",
       "      <td>100076</td>\n",
       "      <td>200076</td>\n",
       "      <td>300076</td>\n",
       "      <td>[\"mvt_id:91,var_id:type_2\"]</td>\n",
       "      <td>£23.76</td>\n",
       "      <td>2078</td>\n",
       "      <td>16</td>\n",
       "      <td>1.00</td>\n",
       "      <td>0.53</td>\n",
       "      <td>0.15</td>\n",
       "    </tr>\n",
       "    <tr>\n",
       "      <th>3041</th>\n",
       "      <td>2020-09-14</td>\n",
       "      <td>100026</td>\n",
       "      <td>200026</td>\n",
       "      <td>300026</td>\n",
       "      <td>[\"mvt_id:91,var_id:type_1\"]</td>\n",
       "      <td>£10.24</td>\n",
       "      <td>1924</td>\n",
       "      <td>7</td>\n",
       "      <td>1.35</td>\n",
       "      <td>0.23</td>\n",
       "      <td>0.09</td>\n",
       "    </tr>\n",
       "  </tbody>\n",
       "</table>\n",
       "<p>3041 rows × 11 columns</p>\n",
       "</div>"
      ],
      "text/plain": [
       "            date campaign_id ad_group_id   ad_id                       labels  \\\n",
       "1     2020-09-06      100001      200001  300001  [\"mvt_id:91,var_id:type_1\"]   \n",
       "2     2020-09-07      100001      200001  300001  [\"mvt_id:91,var_id:type_1\"]   \n",
       "3     2020-09-08      100001      200001  300001  [\"mvt_id:91,var_id:type_1\"]   \n",
       "4     2020-09-09      100001      200001  300001  [\"mvt_id:91,var_id:type_1\"]   \n",
       "5     2020-09-10      100001      200001  300001  [\"mvt_id:91,var_id:type_1\"]   \n",
       "...          ...         ...         ...     ...                          ...   \n",
       "3037  2020-10-12      100076      200076  300076  [\"mvt_id:91,var_id:type_2\"]   \n",
       "3038  2020-10-13      100076      200076  300076  [\"mvt_id:91,var_id:type_2\"]   \n",
       "3039  2020-10-14      100076      200076  300076  [\"mvt_id:91,var_id:type_2\"]   \n",
       "3040  2020-10-15      100076      200076  300076  [\"mvt_id:91,var_id:type_2\"]   \n",
       "3041  2020-09-14      100026      200026  300026  [\"mvt_id:91,var_id:type_1\"]   \n",
       "\n",
       "        cost impressions clicks registrations enquiries purchases  \n",
       "1     £20.68        1821     12          2.68      0.98      0.18  \n",
       "2     £17.41        2297     10          1.72      0.46      0.20  \n",
       "3     £13.02        1551      7          1.12      0.50      0.15  \n",
       "4     £17.07        1398     10          1.33      0.75      0.18  \n",
       "5     £23.90        2754     14          2.39      0.97      0.16  \n",
       "...      ...         ...    ...           ...       ...       ...  \n",
       "3037  £19.49        2566     13          1.17      0.35      0.14  \n",
       "3038  £17.79        1977     13          1.82      0.34      0.09  \n",
       "3039  £18.71        1643     16          1.31      0.69      0.25  \n",
       "3040  £23.76        2078     16          1.00      0.53      0.15  \n",
       "3041  £10.24        1924      7          1.35      0.23      0.09  \n",
       "\n",
       "[3041 rows x 11 columns]"
      ]
     },
     "execution_count": 3,
     "metadata": {},
     "output_type": "execute_result"
    }
   ],
   "source": [
    "data = data.iloc[1:]\n",
    "data"
   ]
  },
  {
   "cell_type": "code",
   "execution_count": 4,
   "id": "21c4e287",
   "metadata": {},
   "outputs": [
    {
     "data": {
      "text/html": [
       "<div>\n",
       "<style scoped>\n",
       "    .dataframe tbody tr th:only-of-type {\n",
       "        vertical-align: middle;\n",
       "    }\n",
       "\n",
       "    .dataframe tbody tr th {\n",
       "        vertical-align: top;\n",
       "    }\n",
       "\n",
       "    .dataframe thead th {\n",
       "        text-align: right;\n",
       "    }\n",
       "</style>\n",
       "<table border=\"1\" class=\"dataframe\">\n",
       "  <thead>\n",
       "    <tr style=\"text-align: right;\">\n",
       "      <th></th>\n",
       "      <th>date</th>\n",
       "      <th>campaign_id</th>\n",
       "      <th>ad_group_id</th>\n",
       "      <th>ad_id</th>\n",
       "      <th>labels</th>\n",
       "      <th>cost</th>\n",
       "      <th>impressions</th>\n",
       "      <th>clicks</th>\n",
       "      <th>registrations</th>\n",
       "      <th>enquiries</th>\n",
       "      <th>purchases</th>\n",
       "    </tr>\n",
       "  </thead>\n",
       "  <tbody>\n",
       "    <tr>\n",
       "      <th>1</th>\n",
       "      <td>2020-09-06</td>\n",
       "      <td>100001</td>\n",
       "      <td>200001</td>\n",
       "      <td>300001</td>\n",
       "      <td>[\"mvt_id:91,var_id:type_1\"]</td>\n",
       "      <td>£20.68</td>\n",
       "      <td>1821</td>\n",
       "      <td>12</td>\n",
       "      <td>2.68</td>\n",
       "      <td>0.98</td>\n",
       "      <td>0.18</td>\n",
       "    </tr>\n",
       "    <tr>\n",
       "      <th>2</th>\n",
       "      <td>2020-09-07</td>\n",
       "      <td>100001</td>\n",
       "      <td>200001</td>\n",
       "      <td>300001</td>\n",
       "      <td>[\"mvt_id:91,var_id:type_1\"]</td>\n",
       "      <td>£17.41</td>\n",
       "      <td>2297</td>\n",
       "      <td>10</td>\n",
       "      <td>1.72</td>\n",
       "      <td>0.46</td>\n",
       "      <td>0.20</td>\n",
       "    </tr>\n",
       "    <tr>\n",
       "      <th>3</th>\n",
       "      <td>2020-09-08</td>\n",
       "      <td>100001</td>\n",
       "      <td>200001</td>\n",
       "      <td>300001</td>\n",
       "      <td>[\"mvt_id:91,var_id:type_1\"]</td>\n",
       "      <td>£13.02</td>\n",
       "      <td>1551</td>\n",
       "      <td>7</td>\n",
       "      <td>1.12</td>\n",
       "      <td>0.50</td>\n",
       "      <td>0.15</td>\n",
       "    </tr>\n",
       "    <tr>\n",
       "      <th>4</th>\n",
       "      <td>2020-09-09</td>\n",
       "      <td>100001</td>\n",
       "      <td>200001</td>\n",
       "      <td>300001</td>\n",
       "      <td>[\"mvt_id:91,var_id:type_1\"]</td>\n",
       "      <td>£17.07</td>\n",
       "      <td>1398</td>\n",
       "      <td>10</td>\n",
       "      <td>1.33</td>\n",
       "      <td>0.75</td>\n",
       "      <td>0.18</td>\n",
       "    </tr>\n",
       "    <tr>\n",
       "      <th>5</th>\n",
       "      <td>2020-09-10</td>\n",
       "      <td>100001</td>\n",
       "      <td>200001</td>\n",
       "      <td>300001</td>\n",
       "      <td>[\"mvt_id:91,var_id:type_1\"]</td>\n",
       "      <td>£23.90</td>\n",
       "      <td>2754</td>\n",
       "      <td>14</td>\n",
       "      <td>2.39</td>\n",
       "      <td>0.97</td>\n",
       "      <td>0.16</td>\n",
       "    </tr>\n",
       "    <tr>\n",
       "      <th>...</th>\n",
       "      <td>...</td>\n",
       "      <td>...</td>\n",
       "      <td>...</td>\n",
       "      <td>...</td>\n",
       "      <td>...</td>\n",
       "      <td>...</td>\n",
       "      <td>...</td>\n",
       "      <td>...</td>\n",
       "      <td>...</td>\n",
       "      <td>...</td>\n",
       "      <td>...</td>\n",
       "    </tr>\n",
       "    <tr>\n",
       "      <th>3036</th>\n",
       "      <td>2020-10-11</td>\n",
       "      <td>100076</td>\n",
       "      <td>200076</td>\n",
       "      <td>300076</td>\n",
       "      <td>[\"mvt_id:91,var_id:type_2\"]</td>\n",
       "      <td>£17.90</td>\n",
       "      <td>2975</td>\n",
       "      <td>13</td>\n",
       "      <td>1.97</td>\n",
       "      <td>1.09</td>\n",
       "      <td>0.10</td>\n",
       "    </tr>\n",
       "    <tr>\n",
       "      <th>3037</th>\n",
       "      <td>2020-10-12</td>\n",
       "      <td>100076</td>\n",
       "      <td>200076</td>\n",
       "      <td>300076</td>\n",
       "      <td>[\"mvt_id:91,var_id:type_2\"]</td>\n",
       "      <td>£19.49</td>\n",
       "      <td>2566</td>\n",
       "      <td>13</td>\n",
       "      <td>1.17</td>\n",
       "      <td>0.35</td>\n",
       "      <td>0.14</td>\n",
       "    </tr>\n",
       "    <tr>\n",
       "      <th>3038</th>\n",
       "      <td>2020-10-13</td>\n",
       "      <td>100076</td>\n",
       "      <td>200076</td>\n",
       "      <td>300076</td>\n",
       "      <td>[\"mvt_id:91,var_id:type_2\"]</td>\n",
       "      <td>£17.79</td>\n",
       "      <td>1977</td>\n",
       "      <td>13</td>\n",
       "      <td>1.82</td>\n",
       "      <td>0.34</td>\n",
       "      <td>0.09</td>\n",
       "    </tr>\n",
       "    <tr>\n",
       "      <th>3039</th>\n",
       "      <td>2020-10-14</td>\n",
       "      <td>100076</td>\n",
       "      <td>200076</td>\n",
       "      <td>300076</td>\n",
       "      <td>[\"mvt_id:91,var_id:type_2\"]</td>\n",
       "      <td>£18.71</td>\n",
       "      <td>1643</td>\n",
       "      <td>16</td>\n",
       "      <td>1.31</td>\n",
       "      <td>0.69</td>\n",
       "      <td>0.25</td>\n",
       "    </tr>\n",
       "    <tr>\n",
       "      <th>3040</th>\n",
       "      <td>2020-10-15</td>\n",
       "      <td>100076</td>\n",
       "      <td>200076</td>\n",
       "      <td>300076</td>\n",
       "      <td>[\"mvt_id:91,var_id:type_2\"]</td>\n",
       "      <td>£23.76</td>\n",
       "      <td>2078</td>\n",
       "      <td>16</td>\n",
       "      <td>1.00</td>\n",
       "      <td>0.53</td>\n",
       "      <td>0.15</td>\n",
       "    </tr>\n",
       "  </tbody>\n",
       "</table>\n",
       "<p>3040 rows × 11 columns</p>\n",
       "</div>"
      ],
      "text/plain": [
       "            date campaign_id ad_group_id   ad_id                       labels  \\\n",
       "1     2020-09-06      100001      200001  300001  [\"mvt_id:91,var_id:type_1\"]   \n",
       "2     2020-09-07      100001      200001  300001  [\"mvt_id:91,var_id:type_1\"]   \n",
       "3     2020-09-08      100001      200001  300001  [\"mvt_id:91,var_id:type_1\"]   \n",
       "4     2020-09-09      100001      200001  300001  [\"mvt_id:91,var_id:type_1\"]   \n",
       "5     2020-09-10      100001      200001  300001  [\"mvt_id:91,var_id:type_1\"]   \n",
       "...          ...         ...         ...     ...                          ...   \n",
       "3036  2020-10-11      100076      200076  300076  [\"mvt_id:91,var_id:type_2\"]   \n",
       "3037  2020-10-12      100076      200076  300076  [\"mvt_id:91,var_id:type_2\"]   \n",
       "3038  2020-10-13      100076      200076  300076  [\"mvt_id:91,var_id:type_2\"]   \n",
       "3039  2020-10-14      100076      200076  300076  [\"mvt_id:91,var_id:type_2\"]   \n",
       "3040  2020-10-15      100076      200076  300076  [\"mvt_id:91,var_id:type_2\"]   \n",
       "\n",
       "        cost impressions clicks registrations enquiries purchases  \n",
       "1     £20.68        1821     12          2.68      0.98      0.18  \n",
       "2     £17.41        2297     10          1.72      0.46      0.20  \n",
       "3     £13.02        1551      7          1.12      0.50      0.15  \n",
       "4     £17.07        1398     10          1.33      0.75      0.18  \n",
       "5     £23.90        2754     14          2.39      0.97      0.16  \n",
       "...      ...         ...    ...           ...       ...       ...  \n",
       "3036  £17.90        2975     13          1.97      1.09      0.10  \n",
       "3037  £19.49        2566     13          1.17      0.35      0.14  \n",
       "3038  £17.79        1977     13          1.82      0.34      0.09  \n",
       "3039  £18.71        1643     16          1.31      0.69      0.25  \n",
       "3040  £23.76        2078     16          1.00      0.53      0.15  \n",
       "\n",
       "[3040 rows x 11 columns]"
      ]
     },
     "execution_count": 4,
     "metadata": {},
     "output_type": "execute_result"
    }
   ],
   "source": [
    "data = data.iloc[:-1]\n",
    "data"
   ]
  },
  {
   "cell_type": "code",
   "execution_count": 5,
   "id": "861a5c32",
   "metadata": {
    "scrolled": true
   },
   "outputs": [
    {
     "data": {
      "text/plain": [
       "date             0\n",
       "campaign_id      0\n",
       "ad_group_id      0\n",
       "ad_id            0\n",
       "labels           0\n",
       "cost             0\n",
       "impressions      0\n",
       "clicks           0\n",
       "registrations    0\n",
       "enquiries        0\n",
       "purchases        0\n",
       "dtype: int64"
      ]
     },
     "execution_count": 5,
     "metadata": {},
     "output_type": "execute_result"
    }
   ],
   "source": [
    "data.isnull().sum()"
   ]
  },
  {
   "cell_type": "code",
   "execution_count": 6,
   "id": "fcfc1689",
   "metadata": {},
   "outputs": [
    {
     "name": "stdout",
     "output_type": "stream",
     "text": [
      "<class 'pandas.core.frame.DataFrame'>\n",
      "RangeIndex: 3040 entries, 1 to 3040\n",
      "Data columns (total 11 columns):\n",
      " #   Column         Non-Null Count  Dtype \n",
      "---  ------         --------------  ----- \n",
      " 0   date           3040 non-null   object\n",
      " 1   campaign_id    3040 non-null   object\n",
      " 2   ad_group_id    3040 non-null   object\n",
      " 3   ad_id          3040 non-null   object\n",
      " 4   labels         3040 non-null   object\n",
      " 5   cost           3040 non-null   object\n",
      " 6   impressions    3040 non-null   object\n",
      " 7   clicks         3040 non-null   object\n",
      " 8   registrations  3040 non-null   object\n",
      " 9   enquiries      3040 non-null   object\n",
      " 10  purchases      3040 non-null   object\n",
      "dtypes: object(11)\n",
      "memory usage: 261.4+ KB\n"
     ]
    }
   ],
   "source": [
    "data.info()"
   ]
  },
  {
   "cell_type": "code",
   "execution_count": 7,
   "id": "2a8f0cca",
   "metadata": {},
   "outputs": [
    {
     "data": {
      "text/plain": [
       "2020-10-15    76\n",
       "2020-10-08    76\n",
       "2020-10-07    76\n",
       "2020-09-28    76\n",
       "2020-09-09    76\n",
       "2020-10-09    76\n",
       "2020-10-11    76\n",
       "2020-09-26    76\n",
       "2020-10-12    76\n",
       "2020-09-21    76\n",
       "2020-09-10    76\n",
       "2020-10-06    76\n",
       "2020-09-15    76\n",
       "2020-09-25    76\n",
       "2020-10-02    76\n",
       "2020-09-24    76\n",
       "2020-09-27    76\n",
       "2020-09-12    76\n",
       "2020-10-04    76\n",
       "2020-10-10    76\n",
       "2020-09-19    76\n",
       "2020-10-13    76\n",
       "2020-09-08    76\n",
       "2020-10-03    76\n",
       "2020-09-20    76\n",
       "2020-10-14    76\n",
       "2020-09-17    76\n",
       "2020-09-06    76\n",
       "2020-09-16    76\n",
       "2020-09-07    76\n",
       "2020-09-18    76\n",
       "2020-10-01    76\n",
       "2020-09-22    76\n",
       "2020-09-14    76\n",
       "2020-09-13    76\n",
       "2020-09-30    76\n",
       "2020-09-29    76\n",
       "2020-10-05    76\n",
       "2020-09-11    76\n",
       "2020-09-23    75\n",
       "44097          1\n",
       "Name: date, dtype: int64"
      ]
     },
     "execution_count": 7,
     "metadata": {},
     "output_type": "execute_result"
    }
   ],
   "source": [
    "data.date.value_counts()"
   ]
  },
  {
   "cell_type": "code",
   "execution_count": 8,
   "id": "dece543b",
   "metadata": {
    "scrolled": true
   },
   "outputs": [],
   "source": [
    "data = data.copy()\n",
    "data.date = data.copy().date.replace({'44097':'2020-09-23'})"
   ]
  },
  {
   "cell_type": "code",
   "execution_count": 9,
   "id": "fbee949f",
   "metadata": {},
   "outputs": [],
   "source": [
    "data = data.copy()\n",
    "data.date = pd.to_datetime(data.date)"
   ]
  },
  {
   "cell_type": "code",
   "execution_count": 10,
   "id": "4e6e62f2",
   "metadata": {},
   "outputs": [
    {
     "data": {
      "text/plain": [
       "<AxesSubplot:>"
      ]
     },
     "execution_count": 10,
     "metadata": {},
     "output_type": "execute_result"
    },
    {
     "data": {
      "image/png": "[encoded data removed]",
      "text/plain": [
       "<Figure size 432x288 with 1 Axes>"
      ]
     },
     "metadata": {
      "needs_background": "light"
     },
     "output_type": "display_data"
    }
   ],
   "source": [
    "data.date.value_counts().plot()"
   ]
  },
  {
   "cell_type": "code",
   "execution_count": 11,
   "id": "0d3d943d",
   "metadata": {},
   "outputs": [],
   "source": [
    "data = data.copy()\n",
    "data.campaign_id = data.campaign_id.astype(int)"
   ]
  },
  {
   "cell_type": "code",
   "execution_count": 12,
   "id": "64097c98",
   "metadata": {
    "scrolled": false
   },
   "outputs": [
    {
     "data": {
      "text/plain": [
       "<AxesSubplot:>"
      ]
     },
     "execution_count": 12,
     "metadata": {},
     "output_type": "execute_result"
    },
    {
     "data": {
      "image/png": "[encoded data removed]",
      "text/plain": [
       "<Figure size 432x288 with 1 Axes>"
      ]
     },
     "metadata": {
      "needs_background": "light"
     },
     "output_type": "display_data"
    }
   ],
   "source": [
    "data.campaign_id.value_counts().plot()"
   ]
  },
  {
   "cell_type": "code",
   "execution_count": null,
   "id": "ce6a09c7",
   "metadata": {},
   "outputs": [],
   "source": []
  },
  {
   "cell_type": "code",
   "execution_count": 13,
   "id": "c134de37",
   "metadata": {},
   "outputs": [],
   "source": [
    "data = data.copy()\n",
    "data.ad_group_id = data.ad_group_id.astype(int)"
   ]
  },
  {
   "cell_type": "code",
   "execution_count": 14,
   "id": "8d1fc377",
   "metadata": {
    "scrolled": false
   },
   "outputs": [
    {
     "data": {
      "text/plain": [
       "<AxesSubplot:>"
      ]
     },
     "execution_count": 14,
     "metadata": {},
     "output_type": "execute_result"
    },
    {
     "data": {
      "image/png": "[encoded data removed]",
      "text/plain": [
       "<Figure size 432x288 with 1 Axes>"
      ]
     },
     "metadata": {
      "needs_background": "light"
     },
     "output_type": "display_data"
    }
   ],
   "source": [
    "data.ad_group_id.value_counts().plot()"
   ]
  },
  {
   "cell_type": "code",
   "execution_count": 15,
   "id": "9eaf3f1b",
   "metadata": {},
   "outputs": [],
   "source": [
    "data = data.copy()\n",
    "data.ad_id = data.ad_id.astype(int)"
   ]
  },
  {
   "cell_type": "code",
   "execution_count": 16,
   "id": "e0ea77d9",
   "metadata": {},
   "outputs": [
    {
     "data": {
      "text/plain": [
       "<AxesSubplot:>"
      ]
     },
     "execution_count": 16,
     "metadata": {},
     "output_type": "execute_result"
    },
    {
     "data": {
      "image/png": "[encoded data removed]",
      "text/plain": [
       "<Figure size 432x288 with 1 Axes>"
      ]
     },
     "metadata": {
      "needs_background": "light"
     },
     "output_type": "display_data"
    }
   ],
   "source": [
    "data.ad_id.value_counts().plot()"
   ]
  },
  {
   "cell_type": "code",
   "execution_count": 17,
   "id": "a50b2591",
   "metadata": {
    "scrolled": true
   },
   "outputs": [
    {
     "data": {
      "text/plain": [
       "[\"mvt_id:91,var_id:type_1\"]    1800\n",
       "[\"mvt_id:91,var_id:type_2\"]    1240\n",
       "Name: labels, dtype: int64"
      ]
     },
     "execution_count": 17,
     "metadata": {},
     "output_type": "execute_result"
    }
   ],
   "source": [
    "data.labels.value_counts()"
   ]
  },
  {
   "cell_type": "code",
   "execution_count": 18,
   "id": "34cf7c11",
   "metadata": {},
   "outputs": [],
   "source": [
    "data.labels = data.labels.replace('[\"mvt_id:91,var_id:type_1\"]', 'A')\n",
    "data.labels = data.labels.replace('[\"mvt_id:91,var_id:type_2\"]', 'B')"
   ]
  },
  {
   "cell_type": "code",
   "execution_count": 19,
   "id": "dd0ec3f5",
   "metadata": {},
   "outputs": [],
   "source": [
    "data = data.copy()\n",
    "data.cost = data.cost.str.replace('£', '')"
   ]
  },
  {
   "cell_type": "code",
   "execution_count": 20,
   "id": "9f722ca3",
   "metadata": {},
   "outputs": [
    {
     "data": {
      "text/html": [
       "<div>\n",
       "<style scoped>\n",
       "    .dataframe tbody tr th:only-of-type {\n",
       "        vertical-align: middle;\n",
       "    }\n",
       "\n",
       "    .dataframe tbody tr th {\n",
       "        vertical-align: top;\n",
       "    }\n",
       "\n",
       "    .dataframe thead th {\n",
       "        text-align: right;\n",
       "    }\n",
       "</style>\n",
       "<table border=\"1\" class=\"dataframe\">\n",
       "  <thead>\n",
       "    <tr style=\"text-align: right;\">\n",
       "      <th></th>\n",
       "      <th>date</th>\n",
       "      <th>campaign_id</th>\n",
       "      <th>ad_group_id</th>\n",
       "      <th>ad_id</th>\n",
       "      <th>labels</th>\n",
       "      <th>cost</th>\n",
       "      <th>impressions</th>\n",
       "      <th>clicks</th>\n",
       "      <th>registrations</th>\n",
       "      <th>enquiries</th>\n",
       "      <th>purchases</th>\n",
       "    </tr>\n",
       "  </thead>\n",
       "  <tbody>\n",
       "    <tr>\n",
       "      <th>1</th>\n",
       "      <td>2020-09-06</td>\n",
       "      <td>100001</td>\n",
       "      <td>200001</td>\n",
       "      <td>300001</td>\n",
       "      <td>A</td>\n",
       "      <td>20.68</td>\n",
       "      <td>1821</td>\n",
       "      <td>12</td>\n",
       "      <td>2.68</td>\n",
       "      <td>0.98</td>\n",
       "      <td>0.18</td>\n",
       "    </tr>\n",
       "    <tr>\n",
       "      <th>2</th>\n",
       "      <td>2020-09-07</td>\n",
       "      <td>100001</td>\n",
       "      <td>200001</td>\n",
       "      <td>300001</td>\n",
       "      <td>A</td>\n",
       "      <td>17.41</td>\n",
       "      <td>2297</td>\n",
       "      <td>10</td>\n",
       "      <td>1.72</td>\n",
       "      <td>0.46</td>\n",
       "      <td>0.20</td>\n",
       "    </tr>\n",
       "    <tr>\n",
       "      <th>3</th>\n",
       "      <td>2020-09-08</td>\n",
       "      <td>100001</td>\n",
       "      <td>200001</td>\n",
       "      <td>300001</td>\n",
       "      <td>A</td>\n",
       "      <td>13.02</td>\n",
       "      <td>1551</td>\n",
       "      <td>7</td>\n",
       "      <td>1.12</td>\n",
       "      <td>0.50</td>\n",
       "      <td>0.15</td>\n",
       "    </tr>\n",
       "  </tbody>\n",
       "</table>\n",
       "</div>"
      ],
      "text/plain": [
       "        date  campaign_id  ad_group_id   ad_id labels   cost impressions  \\\n",
       "1 2020-09-06       100001       200001  300001      A  20.68        1821   \n",
       "2 2020-09-07       100001       200001  300001      A  17.41        2297   \n",
       "3 2020-09-08       100001       200001  300001      A  13.02        1551   \n",
       "\n",
       "  clicks registrations enquiries purchases  \n",
       "1     12          2.68      0.98      0.18  \n",
       "2     10          1.72      0.46      0.20  \n",
       "3      7          1.12      0.50      0.15  "
      ]
     },
     "execution_count": 20,
     "metadata": {},
     "output_type": "execute_result"
    }
   ],
   "source": [
    "data.head(3)"
   ]
  },
  {
   "cell_type": "code",
   "execution_count": 21,
   "id": "ed674c61",
   "metadata": {},
   "outputs": [],
   "source": [
    "data = data.copy()\n",
    "data.cost = data.cost.astype(float)"
   ]
  },
  {
   "cell_type": "code",
   "execution_count": 22,
   "id": "ba02647a",
   "metadata": {},
   "outputs": [],
   "source": [
    "data.cost.replace(to_replace='£', value='', inplace=True)"
   ]
  },
  {
   "cell_type": "code",
   "execution_count": 23,
   "id": "ed1f1e45",
   "metadata": {
    "scrolled": true
   },
   "outputs": [
    {
     "data": {
      "text/plain": [
       "<AxesSubplot:>"
      ]
     },
     "execution_count": 23,
     "metadata": {},
     "output_type": "execute_result"
    },
    {
     "data": {
      "image/png": "[encoded data removed]",
      "text/plain": [
       "<Figure size 432x288 with 1 Axes>"
      ]
     },
     "metadata": {
      "needs_background": "light"
     },
     "output_type": "display_data"
    }
   ],
   "source": [
    "data.cost.plot()"
   ]
  },
  {
   "cell_type": "code",
   "execution_count": 24,
   "id": "eb84fc49",
   "metadata": {
    "scrolled": true
   },
   "outputs": [
    {
     "data": {
      "text/plain": [
       "date             datetime64[ns]\n",
       "campaign_id               int32\n",
       "ad_group_id               int32\n",
       "ad_id                     int32\n",
       "labels                   object\n",
       "cost                    float64\n",
       "impressions              object\n",
       "clicks                   object\n",
       "registrations            object\n",
       "enquiries                object\n",
       "purchases                object\n",
       "dtype: object"
      ]
     },
     "execution_count": 24,
     "metadata": {},
     "output_type": "execute_result"
    }
   ],
   "source": [
    "data.dtypes"
   ]
  },
  {
   "cell_type": "code",
   "execution_count": 25,
   "id": "8fb755c6",
   "metadata": {},
   "outputs": [],
   "source": [
    "for col in data.columns[-3:]:\n",
    "    data[col] = data[col].astype(float)"
   ]
  },
  {
   "cell_type": "code",
   "execution_count": 26,
   "id": "dc8bf444",
   "metadata": {},
   "outputs": [],
   "source": [
    "for col in data.columns[-5:-3]:\n",
    "    data[col] = data[col].astype(int)"
   ]
  },
  {
   "cell_type": "code",
   "execution_count": 27,
   "id": "8e4d30c4",
   "metadata": {},
   "outputs": [
    {
     "data": {
      "text/plain": [
       "date             datetime64[ns]\n",
       "campaign_id               int32\n",
       "ad_group_id               int32\n",
       "ad_id                     int32\n",
       "labels                   object\n",
       "cost                    float64\n",
       "impressions               int32\n",
       "clicks                    int32\n",
       "registrations           float64\n",
       "enquiries               float64\n",
       "purchases               float64\n",
       "dtype: object"
      ]
     },
     "execution_count": 27,
     "metadata": {},
     "output_type": "execute_result"
    }
   ],
   "source": [
    "data.dtypes"
   ]
  },
  {
   "cell_type": "code",
   "execution_count": 28,
   "id": "a8de1b49",
   "metadata": {},
   "outputs": [
    {
     "data": {
      "text/html": [
       "<div>\n",
       "<style scoped>\n",
       "    .dataframe tbody tr th:only-of-type {\n",
       "        vertical-align: middle;\n",
       "    }\n",
       "\n",
       "    .dataframe tbody tr th {\n",
       "        vertical-align: top;\n",
       "    }\n",
       "\n",
       "    .dataframe thead th {\n",
       "        text-align: right;\n",
       "    }\n",
       "</style>\n",
       "<table border=\"1\" class=\"dataframe\">\n",
       "  <thead>\n",
       "    <tr style=\"text-align: right;\">\n",
       "      <th></th>\n",
       "      <th>date</th>\n",
       "      <th>campaign_id</th>\n",
       "      <th>ad_group_id</th>\n",
       "      <th>ad_id</th>\n",
       "      <th>labels</th>\n",
       "      <th>cost</th>\n",
       "      <th>impressions</th>\n",
       "      <th>clicks</th>\n",
       "      <th>registrations</th>\n",
       "      <th>enquiries</th>\n",
       "      <th>purchases</th>\n",
       "    </tr>\n",
       "  </thead>\n",
       "  <tbody>\n",
       "    <tr>\n",
       "      <th>1</th>\n",
       "      <td>2020-09-06</td>\n",
       "      <td>100001</td>\n",
       "      <td>200001</td>\n",
       "      <td>300001</td>\n",
       "      <td>A</td>\n",
       "      <td>20.68</td>\n",
       "      <td>1821</td>\n",
       "      <td>12</td>\n",
       "      <td>2.68</td>\n",
       "      <td>0.98</td>\n",
       "      <td>0.18</td>\n",
       "    </tr>\n",
       "    <tr>\n",
       "      <th>2</th>\n",
       "      <td>2020-09-07</td>\n",
       "      <td>100001</td>\n",
       "      <td>200001</td>\n",
       "      <td>300001</td>\n",
       "      <td>A</td>\n",
       "      <td>17.41</td>\n",
       "      <td>2297</td>\n",
       "      <td>10</td>\n",
       "      <td>1.72</td>\n",
       "      <td>0.46</td>\n",
       "      <td>0.20</td>\n",
       "    </tr>\n",
       "    <tr>\n",
       "      <th>3</th>\n",
       "      <td>2020-09-08</td>\n",
       "      <td>100001</td>\n",
       "      <td>200001</td>\n",
       "      <td>300001</td>\n",
       "      <td>A</td>\n",
       "      <td>13.02</td>\n",
       "      <td>1551</td>\n",
       "      <td>7</td>\n",
       "      <td>1.12</td>\n",
       "      <td>0.50</td>\n",
       "      <td>0.15</td>\n",
       "    </tr>\n",
       "    <tr>\n",
       "      <th>4</th>\n",
       "      <td>2020-09-09</td>\n",
       "      <td>100001</td>\n",
       "      <td>200001</td>\n",
       "      <td>300001</td>\n",
       "      <td>A</td>\n",
       "      <td>17.07</td>\n",
       "      <td>1398</td>\n",
       "      <td>10</td>\n",
       "      <td>1.33</td>\n",
       "      <td>0.75</td>\n",
       "      <td>0.18</td>\n",
       "    </tr>\n",
       "    <tr>\n",
       "      <th>5</th>\n",
       "      <td>2020-09-10</td>\n",
       "      <td>100001</td>\n",
       "      <td>200001</td>\n",
       "      <td>300001</td>\n",
       "      <td>A</td>\n",
       "      <td>23.90</td>\n",
       "      <td>2754</td>\n",
       "      <td>14</td>\n",
       "      <td>2.39</td>\n",
       "      <td>0.97</td>\n",
       "      <td>0.16</td>\n",
       "    </tr>\n",
       "  </tbody>\n",
       "</table>\n",
       "</div>"
      ],
      "text/plain": [
       "        date  campaign_id  ad_group_id   ad_id labels   cost  impressions  \\\n",
       "1 2020-09-06       100001       200001  300001      A  20.68         1821   \n",
       "2 2020-09-07       100001       200001  300001      A  17.41         2297   \n",
       "3 2020-09-08       100001       200001  300001      A  13.02         1551   \n",
       "4 2020-09-09       100001       200001  300001      A  17.07         1398   \n",
       "5 2020-09-10       100001       200001  300001      A  23.90         2754   \n",
       "\n",
       "   clicks  registrations  enquiries  purchases  \n",
       "1      12           2.68       0.98       0.18  \n",
       "2      10           1.72       0.46       0.20  \n",
       "3       7           1.12       0.50       0.15  \n",
       "4      10           1.33       0.75       0.18  \n",
       "5      14           2.39       0.97       0.16  "
      ]
     },
     "execution_count": 28,
     "metadata": {},
     "output_type": "execute_result"
    }
   ],
   "source": [
    "data.head()"
   ]
  },
  {
   "cell_type": "code",
   "execution_count": 29,
   "id": "c8dd5d8a",
   "metadata": {},
   "outputs": [
    {
     "data": {
      "text/html": [
       "<div>\n",
       "<style scoped>\n",
       "    .dataframe tbody tr th:only-of-type {\n",
       "        vertical-align: middle;\n",
       "    }\n",
       "\n",
       "    .dataframe tbody tr th {\n",
       "        vertical-align: top;\n",
       "    }\n",
       "\n",
       "    .dataframe thead th {\n",
       "        text-align: right;\n",
       "    }\n",
       "</style>\n",
       "<table border=\"1\" class=\"dataframe\">\n",
       "  <thead>\n",
       "    <tr style=\"text-align: right;\">\n",
       "      <th></th>\n",
       "      <th>index</th>\n",
       "      <th>date</th>\n",
       "      <th>campaign_id</th>\n",
       "      <th>ad_group_id</th>\n",
       "      <th>ad_id</th>\n",
       "      <th>labels</th>\n",
       "      <th>cost</th>\n",
       "      <th>impressions</th>\n",
       "      <th>clicks</th>\n",
       "      <th>registrations</th>\n",
       "      <th>enquiries</th>\n",
       "      <th>purchases</th>\n",
       "    </tr>\n",
       "  </thead>\n",
       "  <tbody>\n",
       "    <tr>\n",
       "      <th>0</th>\n",
       "      <td>1</td>\n",
       "      <td>2020-09-06</td>\n",
       "      <td>100001</td>\n",
       "      <td>200001</td>\n",
       "      <td>300001</td>\n",
       "      <td>A</td>\n",
       "      <td>20.68</td>\n",
       "      <td>1821</td>\n",
       "      <td>12</td>\n",
       "      <td>2.68</td>\n",
       "      <td>0.98</td>\n",
       "      <td>0.18</td>\n",
       "    </tr>\n",
       "    <tr>\n",
       "      <th>1</th>\n",
       "      <td>2</td>\n",
       "      <td>2020-09-07</td>\n",
       "      <td>100001</td>\n",
       "      <td>200001</td>\n",
       "      <td>300001</td>\n",
       "      <td>A</td>\n",
       "      <td>17.41</td>\n",
       "      <td>2297</td>\n",
       "      <td>10</td>\n",
       "      <td>1.72</td>\n",
       "      <td>0.46</td>\n",
       "      <td>0.20</td>\n",
       "    </tr>\n",
       "    <tr>\n",
       "      <th>2</th>\n",
       "      <td>3</td>\n",
       "      <td>2020-09-08</td>\n",
       "      <td>100001</td>\n",
       "      <td>200001</td>\n",
       "      <td>300001</td>\n",
       "      <td>A</td>\n",
       "      <td>13.02</td>\n",
       "      <td>1551</td>\n",
       "      <td>7</td>\n",
       "      <td>1.12</td>\n",
       "      <td>0.50</td>\n",
       "      <td>0.15</td>\n",
       "    </tr>\n",
       "    <tr>\n",
       "      <th>3</th>\n",
       "      <td>4</td>\n",
       "      <td>2020-09-09</td>\n",
       "      <td>100001</td>\n",
       "      <td>200001</td>\n",
       "      <td>300001</td>\n",
       "      <td>A</td>\n",
       "      <td>17.07</td>\n",
       "      <td>1398</td>\n",
       "      <td>10</td>\n",
       "      <td>1.33</td>\n",
       "      <td>0.75</td>\n",
       "      <td>0.18</td>\n",
       "    </tr>\n",
       "    <tr>\n",
       "      <th>4</th>\n",
       "      <td>5</td>\n",
       "      <td>2020-09-10</td>\n",
       "      <td>100001</td>\n",
       "      <td>200001</td>\n",
       "      <td>300001</td>\n",
       "      <td>A</td>\n",
       "      <td>23.90</td>\n",
       "      <td>2754</td>\n",
       "      <td>14</td>\n",
       "      <td>2.39</td>\n",
       "      <td>0.97</td>\n",
       "      <td>0.16</td>\n",
       "    </tr>\n",
       "    <tr>\n",
       "      <th>...</th>\n",
       "      <td>...</td>\n",
       "      <td>...</td>\n",
       "      <td>...</td>\n",
       "      <td>...</td>\n",
       "      <td>...</td>\n",
       "      <td>...</td>\n",
       "      <td>...</td>\n",
       "      <td>...</td>\n",
       "      <td>...</td>\n",
       "      <td>...</td>\n",
       "      <td>...</td>\n",
       "      <td>...</td>\n",
       "    </tr>\n",
       "    <tr>\n",
       "      <th>1795</th>\n",
       "      <td>1796</td>\n",
       "      <td>2020-10-11</td>\n",
       "      <td>100045</td>\n",
       "      <td>200045</td>\n",
       "      <td>300045</td>\n",
       "      <td>A</td>\n",
       "      <td>11.43</td>\n",
       "      <td>1551</td>\n",
       "      <td>9</td>\n",
       "      <td>0.80</td>\n",
       "      <td>0.63</td>\n",
       "      <td>0.12</td>\n",
       "    </tr>\n",
       "    <tr>\n",
       "      <th>1796</th>\n",
       "      <td>1797</td>\n",
       "      <td>2020-10-12</td>\n",
       "      <td>100045</td>\n",
       "      <td>200045</td>\n",
       "      <td>300045</td>\n",
       "      <td>A</td>\n",
       "      <td>12.68</td>\n",
       "      <td>1679</td>\n",
       "      <td>8</td>\n",
       "      <td>1.20</td>\n",
       "      <td>0.43</td>\n",
       "      <td>0.15</td>\n",
       "    </tr>\n",
       "    <tr>\n",
       "      <th>1797</th>\n",
       "      <td>1798</td>\n",
       "      <td>2020-10-13</td>\n",
       "      <td>100045</td>\n",
       "      <td>200045</td>\n",
       "      <td>300045</td>\n",
       "      <td>A</td>\n",
       "      <td>11.51</td>\n",
       "      <td>1225</td>\n",
       "      <td>6</td>\n",
       "      <td>0.69</td>\n",
       "      <td>0.53</td>\n",
       "      <td>0.07</td>\n",
       "    </tr>\n",
       "    <tr>\n",
       "      <th>1798</th>\n",
       "      <td>1799</td>\n",
       "      <td>2020-10-14</td>\n",
       "      <td>100045</td>\n",
       "      <td>200045</td>\n",
       "      <td>300045</td>\n",
       "      <td>A</td>\n",
       "      <td>13.83</td>\n",
       "      <td>1842</td>\n",
       "      <td>9</td>\n",
       "      <td>0.67</td>\n",
       "      <td>0.90</td>\n",
       "      <td>0.20</td>\n",
       "    </tr>\n",
       "    <tr>\n",
       "      <th>1799</th>\n",
       "      <td>1800</td>\n",
       "      <td>2020-10-15</td>\n",
       "      <td>100045</td>\n",
       "      <td>200045</td>\n",
       "      <td>300045</td>\n",
       "      <td>A</td>\n",
       "      <td>16.15</td>\n",
       "      <td>1234</td>\n",
       "      <td>10</td>\n",
       "      <td>1.51</td>\n",
       "      <td>0.48</td>\n",
       "      <td>0.15</td>\n",
       "    </tr>\n",
       "  </tbody>\n",
       "</table>\n",
       "<p>1800 rows × 12 columns</p>\n",
       "</div>"
      ],
      "text/plain": [
       "      index       date  campaign_id  ad_group_id   ad_id labels   cost  \\\n",
       "0         1 2020-09-06       100001       200001  300001      A  20.68   \n",
       "1         2 2020-09-07       100001       200001  300001      A  17.41   \n",
       "2         3 2020-09-08       100001       200001  300001      A  13.02   \n",
       "3         4 2020-09-09       100001       200001  300001      A  17.07   \n",
       "4         5 2020-09-10       100001       200001  300001      A  23.90   \n",
       "...     ...        ...          ...          ...     ...    ...    ...   \n",
       "1795   1796 2020-10-11       100045       200045  300045      A  11.43   \n",
       "1796   1797 2020-10-12       100045       200045  300045      A  12.68   \n",
       "1797   1798 2020-10-13       100045       200045  300045      A  11.51   \n",
       "1798   1799 2020-10-14       100045       200045  300045      A  13.83   \n",
       "1799   1800 2020-10-15       100045       200045  300045      A  16.15   \n",
       "\n",
       "      impressions  clicks  registrations  enquiries  purchases  \n",
       "0            1821      12           2.68       0.98       0.18  \n",
       "1            2297      10           1.72       0.46       0.20  \n",
       "2            1551       7           1.12       0.50       0.15  \n",
       "3            1398      10           1.33       0.75       0.18  \n",
       "4            2754      14           2.39       0.97       0.16  \n",
       "...           ...     ...            ...        ...        ...  \n",
       "1795         1551       9           0.80       0.63       0.12  \n",
       "1796         1679       8           1.20       0.43       0.15  \n",
       "1797         1225       6           0.69       0.53       0.07  \n",
       "1798         1842       9           0.67       0.90       0.20  \n",
       "1799         1234      10           1.51       0.48       0.15  \n",
       "\n",
       "[1800 rows x 12 columns]"
      ]
     },
     "execution_count": 29,
     "metadata": {},
     "output_type": "execute_result"
    }
   ],
   "source": [
    "data_a = data[data.labels=='A'].copy().reset_index()\n",
    "data_a"
   ]
  },
  {
   "cell_type": "code",
   "execution_count": 30,
   "id": "e0fee2b9",
   "metadata": {},
   "outputs": [
    {
     "data": {
      "text/html": [
       "<div>\n",
       "<style scoped>\n",
       "    .dataframe tbody tr th:only-of-type {\n",
       "        vertical-align: middle;\n",
       "    }\n",
       "\n",
       "    .dataframe tbody tr th {\n",
       "        vertical-align: top;\n",
       "    }\n",
       "\n",
       "    .dataframe thead th {\n",
       "        text-align: right;\n",
       "    }\n",
       "</style>\n",
       "<table border=\"1\" class=\"dataframe\">\n",
       "  <thead>\n",
       "    <tr style=\"text-align: right;\">\n",
       "      <th></th>\n",
       "      <th>index</th>\n",
       "      <th>date</th>\n",
       "      <th>campaign_id</th>\n",
       "      <th>ad_group_id</th>\n",
       "      <th>ad_id</th>\n",
       "      <th>labels</th>\n",
       "      <th>cost</th>\n",
       "      <th>impressions</th>\n",
       "      <th>clicks</th>\n",
       "      <th>registrations</th>\n",
       "      <th>enquiries</th>\n",
       "      <th>purchases</th>\n",
       "    </tr>\n",
       "  </thead>\n",
       "  <tbody>\n",
       "    <tr>\n",
       "      <th>0</th>\n",
       "      <td>1801</td>\n",
       "      <td>2020-09-06</td>\n",
       "      <td>100046</td>\n",
       "      <td>200046</td>\n",
       "      <td>300046</td>\n",
       "      <td>B</td>\n",
       "      <td>33.72</td>\n",
       "      <td>2313</td>\n",
       "      <td>27</td>\n",
       "      <td>2.87</td>\n",
       "      <td>1.92</td>\n",
       "      <td>0.44</td>\n",
       "    </tr>\n",
       "    <tr>\n",
       "      <th>1</th>\n",
       "      <td>1802</td>\n",
       "      <td>2020-09-07</td>\n",
       "      <td>100046</td>\n",
       "      <td>200046</td>\n",
       "      <td>300046</td>\n",
       "      <td>B</td>\n",
       "      <td>26.17</td>\n",
       "      <td>4543</td>\n",
       "      <td>23</td>\n",
       "      <td>1.91</td>\n",
       "      <td>1.19</td>\n",
       "      <td>0.29</td>\n",
       "    </tr>\n",
       "    <tr>\n",
       "      <th>2</th>\n",
       "      <td>1803</td>\n",
       "      <td>2020-09-08</td>\n",
       "      <td>100046</td>\n",
       "      <td>200046</td>\n",
       "      <td>300046</td>\n",
       "      <td>B</td>\n",
       "      <td>28.72</td>\n",
       "      <td>3134</td>\n",
       "      <td>19</td>\n",
       "      <td>2.96</td>\n",
       "      <td>1.37</td>\n",
       "      <td>0.30</td>\n",
       "    </tr>\n",
       "    <tr>\n",
       "      <th>3</th>\n",
       "      <td>1804</td>\n",
       "      <td>2020-09-09</td>\n",
       "      <td>100046</td>\n",
       "      <td>200046</td>\n",
       "      <td>300046</td>\n",
       "      <td>B</td>\n",
       "      <td>40.59</td>\n",
       "      <td>4188</td>\n",
       "      <td>26</td>\n",
       "      <td>3.95</td>\n",
       "      <td>1.89</td>\n",
       "      <td>0.35</td>\n",
       "    </tr>\n",
       "    <tr>\n",
       "      <th>4</th>\n",
       "      <td>1805</td>\n",
       "      <td>2020-09-10</td>\n",
       "      <td>100046</td>\n",
       "      <td>200046</td>\n",
       "      <td>300046</td>\n",
       "      <td>B</td>\n",
       "      <td>40.70</td>\n",
       "      <td>4748</td>\n",
       "      <td>31</td>\n",
       "      <td>4.32</td>\n",
       "      <td>1.16</td>\n",
       "      <td>0.37</td>\n",
       "    </tr>\n",
       "    <tr>\n",
       "      <th>...</th>\n",
       "      <td>...</td>\n",
       "      <td>...</td>\n",
       "      <td>...</td>\n",
       "      <td>...</td>\n",
       "      <td>...</td>\n",
       "      <td>...</td>\n",
       "      <td>...</td>\n",
       "      <td>...</td>\n",
       "      <td>...</td>\n",
       "      <td>...</td>\n",
       "      <td>...</td>\n",
       "      <td>...</td>\n",
       "    </tr>\n",
       "    <tr>\n",
       "      <th>1235</th>\n",
       "      <td>3036</td>\n",
       "      <td>2020-10-11</td>\n",
       "      <td>100076</td>\n",
       "      <td>200076</td>\n",
       "      <td>300076</td>\n",
       "      <td>B</td>\n",
       "      <td>17.90</td>\n",
       "      <td>2975</td>\n",
       "      <td>13</td>\n",
       "      <td>1.97</td>\n",
       "      <td>1.09</td>\n",
       "      <td>0.10</td>\n",
       "    </tr>\n",
       "    <tr>\n",
       "      <th>1236</th>\n",
       "      <td>3037</td>\n",
       "      <td>2020-10-12</td>\n",
       "      <td>100076</td>\n",
       "      <td>200076</td>\n",
       "      <td>300076</td>\n",
       "      <td>B</td>\n",
       "      <td>19.49</td>\n",
       "      <td>2566</td>\n",
       "      <td>13</td>\n",
       "      <td>1.17</td>\n",
       "      <td>0.35</td>\n",
       "      <td>0.14</td>\n",
       "    </tr>\n",
       "    <tr>\n",
       "      <th>1237</th>\n",
       "      <td>3038</td>\n",
       "      <td>2020-10-13</td>\n",
       "      <td>100076</td>\n",
       "      <td>200076</td>\n",
       "      <td>300076</td>\n",
       "      <td>B</td>\n",
       "      <td>17.79</td>\n",
       "      <td>1977</td>\n",
       "      <td>13</td>\n",
       "      <td>1.82</td>\n",
       "      <td>0.34</td>\n",
       "      <td>0.09</td>\n",
       "    </tr>\n",
       "    <tr>\n",
       "      <th>1238</th>\n",
       "      <td>3039</td>\n",
       "      <td>2020-10-14</td>\n",
       "      <td>100076</td>\n",
       "      <td>200076</td>\n",
       "      <td>300076</td>\n",
       "      <td>B</td>\n",
       "      <td>18.71</td>\n",
       "      <td>1643</td>\n",
       "      <td>16</td>\n",
       "      <td>1.31</td>\n",
       "      <td>0.69</td>\n",
       "      <td>0.25</td>\n",
       "    </tr>\n",
       "    <tr>\n",
       "      <th>1239</th>\n",
       "      <td>3040</td>\n",
       "      <td>2020-10-15</td>\n",
       "      <td>100076</td>\n",
       "      <td>200076</td>\n",
       "      <td>300076</td>\n",
       "      <td>B</td>\n",
       "      <td>23.76</td>\n",
       "      <td>2078</td>\n",
       "      <td>16</td>\n",
       "      <td>1.00</td>\n",
       "      <td>0.53</td>\n",
       "      <td>0.15</td>\n",
       "    </tr>\n",
       "  </tbody>\n",
       "</table>\n",
       "<p>1240 rows × 12 columns</p>\n",
       "</div>"
      ],
      "text/plain": [
       "      index       date  campaign_id  ad_group_id   ad_id labels   cost  \\\n",
       "0      1801 2020-09-06       100046       200046  300046      B  33.72   \n",
       "1      1802 2020-09-07       100046       200046  300046      B  26.17   \n",
       "2      1803 2020-09-08       100046       200046  300046      B  28.72   \n",
       "3      1804 2020-09-09       100046       200046  300046      B  40.59   \n",
       "4      1805 2020-09-10       100046       200046  300046      B  40.70   \n",
       "...     ...        ...          ...          ...     ...    ...    ...   \n",
       "1235   3036 2020-10-11       100076       200076  300076      B  17.90   \n",
       "1236   3037 2020-10-12       100076       200076  300076      B  19.49   \n",
       "1237   3038 2020-10-13       100076       200076  300076      B  17.79   \n",
       "1238   3039 2020-10-14       100076       200076  300076      B  18.71   \n",
       "1239   3040 2020-10-15       100076       200076  300076      B  23.76   \n",
       "\n",
       "      impressions  clicks  registrations  enquiries  purchases  \n",
       "0            2313      27           2.87       1.92       0.44  \n",
       "1            4543      23           1.91       1.19       0.29  \n",
       "2            3134      19           2.96       1.37       0.30  \n",
       "3            4188      26           3.95       1.89       0.35  \n",
       "4            4748      31           4.32       1.16       0.37  \n",
       "...           ...     ...            ...        ...        ...  \n",
       "1235         2975      13           1.97       1.09       0.10  \n",
       "1236         2566      13           1.17       0.35       0.14  \n",
       "1237         1977      13           1.82       0.34       0.09  \n",
       "1238         1643      16           1.31       0.69       0.25  \n",
       "1239         2078      16           1.00       0.53       0.15  \n",
       "\n",
       "[1240 rows x 12 columns]"
      ]
     },
     "execution_count": 30,
     "metadata": {},
     "output_type": "execute_result"
    }
   ],
   "source": [
    "data_b = data[data.labels=='B'].copy().reset_index()\n",
    "data_b"
   ]
  },
  {
   "cell_type": "markdown",
   "id": "083b8408",
   "metadata": {},
   "source": [
    "# Part 1 - Hypothesis testing\n",
    "\n",
    "### 1) CTR - A/B Test\n",
    "\n",
    "H0: CTR(A) == CTR(B)\n",
    "\n",
    "H1: CTR(A) != CTR(B)"
   ]
  },
  {
   "cell_type": "code",
   "execution_count": 31,
   "id": "afe77067",
   "metadata": {},
   "outputs": [
    {
     "data": {
      "text/plain": [
       "0.005640119469018169"
      ]
     },
     "execution_count": 31,
     "metadata": {},
     "output_type": "execute_result"
    }
   ],
   "source": [
    "ctr_a = data_a.clicks.sum()/data_a.impressions.sum()\n",
    "ctr_a"
   ]
  },
  {
   "cell_type": "code",
   "execution_count": 32,
   "id": "a6ab7246",
   "metadata": {},
   "outputs": [
    {
     "data": {
      "text/plain": [
       "0.005835239850427001"
      ]
     },
     "execution_count": 32,
     "metadata": {},
     "output_type": "execute_result"
    }
   ],
   "source": [
    "ctr_b = data_b.clicks.sum()/data_b.impressions.sum()\n",
    "ctr_b"
   ]
  },
  {
   "cell_type": "code",
   "execution_count": 33,
   "id": "28bdc92e",
   "metadata": {},
   "outputs": [
    {
     "data": {
      "text/plain": [
       "0.00019512038140883248"
      ]
     },
     "execution_count": 33,
     "metadata": {},
     "output_type": "execute_result"
    }
   ],
   "source": [
    "ctr_dif = ctr_b - ctr_a\n",
    "ctr_dif"
   ]
  },
  {
   "cell_type": "code",
   "execution_count": 34,
   "id": "7592302f",
   "metadata": {},
   "outputs": [
    {
     "data": {
      "text/plain": [
       "-0.033438279558389405"
      ]
     },
     "execution_count": 34,
     "metadata": {},
     "output_type": "execute_result"
    }
   ],
   "source": [
    "ctr_a/ctr_b-1"
   ]
  },
  {
   "cell_type": "code",
   "execution_count": 35,
   "id": "358e0ec6",
   "metadata": {},
   "outputs": [],
   "source": [
    "minss = 2466844*2"
   ]
  },
  {
   "cell_type": "code",
   "execution_count": 36,
   "id": "be440449",
   "metadata": {},
   "outputs": [
    {
     "data": {
      "text/plain": [
       "225887.46153846153"
      ]
     },
     "execution_count": 36,
     "metadata": {},
     "output_type": "execute_result"
    }
   ],
   "source": [
    "data.impressions.sum()/39"
   ]
  },
  {
   "cell_type": "code",
   "execution_count": 37,
   "id": "9c1ab1de",
   "metadata": {},
   "outputs": [
    {
     "data": {
      "text/plain": [
       "21.841353948545514"
      ]
     },
     "execution_count": 37,
     "metadata": {},
     "output_type": "execute_result"
    }
   ],
   "source": [
    "minss/(data.impressions.sum()/39)"
   ]
  },
  {
   "cell_type": "code",
   "execution_count": 38,
   "id": "b8989da4",
   "metadata": {},
   "outputs": [],
   "source": [
    "def experiment():\n",
    "    s1 = data.sample(1800, replace=True)\n",
    "    s2 = data.sample(1240, replace=True)\n",
    "    s1_ctr = s1.clicks.sum()/s1.impressions.sum()    \n",
    "    s2_ctr = s2.clicks.sum()/s2.impressions.sum()\n",
    "    diff = s2_ctr-s1_ctr\n",
    "    return diff"
   ]
  },
  {
   "cell_type": "code",
   "execution_count": 39,
   "id": "19cac04c",
   "metadata": {},
   "outputs": [
    {
     "data": {
      "text/plain": [
       "[4.760128650714221e-05, -4.046927659012711e-06, 7.475308653980949e-05]"
      ]
     },
     "execution_count": 39,
     "metadata": {},
     "output_type": "execute_result"
    }
   ],
   "source": [
    "differences = []\n",
    "for n in list(range(1,1001)):\n",
    "    experiment_diff = experiment()\n",
    "    differences.append(experiment_diff)\n",
    "differences[:3]"
   ]
  },
  {
   "cell_type": "code",
   "execution_count": 40,
   "id": "81fe3465",
   "metadata": {},
   "outputs": [
    {
     "data": {
      "text/plain": [
       "0.0"
      ]
     },
     "execution_count": 40,
     "metadata": {},
     "output_type": "execute_result"
    }
   ],
   "source": [
    "extreme = []\n",
    "for dif in differences:\n",
    "    if dif >= ctr_dif:\n",
    "        extreme.append(dif)\n",
    "p_value = len(extreme)/len(differences)\n",
    "p_value"
   ]
  },
  {
   "cell_type": "code",
   "execution_count": 41,
   "id": "81ee0175",
   "metadata": {},
   "outputs": [
    {
     "data": {
      "text/plain": [
       "Text(0.5, 1.0, 'CTR - p value: 0.0')"
      ]
     },
     "execution_count": 41,
     "metadata": {},
     "output_type": "execute_result"
    },
    {
     "data": {
      "image/png": "[encoded data removed]",
      "text/plain": [
       "<Figure size 432x288 with 1 Axes>"
      ]
     },
     "metadata": {
      "needs_background": "light"
     },
     "output_type": "display_data"
    }
   ],
   "source": [
    "plt.hist(differences, alpha=0.8, label='Sampling distribution')\n",
    "plt.axvline(pd.Series(differences).mean(), label='Mean difference', color='Green')\n",
    "plt.axvline(ctr_dif, label='Initial CTR difference', color='Red')\n",
    "plt.axvline(np.percentile(differences, 97.5), color='Orange', label= 'Confidence interval')\n",
    "plt.axvline(np.percentile(differences, 2.5), color='Orange')\n",
    "plt.legend()\n",
    "plt.title('CTR - p value: ' + str(p_value))"
   ]
  },
  {
   "cell_type": "code",
   "execution_count": 42,
   "id": "d45aebb1",
   "metadata": {},
   "outputs": [
    {
     "data": {
      "text/plain": [
       "8.624947138053792e-05"
      ]
     },
     "execution_count": 42,
     "metadata": {},
     "output_type": "execute_result"
    }
   ],
   "source": [
    "# Confidence intervals\n",
    "np.percentile(differences, 95)"
   ]
  },
  {
   "cell_type": "markdown",
   "id": "5c50b14b",
   "metadata": {},
   "source": [
    "### 2) A/B Test for all metrics"
   ]
  },
  {
   "cell_type": "code",
   "execution_count": 43,
   "id": "934fb334",
   "metadata": {},
   "outputs": [],
   "source": [
    "def ab_test (dataset, numerator, denominator):\n",
    "    \n",
    "    # Initial difference\n",
    "    metric_a = dataset.loc[dataset.labels=='A', numerator].sum()/dataset.loc[dataset.labels=='A', denominator].sum()\n",
    "    metric_b = dataset.loc[dataset.labels=='B', numerator].sum()/dataset.loc[dataset.labels=='B', denominator].sum()\n",
    "    initial_diff = metric_b - metric_a\n",
    "    \n",
    "    # Sampling distribution\n",
    "    differences = []\n",
    "    for n in list(range(1,1001)):\n",
    "        sample_a = dataset.sample(dataset[dataset.labels=='A'].shape[0], replace=True, random_state=n)\n",
    "        sample_b = dataset.sample(dataset[dataset.labels=='B'].shape[0], replace=True, random_state=n)\n",
    "        s_a_metric = sample_a[numerator].sum()/sample_a[denominator].sum()    \n",
    "        s_b_metric = sample_b[numerator].sum()/sample_b[denominator].sum()    \n",
    "        diff = s_b_metric-s_a_metric\n",
    "        differences.append(diff)\n",
    "        \n",
    "    # Calculate p value\n",
    "    extreme = []\n",
    "    for element in differences:\n",
    "        if element >= initial_diff:\n",
    "            extreme.append(1)\n",
    "        else:\n",
    "            extreme.append(0)\n",
    "    p_value = sum(extreme)/len(extreme)\n",
    "    if p_value >= 0.5:\n",
    "        p_value_2 = 1 - p_value\n",
    "    else:\n",
    "        p_value_2 = p_value\n",
    "    p_value_2 = round(p_value_2, 3)\n",
    "    \n",
    "    # Plot the result\n",
    "    plt.figure(figsize=(10,6))\n",
    "    pd.Series(differences).plot.hist(alpha=0.8, label='Sampling distribution')\n",
    "    plt.title('p value: '+ str(p_value_2))\n",
    "    plt.axvline(pd.Series(differences).mean(), label=\"Samples' mean difference\", color='Green')\n",
    "    plt.axvline(initial_diff, label= 'Initial difference', color = 'Red')    \n",
    "    plt.axvline(np.percentile(differences, 97.5), color='Orange', label= 'Confidence interval ')\n",
    "    plt.axvline(np.percentile(differences, 2.5), color='Orange')\n",
    "    plt.legend()\n",
    "    return plt.show()"
   ]
  },
  {
   "cell_type": "markdown",
   "id": "362b37f3",
   "metadata": {},
   "source": [
    "1) Click through Ratio"
   ]
  },
  {
   "cell_type": "code",
   "execution_count": 44,
   "id": "7c1294d6",
   "metadata": {},
   "outputs": [
    {
     "data": {
      "image/png": "[encoded data removed]",
      "text/plain": [
       "<Figure size 720x432 with 1 Axes>"
      ]
     },
     "metadata": {
      "needs_background": "light"
     },
     "output_type": "display_data"
    }
   ],
   "source": [
    "ab_test(data, 'clicks', 'impressions')"
   ]
  },
  {
   "cell_type": "markdown",
   "id": "45af44d9",
   "metadata": {},
   "source": [
    "2) Click to Registration"
   ]
  },
  {
   "cell_type": "code",
   "execution_count": 45,
   "id": "1f05ac24",
   "metadata": {},
   "outputs": [
    {
     "data": {
      "image/png": "[encoded data removed]",
      "text/plain": [
       "<Figure size 720x432 with 1 Axes>"
      ]
     },
     "metadata": {
      "needs_background": "light"
     },
     "output_type": "display_data"
    }
   ],
   "source": [
    "ab_test(data, 'registrations', 'clicks')"
   ]
  },
  {
   "cell_type": "markdown",
   "id": "5abcf13c",
   "metadata": {},
   "source": [
    "3) Registration to Enquiry"
   ]
  },
  {
   "cell_type": "code",
   "execution_count": 46,
   "id": "fb8eb903",
   "metadata": {},
   "outputs": [
    {
     "data": {
      "image/png": "[encoded data removed]",
      "text/plain": [
       "<Figure size 720x432 with 1 Axes>"
      ]
     },
     "metadata": {
      "needs_background": "light"
     },
     "output_type": "display_data"
    }
   ],
   "source": [
    "ab_test(data, 'enquiries', 'registrations')"
   ]
  },
  {
   "cell_type": "markdown",
   "id": "f8010d1a",
   "metadata": {},
   "source": [
    "4) Registration to Purchase"
   ]
  },
  {
   "cell_type": "code",
   "execution_count": 47,
   "id": "ab6a82f6",
   "metadata": {},
   "outputs": [
    {
     "data": {
      "image/png": "[encoded data removed]",
      "text/plain": [
       "<Figure size 720x432 with 1 Axes>"
      ]
     },
     "metadata": {
      "needs_background": "light"
     },
     "output_type": "display_data"
    }
   ],
   "source": [
    "ab_test(data, 'purchases', 'enquiries')"
   ]
  },
  {
   "cell_type": "markdown",
   "id": "d04daa20",
   "metadata": {},
   "source": [
    "5) Conversion Rate"
   ]
  },
  {
   "cell_type": "code",
   "execution_count": 48,
   "id": "1eca3eb6",
   "metadata": {},
   "outputs": [
    {
     "data": {
      "image/png": "[encoded data removed]",
      "text/plain": [
       "<Figure size 720x432 with 1 Axes>"
      ]
     },
     "metadata": {
      "needs_background": "light"
     },
     "output_type": "display_data"
    }
   ],
   "source": [
    "ab_test(data, 'purchases', 'clicks')"
   ]
  },
  {
   "cell_type": "markdown",
   "id": "831bf77a",
   "metadata": {},
   "source": [
    "# Part 1 - Hypothesis testing (different approach)\n",
    "\n",
    "### 1) CTR - A/B Test\n",
    "\n",
    "H0: P(CTR)[A] == P(CTR)[B]   \n",
    "H1: P(CTR)[A] != P(CTR)[B] \n",
    "\n",
    "≈    \n",
    "\n",
    "H0: P(CTR)[A] - P(CTR)[B] == 0         \n",
    "H1: P(CTR)[A] - P(CTR)[B] != 0"
   ]
  },
  {
   "cell_type": "code",
   "execution_count": 49,
   "id": "330cee4b",
   "metadata": {},
   "outputs": [],
   "source": [
    "x_control = data_a.clicks.sum()"
   ]
  },
  {
   "cell_type": "code",
   "execution_count": 50,
   "id": "8137faf8",
   "metadata": {},
   "outputs": [],
   "source": [
    "n_control = data_a.impressions.sum()"
   ]
  },
  {
   "cell_type": "code",
   "execution_count": 51,
   "id": "cdccd862",
   "metadata": {},
   "outputs": [],
   "source": [
    "x_experiment = data_b.clicks.sum()"
   ]
  },
  {
   "cell_type": "code",
   "execution_count": 52,
   "id": "5acb74a0",
   "metadata": {},
   "outputs": [],
   "source": [
    "n_experiment = data_b.impressions.sum()"
   ]
  },
  {
   "cell_type": "code",
   "execution_count": 53,
   "id": "80ba3b24",
   "metadata": {},
   "outputs": [
    {
     "data": {
      "text/plain": [
       "0.005741683713389842"
      ]
     },
     "execution_count": 53,
     "metadata": {},
     "output_type": "execute_result"
    }
   ],
   "source": [
    "pooled_prob = (x_control+x_experiment)/(n_control+n_experiment)\n",
    "pooled_prob"
   ]
  },
  {
   "cell_type": "code",
   "execution_count": 54,
   "id": "78d22b35",
   "metadata": {},
   "outputs": [
    {
     "data": {
      "text/plain": [
       "5.095501777723429e-05"
      ]
     },
     "execution_count": 54,
     "metadata": {},
     "output_type": "execute_result"
    }
   ],
   "source": [
    "pooled_se = (   pooled_prob*(1-pooled_prob)*(1/n_control+1/n_experiment)   )**0.5\n",
    "pooled_se"
   ]
  },
  {
   "cell_type": "code",
   "execution_count": 55,
   "id": "89bfb50d",
   "metadata": {},
   "outputs": [
    {
     "data": {
      "text/plain": [
       "0.005640119469018169"
      ]
     },
     "execution_count": 55,
     "metadata": {},
     "output_type": "execute_result"
    }
   ],
   "source": [
    "prob_control = x_control/n_control\n",
    "prob_control"
   ]
  },
  {
   "cell_type": "code",
   "execution_count": 56,
   "id": "7c4a905c",
   "metadata": {},
   "outputs": [
    {
     "data": {
      "text/plain": [
       "0.005835239850427001"
      ]
     },
     "execution_count": 56,
     "metadata": {},
     "output_type": "execute_result"
    }
   ],
   "source": [
    "prob_experiment = x_experiment/n_experiment\n",
    "prob_experiment"
   ]
  },
  {
   "cell_type": "code",
   "execution_count": 57,
   "id": "4b589235",
   "metadata": {},
   "outputs": [
    {
     "data": {
      "text/plain": [
       "0.00019512038140883248"
      ]
     },
     "execution_count": 57,
     "metadata": {},
     "output_type": "execute_result"
    }
   ],
   "source": [
    "prob_difference = prob_experiment - prob_control\n",
    "prob_difference"
   ]
  },
  {
   "cell_type": "code",
   "execution_count": 58,
   "id": "5f41822b",
   "metadata": {},
   "outputs": [
    {
     "data": {
      "text/plain": [
       "True"
      ]
     },
     "execution_count": 58,
     "metadata": {},
     "output_type": "execute_result"
    }
   ],
   "source": [
    "abs(prob_difference) > abs(pooled_se*1.96)"
   ]
  },
  {
   "cell_type": "code",
   "execution_count": 59,
   "id": "62641d66",
   "metadata": {},
   "outputs": [],
   "source": [
    "# confidence interval (0+-pooled_se*1.96), p_value?"
   ]
  },
  {
   "cell_type": "markdown",
   "id": "2fe9da93",
   "metadata": {},
   "source": [
    "### Conclusion\n",
    "\n",
    "CTR is significantly better but:\n",
    "\n",
    "- Sample size is small (check)\n",
    "- Increase is very small (maybe A has better conversion rate)\n"
   ]
  },
  {
   "cell_type": "markdown",
   "id": "c799fc0c",
   "metadata": {},
   "source": [
    "#### Calculate minimum sample size (para detectar el cambio que ha habido)\n",
    "\n",
    "Based on:\n",
    "\n",
    "- Baseline CTR (0.57%)\n",
    "- Minimum detectable change - relative to the baseline (0.02%)\n",
    "- Level of confidence (95%)\n",
    "- Power (80%)\n",
    "\n",
    "https://www.evanmiller.org/ab-testing/sample-size.html\n",
    "\n",
    "Result - Minimum sample size (per branch): 68,459,422,893"
   ]
  },
  {
   "cell_type": "code",
   "execution_count": 105,
   "id": "d542f0dc",
   "metadata": {},
   "outputs": [],
   "source": [
    "min_sample_size = 68459422893"
   ]
  },
  {
   "cell_type": "code",
   "execution_count": 106,
   "id": "685bee99",
   "metadata": {},
   "outputs": [],
   "source": [
    "total_min_sample_size = 68459422893*2"
   ]
  },
  {
   "cell_type": "code",
   "execution_count": 107,
   "id": "93808942",
   "metadata": {},
   "outputs": [
    {
     "data": {
      "text/plain": [
       "Timedelta('39 days 00:00:00')"
      ]
     },
     "execution_count": 107,
     "metadata": {},
     "output_type": "execute_result"
    }
   ],
   "source": [
    "days = max(data.date)-min(data.date)\n",
    "days"
   ]
  },
  {
   "cell_type": "code",
   "execution_count": 108,
   "id": "81c6196e",
   "metadata": {},
   "outputs": [
    {
     "data": {
      "text/plain": [
       "225887.46153846153"
      ]
     },
     "execution_count": 108,
     "metadata": {},
     "output_type": "execute_result"
    }
   ],
   "source": [
    "daily_impressions = data.impressions.sum()/39\n",
    "daily_impressions"
   ]
  },
  {
   "cell_type": "code",
   "execution_count": 110,
   "id": "45150762",
   "metadata": {},
   "outputs": [
    {
     "data": {
      "text/plain": [
       "1660.650497757817"
      ]
     },
     "execution_count": 110,
     "metadata": {},
     "output_type": "execute_result"
    }
   ],
   "source": [
    "(total_min_sample_size/daily_impressions)/365"
   ]
  },
  {
   "cell_type": "markdown",
   "id": "b5a55d4b",
   "metadata": {},
   "source": [
    "#### Calculate minimum sample size (para detectar un cambio del 2% por ejemplo)\n",
    "\n",
    "Based on:\n",
    "\n",
    "- Baseline CTR (0.57%)\n",
    "- Minimum detectable change - relative to the baseline (2%)\n",
    "- Level of confidence (95%)\n",
    "- Power (80%)\n",
    "\n",
    "https://www.evanmiller.org/ab-testing/sample-size.html\n",
    "\n",
    "Result - Minimum sample size (per branch): 6,866,147"
   ]
  },
  {
   "cell_type": "code",
   "execution_count": null,
   "id": "f65b5ce1",
   "metadata": {},
   "outputs": [],
   "source": []
  },
  {
   "cell_type": "markdown",
   "id": "4cb52397",
   "metadata": {},
   "source": [
    "### 3) Interesting metrics"
   ]
  },
  {
   "cell_type": "markdown",
   "id": "0d0b40f9",
   "metadata": {},
   "source": [
    "#### Previously calculated metrics"
   ]
  },
  {
   "cell_type": "code",
   "execution_count": 112,
   "id": "5eb6f74a",
   "metadata": {},
   "outputs": [
    {
     "name": "stdout",
     "output_type": "stream",
     "text": [
      "ctr_a : 0.0056\n",
      "ctr_b : 0.0058\n"
     ]
    }
   ],
   "source": [
    "ctr_a = data_a.clicks.sum()/data_a.impressions.sum()\n",
    "ctr_b = data_b.clicks.sum()/data_b.impressions.sum()\n",
    "print('ctr_a : ' + str(round(ctr_a,4)))\n",
    "print('ctr_b : ' + str(round(ctr_b,4)))"
   ]
  },
  {
   "cell_type": "code",
   "execution_count": 116,
   "id": "261e1240",
   "metadata": {},
   "outputs": [
    {
     "name": "stdout",
     "output_type": "stream",
     "text": [
      "c_to_r_a : 0.1179\n",
      "c_to_r_b : 0.1157\n"
     ]
    }
   ],
   "source": [
    "c_to_r_a = data_a.registrations.sum()/data_a.clicks.sum()\n",
    "c_to_r_b = data_b.registrations.sum()/data_b.clicks.sum()\n",
    "print('c_to_r_a : ' + str(round(c_to_r_a,4)))\n",
    "print('c_to_r_b : ' + str(round(c_to_r_b,4)))"
   ]
  },
  {
   "cell_type": "code",
   "execution_count": 117,
   "id": "8c1f071c",
   "metadata": {},
   "outputs": [
    {
     "name": "stdout",
     "output_type": "stream",
     "text": [
      "r_to_e_a : 0.5063\n",
      "r_to_e_b : 0.4686\n"
     ]
    }
   ],
   "source": [
    "r_to_e_a = data_a.enquiries.sum()/data_a.registrations.sum()\n",
    "r_to_e_b = data_b.enquiries.sum()/data_b.registrations.sum()\n",
    "print('r_to_e_a : ' + str(round(r_to_e_a,4)))\n",
    "print('r_to_e_b : ' + str(round(r_to_e_b,4)))"
   ]
  },
  {
   "cell_type": "code",
   "execution_count": 120,
   "id": "6e3d03a0",
   "metadata": {},
   "outputs": [
    {
     "name": "stdout",
     "output_type": "stream",
     "text": [
      "e_to_p_a : 0.2336\n",
      "e_to_p_b : 0.2116\n"
     ]
    }
   ],
   "source": [
    "e_to_p_a = data_a.purchases.sum()/data_a.enquiries.sum()\n",
    "e_to_p_b = data_b.purchases.sum()/data_b.enquiries.sum()\n",
    "print('e_to_p_a : ' + str(round(e_to_p_a,4)))\n",
    "print('e_to_p_b : ' + str(round(e_to_p_b,4)))"
   ]
  },
  {
   "cell_type": "code",
   "execution_count": 121,
   "id": "1f82e830",
   "metadata": {},
   "outputs": [
    {
     "name": "stdout",
     "output_type": "stream",
     "text": [
      "c_to_p_a : 0.0139\n",
      "c_to_p_b : 0.0115\n"
     ]
    }
   ],
   "source": [
    "c_to_p_a = data_a.purchases.sum()/data_a.clicks.sum()\n",
    "c_to_p_b = data_b.purchases.sum()/data_b.clicks.sum()\n",
    "print('c_to_p_a : ' + str(round(c_to_p_a,4)))\n",
    "print('c_to_p_b : ' + str(round(c_to_p_b,4)))"
   ]
  },
  {
   "cell_type": "code",
   "execution_count": null,
   "id": "2ab5b533",
   "metadata": {},
   "outputs": [],
   "source": []
  },
  {
   "cell_type": "code",
   "execution_count": null,
   "id": "838d0e80",
   "metadata": {},
   "outputs": [],
   "source": []
  },
  {
   "cell_type": "code",
   "execution_count": null,
   "id": "e0747eab",
   "metadata": {},
   "outputs": [],
   "source": []
  },
  {
   "cell_type": "code",
   "execution_count": null,
   "id": "139dcbeb",
   "metadata": {},
   "outputs": [],
   "source": []
  },
  {
   "cell_type": "code",
   "execution_count": null,
   "id": "603e5334",
   "metadata": {},
   "outputs": [],
   "source": []
  },
  {
   "cell_type": "code",
   "execution_count": null,
   "id": "49578ccb",
   "metadata": {},
   "outputs": [],
   "source": []
  },
  {
   "cell_type": "code",
   "execution_count": null,
   "id": "8928c9a7",
   "metadata": {},
   "outputs": [],
   "source": []
  },
  {
   "cell_type": "code",
   "execution_count": 62,
   "id": "210080a5",
   "metadata": {},
   "outputs": [],
   "source": [
    "dates_1 = data_a.groupby('date').mean().reset_index()['date']\n",
    "dates_2 = ['6 Sept', '', '', '', '', '', '', '', '', '15 Sept', '', '', '','', '', '', '', '', '', '', '', '', '', '', '', '', '1 Oct', '', '', '', '', '', '', '', '', '', '', '', '', '15 Oct']"
   ]
  },
  {
   "cell_type": "code",
   "execution_count": 63,
   "id": "2eafa615",
   "metadata": {},
   "outputs": [],
   "source": [
    "# # Replce ticks\n",
    "# plt.plot(dates_1, data_a.groupby('date').mean().impressions)\n",
    "# plt.xticks(dates_1,dates_2)\n",
    "# plt.show()"
   ]
  },
  {
   "cell_type": "code",
   "execution_count": 64,
   "id": "926f3d27",
   "metadata": {},
   "outputs": [
    {
     "data": {
      "image/png": "[encoded data removed]",
      "text/plain": [
       "<Figure size 1008x432 with 1 Axes>"
      ]
     },
     "metadata": {
      "needs_background": "light"
     },
     "output_type": "display_data"
    }
   ],
   "source": [
    "plt.figure(figsize=(14,6))\n",
    "plt.yscale('log')\n",
    "plt.title(\"Variables' evolution over time\")\n",
    "\n",
    "plt.plot(dates_1, data_a.groupby('date').mean().impressions, label='impressions A', color='b', linestyle='dashed')\n",
    "plt.plot(dates_1, data_b.groupby('date').mean().impressions, label='impressions B', color='b', linewidth=3)\n",
    "\n",
    "plt.plot(dates_1, data_a.groupby('date').mean().clicks, label='clicks A', color='Orange', linestyle='dashed')\n",
    "plt.plot(dates_1, data_b.groupby('date').mean().clicks, label='clicks B', color='Orange', linewidth=3)\n",
    "\n",
    "plt.plot(dates_1, data_a.groupby('date').mean().registrations, label='registrations A', color='Pink', linestyle='dashed')\n",
    "plt.plot(dates_1, data_b.groupby('date').mean().registrations, label='registrations B', color='Pink', linewidth=3)\n",
    "\n",
    "plt.plot(dates_1, data_a.groupby('date').mean().enquiries, label='enquiries A', color='Black', linestyle='dashed')\n",
    "plt.plot(dates_1, data_b.groupby('date').mean().enquiries, label='enquiries B', color='Black', linewidth=3)\n",
    "\n",
    "plt.plot(dates_1, data_a.groupby('date').mean().purchases, label='purchases A', color='Red', linestyle='dashed')\n",
    "plt.plot(dates_1, data_b.groupby('date').mean().purchases, label='purchases B', color='Red', linewidth=3)\n",
    "\n",
    "plt.legend()\n",
    "plt.show()"
   ]
  },
  {
   "cell_type": "markdown",
   "id": "201cfc21",
   "metadata": {},
   "source": [
    "#### Cost related metrics"
   ]
  },
  {
   "cell_type": "code",
   "execution_count": 67,
   "id": "0f4e0c87",
   "metadata": {},
   "outputs": [
    {
     "name": "stdout",
     "output_type": "stream",
     "text": [
      "cpi_a : 0.01\n",
      "cpi_b : 0.01\n"
     ]
    },
    {
     "data": {
      "image/png": "[encoded data removed]",
      "text/plain": [
       "<Figure size 288x144 with 1 Axes>"
      ]
     },
     "metadata": {
      "needs_background": "light"
     },
     "output_type": "display_data"
    }
   ],
   "source": [
    "cpi_a = data_a.cost.sum()/data_a.impressions.sum()\n",
    "cpi_b = data_b.cost.sum()/data_b.impressions.sum()\n",
    "print('cpi_a : ' + str(round(cpi_a,2)))\n",
    "print('cpi_b : ' + str(round(cpi_b,2)))\n",
    "\n",
    "plt.figure(figsize=(4,2))\n",
    "plt.title('Cost per impression')\n",
    "plt.bar(1, cpi_a)\n",
    "plt.bar(2, cpi_b)\n",
    "plt.xticks([1,2],['A','B'])\n",
    "plt.show()"
   ]
  },
  {
   "cell_type": "code",
   "execution_count": 68,
   "id": "007d35aa",
   "metadata": {},
   "outputs": [
    {
     "name": "stdout",
     "output_type": "stream",
     "text": [
      "cpc_a : 1.62\n",
      "cpc_b : 1.41\n"
     ]
    }
   ],
   "source": [
    "cpc_a = data_a.cost.sum()/data_a.clicks.sum()\n",
    "cpc_b = data_b.cost.sum()/data_b.clicks.sum()\n",
    "print('cpc_a : ' + str(round(cpc_a,2)))\n",
    "print('cpc_b : ' + str(round(cpc_b,2)))"
   ]
  },
  {
   "cell_type": "code",
   "execution_count": 69,
   "id": "9abcaebc",
   "metadata": {},
   "outputs": [
    {
     "name": "stdout",
     "output_type": "stream",
     "text": [
      "cpr_a : 13.75\n",
      "cpr_b : 12.19\n"
     ]
    }
   ],
   "source": [
    "cpr_a = data_a.cost.sum()/data_a.registrations.sum()\n",
    "cpr_b = data_b.cost.sum()/data_b.registrations.sum()\n",
    "print('cpr_a : ' + str(round(cpr_a,2)))\n",
    "print('cpr_b : ' + str(round(cpr_b,2)))"
   ]
  },
  {
   "cell_type": "code",
   "execution_count": 70,
   "id": "cdb2c0f3",
   "metadata": {},
   "outputs": [
    {
     "name": "stdout",
     "output_type": "stream",
     "text": [
      "cpe_a : 27.16\n",
      "cpe_b : 26.0\n"
     ]
    }
   ],
   "source": [
    "cpe_a = data_a.cost.sum()/data_a.enquiries.sum()\n",
    "cpe_b = data_b.cost.sum()/data_b.enquiries.sum()\n",
    "print('cpe_a : ' + str(round(cpe_a,2)))\n",
    "print('cpe_b : ' + str(round(cpe_b,2)))"
   ]
  },
  {
   "cell_type": "code",
   "execution_count": 71,
   "id": "851afb15",
   "metadata": {},
   "outputs": [
    {
     "name": "stdout",
     "output_type": "stream",
     "text": [
      "cpp_a : 116.27\n",
      "cpp_b : 122.89\n"
     ]
    }
   ],
   "source": [
    "cpp_a = data_a.cost.sum()/data_a.purchases.sum()\n",
    "cpp_b = data_b.cost.sum()/data_b.purchases.sum()\n",
    "print('cpp_a : ' + str(round(cpp_a,2)))\n",
    "print('cpp_b : ' + str(round(cpp_b,2)))"
   ]
  },
  {
   "cell_type": "markdown",
   "id": "3f2ab1c7",
   "metadata": {},
   "source": [
    "# Part 2 - Winner\n",
    "\n",
    "Determine if there is a winner of the experiment, clearly stating your reasoning for this\n",
    "decision."
   ]
  },
  {
   "cell_type": "code",
   "execution_count": 72,
   "id": "a80f4e4a",
   "metadata": {},
   "outputs": [],
   "source": [
    "# Pendiente.\n",
    "\n",
    "# B has better CTR but worse funnel conversions"
   ]
  },
  {
   "cell_type": "markdown",
   "id": "9e58a916",
   "metadata": {},
   "source": [
    "# Part 3 - X\n",
    "\n",
    "Disregarding the time from click to lower funnel conversions, determine the earliest date that you could have declared a winner. If there is no winner, how much longer would the test have needed to run for?"
   ]
  },
  {
   "cell_type": "code",
   "execution_count": 73,
   "id": "4ba2bbcf",
   "metadata": {},
   "outputs": [],
   "source": [
    "# Pendiente."
   ]
  },
  {
   "cell_type": "markdown",
   "id": "907ae679",
   "metadata": {},
   "source": [
    "# Part 4\n",
    "\n",
    "The client wants to run another test, this time comparing different audiences for campaign targeting. \n",
    "\n",
    "Based on the daily volumes observed in this test, calculate how long they would need to run the audience test for if they wanted to detect a 5% increase in the rate of registered users enquiring."
   ]
  },
  {
   "cell_type": "code",
   "execution_count": 94,
   "id": "a226ec38",
   "metadata": {},
   "outputs": [
    {
     "data": {
      "text/plain": [
       "0.48652076795805593"
      ]
     },
     "execution_count": 94,
     "metadata": {},
     "output_type": "execute_result"
    }
   ],
   "source": [
    "baseline_r_to_e = data.enquiries.sum()/data.registrations.sum()\n",
    "baseline_r_to_e"
   ]
  },
  {
   "cell_type": "code",
   "execution_count": 95,
   "id": "b022393f",
   "metadata": {},
   "outputs": [
    {
     "data": {
      "text/plain": [
       "Timedelta('39 days 00:00:00')"
      ]
     },
     "execution_count": 95,
     "metadata": {},
     "output_type": "execute_result"
    }
   ],
   "source": [
    "days = max(data.date)-min(data.date)\n",
    "days"
   ]
  },
  {
   "cell_type": "code",
   "execution_count": 96,
   "id": "b24fc122",
   "metadata": {},
   "outputs": [
    {
     "data": {
      "text/plain": [
       "151.41051282051282"
      ]
     },
     "execution_count": 96,
     "metadata": {},
     "output_type": "execute_result"
    }
   ],
   "source": [
    "daily_reg = data.registrations.sum()/39\n",
    "daily_reg"
   ]
  },
  {
   "cell_type": "markdown",
   "id": "68cea387",
   "metadata": {},
   "source": [
    "#### Calculate sample size\n",
    "\n",
    "Based on:\n",
    "\n",
    "- Baseline Enquiries/Registrations (49%)\n",
    "- Minimum detectable change - relative to the baseline (5%)\n",
    "- Level of confidence (95%)\n",
    "- Power (80%)\n",
    "\n",
    "https://www.evanmiller.org/ab-testing/sample-size.html#!48;80;5;5;1\n",
    "\n",
    "Result - Minimum sample size (per branch): 6.535 "
   ]
  },
  {
   "cell_type": "code",
   "execution_count": 98,
   "id": "d9f9406a",
   "metadata": {},
   "outputs": [],
   "source": [
    "branch_min_sample_size = 6535"
   ]
  },
  {
   "cell_type": "code",
   "execution_count": 99,
   "id": "185fae3f",
   "metadata": {},
   "outputs": [],
   "source": [
    "total_min_sample_size = branch_min_sample_size*2"
   ]
  },
  {
   "cell_type": "code",
   "execution_count": 101,
   "id": "ce440fca",
   "metadata": {},
   "outputs": [
    {
     "data": {
      "text/plain": [
       "86.32161503536827"
      ]
     },
     "execution_count": 101,
     "metadata": {},
     "output_type": "execute_result"
    }
   ],
   "source": [
    "exp_duration = total_min_sample_size/daily_reg\n",
    "exp_duration"
   ]
  },
  {
   "cell_type": "code",
   "execution_count": null,
   "id": "e92bd5ff",
   "metadata": {},
   "outputs": [],
   "source": []
  },
  {
   "cell_type": "code",
   "execution_count": null,
   "id": "01a14bbf",
   "metadata": {},
   "outputs": [],
   "source": []
  },
  {
   "cell_type": "code",
   "execution_count": null,
   "id": "f31cadf8",
   "metadata": {},
   "outputs": [],
   "source": []
  },
  {
   "cell_type": "code",
   "execution_count": null,
   "id": "a5e9aa56",
   "metadata": {},
   "outputs": [],
   "source": []
  },
  {
   "cell_type": "code",
   "execution_count": null,
   "id": "cdb622fa",
   "metadata": {},
   "outputs": [],
   "source": []
  }
 ],
 "metadata": {
  "kernelspec": {
   "display_name": "Python 3",
   "language": "python",
   "name": "python3"
  },
  "language_info": {
   "codemirror_mode": {
    "name": "ipython",
    "version": 3
   },
   "file_extension": ".py",
   "mimetype": "text/x-python",
   "name": "python",
   "nbconvert_exporter": "python",
   "pygments_lexer": "ipython3",
   "version": "3.7.7"
  }
 },
 "nbformat": 4,
 "nbformat_minor": 5
}
