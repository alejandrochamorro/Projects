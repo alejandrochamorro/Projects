{
 "cells": [
  {
   "cell_type": "markdown",
   "id": "c6f2fa50",
   "metadata": {},
   "source": [
    "# Butternut Box - Technical Assessment - Braulio de la Calle\n",
    "------------------------------------"
   ]
  },
  {
   "cell_type": "markdown",
   "id": "f72a88a8",
   "metadata": {},
   "source": [
    "# Structure:\n",
    "\n",
    "#### 1) Data cleaning:\n",
    "    \n",
    "- Inspecting variables   \n",
    "    \n",
    "\n",
    "\n",
    "#### 2) Test 1:\n",
    "\n",
    "- Interesting metrics\n",
    "\n",
    "\n",
    "\n",
    "#### 3) Conclusion:\n",
    "\n",
    "- XXX"
   ]
  },
  {
   "cell_type": "markdown",
   "id": "b376c82a",
   "metadata": {},
   "source": [
    "# 1. Data cleaning"
   ]
  },
  {
   "cell_type": "markdown",
   "id": "c5268f08",
   "metadata": {},
   "source": [
    "### Import libraries"
   ]
  },
  {
   "cell_type": "code",
   "execution_count": 1,
   "id": "c565d7b9",
   "metadata": {},
   "outputs": [],
   "source": [
    "import pandas as pd\n",
    "import numpy as np\n",
    "import seaborn as sns\n",
    "import plotly.express as px\n",
    "import matplotlib.pyplot as plt\n",
    "import math\n",
    "%matplotlib inline\n",
    "import sys\n",
    "sys.path.append('..')\n",
    "pd.set_option('display.max_columns', 50)\n",
    "pd.set_option('display.max_rows', 50)"
   ]
  },
  {
   "cell_type": "markdown",
   "id": "b0e1430c",
   "metadata": {},
   "source": [
    "### Read file"
   ]
  },
  {
   "cell_type": "code",
   "execution_count": 2,
   "id": "106ee53d",
   "metadata": {},
   "outputs": [
    {
     "data": {
      "text/html": [
       "<div>\n",
       "<style scoped>\n",
       "    .dataframe tbody tr th:only-of-type {\n",
       "        vertical-align: middle;\n",
       "    }\n",
       "\n",
       "    .dataframe tbody tr th {\n",
       "        vertical-align: top;\n",
       "    }\n",
       "\n",
       "    .dataframe thead th {\n",
       "        text-align: right;\n",
       "    }\n",
       "</style>\n",
       "<table border=\"1\" class=\"dataframe\">\n",
       "  <thead>\n",
       "    <tr style=\"text-align: right;\">\n",
       "      <th></th>\n",
       "      <th>id</th>\n",
       "      <th>variation_name</th>\n",
       "      <th>status</th>\n",
       "      <th>deliveries_received</th>\n",
       "      <th>channel</th>\n",
       "      <th>created_at</th>\n",
       "      <th>has_dog_profile</th>\n",
       "      <th>dog_age_group_sign_up</th>\n",
       "      <th>box_one_delivery_date</th>\n",
       "      <th>days_between_box_one_and_two</th>\n",
       "      <th>lifetime_revenue</th>\n",
       "      <th>lifetime_value</th>\n",
       "      <th>add_ons_lifetime_revenue</th>\n",
       "    </tr>\n",
       "  </thead>\n",
       "  <tbody>\n",
       "    <tr>\n",
       "      <th>0</th>\n",
       "      <td>152143</td>\n",
       "      <td>without_paypal</td>\n",
       "      <td>1</td>\n",
       "      <td>1</td>\n",
       "      <td>raf</td>\n",
       "      <td>2021-01-13 11:34:40</td>\n",
       "      <td>False</td>\n",
       "      <td>puppy</td>\n",
       "      <td>2021-01-14</td>\n",
       "      <td>NaN</td>\n",
       "      <td>8.750</td>\n",
       "      <td>-4.526250</td>\n",
       "      <td>0.0</td>\n",
       "    </tr>\n",
       "    <tr>\n",
       "      <th>1</th>\n",
       "      <td>150257</td>\n",
       "      <td>without_paypal</td>\n",
       "      <td>0</td>\n",
       "      <td>2</td>\n",
       "      <td>digital</td>\n",
       "      <td>2021-01-01 21:33:05</td>\n",
       "      <td>True</td>\n",
       "      <td>puppy</td>\n",
       "      <td>2021-01-07</td>\n",
       "      <td>14.0</td>\n",
       "      <td>21.000</td>\n",
       "      <td>3.124000</td>\n",
       "      <td>0.0</td>\n",
       "    </tr>\n",
       "    <tr>\n",
       "      <th>2</th>\n",
       "      <td>151598</td>\n",
       "      <td>without_paypal</td>\n",
       "      <td>0</td>\n",
       "      <td>2</td>\n",
       "      <td>raf</td>\n",
       "      <td>2021-01-10 12:53:13</td>\n",
       "      <td>False</td>\n",
       "      <td>puppy</td>\n",
       "      <td>2021-01-14</td>\n",
       "      <td>14.0</td>\n",
       "      <td>22.775</td>\n",
       "      <td>1.733596</td>\n",
       "      <td>0.0</td>\n",
       "    </tr>\n",
       "  </tbody>\n",
       "</table>\n",
       "</div>"
      ],
      "text/plain": [
       "       id  variation_name  status  deliveries_received  channel  \\\n",
       "0  152143  without_paypal       1                    1      raf   \n",
       "1  150257  without_paypal       0                    2  digital   \n",
       "2  151598  without_paypal       0                    2      raf   \n",
       "\n",
       "            created_at  has_dog_profile dog_age_group_sign_up  \\\n",
       "0  2021-01-13 11:34:40            False                 puppy   \n",
       "1  2021-01-01 21:33:05             True                 puppy   \n",
       "2  2021-01-10 12:53:13            False                 puppy   \n",
       "\n",
       "  box_one_delivery_date  days_between_box_one_and_two  lifetime_revenue  \\\n",
       "0            2021-01-14                           NaN             8.750   \n",
       "1            2021-01-07                          14.0            21.000   \n",
       "2            2021-01-14                          14.0            22.775   \n",
       "\n",
       "   lifetime_value  add_ons_lifetime_revenue  \n",
       "0       -4.526250                       0.0  \n",
       "1        3.124000                       0.0  \n",
       "2        1.733596                       0.0  "
      ]
     },
     "execution_count": 2,
     "metadata": {},
     "output_type": "execute_result"
    }
   ],
   "source": [
    "data = pd.read_csv('../Data/bb_data.csv', delimiter=';')\n",
    "data.head(3)"
   ]
  },
  {
   "cell_type": "markdown",
   "id": "c8b72300",
   "metadata": {},
   "source": [
    "### Check for null values"
   ]
  },
  {
   "cell_type": "code",
   "execution_count": 3,
   "id": "861a5c32",
   "metadata": {
    "scrolled": true
   },
   "outputs": [
    {
     "data": {
      "text/plain": [
       "id                                 0\n",
       "variation_name                     0\n",
       "status                             0\n",
       "deliveries_received                0\n",
       "channel                            0\n",
       "created_at                         0\n",
       "has_dog_profile                    0\n",
       "dog_age_group_sign_up              0\n",
       "box_one_delivery_date            135\n",
       "days_between_box_one_and_two    1709\n",
       "lifetime_revenue                   0\n",
       "lifetime_value                     0\n",
       "add_ons_lifetime_revenue           0\n",
       "dtype: int64"
      ]
     },
     "execution_count": 3,
     "metadata": {},
     "output_type": "execute_result"
    }
   ],
   "source": [
    "data.isnull().sum()"
   ]
  },
  {
   "cell_type": "markdown",
   "id": "7e1b4211",
   "metadata": {},
   "source": [
    "## a) Inspecting variables"
   ]
  },
  {
   "cell_type": "code",
   "execution_count": 4,
   "id": "fcfc1689",
   "metadata": {},
   "outputs": [
    {
     "name": "stdout",
     "output_type": "stream",
     "text": [
      "<class 'pandas.core.frame.DataFrame'>\n",
      "RangeIndex: 4269 entries, 0 to 4268\n",
      "Data columns (total 13 columns):\n",
      " #   Column                        Non-Null Count  Dtype  \n",
      "---  ------                        --------------  -----  \n",
      " 0   id                            4269 non-null   int64  \n",
      " 1   variation_name                4269 non-null   object \n",
      " 2   status                        4269 non-null   int64  \n",
      " 3   deliveries_received           4269 non-null   int64  \n",
      " 4   channel                       4269 non-null   object \n",
      " 5   created_at                    4269 non-null   object \n",
      " 6   has_dog_profile               4269 non-null   bool   \n",
      " 7   dog_age_group_sign_up         4269 non-null   object \n",
      " 8   box_one_delivery_date         4134 non-null   object \n",
      " 9   days_between_box_one_and_two  2560 non-null   float64\n",
      " 10  lifetime_revenue              4269 non-null   float64\n",
      " 11  lifetime_value                4269 non-null   float64\n",
      " 12  add_ons_lifetime_revenue      4269 non-null   float64\n",
      "dtypes: bool(1), float64(4), int64(3), object(5)\n",
      "memory usage: 404.5+ KB\n"
     ]
    }
   ],
   "source": [
    "data.info()"
   ]
  },
  {
   "cell_type": "code",
   "execution_count": 5,
   "id": "8216d1a8",
   "metadata": {},
   "outputs": [],
   "source": [
    "numeric_vars = ['id','status','deliveries_received', 'days_between_box_one_and_two','lifetime_revenue','lifetime_value','add_ons_lifetime_revenue']\n",
    "categ_vars = ['channel','dog_age_group_sign_up']\n",
    "date_vars = ['created_at', 'box_one_delivery_date']\n",
    "bool_vars = ['has_dog_profile']"
   ]
  },
  {
   "cell_type": "code",
   "execution_count": 6,
   "id": "fbee949f",
   "metadata": {},
   "outputs": [],
   "source": [
    "data = data.copy() # To avoid warning message\n",
    "data.created_at = pd.to_datetime(data.created_at)\n",
    "data.box_one_delivery_date = pd.to_datetime(data.box_one_delivery_date)"
   ]
  },
  {
   "cell_type": "code",
   "execution_count": 7,
   "id": "9d8b4673",
   "metadata": {},
   "outputs": [
    {
     "data": {
      "text/html": [
       "<div>\n",
       "<style scoped>\n",
       "    .dataframe tbody tr th:only-of-type {\n",
       "        vertical-align: middle;\n",
       "    }\n",
       "\n",
       "    .dataframe tbody tr th {\n",
       "        vertical-align: top;\n",
       "    }\n",
       "\n",
       "    .dataframe thead th {\n",
       "        text-align: right;\n",
       "    }\n",
       "</style>\n",
       "<table border=\"1\" class=\"dataframe\">\n",
       "  <thead>\n",
       "    <tr style=\"text-align: right;\">\n",
       "      <th></th>\n",
       "      <th>index</th>\n",
       "      <th>id</th>\n",
       "      <th>variation_name</th>\n",
       "      <th>status</th>\n",
       "      <th>deliveries_received</th>\n",
       "      <th>channel</th>\n",
       "      <th>created_at</th>\n",
       "      <th>has_dog_profile</th>\n",
       "      <th>dog_age_group_sign_up</th>\n",
       "      <th>box_one_delivery_date</th>\n",
       "      <th>days_between_box_one_and_two</th>\n",
       "      <th>lifetime_revenue</th>\n",
       "      <th>lifetime_value</th>\n",
       "      <th>add_ons_lifetime_revenue</th>\n",
       "    </tr>\n",
       "  </thead>\n",
       "  <tbody>\n",
       "    <tr>\n",
       "      <th>0</th>\n",
       "      <td>16</td>\n",
       "      <td>149107</td>\n",
       "      <td>with_paypal</td>\n",
       "      <td>1</td>\n",
       "      <td>2</td>\n",
       "      <td>raf</td>\n",
       "      <td>2020-12-23 11:26:55</td>\n",
       "      <td>False</td>\n",
       "      <td>adult</td>\n",
       "      <td>2020-12-29</td>\n",
       "      <td>12.0</td>\n",
       "      <td>20.75</td>\n",
       "      <td>-6.98575</td>\n",
       "      <td>1.354475</td>\n",
       "    </tr>\n",
       "    <tr>\n",
       "      <th>1</th>\n",
       "      <td>22</td>\n",
       "      <td>151655</td>\n",
       "      <td>with_paypal</td>\n",
       "      <td>1</td>\n",
       "      <td>1</td>\n",
       "      <td>ambassador</td>\n",
       "      <td>2021-01-10 17:50:53</td>\n",
       "      <td>False</td>\n",
       "      <td>adult</td>\n",
       "      <td>2021-01-12</td>\n",
       "      <td>NaN</td>\n",
       "      <td>0.00</td>\n",
       "      <td>-11.74500</td>\n",
       "      <td>0.000000</td>\n",
       "    </tr>\n",
       "    <tr>\n",
       "      <th>2</th>\n",
       "      <td>25</td>\n",
       "      <td>150530</td>\n",
       "      <td>with_paypal</td>\n",
       "      <td>1</td>\n",
       "      <td>1</td>\n",
       "      <td>ambassador</td>\n",
       "      <td>2021-01-03 16:33:54</td>\n",
       "      <td>False</td>\n",
       "      <td>adult</td>\n",
       "      <td>2021-01-05</td>\n",
       "      <td>NaN</td>\n",
       "      <td>1.65</td>\n",
       "      <td>-4.36690</td>\n",
       "      <td>0.000000</td>\n",
       "    </tr>\n",
       "  </tbody>\n",
       "</table>\n",
       "</div>"
      ],
      "text/plain": [
       "   index      id variation_name  status  deliveries_received     channel  \\\n",
       "0     16  149107    with_paypal       1                    2         raf   \n",
       "1     22  151655    with_paypal       1                    1  ambassador   \n",
       "2     25  150530    with_paypal       1                    1  ambassador   \n",
       "\n",
       "           created_at  has_dog_profile dog_age_group_sign_up  \\\n",
       "0 2020-12-23 11:26:55            False                 adult   \n",
       "1 2021-01-10 17:50:53            False                 adult   \n",
       "2 2021-01-03 16:33:54            False                 adult   \n",
       "\n",
       "  box_one_delivery_date  days_between_box_one_and_two  lifetime_revenue  \\\n",
       "0            2020-12-29                          12.0             20.75   \n",
       "1            2021-01-12                           NaN              0.00   \n",
       "2            2021-01-05                           NaN              1.65   \n",
       "\n",
       "   lifetime_value  add_ons_lifetime_revenue  \n",
       "0        -6.98575                  1.354475  \n",
       "1       -11.74500                  0.000000  \n",
       "2        -4.36690                  0.000000  "
      ]
     },
     "execution_count": 7,
     "metadata": {},
     "output_type": "execute_result"
    }
   ],
   "source": [
    "bool_1 = data.variation_name=='with_paypal'\n",
    "with_pp = data[bool_1].reset_index()\n",
    "with_pp.head(3)"
   ]
  },
  {
   "cell_type": "code",
   "execution_count": 8,
   "id": "3460197d",
   "metadata": {},
   "outputs": [
    {
     "data": {
      "text/html": [
       "<div>\n",
       "<style scoped>\n",
       "    .dataframe tbody tr th:only-of-type {\n",
       "        vertical-align: middle;\n",
       "    }\n",
       "\n",
       "    .dataframe tbody tr th {\n",
       "        vertical-align: top;\n",
       "    }\n",
       "\n",
       "    .dataframe thead th {\n",
       "        text-align: right;\n",
       "    }\n",
       "</style>\n",
       "<table border=\"1\" class=\"dataframe\">\n",
       "  <thead>\n",
       "    <tr style=\"text-align: right;\">\n",
       "      <th></th>\n",
       "      <th>index</th>\n",
       "      <th>id</th>\n",
       "      <th>variation_name</th>\n",
       "      <th>status</th>\n",
       "      <th>deliveries_received</th>\n",
       "      <th>channel</th>\n",
       "      <th>created_at</th>\n",
       "      <th>has_dog_profile</th>\n",
       "      <th>dog_age_group_sign_up</th>\n",
       "      <th>box_one_delivery_date</th>\n",
       "      <th>days_between_box_one_and_two</th>\n",
       "      <th>lifetime_revenue</th>\n",
       "      <th>lifetime_value</th>\n",
       "      <th>add_ons_lifetime_revenue</th>\n",
       "    </tr>\n",
       "  </thead>\n",
       "  <tbody>\n",
       "    <tr>\n",
       "      <th>0</th>\n",
       "      <td>0</td>\n",
       "      <td>152143</td>\n",
       "      <td>without_paypal</td>\n",
       "      <td>1</td>\n",
       "      <td>1</td>\n",
       "      <td>raf</td>\n",
       "      <td>2021-01-13 11:34:40</td>\n",
       "      <td>False</td>\n",
       "      <td>puppy</td>\n",
       "      <td>2021-01-14</td>\n",
       "      <td>NaN</td>\n",
       "      <td>8.750</td>\n",
       "      <td>-4.526250</td>\n",
       "      <td>0.0</td>\n",
       "    </tr>\n",
       "    <tr>\n",
       "      <th>1</th>\n",
       "      <td>1</td>\n",
       "      <td>150257</td>\n",
       "      <td>without_paypal</td>\n",
       "      <td>0</td>\n",
       "      <td>2</td>\n",
       "      <td>digital</td>\n",
       "      <td>2021-01-01 21:33:05</td>\n",
       "      <td>True</td>\n",
       "      <td>puppy</td>\n",
       "      <td>2021-01-07</td>\n",
       "      <td>14.0</td>\n",
       "      <td>21.000</td>\n",
       "      <td>3.124000</td>\n",
       "      <td>0.0</td>\n",
       "    </tr>\n",
       "    <tr>\n",
       "      <th>2</th>\n",
       "      <td>2</td>\n",
       "      <td>151598</td>\n",
       "      <td>without_paypal</td>\n",
       "      <td>0</td>\n",
       "      <td>2</td>\n",
       "      <td>raf</td>\n",
       "      <td>2021-01-10 12:53:13</td>\n",
       "      <td>False</td>\n",
       "      <td>puppy</td>\n",
       "      <td>2021-01-14</td>\n",
       "      <td>14.0</td>\n",
       "      <td>22.775</td>\n",
       "      <td>1.733596</td>\n",
       "      <td>0.0</td>\n",
       "    </tr>\n",
       "  </tbody>\n",
       "</table>\n",
       "</div>"
      ],
      "text/plain": [
       "   index      id  variation_name  status  deliveries_received  channel  \\\n",
       "0      0  152143  without_paypal       1                    1      raf   \n",
       "1      1  150257  without_paypal       0                    2  digital   \n",
       "2      2  151598  without_paypal       0                    2      raf   \n",
       "\n",
       "           created_at  has_dog_profile dog_age_group_sign_up  \\\n",
       "0 2021-01-13 11:34:40            False                 puppy   \n",
       "1 2021-01-01 21:33:05             True                 puppy   \n",
       "2 2021-01-10 12:53:13            False                 puppy   \n",
       "\n",
       "  box_one_delivery_date  days_between_box_one_and_two  lifetime_revenue  \\\n",
       "0            2021-01-14                           NaN             8.750   \n",
       "1            2021-01-07                          14.0            21.000   \n",
       "2            2021-01-14                          14.0            22.775   \n",
       "\n",
       "   lifetime_value  add_ons_lifetime_revenue  \n",
       "0       -4.526250                       0.0  \n",
       "1        3.124000                       0.0  \n",
       "2        1.733596                       0.0  "
      ]
     },
     "execution_count": 8,
     "metadata": {},
     "output_type": "execute_result"
    }
   ],
   "source": [
    "bool_2 = data.variation_name=='without_paypal'\n",
    "no_pp = data[bool_2].reset_index()\n",
    "no_pp.head(3)"
   ]
  },
  {
   "cell_type": "code",
   "execution_count": 9,
   "id": "3e6d26c8",
   "metadata": {},
   "outputs": [
    {
     "name": "stdout",
     "output_type": "stream",
     "text": [
      "(2120, 14)\n",
      "(2149, 14)\n"
     ]
    }
   ],
   "source": [
    "print(with_pp.shape)\n",
    "print(no_pp.shape)"
   ]
  },
  {
   "cell_type": "code",
   "execution_count": 10,
   "id": "d09bc66f",
   "metadata": {
    "scrolled": false
   },
   "outputs": [
    {
     "data": {
      "image/png": "[encoded data removed]",
      "text/plain": [
       "<Figure size 1008x360 with 1 Axes>"
      ]
     },
     "metadata": {
      "needs_background": "light"
     },
     "output_type": "display_data"
    },
    {
     "data": {
      "image/png": "[encoded data removed]",
      "text/plain": [
       "<Figure size 1008x360 with 1 Axes>"
      ]
     },
     "metadata": {
      "needs_background": "light"
     },
     "output_type": "display_data"
    }
   ],
   "source": [
    "for cat in categ_vars:\n",
    "    plt.figure(figsize=(14,5))\n",
    "    with_pp[cat].value_counts().plot.bar(alpha=0.5, label= 'With PayPal')\n",
    "    no_pp[cat].value_counts().plot.bar(color='Red', alpha=0.5, label= 'Without PayPal')\n",
    "    plt.title(cat)\n",
    "    plt.legend()\n",
    "    plt.show()\n",
    "\n",
    "# for cat in categ_vars:\n",
    "#     with_pp[cat].value_counts().plot.bar()\n",
    "#     plt.title('With PayPal - ' + cat)\n",
    "#     plt.show()\n",
    "    \n",
    "#     no_pp[cat].value_counts().plot.bar(color='r')\n",
    "#     plt.title('Without PayPal - ' + cat)\n",
    "#     plt.show()"
   ]
  },
  {
   "cell_type": "code",
   "execution_count": 11,
   "id": "6b3a8772",
   "metadata": {
    "scrolled": false
   },
   "outputs": [
    {
     "data": {
      "image/png": "[encoded data removed]",
      "text/plain": [
       "<Figure size 1008x360 with 1 Axes>"
      ]
     },
     "metadata": {
      "needs_background": "light"
     },
     "output_type": "display_data"
    },
    {
     "data": {
      "image/png": "[encoded data removed]",
      "text/plain": [
       "<Figure size 1008x360 with 1 Axes>"
      ]
     },
     "metadata": {
      "needs_background": "light"
     },
     "output_type": "display_data"
    },
    {
     "data": {
      "image/png": "[encoded data removed]",
      "text/plain": [
       "<Figure size 1008x360 with 1 Axes>"
      ]
     },
     "metadata": {
      "needs_background": "light"
     },
     "output_type": "display_data"
    },
    {
     "data": {
      "image/png": "[encoded data removed]",
      "text/plain": [
       "<Figure size 1008x360 with 1 Axes>"
      ]
     },
     "metadata": {
      "needs_background": "light"
     },
     "output_type": "display_data"
    },
    {
     "data": {
      "image/png": "[encoded data removed]",
      "text/plain": [
       "<Figure size 1008x360 with 1 Axes>"
      ]
     },
     "metadata": {
      "needs_background": "light"
     },
     "output_type": "display_data"
    },
    {
     "data": {
      "image/png": "[encoded data removed]",
      "text/plain": [
       "<Figure size 1008x360 with 1 Axes>"
      ]
     },
     "metadata": {
      "needs_background": "light"
     },
     "output_type": "display_data"
    },
    {
     "data": {
      "image/png": "[encoded data removed]",
      "text/plain": [
       "<Figure size 1008x360 with 1 Axes>"
      ]
     },
     "metadata": {
      "needs_background": "light"
     },
     "output_type": "display_data"
    }
   ],
   "source": [
    "for num in numeric_vars:\n",
    "    plt.figure(figsize=(14,5))\n",
    "    plt.hist(with_pp[num], alpha=0.5, label= 'With PayPal', bins=25)\n",
    "    plt.hist(no_pp[num], color='Red', alpha=0.5, label= 'Without PayPal', bins=25)\n",
    "    plt.title(cat)\n",
    "    plt.legend()\n",
    "    plt.show()\n",
    "    \n",
    "# for num in numeric_vars:\n",
    "#     plt.hist(with_pp[num])\n",
    "#     plt.title('With PayPal - ' + num)\n",
    "#     plt.show()\n",
    "    \n",
    "#     plt.hist(no_pp[num], color='r')\n",
    "#     plt.title('Without PayPal - ' + num)\n",
    "#     plt.show()"
   ]
  },
  {
   "cell_type": "markdown",
   "id": "083b8408",
   "metadata": {},
   "source": [
    "# 2. Test\n",
    "## a) Interesting metrics"
   ]
  },
  {
   "cell_type": "markdown",
   "id": "b1e910e7",
   "metadata": {},
   "source": [
    "### Hypothesis testing\n",
    "\n",
    "H0: Metric(A) == Metric(B)\n",
    "\n",
    "H1: Metric(A) != Metric(B)\n",
    "\n",
    "≈\n",
    "\n",
    "### Example: Average LTV\n",
    "\n",
    "H0: LTV(A) == LTV(B)\n",
    "\n",
    "H1: LTV(A) != LTV(B)\n"
   ]
  },
  {
   "cell_type": "markdown",
   "id": "2f0d918b",
   "metadata": {},
   "source": [
    "# (Intentamos el método de Udacity)"
   ]
  },
  {
   "cell_type": "code",
   "execution_count": 12,
   "id": "9d8d1347",
   "metadata": {},
   "outputs": [],
   "source": [
    "# Función que te da todo lo necesario sobre la métrica\n",
    "\n",
    "def metric_info (numerator, denominator):\n",
    "    x_control = data[data.variation_name=='without_paypal'][numerator].sum()\n",
    "    n_control = data[data.variation_name=='without_paypal'][numerator].shape[0]\n",
    "    x_experiment = data[data.variation_name=='with_paypal'][denominator].sum()\n",
    "    n_experiment = data[data.variation_name=='with_paypal'][denominator].shape[0]\n",
    "    pooled_prob = (x_control+x_experiment)/(n_control+n_experiment)\n",
    "    pooled_se = (   pooled_prob*(1-pooled_prob)*(1/n_control+1/n_experiment)   )**0.5\n",
    "    prob_control = x_control/n_control\n",
    "    prob_experiment = x_experiment/n_experiment\n",
    "    prob_difference = prob_experiment - prob_control\n",
    "    prob_increase = prob_experiment/prob_control-1\n",
    "    margin_error = pooled_se*1.96\n",
    "    diff_ci_plus_95 = round(0+margin_error, 5)\n",
    "    diff_ci_minus_95 = round(0-margin_error, 5)\n",
    "    if (prob_difference>diff_ci_plus_95) or (prob_difference<diff_ci_minus_95):\n",
    "        return [str(numerator)+'/'+str(denominator), prob_control, prob_experiment, prob_increase, prob_difference, round(pooled_se,4), diff_ci_minus_95, diff_ci_plus_95, 'Yes']\n",
    "    else:\n",
    "        return [str(numerator)+'/'+str(denominator), prob_control, prob_experiment, prob_increase, prob_difference, round(pooled_se,4), diff_ci_minus_95, diff_ci_plus_95, 'No']"
   ]
  },
  {
   "cell_type": "markdown",
   "id": "f33945d4",
   "metadata": {},
   "source": [
    "### Aquí vemos que se complica el asunto porque no se puede hacer la raíz de un número negativo"
   ]
  },
  {
   "cell_type": "code",
   "execution_count": 13,
   "id": "546c1b43",
   "metadata": {},
   "outputs": [
    {
     "name": "stderr",
     "output_type": "stream",
     "text": [
      "<ipython-input-12-31c6b8a78c01>:9: RuntimeWarning: invalid value encountered in double_scalars\n",
      "  pooled_se = (   pooled_prob*(1-pooled_prob)*(1/n_control+1/n_experiment)   )**0.5\n"
     ]
    },
    {
     "data": {
      "text/plain": [
       "['lifetime_value/lifetime_value',\n",
       " 3.3659615965030243,\n",
       " 3.4915825039462267,\n",
       " 0.03732095683257741,\n",
       " 0.12562090744320242,\n",
       " nan,\n",
       " nan,\n",
       " nan,\n",
       " 'No']"
      ]
     },
     "execution_count": 13,
     "metadata": {},
     "output_type": "execute_result"
    }
   ],
   "source": [
    "metric_info('lifetime_value','lifetime_value')"
   ]
  },
  {
   "cell_type": "code",
   "execution_count": 14,
   "id": "76ef9e34",
   "metadata": {},
   "outputs": [
    {
     "name": "stdout",
     "output_type": "stream",
     "text": [
      "3.4283453687634107\n",
      "-0.007800975216664704\n"
     ]
    }
   ],
   "source": [
    "# comprobamos que efectivamente es negativo\n",
    "\n",
    "x_control = data[data.variation_name=='without_paypal']['lifetime_value'].sum()\n",
    "n_control = data[data.variation_name=='without_paypal']['lifetime_value'].shape[0]\n",
    "x_experiment = data[data.variation_name=='with_paypal']['lifetime_value'].sum()\n",
    "n_experiment = data[data.variation_name=='with_paypal']['lifetime_value'].shape[0]\n",
    "pooled_prob = (x_control+x_experiment)/(n_control+n_experiment)\n",
    "print(pooled_prob)\n",
    "print(pooled_prob*(1-pooled_prob)*(1/n_control+1/n_experiment)) "
   ]
  },
  {
   "cell_type": "markdown",
   "id": "d382c3bc",
   "metadata": {},
   "source": [
    "# (Intentamos el método de BV)"
   ]
  },
  {
   "cell_type": "markdown",
   "id": "2eb9b705",
   "metadata": {},
   "source": [
    "### Creo que así es como lo hemos hecho con Paco anteriormente (lo he metido en una función como te enseñé cuando estaba por ahí para poder hacer los tests que quiera imprimiendo el gráfico ese chulo)"
   ]
  },
  {
   "cell_type": "code",
   "execution_count": 15,
   "id": "3f873166",
   "metadata": {},
   "outputs": [],
   "source": [
    "def ab_test_mean_difference (column):\n",
    "    \n",
    "    # Initial difference\n",
    "    metric_a = data.loc[data.variation_name=='without_paypal', column].mean()\n",
    "    metric_b = data.loc[data.variation_name=='with_paypal', column].mean()\n",
    "    initial_diff = metric_b - metric_a\n",
    "    \n",
    "    # Sampling distribution\n",
    "    differences = []\n",
    "    for n in list(range(1,1001)):\n",
    "        sample_a = data.sample(data[data.variation_name=='without_paypal'].shape[0], replace=True)\n",
    "        sample_b = data.sample(data[data.variation_name=='with_paypal'].shape[0], replace=True)\n",
    "        s_a_metric = sample_a[column].mean()    \n",
    "        s_b_metric = sample_b[column].mean()    \n",
    "        diff = s_b_metric-s_a_metric\n",
    "        differences.append(diff)\n",
    "        \n",
    "    # Calculate p value\n",
    "    extreme = []\n",
    "    for element in differences:\n",
    "        if element >= initial_diff:\n",
    "            extreme.append(1)\n",
    "        else:\n",
    "            extreme.append(0)\n",
    "    p_value = sum(extreme)/len(extreme)\n",
    "    if p_value >= 0.5:\n",
    "        p_value_2 = 1 - p_value\n",
    "    else:\n",
    "        p_value_2 = p_value\n",
    "    p_value_2 = round(p_value_2, 3)\n",
    "    \n",
    "    # Plot the result\n",
    "    plt.figure(figsize=(10,6))\n",
    "    pd.Series(differences).plot.hist(alpha=0.8, label='Sampling distribution')\n",
    "    plt.title('p value: '+ str(p_value_2))\n",
    "    plt.axvline(pd.Series(differences).mean(), label=\"Samples' mean difference\", color='Green')\n",
    "    plt.axvline(initial_diff, label= 'Initial difference', color = 'Red')    \n",
    "    plt.axvline(np.percentile(differences, 97.5), color='Orange', label= 'Confidence interval ')\n",
    "    plt.axvline(np.percentile(differences, 2.5), color='Orange')\n",
    "    plt.legend()\n",
    "    return plt.show()"
   ]
  },
  {
   "cell_type": "code",
   "execution_count": 16,
   "id": "1b933f89",
   "metadata": {
    "scrolled": false
   },
   "outputs": [
    {
     "data": {
      "image/png": "[encoded data removed]",
      "text/plain": [
       "<Figure size 720x432 with 1 Axes>"
      ]
     },
     "metadata": {
      "needs_background": "light"
     },
     "output_type": "display_data"
    }
   ],
   "source": [
    "ab_test_mean_difference('lifetime_value')"
   ]
  },
  {
   "cell_type": "markdown",
   "id": "e92b0dcd",
   "metadata": {},
   "source": [
    "# Conclusión\n",
    "Parece que sí es significativamente mejor tener PayPal"
   ]
  },
  {
   "cell_type": "markdown",
   "id": "269b3a68",
   "metadata": {},
   "source": [
    "# Next Steps\n",
    "- Hacer lo mismo para el Box 2 Retention (no se lo que es).\n",
    "- Pensar qué otros insights pueden ser useful, se me ocurre:\n",
    "    - Entrenar un modelo para ver el feature importance respecto al LTV que es la cifra que queremos optimizar quizas?.\n",
    "    - Quizas algun grafico como los que hemos impreso arriba                "
   ]
  },
  {
   "cell_type": "code",
   "execution_count": null,
   "id": "7c6e891b",
   "metadata": {},
   "outputs": [],
   "source": []
  },
  {
   "cell_type": "markdown",
   "id": "4e490091",
   "metadata": {},
   "source": [
    "## Initial difference"
   ]
  },
  {
   "cell_type": "code",
   "execution_count": 30,
   "id": "87f53382",
   "metadata": {},
   "outputs": [
    {
     "data": {
      "text/plain": [
       "0.6032660902977905"
      ]
     },
     "execution_count": 30,
     "metadata": {},
     "output_type": "execute_result"
    }
   ],
   "source": [
    "bool_4 = (data.variation_name=='without_paypal') & (data.deliveries_received>1)\n",
    "bool_5 = (data.variation_name=='without_paypal') & (data.deliveries_received>=1)\n",
    "metric_a = data.loc[bool_4, 'deliveries_received'].shape[0]/data.loc[bool_5, 'deliveries_received'].shape[0]\n",
    "metric_a"
   ]
  },
  {
   "cell_type": "code",
   "execution_count": 31,
   "id": "de0c1b3d",
   "metadata": {},
   "outputs": [
    {
     "data": {
      "text/plain": [
       "0.6354775828460039"
      ]
     },
     "execution_count": 31,
     "metadata": {},
     "output_type": "execute_result"
    }
   ],
   "source": [
    "bool_4 = (data.variation_name=='with_paypal') & (data.deliveries_received>1)\n",
    "bool_5 = (data.variation_name=='with_paypal') & (data.deliveries_received>=1)\n",
    "metric_b = data.loc[bool_4, 'deliveries_received'].shape[0]/data.loc[bool_5, 'deliveries_received'].shape[0]\n",
    "metric_b"
   ]
  },
  {
   "cell_type": "code",
   "execution_count": 33,
   "id": "f4f3dbc1",
   "metadata": {},
   "outputs": [
    {
     "data": {
      "text/plain": [
       "0.032211492548213316"
      ]
     },
     "execution_count": 33,
     "metadata": {},
     "output_type": "execute_result"
    }
   ],
   "source": [
    "initial_diff = metric_b-metric_a\n",
    "initial_diff"
   ]
  },
  {
   "cell_type": "markdown",
   "id": "aa902784",
   "metadata": {},
   "source": [
    "## Sampling Distribution"
   ]
  },
  {
   "cell_type": "code",
   "execution_count": 34,
   "id": "d2e0406e",
   "metadata": {},
   "outputs": [
    {
     "data": {
      "image/png": "[encoded data removed]",
      "text/plain": [
       "<Figure size 432x288 with 1 Axes>"
      ]
     },
     "metadata": {
      "needs_background": "light"
     },
     "output_type": "display_data"
    }
   ],
   "source": [
    "differences = []\n",
    "for n in list(range(1,1001)):\n",
    "    sample_a = data.sample(data[data.variation_name=='without_paypal'].shape[0], replace=True)\n",
    "    sample_b = data.sample(data[data.variation_name=='with_paypal'].shape[0], replace=True)\n",
    "\n",
    "    bool_4 = sample_a.deliveries_received>1\n",
    "    bool_5 = sample_a.deliveries_received>=1\n",
    "    s_a_metric = sample_a.loc[bool_4, 'deliveries_received'].shape[0]/sample_a.loc[bool_5, 'deliveries_received'].shape[0]\n",
    "\n",
    "    bool_6 = sample_b.deliveries_received>1\n",
    "    bool_7 = sample_b.deliveries_received>=1\n",
    "    s_b_metric = sample_b.loc[bool_6, 'deliveries_received'].shape[0]/sample_b.loc[bool_7, 'deliveries_received'].shape[0]\n",
    "\n",
    "    diff = s_b_metric-s_a_metric\n",
    "    differences.append(diff)\n",
    "\n",
    "plt.hist(differences)\n",
    "plt.axvline(initial_diff)\n",
    "plt.show()"
   ]
  },
  {
   "cell_type": "code",
   "execution_count": 35,
   "id": "66c85c8d",
   "metadata": {},
   "outputs": [],
   "source": [
    "def ab_test_mean_difference (column):\n",
    "    \n",
    "    # Initial difference\n",
    "    bool_0 = (data.variation_name=='without_paypal') & (data.deliveries_received>1)\n",
    "    bool_1 = (data.variation_name=='without_paypal') & (data.deliveries_received>=1)\n",
    "    metric_a = data.loc[bool_0, 'deliveries_received'].shape[0]/data.loc[bool_1, 'deliveries_received'].shape[0]\n",
    "    metric_a\n",
    "\n",
    "    bool_2 = (data.variation_name=='with_paypal') & (data.deliveries_received>1)\n",
    "    bool_3 = (data.variation_name=='with_paypal') & (data.deliveries_received>=1)\n",
    "    metric_b = data.loc[bool_2, 'deliveries_received'].shape[0]/data.loc[bool_3, 'deliveries_received'].shape[0]\n",
    "    metric_b\n",
    "\n",
    "    initial_diff = metric_b - metric_a\n",
    "    \n",
    "    # Sampling distribution\n",
    "    differences = []\n",
    "    for n in list(range(1,1001)):\n",
    "        sample_a = data.sample(data[data.variation_name=='without_paypal'].shape[0], replace=True)\n",
    "        sample_b = data.sample(data[data.variation_name=='with_paypal'].shape[0], replace=True)\n",
    "\n",
    "        bool_4 = sample_a.deliveries_received>1\n",
    "        bool_5 = sample_a.deliveries_received>=1\n",
    "        s_a_metric = sample_a.loc[bool_4, 'deliveries_received'].shape[0]/sample_a.loc[bool_5, 'deliveries_received'].shape[0]\n",
    "\n",
    "        bool_6 = sample_b.deliveries_received>1\n",
    "        bool_7 = sample_b.deliveries_received>=1\n",
    "        s_b_metric = sample_b.loc[bool_6, 'deliveries_received'].shape[0]/sample_b.loc[bool_7, 'deliveries_received'].shape[0]\n",
    "\n",
    "        diff = s_b_metric-s_a_metric\n",
    "        differences.append(diff)\n",
    "\n",
    "        \n",
    "    # Calculate p value\n",
    "    extreme = []\n",
    "    for element in differences:\n",
    "        if element >= initial_diff:\n",
    "            extreme.append(1)\n",
    "        else:\n",
    "            extreme.append(0)\n",
    "    p_value = sum(extreme)/len(extreme)\n",
    "    if p_value >= 0.5:\n",
    "        p_value_2 = 1 - p_value\n",
    "    else:\n",
    "        p_value_2 = p_value\n",
    "    p_value_2 = round(p_value_2, 3)\n",
    "    \n",
    "    # Plot the result\n",
    "    plt.figure(figsize=(10,6))\n",
    "    pd.Series(differences).plot.hist(alpha=0.8, label='Sampling distribution')\n",
    "    plt.title('p value: '+ str(p_value_2))\n",
    "    plt.axvline(pd.Series(differences).mean(), label=\"Samples' mean difference\", color='Green')\n",
    "    plt.axvline(initial_diff, label= 'Initial difference', color = 'Red')    \n",
    "    plt.axvline(np.percentile(differences, 97.5), color='Orange', label= 'Confidence interval ')\n",
    "    plt.axvline(np.percentile(differences, 2.5), color='Orange')\n",
    "    plt.legend()\n",
    "    return plt.show()"
   ]
  },
  {
   "cell_type": "code",
   "execution_count": 37,
   "id": "fe432fbc",
   "metadata": {},
   "outputs": [
    {
     "data": {
      "image/png": "[encoded data removed]",
      "text/plain": [
       "<Figure size 720x432 with 1 Axes>"
      ]
     },
     "metadata": {
      "needs_background": "light"
     },
     "output_type": "display_data"
    }
   ],
   "source": [
    "ab_test_mean_difference('deliveries_received')"
   ]
  }
 ],
 "metadata": {
  "kernelspec": {
   "display_name": "Python 3",
   "language": "python",
   "name": "python3"
  },
  "language_info": {
   "codemirror_mode": {
    "name": "ipython",
    "version": 3
   },
   "file_extension": ".py",
   "mimetype": "text/x-python",
   "name": "python",
   "nbconvert_exporter": "python",
   "pygments_lexer": "ipython3",
   "version": "3.8.8"
  }
 },
 "nbformat": 4,
 "nbformat_minor": 5
}
