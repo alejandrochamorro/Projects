{
 "cells": [
  {
   "cell_type": "markdown",
   "id": "f39040ce",
   "metadata": {},
   "source": [
    "# We Discover Test"
   ]
  },
  {
   "cell_type": "markdown",
   "id": "0d37d2cd",
   "metadata": {
    "tags": []
   },
   "source": [
    "### Import libraries"
   ]
  },
  {
   "cell_type": "code",
   "execution_count": 42,
   "id": "0a2a73ee",
   "metadata": {
    "tags": []
   },
   "outputs": [],
   "source": [
    "import pandas as pd\n",
    "import numpy as np\n",
    "import matplotlib.pyplot as plt\n",
    "%matplotlib inline\n",
    "import seaborn as sns\n",
    "import sys\n",
    "sys.path.append('..')"
   ]
  },
  {
   "cell_type": "markdown",
   "id": "f0923ae7",
   "metadata": {},
   "source": [
    "### Read data\n"
   ]
  },
  {
   "cell_type": "code",
   "execution_count": 43,
   "id": "d5b59711",
   "metadata": {},
   "outputs": [
    {
     "data": {
      "text/html": [
       "<div>\n",
       "<style scoped>\n",
       "    .dataframe tbody tr th:only-of-type {\n",
       "        vertical-align: middle;\n",
       "    }\n",
       "\n",
       "    .dataframe tbody tr th {\n",
       "        vertical-align: top;\n",
       "    }\n",
       "\n",
       "    .dataframe thead th {\n",
       "        text-align: right;\n",
       "    }\n",
       "</style>\n",
       "<table border=\"1\" class=\"dataframe\">\n",
       "  <thead>\n",
       "    <tr style=\"text-align: right;\">\n",
       "      <th></th>\n",
       "      <th>date</th>\n",
       "      <th>campaign_id</th>\n",
       "      <th>ad_group_id</th>\n",
       "      <th>ad_id</th>\n",
       "      <th>labels</th>\n",
       "      <th>cost</th>\n",
       "      <th>impressions</th>\n",
       "      <th>clicks</th>\n",
       "      <th>registrations</th>\n",
       "      <th>enquiries</th>\n",
       "      <th>purchases</th>\n",
       "    </tr>\n",
       "  </thead>\n",
       "  <tbody>\n",
       "    <tr>\n",
       "      <th>3037</th>\n",
       "      <td>2020-10-13</td>\n",
       "      <td>100076</td>\n",
       "      <td>200076</td>\n",
       "      <td>300076</td>\n",
       "      <td>[\"mvt_id:91,var_id:type_2\"]</td>\n",
       "      <td>£17,79</td>\n",
       "      <td>1977</td>\n",
       "      <td>13</td>\n",
       "      <td>1,82</td>\n",
       "      <td>0,34</td>\n",
       "      <td>0,09</td>\n",
       "    </tr>\n",
       "    <tr>\n",
       "      <th>3038</th>\n",
       "      <td>2020-10-14</td>\n",
       "      <td>100076</td>\n",
       "      <td>200076</td>\n",
       "      <td>300076</td>\n",
       "      <td>[\"mvt_id:91,var_id:type_2\"]</td>\n",
       "      <td>£18,71</td>\n",
       "      <td>1643</td>\n",
       "      <td>16</td>\n",
       "      <td>1,31</td>\n",
       "      <td>0,69</td>\n",
       "      <td>0,25</td>\n",
       "    </tr>\n",
       "    <tr>\n",
       "      <th>3039</th>\n",
       "      <td>2020-10-15</td>\n",
       "      <td>100076</td>\n",
       "      <td>200076</td>\n",
       "      <td>300076</td>\n",
       "      <td>[\"mvt_id:91,var_id:type_2\"]</td>\n",
       "      <td>£23,76</td>\n",
       "      <td>2078</td>\n",
       "      <td>16</td>\n",
       "      <td>1,00</td>\n",
       "      <td>0,53</td>\n",
       "      <td>0,15</td>\n",
       "    </tr>\n",
       "  </tbody>\n",
       "</table>\n",
       "</div>"
      ],
      "text/plain": [
       "            date  campaign_id  ad_group_id   ad_id  \\\n",
       "3037  2020-10-13       100076       200076  300076   \n",
       "3038  2020-10-14       100076       200076  300076   \n",
       "3039  2020-10-15       100076       200076  300076   \n",
       "\n",
       "                           labels    cost  impressions  clicks registrations  \\\n",
       "3037  [\"mvt_id:91,var_id:type_2\"]  £17,79         1977      13          1,82   \n",
       "3038  [\"mvt_id:91,var_id:type_2\"]  £18,71         1643      16          1,31   \n",
       "3039  [\"mvt_id:91,var_id:type_2\"]  £23,76         2078      16          1,00   \n",
       "\n",
       "     enquiries purchases  \n",
       "3037      0,34      0,09  \n",
       "3038      0,69      0,25  \n",
       "3039      0,53      0,15  "
      ]
     },
     "execution_count": 43,
     "metadata": {},
     "output_type": "execute_result"
    }
   ],
   "source": [
    "data = pd.read_csv('../Data/Analyst_test_data.csv', sep=';')\n",
    "data = data.iloc[:3040]\n",
    "data.tail(3)"
   ]
  },
  {
   "cell_type": "markdown",
   "id": "b041c601",
   "metadata": {},
   "source": [
    "## Inspect variables"
   ]
  },
  {
   "cell_type": "markdown",
   "id": "6ddbcac4",
   "metadata": {},
   "source": [
    "### 1. Date"
   ]
  },
  {
   "cell_type": "code",
   "execution_count": 44,
   "id": "6f8aa718",
   "metadata": {},
   "outputs": [
    {
     "data": {
      "text/plain": [
       "2020-09-06    76\n",
       "2020-09-07    76\n",
       "2020-09-08    76\n",
       "Name: date, dtype: int64"
      ]
     },
     "execution_count": 44,
     "metadata": {},
     "output_type": "execute_result"
    }
   ],
   "source": [
    "data.date.value_counts().sort_index().head(3)"
   ]
  },
  {
   "cell_type": "code",
   "execution_count": 45,
   "id": "5bc36fed",
   "metadata": {
    "scrolled": true
   },
   "outputs": [
    {
     "data": {
      "text/plain": [
       "0   2020-09-06\n",
       "1   2020-09-07\n",
       "2   2020-09-08\n",
       "Name: date, dtype: datetime64[ns]"
      ]
     },
     "execution_count": 45,
     "metadata": {},
     "output_type": "execute_result"
    }
   ],
   "source": [
    "pd.to_datetime(data.date).head(3)"
   ]
  },
  {
   "cell_type": "markdown",
   "id": "b0295a7f",
   "metadata": {},
   "source": [
    "### 2. Campaign_id"
   ]
  },
  {
   "cell_type": "code",
   "execution_count": 46,
   "id": "53b818f0",
   "metadata": {},
   "outputs": [
    {
     "data": {
      "text/plain": [
       "100002    40\n",
       "100021    40\n",
       "100035    40\n",
       "Name: campaign_id, dtype: int64"
      ]
     },
     "execution_count": 46,
     "metadata": {},
     "output_type": "execute_result"
    }
   ],
   "source": [
    "data.campaign_id.value_counts().head(3)"
   ]
  },
  {
   "cell_type": "code",
   "execution_count": 47,
   "id": "aa73a813",
   "metadata": {
    "scrolled": true
   },
   "outputs": [
    {
     "data": {
      "text/plain": [
       "100001    40\n",
       "100002    40\n",
       "100003    40\n",
       "Name: campaign_id, dtype: int64"
      ]
     },
     "execution_count": 47,
     "metadata": {},
     "output_type": "execute_result"
    }
   ],
   "source": [
    "data.campaign_id.value_counts().sort_index().head(3)"
   ]
  },
  {
   "cell_type": "markdown",
   "id": "068e7c9f",
   "metadata": {},
   "source": [
    "### 3. Ad_group_id"
   ]
  },
  {
   "cell_type": "code",
   "execution_count": 48,
   "id": "d409bbaf",
   "metadata": {},
   "outputs": [
    {
     "data": {
      "text/plain": [
       "200001    40\n",
       "200022    40\n",
       "200036    40\n",
       "Name: ad_group_id, dtype: int64"
      ]
     },
     "execution_count": 48,
     "metadata": {},
     "output_type": "execute_result"
    }
   ],
   "source": [
    "data.ad_group_id.value_counts().head(3)"
   ]
  },
  {
   "cell_type": "code",
   "execution_count": 49,
   "id": "91d0c673",
   "metadata": {},
   "outputs": [
    {
     "data": {
      "text/plain": [
       "100001    40\n",
       "100002    40\n",
       "100003    40\n",
       "Name: campaign_id, dtype: int64"
      ]
     },
     "execution_count": 49,
     "metadata": {},
     "output_type": "execute_result"
    }
   ],
   "source": [
    "data.campaign_id.value_counts().sort_index().head(3)"
   ]
  },
  {
   "cell_type": "markdown",
   "id": "79ff5171",
   "metadata": {},
   "source": [
    "### 4. Ad_id"
   ]
  },
  {
   "cell_type": "code",
   "execution_count": 50,
   "id": "3c966706",
   "metadata": {},
   "outputs": [
    {
     "data": {
      "text/plain": [
       "300002    40\n",
       "300021    40\n",
       "300035    40\n",
       "Name: ad_id, dtype: int64"
      ]
     },
     "execution_count": 50,
     "metadata": {},
     "output_type": "execute_result"
    }
   ],
   "source": [
    "data.ad_id.value_counts().head(3)"
   ]
  },
  {
   "cell_type": "code",
   "execution_count": 51,
   "id": "80745b53",
   "metadata": {},
   "outputs": [
    {
     "data": {
      "text/plain": [
       "300001    40\n",
       "300002    40\n",
       "300003    40\n",
       "Name: ad_id, dtype: int64"
      ]
     },
     "execution_count": 51,
     "metadata": {},
     "output_type": "execute_result"
    }
   ],
   "source": [
    "data.ad_id.value_counts().sort_index().head(3)"
   ]
  },
  {
   "cell_type": "markdown",
   "id": "8b96a05a",
   "metadata": {},
   "source": [
    "### 5. Labels\n"
   ]
  },
  {
   "cell_type": "code",
   "execution_count": 52,
   "id": "dacd117f",
   "metadata": {},
   "outputs": [
    {
     "data": {
      "text/plain": [
       "[\"mvt_id:91,var_id:type_1\"]    1800\n",
       "[\"mvt_id:91,var_id:type_2\"]    1240\n",
       "Name: labels, dtype: int64"
      ]
     },
     "execution_count": 52,
     "metadata": {},
     "output_type": "execute_result"
    }
   ],
   "source": [
    "data.labels.value_counts()"
   ]
  },
  {
   "cell_type": "markdown",
   "id": "e8f6f434",
   "metadata": {},
   "source": [
    "### 6. Cost\n"
   ]
  },
  {
   "cell_type": "code",
   "execution_count": 53,
   "id": "a829e937",
   "metadata": {},
   "outputs": [
    {
     "data": {
      "text/plain": [
       "£24,81    5\n",
       "£18,97    5\n",
       "£26,67    5\n",
       "Name: cost, dtype: int64"
      ]
     },
     "execution_count": 53,
     "metadata": {},
     "output_type": "execute_result"
    }
   ],
   "source": [
    "data.cost.value_counts().head(3)"
   ]
  },
  {
   "cell_type": "code",
   "execution_count": 54,
   "id": "89b49b48",
   "metadata": {},
   "outputs": [
    {
     "data": {
      "text/plain": [
       "dtype('O')"
      ]
     },
     "execution_count": 54,
     "metadata": {},
     "output_type": "execute_result"
    }
   ],
   "source": [
    "np.dtype(data.cost)"
   ]
  },
  {
   "cell_type": "code",
   "execution_count": 55,
   "id": "a6dd3c13",
   "metadata": {},
   "outputs": [],
   "source": [
    "data.cost.replace({'£':''}, inplace=True)"
   ]
  },
  {
   "cell_type": "code",
   "execution_count": 56,
   "id": "7ffb67b4",
   "metadata": {},
   "outputs": [],
   "source": [
    "data.cost.replace(to_replace=',', value='.', inplace=True)"
   ]
  },
  {
   "cell_type": "code",
   "execution_count": 57,
   "id": "1da3917f",
   "metadata": {},
   "outputs": [],
   "source": [
    "data.cost = data.cost.str.replace('£', '')"
   ]
  },
  {
   "cell_type": "code",
   "execution_count": 58,
   "id": "2bb385bc",
   "metadata": {},
   "outputs": [],
   "source": [
    "data.cost = data.cost.str.replace(',', '.')"
   ]
  },
  {
   "cell_type": "code",
   "execution_count": 59,
   "id": "7d848230",
   "metadata": {},
   "outputs": [
    {
     "data": {
      "text/html": [
       "<div>\n",
       "<style scoped>\n",
       "    .dataframe tbody tr th:only-of-type {\n",
       "        vertical-align: middle;\n",
       "    }\n",
       "\n",
       "    .dataframe tbody tr th {\n",
       "        vertical-align: top;\n",
       "    }\n",
       "\n",
       "    .dataframe thead th {\n",
       "        text-align: right;\n",
       "    }\n",
       "</style>\n",
       "<table border=\"1\" class=\"dataframe\">\n",
       "  <thead>\n",
       "    <tr style=\"text-align: right;\">\n",
       "      <th></th>\n",
       "      <th>date</th>\n",
       "      <th>campaign_id</th>\n",
       "      <th>ad_group_id</th>\n",
       "      <th>ad_id</th>\n",
       "      <th>labels</th>\n",
       "      <th>cost</th>\n",
       "      <th>impressions</th>\n",
       "      <th>clicks</th>\n",
       "      <th>registrations</th>\n",
       "      <th>enquiries</th>\n",
       "      <th>purchases</th>\n",
       "    </tr>\n",
       "  </thead>\n",
       "  <tbody>\n",
       "    <tr>\n",
       "      <th>0</th>\n",
       "      <td>2020-09-06</td>\n",
       "      <td>100001</td>\n",
       "      <td>200001</td>\n",
       "      <td>300001</td>\n",
       "      <td>[\"mvt_id:91,var_id:type_1\"]</td>\n",
       "      <td>20.68</td>\n",
       "      <td>1821</td>\n",
       "      <td>12</td>\n",
       "      <td>2,68</td>\n",
       "      <td>0,98</td>\n",
       "      <td>0,18</td>\n",
       "    </tr>\n",
       "    <tr>\n",
       "      <th>1</th>\n",
       "      <td>2020-09-07</td>\n",
       "      <td>100001</td>\n",
       "      <td>200001</td>\n",
       "      <td>300001</td>\n",
       "      <td>[\"mvt_id:91,var_id:type_1\"]</td>\n",
       "      <td>17.41</td>\n",
       "      <td>2297</td>\n",
       "      <td>10</td>\n",
       "      <td>1,72</td>\n",
       "      <td>0,46</td>\n",
       "      <td>0,20</td>\n",
       "    </tr>\n",
       "    <tr>\n",
       "      <th>2</th>\n",
       "      <td>2020-09-08</td>\n",
       "      <td>100001</td>\n",
       "      <td>200001</td>\n",
       "      <td>300001</td>\n",
       "      <td>[\"mvt_id:91,var_id:type_1\"]</td>\n",
       "      <td>13.02</td>\n",
       "      <td>1551</td>\n",
       "      <td>7</td>\n",
       "      <td>1,12</td>\n",
       "      <td>0,50</td>\n",
       "      <td>0,15</td>\n",
       "    </tr>\n",
       "    <tr>\n",
       "      <th>3</th>\n",
       "      <td>2020-09-09</td>\n",
       "      <td>100001</td>\n",
       "      <td>200001</td>\n",
       "      <td>300001</td>\n",
       "      <td>[\"mvt_id:91,var_id:type_1\"]</td>\n",
       "      <td>17.07</td>\n",
       "      <td>1398</td>\n",
       "      <td>10</td>\n",
       "      <td>1,33</td>\n",
       "      <td>0,75</td>\n",
       "      <td>0,18</td>\n",
       "    </tr>\n",
       "    <tr>\n",
       "      <th>4</th>\n",
       "      <td>2020-09-10</td>\n",
       "      <td>100001</td>\n",
       "      <td>200001</td>\n",
       "      <td>300001</td>\n",
       "      <td>[\"mvt_id:91,var_id:type_1\"]</td>\n",
       "      <td>23.90</td>\n",
       "      <td>2754</td>\n",
       "      <td>14</td>\n",
       "      <td>2,39</td>\n",
       "      <td>0,97</td>\n",
       "      <td>0,16</td>\n",
       "    </tr>\n",
       "  </tbody>\n",
       "</table>\n",
       "</div>"
      ],
      "text/plain": [
       "         date  campaign_id  ad_group_id   ad_id                       labels  \\\n",
       "0  2020-09-06       100001       200001  300001  [\"mvt_id:91,var_id:type_1\"]   \n",
       "1  2020-09-07       100001       200001  300001  [\"mvt_id:91,var_id:type_1\"]   \n",
       "2  2020-09-08       100001       200001  300001  [\"mvt_id:91,var_id:type_1\"]   \n",
       "3  2020-09-09       100001       200001  300001  [\"mvt_id:91,var_id:type_1\"]   \n",
       "4  2020-09-10       100001       200001  300001  [\"mvt_id:91,var_id:type_1\"]   \n",
       "\n",
       "    cost  impressions  clicks registrations enquiries purchases  \n",
       "0  20.68         1821      12          2,68      0,98      0,18  \n",
       "1  17.41         2297      10          1,72      0,46      0,20  \n",
       "2  13.02         1551       7          1,12      0,50      0,15  \n",
       "3  17.07         1398      10          1,33      0,75      0,18  \n",
       "4  23.90         2754      14          2,39      0,97      0,16  "
      ]
     },
     "execution_count": 59,
     "metadata": {},
     "output_type": "execute_result"
    }
   ],
   "source": [
    "data.cost = data.cost.astype(float)\n",
    "data.head()"
   ]
  },
  {
   "cell_type": "code",
   "execution_count": 60,
   "id": "ca1eac37",
   "metadata": {},
   "outputs": [
    {
     "data": {
      "text/plain": [
       "25.117315789473682"
      ]
     },
     "execution_count": 60,
     "metadata": {},
     "output_type": "execute_result"
    }
   ],
   "source": [
    "data.cost.mean()"
   ]
  },
  {
   "cell_type": "code",
   "execution_count": 61,
   "id": "0ab89a0c",
   "metadata": {},
   "outputs": [
    {
     "data": {
      "text/plain": [
       "date              object\n",
       "campaign_id        int64\n",
       "ad_group_id        int64\n",
       "ad_id              int64\n",
       "labels            object\n",
       "cost             float64\n",
       "impressions        int64\n",
       "clicks             int64\n",
       "registrations     object\n",
       "enquiries         object\n",
       "purchases         object\n",
       "dtype: object"
      ]
     },
     "execution_count": 61,
     "metadata": {},
     "output_type": "execute_result"
    }
   ],
   "source": [
    "data.dtypes"
   ]
  },
  {
   "cell_type": "code",
   "execution_count": 62,
   "id": "e864d510",
   "metadata": {},
   "outputs": [],
   "source": [
    "cols = ['registrations', 'enquiries', 'purchases']\n",
    "for col in cols:\n",
    "    data[col]= data[col].str.replace(',', '.')\n",
    "    data[col]= data[col].astype(float)"
   ]
  },
  {
   "cell_type": "code",
   "execution_count": 63,
   "id": "eec80478",
   "metadata": {},
   "outputs": [
    {
     "data": {
      "text/plain": [
       "count    3040.000000\n",
       "mean        1.942438\n",
       "std         0.975527\n",
       "min         0.470000\n",
       "25%         1.220000\n",
       "50%         1.730000\n",
       "75%         2.440000\n",
       "max         5.910000\n",
       "Name: registrations, dtype: float64"
      ]
     },
     "execution_count": 63,
     "metadata": {},
     "output_type": "execute_result"
    }
   ],
   "source": [
    "data.registrations.describe()"
   ]
  },
  {
   "cell_type": "code",
   "execution_count": 64,
   "id": "940651bb",
   "metadata": {},
   "outputs": [
    {
     "data": {
      "text/plain": [
       "count    3040.000000\n",
       "mean        0.945036\n",
       "std         0.470610\n",
       "min         0.140000\n",
       "25%         0.580000\n",
       "50%         0.860000\n",
       "75%         1.210000\n",
       "max         2.830000\n",
       "Name: enquiries, dtype: float64"
      ]
     },
     "execution_count": 64,
     "metadata": {},
     "output_type": "execute_result"
    }
   ],
   "source": [
    "data.enquiries.describe()"
   ]
  },
  {
   "cell_type": "code",
   "execution_count": 65,
   "id": "1546e641",
   "metadata": {},
   "outputs": [
    {
     "data": {
      "text/plain": [
       "count    3040.00000\n",
       "mean        0.21028\n",
       "std         0.09578\n",
       "min         0.04000\n",
       "25%         0.14000\n",
       "50%         0.19000\n",
       "75%         0.26000\n",
       "max         0.61000\n",
       "Name: purchases, dtype: float64"
      ]
     },
     "execution_count": 65,
     "metadata": {},
     "output_type": "execute_result"
    }
   ],
   "source": [
    "data.purchases.describe()"
   ]
  },
  {
   "cell_type": "markdown",
   "id": "3c7b3607",
   "metadata": {},
   "source": [
    "## Dividing dataset"
   ]
  },
  {
   "cell_type": "code",
   "execution_count": 66,
   "id": "70a21614",
   "metadata": {},
   "outputs": [
    {
     "data": {
      "text/html": [
       "<div>\n",
       "<style scoped>\n",
       "    .dataframe tbody tr th:only-of-type {\n",
       "        vertical-align: middle;\n",
       "    }\n",
       "\n",
       "    .dataframe tbody tr th {\n",
       "        vertical-align: top;\n",
       "    }\n",
       "\n",
       "    .dataframe thead th {\n",
       "        text-align: right;\n",
       "    }\n",
       "</style>\n",
       "<table border=\"1\" class=\"dataframe\">\n",
       "  <thead>\n",
       "    <tr style=\"text-align: right;\">\n",
       "      <th></th>\n",
       "      <th>date</th>\n",
       "      <th>campaign_id</th>\n",
       "      <th>ad_group_id</th>\n",
       "      <th>ad_id</th>\n",
       "      <th>labels</th>\n",
       "      <th>cost</th>\n",
       "      <th>impressions</th>\n",
       "      <th>clicks</th>\n",
       "      <th>registrations</th>\n",
       "      <th>enquiries</th>\n",
       "      <th>purchases</th>\n",
       "    </tr>\n",
       "  </thead>\n",
       "  <tbody>\n",
       "    <tr>\n",
       "      <th>0</th>\n",
       "      <td>2020-09-06</td>\n",
       "      <td>100001</td>\n",
       "      <td>200001</td>\n",
       "      <td>300001</td>\n",
       "      <td>[\"mvt_id:91,var_id:type_1\"]</td>\n",
       "      <td>20.68</td>\n",
       "      <td>1821</td>\n",
       "      <td>12</td>\n",
       "      <td>2.68</td>\n",
       "      <td>0.98</td>\n",
       "      <td>0.18</td>\n",
       "    </tr>\n",
       "    <tr>\n",
       "      <th>1</th>\n",
       "      <td>2020-09-07</td>\n",
       "      <td>100001</td>\n",
       "      <td>200001</td>\n",
       "      <td>300001</td>\n",
       "      <td>[\"mvt_id:91,var_id:type_1\"]</td>\n",
       "      <td>17.41</td>\n",
       "      <td>2297</td>\n",
       "      <td>10</td>\n",
       "      <td>1.72</td>\n",
       "      <td>0.46</td>\n",
       "      <td>0.20</td>\n",
       "    </tr>\n",
       "    <tr>\n",
       "      <th>2</th>\n",
       "      <td>2020-09-08</td>\n",
       "      <td>100001</td>\n",
       "      <td>200001</td>\n",
       "      <td>300001</td>\n",
       "      <td>[\"mvt_id:91,var_id:type_1\"]</td>\n",
       "      <td>13.02</td>\n",
       "      <td>1551</td>\n",
       "      <td>7</td>\n",
       "      <td>1.12</td>\n",
       "      <td>0.50</td>\n",
       "      <td>0.15</td>\n",
       "    </tr>\n",
       "    <tr>\n",
       "      <th>3</th>\n",
       "      <td>2020-09-09</td>\n",
       "      <td>100001</td>\n",
       "      <td>200001</td>\n",
       "      <td>300001</td>\n",
       "      <td>[\"mvt_id:91,var_id:type_1\"]</td>\n",
       "      <td>17.07</td>\n",
       "      <td>1398</td>\n",
       "      <td>10</td>\n",
       "      <td>1.33</td>\n",
       "      <td>0.75</td>\n",
       "      <td>0.18</td>\n",
       "    </tr>\n",
       "    <tr>\n",
       "      <th>4</th>\n",
       "      <td>2020-09-10</td>\n",
       "      <td>100001</td>\n",
       "      <td>200001</td>\n",
       "      <td>300001</td>\n",
       "      <td>[\"mvt_id:91,var_id:type_1\"]</td>\n",
       "      <td>23.90</td>\n",
       "      <td>2754</td>\n",
       "      <td>14</td>\n",
       "      <td>2.39</td>\n",
       "      <td>0.97</td>\n",
       "      <td>0.16</td>\n",
       "    </tr>\n",
       "  </tbody>\n",
       "</table>\n",
       "</div>"
      ],
      "text/plain": [
       "         date  campaign_id  ad_group_id   ad_id                       labels  \\\n",
       "0  2020-09-06       100001       200001  300001  [\"mvt_id:91,var_id:type_1\"]   \n",
       "1  2020-09-07       100001       200001  300001  [\"mvt_id:91,var_id:type_1\"]   \n",
       "2  2020-09-08       100001       200001  300001  [\"mvt_id:91,var_id:type_1\"]   \n",
       "3  2020-09-09       100001       200001  300001  [\"mvt_id:91,var_id:type_1\"]   \n",
       "4  2020-09-10       100001       200001  300001  [\"mvt_id:91,var_id:type_1\"]   \n",
       "\n",
       "    cost  impressions  clicks  registrations  enquiries  purchases  \n",
       "0  20.68         1821      12           2.68       0.98       0.18  \n",
       "1  17.41         2297      10           1.72       0.46       0.20  \n",
       "2  13.02         1551       7           1.12       0.50       0.15  \n",
       "3  17.07         1398      10           1.33       0.75       0.18  \n",
       "4  23.90         2754      14           2.39       0.97       0.16  "
      ]
     },
     "execution_count": 66,
     "metadata": {},
     "output_type": "execute_result"
    }
   ],
   "source": [
    "campaign_1 = data[data['labels']=='[\"mvt_id:91,var_id:type_1\"]']\n",
    "campaign_1.head()"
   ]
  },
  {
   "cell_type": "code",
   "execution_count": 67,
   "id": "fadf3120",
   "metadata": {},
   "outputs": [
    {
     "data": {
      "text/html": [
       "<div>\n",
       "<style scoped>\n",
       "    .dataframe tbody tr th:only-of-type {\n",
       "        vertical-align: middle;\n",
       "    }\n",
       "\n",
       "    .dataframe tbody tr th {\n",
       "        vertical-align: top;\n",
       "    }\n",
       "\n",
       "    .dataframe thead th {\n",
       "        text-align: right;\n",
       "    }\n",
       "</style>\n",
       "<table border=\"1\" class=\"dataframe\">\n",
       "  <thead>\n",
       "    <tr style=\"text-align: right;\">\n",
       "      <th></th>\n",
       "      <th>date</th>\n",
       "      <th>campaign_id</th>\n",
       "      <th>ad_group_id</th>\n",
       "      <th>ad_id</th>\n",
       "      <th>labels</th>\n",
       "      <th>cost</th>\n",
       "      <th>impressions</th>\n",
       "      <th>clicks</th>\n",
       "      <th>registrations</th>\n",
       "      <th>enquiries</th>\n",
       "      <th>purchases</th>\n",
       "    </tr>\n",
       "  </thead>\n",
       "  <tbody>\n",
       "    <tr>\n",
       "      <th>1800</th>\n",
       "      <td>2020-09-06</td>\n",
       "      <td>100046</td>\n",
       "      <td>200046</td>\n",
       "      <td>300046</td>\n",
       "      <td>[\"mvt_id:91,var_id:type_2\"]</td>\n",
       "      <td>33.72</td>\n",
       "      <td>2313</td>\n",
       "      <td>27</td>\n",
       "      <td>2.87</td>\n",
       "      <td>1.92</td>\n",
       "      <td>0.44</td>\n",
       "    </tr>\n",
       "    <tr>\n",
       "      <th>1801</th>\n",
       "      <td>2020-09-07</td>\n",
       "      <td>100046</td>\n",
       "      <td>200046</td>\n",
       "      <td>300046</td>\n",
       "      <td>[\"mvt_id:91,var_id:type_2\"]</td>\n",
       "      <td>26.17</td>\n",
       "      <td>4543</td>\n",
       "      <td>23</td>\n",
       "      <td>1.91</td>\n",
       "      <td>1.19</td>\n",
       "      <td>0.29</td>\n",
       "    </tr>\n",
       "    <tr>\n",
       "      <th>1802</th>\n",
       "      <td>2020-09-08</td>\n",
       "      <td>100046</td>\n",
       "      <td>200046</td>\n",
       "      <td>300046</td>\n",
       "      <td>[\"mvt_id:91,var_id:type_2\"]</td>\n",
       "      <td>28.72</td>\n",
       "      <td>3134</td>\n",
       "      <td>19</td>\n",
       "      <td>2.96</td>\n",
       "      <td>1.37</td>\n",
       "      <td>0.30</td>\n",
       "    </tr>\n",
       "    <tr>\n",
       "      <th>1803</th>\n",
       "      <td>2020-09-09</td>\n",
       "      <td>100046</td>\n",
       "      <td>200046</td>\n",
       "      <td>300046</td>\n",
       "      <td>[\"mvt_id:91,var_id:type_2\"]</td>\n",
       "      <td>40.59</td>\n",
       "      <td>4188</td>\n",
       "      <td>26</td>\n",
       "      <td>3.95</td>\n",
       "      <td>1.89</td>\n",
       "      <td>0.35</td>\n",
       "    </tr>\n",
       "    <tr>\n",
       "      <th>1804</th>\n",
       "      <td>2020-09-10</td>\n",
       "      <td>100046</td>\n",
       "      <td>200046</td>\n",
       "      <td>300046</td>\n",
       "      <td>[\"mvt_id:91,var_id:type_2\"]</td>\n",
       "      <td>40.70</td>\n",
       "      <td>4748</td>\n",
       "      <td>31</td>\n",
       "      <td>4.32</td>\n",
       "      <td>1.16</td>\n",
       "      <td>0.37</td>\n",
       "    </tr>\n",
       "  </tbody>\n",
       "</table>\n",
       "</div>"
      ],
      "text/plain": [
       "            date  campaign_id  ad_group_id   ad_id  \\\n",
       "1800  2020-09-06       100046       200046  300046   \n",
       "1801  2020-09-07       100046       200046  300046   \n",
       "1802  2020-09-08       100046       200046  300046   \n",
       "1803  2020-09-09       100046       200046  300046   \n",
       "1804  2020-09-10       100046       200046  300046   \n",
       "\n",
       "                           labels   cost  impressions  clicks  registrations  \\\n",
       "1800  [\"mvt_id:91,var_id:type_2\"]  33.72         2313      27           2.87   \n",
       "1801  [\"mvt_id:91,var_id:type_2\"]  26.17         4543      23           1.91   \n",
       "1802  [\"mvt_id:91,var_id:type_2\"]  28.72         3134      19           2.96   \n",
       "1803  [\"mvt_id:91,var_id:type_2\"]  40.59         4188      26           3.95   \n",
       "1804  [\"mvt_id:91,var_id:type_2\"]  40.70         4748      31           4.32   \n",
       "\n",
       "      enquiries  purchases  \n",
       "1800       1.92       0.44  \n",
       "1801       1.19       0.29  \n",
       "1802       1.37       0.30  \n",
       "1803       1.89       0.35  \n",
       "1804       1.16       0.37  "
      ]
     },
     "execution_count": 67,
     "metadata": {},
     "output_type": "execute_result"
    }
   ],
   "source": [
    "campaign_2 = data[data['labels']=='[\"mvt_id:91,var_id:type_2\"]']\n",
    "campaign_2.head()"
   ]
  },
  {
   "cell_type": "markdown",
   "id": "f7412e5a",
   "metadata": {},
   "source": [
    "## CTR (click through rate)"
   ]
  },
  {
   "cell_type": "code",
   "execution_count": 88,
   "id": "03a45acc",
   "metadata": {},
   "outputs": [
    {
     "data": {
      "text/plain": [
       "0.005640119469018169"
      ]
     },
     "execution_count": 88,
     "metadata": {},
     "output_type": "execute_result"
    }
   ],
   "source": [
    "ctr_1 = campaign_1.clicks.sum()/campaign_1.impressions.sum()\n",
    "ctr_1"
   ]
  },
  {
   "cell_type": "code",
   "execution_count": 89,
   "id": "0769c8ce",
   "metadata": {},
   "outputs": [
    {
     "data": {
      "text/plain": [
       "0.005835239850427001"
      ]
     },
     "execution_count": 89,
     "metadata": {},
     "output_type": "execute_result"
    }
   ],
   "source": [
    "ctr_2 = campaign_2.clicks.sum()/campaign_2.impressions.sum()\n",
    "ctr_2"
   ]
  },
  {
   "cell_type": "code",
   "execution_count": 90,
   "id": "81d53258",
   "metadata": {},
   "outputs": [
    {
     "data": {
      "text/plain": [
       "0.00019512038140883248"
      ]
     },
     "execution_count": 90,
     "metadata": {},
     "output_type": "execute_result"
    }
   ],
   "source": [
    "starting_ctr_dif = ctr_2-ctr_1\n",
    "starting_ctr_dif"
   ]
  },
  {
   "cell_type": "markdown",
   "id": "5f3d62e9",
   "metadata": {},
   "source": [
    "#### Hypothesis:\n",
    "\n",
    "\n",
    "H0: CTR of campaign_1 == CTR of campaign_2\n",
    "\n",
    "H1: CTR of campaign_1 != CTR of campaign_2"
   ]
  },
  {
   "cell_type": "code",
   "execution_count": 91,
   "id": "c8e69c06",
   "metadata": {},
   "outputs": [
    {
     "data": {
      "text/plain": [
       "1800"
      ]
     },
     "execution_count": 91,
     "metadata": {},
     "output_type": "execute_result"
    }
   ],
   "source": [
    "campaign_1.shape[0]"
   ]
  },
  {
   "cell_type": "code",
   "execution_count": 92,
   "id": "f91fb82a",
   "metadata": {},
   "outputs": [
    {
     "data": {
      "text/plain": [
       "1240"
      ]
     },
     "execution_count": 92,
     "metadata": {},
     "output_type": "execute_result"
    }
   ],
   "source": [
    "campaign_2.shape[0]"
   ]
  },
  {
   "cell_type": "markdown",
   "id": "11e8b6b8",
   "metadata": {},
   "source": [
    "#### Experiment"
   ]
  },
  {
   "cell_type": "code",
   "execution_count": 93,
   "id": "3cea89c8",
   "metadata": {},
   "outputs": [],
   "source": [
    "def experiment():\n",
    "    s1 = data.sample(1800, replace=True)\n",
    "    s2 = data.sample(1240, replace=True)\n",
    "    s1_ctr = s1.clicks.sum()/s1.impressions.sum()    \n",
    "    s2_ctr = s2.clicks.sum()/s2.impressions.sum()\n",
    "    diff = s2_ctr-s1_ctr\n",
    "    return diff"
   ]
  },
  {
   "cell_type": "code",
   "execution_count": 94,
   "id": "f09211f8",
   "metadata": {},
   "outputs": [
    {
     "data": {
      "text/plain": [
       "[-4.335679388608668e-05, 5.231275085343379e-05, -3.6840403074745245e-05]"
      ]
     },
     "execution_count": 94,
     "metadata": {},
     "output_type": "execute_result"
    }
   ],
   "source": [
    "differences = []\n",
    "for n in list(range(1,1001)):\n",
    "    experiment_diff = experiment()\n",
    "    differences.append(experiment_diff)\n",
    "differences[:3]"
   ]
  },
  {
   "cell_type": "code",
   "execution_count": 95,
   "id": "b4623aa6",
   "metadata": {},
   "outputs": [
    {
     "data": {
      "text/plain": [
       "<matplotlib.lines.Line2D at 0x1d2741e4e08>"
      ]
     },
     "execution_count": 95,
     "metadata": {},
     "output_type": "execute_result"
    },
    {
     "data": {
      "image/png": "[encoded data removed]",
      "text/plain": [
       "<Figure size 432x288 with 1 Axes>"
      ]
     },
     "metadata": {
      "needs_background": "light"
     },
     "output_type": "display_data"
    }
   ],
   "source": [
    "plt.hist(differences)\n",
    "plt.axvline(starting_ctr_dif)"
   ]
  },
  {
   "cell_type": "code",
   "execution_count": 96,
   "id": "6f8bd7e1",
   "metadata": {},
   "outputs": [
    {
     "data": {
      "text/plain": [
       "0.0"
      ]
     },
     "execution_count": 96,
     "metadata": {},
     "output_type": "execute_result"
    }
   ],
   "source": [
    "extreme = []\n",
    "for dif in differences:\n",
    "    if dif >= starting_ctr_dif:\n",
    "        extreme.append(dif)\n",
    "p_value = len(extreme)/len(ctr_diffs)\n",
    "p_value"
   ]
  },
  {
   "cell_type": "markdown",
   "id": "7bb258ab",
   "metadata": {},
   "source": [
    "## Conclusion\n",
    "We can reject our null hypothesis. There's is almost no chance of this differennce in CTR being due to randomness.\n",
    "\n",
    "Campaign 2 has a significantly better CTR (0.02% better)"
   ]
  },
  {
   "cell_type": "code",
   "execution_count": 97,
   "id": "13d337dd",
   "metadata": {},
   "outputs": [],
   "source": [
    "# Confidence intervals?"
   ]
  }
 ],
 "metadata": {
  "kernelspec": {
   "display_name": "Python 3",
   "language": "python",
   "name": "python3"
  },
  "language_info": {
   "codemirror_mode": {
    "name": "ipython",
    "version": 3
   },
   "file_extension": ".py",
   "mimetype": "text/x-python",
   "name": "python",
   "nbconvert_exporter": "python",
   "pygments_lexer": "ipython3",
   "version": "3.7.7"
  }
 },
 "nbformat": 4,
 "nbformat_minor": 5
}
